{
 "cells": [
  {
   "cell_type": "code",
   "execution_count": 7,
   "metadata": {
    "vscode": {
     "languageId": "r"
    }
   },
   "outputs": [
    {
     "name": "stdout",
     "output_type": "stream",
     "text": [
      "Overall weighted Z score:  13.52709907129372624013 \n",
      "Overall p value:  0 \n"
     ]
    }
   ],
   "source": [
    "# Create a list of data frames with t values and sample sizes\n",
    "data_list <- list(\n",
    "  data.frame(t_values = c(3.05), sample_size = 462),\n",
    "  data.frame(t_values = c(5.820), sample_size = 264),\n",
    "  data.frame(t_values = c(0.979, 2.6995, 1.288), sample_size = 584),\n",
    "  data.frame(t_values = c(0.094, 0.237, 2.024, 2.441, 0.658), sample_size = 319),\n",
    "  data.frame(t_values = c(16.071), sample_size = 443)\n",
    ")\n",
    "\n",
    "# Create a vector to store the weighted Z scores for each set of t values\n",
    "wz_means <- vector(length = length(data_list))\n",
    "\n",
    "# Loop through each data frame and calculate the weighted Z score using Stouffer's method\n",
    "for (i in 1:length(data_list)) {\n",
    "  # Calculate the Z scores for each study in the current data frame\n",
    "  z_scores <- data_list[[i]]$t_values * sqrt(data_list[[i]]$sample_size)\n",
    "  \n",
    "  # Calculate the weighted mean Z score using Stouffer's method, adjusted for the sample size\n",
    "  wz_mean <- sum(z_scores) / sqrt(sum(data_list[[i]]$sample_size))\n",
    "  \n",
    "  # Store the result in the corresponding vector\n",
    "  wz_means[i] <- wz_mean\n",
    "}\n",
    "\n",
    "# Calculate the overall weighted Z score and p-value by combining the results from all data frames\n",
    "overall_wz_mean <- sum(wz_means) / sqrt(length(wz_means))\n",
    "overall_p_value <- 2 * (1 - pnorm(abs(overall_wz_mean)))\n",
    "\n",
    "# Set the number of digits to display\n",
    "options(digits = 22)\n",
    "\n",
    "# Print the overall results\n",
    "cat(\"Overall weighted Z score: \", overall_wz_mean, \"\\n\")\n",
    "cat(\"Overall p value: \", overall_p_value, \"\\n\")\n"
   ]
  },
  {
   "cell_type": "code",
   "execution_count": 8,
   "metadata": {
    "vscode": {
     "languageId": "r"
    }
   },
   "outputs": [
    {
     "name": "stdout",
     "output_type": "stream",
     "text": [
      "Overall weighted Z score:  8.616768120699978439347 \n",
      "Overall p value:  0 \n"
     ]
    }
   ],
   "source": [
    "# Create a list of data frames with t values and sample sizes\n",
    "data_list <- list(\n",
    "  data.frame(t_values = c(1.11, 2.25), sample_size = 462),\n",
    "  data.frame(t_values = c(5.156), sample_size = 319),\n",
    "  data.frame(t_values = c(6.471, 3.984), sample_size = 155)\n",
    ")\n",
    "\n",
    "# Create a vector to store the weighted Z scores for each set of t values\n",
    "wz_means <- vector(length = length(data_list))\n",
    "\n",
    "# Loop through each data frame and calculate the weighted Z score using Stouffer's method\n",
    "for (i in 1:length(data_list)) {\n",
    "  # Calculate the Z scores for each study in the current data frame\n",
    "  z_scores <- data_list[[i]]$t_values * sqrt(data_list[[i]]$sample_size)\n",
    "  \n",
    "  # Calculate the weighted mean Z score using Stouffer's method, adjusted for the sample size\n",
    "  wz_mean <- sum(z_scores) / sqrt(sum(data_list[[i]]$sample_size))\n",
    "  \n",
    "  # Store the result in the corresponding vector\n",
    "  wz_means[i] <- wz_mean\n",
    "}\n",
    "\n",
    "# Calculate the overall weighted Z score and p-value by combining the results from all data frames\n",
    "overall_wz_mean <- sum(wz_means) / sqrt(length(wz_means))\n",
    "overall_p_value <- 2 * (1 - pnorm(abs(overall_wz_mean)))\n",
    "\n",
    "# Set the number of digits to display\n",
    "options(digits = 22)\n",
    "\n",
    "# Print the overall results\n",
    "cat(\"Overall weighted Z score: \", overall_wz_mean, \"\\n\")\n",
    "cat(\"Overall p value: \", overall_p_value, \"\\n\")\n"
   ]
  },
  {
   "cell_type": "code",
   "execution_count": 9,
   "metadata": {
    "vscode": {
     "languageId": "r"
    }
   },
   "outputs": [
    {
     "name": "stdout",
     "output_type": "stream",
     "text": [
      "Weighted Z score:  92.03963514432246029173 \n",
      "P value:  0 \n"
     ]
    }
   ],
   "source": [
    "# Create a vector of t values\n",
    "t_values <- c(6.471, 3.984) # replace with your own t values\n",
    "sample_size <- 155 # replace with your own sample size\n",
    "\n",
    "# Calculate the Z scores for each study\n",
    "z_scores <- t_values * sqrt(sample_size)\n",
    "  \n",
    "# Calculate the weighted mean Z score using Stouffer's method\n",
    "wz_mean <- sum(z_scores) / sqrt(length(t_values))\n",
    "\n",
    "# Calculate the p-value from the weighted Z score\n",
    "p_value <- 2 * (1 - pnorm(abs(wz_mean)))\n",
    "\n",
    "# Print the results\n",
    "cat(\"Weighted Z score: \", wz_mean, \"\\n\")\n",
    "cat(\"P value: \", p_value, \"\\n\")\n"
   ]
  },
  {
   "cell_type": "code",
   "execution_count": null,
   "metadata": {
    "vscode": {
     "languageId": "r"
    }
   },
   "outputs": [],
   "source": []
  }
 ],
 "metadata": {
  "kernelspec": {
   "display_name": "R",
   "language": "R",
   "name": "ir"
  },
  "language_info": {
   "codemirror_mode": "r",
   "file_extension": ".r",
   "mimetype": "text/x-r-source",
   "name": "R",
   "pygments_lexer": "r",
   "version": "4.2.3"
  },
  "orig_nbformat": 4
 },
 "nbformat": 4,
 "nbformat_minor": 2
}
