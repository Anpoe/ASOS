{
 "cells": [
  {
   "cell_type": "code",
   "execution_count": 1,
   "metadata": {},
   "outputs": [
    {
     "name": "stderr",
     "output_type": "stream",
     "text": [
      "e:\\ProgramsInstalled\\Anaconda\\lib\\site-packages\\past\\builtins\\misc.py:45: DeprecationWarning: the imp module is deprecated in favour of importlib; see the module's documentation for alternative uses\n",
      "  from imp import reload\n",
      "e:\\ProgramsInstalled\\Anaconda\\lib\\site-packages\\flask\\json\\__init__.py:31: DeprecationWarning: Importing 'itsdangerous.json' is deprecated and will be removed in ItsDangerous 2.1. Use Python's 'json' module instead.\n",
      "  _slash_escape = \"\\\\/\" not in _json.dumps(\"/\")\n",
      "e:\\ProgramsInstalled\\Anaconda\\lib\\site-packages\\flask\\json\\__init__.py:61: DeprecationWarning: Importing 'itsdangerous.json' is deprecated and will be removed in ItsDangerous 2.1. Use Python's 'json' module instead.\n",
      "  class JSONEncoder(_json.JSONEncoder):\n",
      "e:\\ProgramsInstalled\\Anaconda\\lib\\site-packages\\flask\\json\\__init__.py:103: DeprecationWarning: Importing 'itsdangerous.json' is deprecated and will be removed in ItsDangerous 2.1. Use Python's 'json' module instead.\n",
      "  class JSONDecoder(_json.JSONDecoder):\n"
     ]
    }
   ],
   "source": [
    "import numpy as np\n",
    "import pandas as pd\n",
    "import re\n",
    "import nltk\n",
    "from nltk.corpus import stopwords\n",
    "from nltk.tokenize import word_tokenize\n",
    "from PIL import Image\n",
    "import string\n",
    "import matplotlib.pyplot as plt\n",
    "import seaborn as sns\n",
    "from wordcloud import WordCloud, STOPWORDS , ImageColorGenerator\n",
    "from textblob import TextBlob\n",
    "from vaderSentiment.vaderSentiment import SentimentIntensityAnalyzer\n",
    "import gensim\n",
    "from gensim.utils import simple_preprocess\n",
    "import gensim.corpora as corpora\n",
    "\n",
    "# Gensim\n",
    "import gensim\n",
    "import gensim.corpora as corpora\n",
    "from gensim.utils import simple_preprocess\n",
    "from gensim.models import CoherenceModel\n",
    "\n",
    "# spacy for lemmatization\n",
    "import spacy\n",
    "from spacy import displacy\n",
    "from collections import Counter\n",
    "import en_core_web_sm\n",
    "\n",
    "# Plotting tools\n",
    "import pyLDAvis\n",
    "import pyLDAvis.gensim_models  # don't skip this\n",
    "import matplotlib.pyplot as plt\n",
    "from dash import Dash, html, dcc\n",
    "import plotly.express as px\n",
    "import pandas as pd\n",
    "import plotly.graph_objects as go\n",
    "%matplotlib inline"
   ]
  },
  {
   "cell_type": "code",
   "execution_count": 2,
   "metadata": {},
   "outputs": [
    {
     "name": "stdout",
     "output_type": "stream",
     "text": [
      "              Name              Date  \\\n",
      "0   Dawn Pickering  January 05, 2023   \n",
      "1  Morgan Richards  January 05, 2023   \n",
      "2             RELB  January 04, 2023   \n",
      "3             Tara  January 05, 2023   \n",
      "4    Patrick Burke  January 04, 2023   \n",
      "\n",
      "                                    Review_Title  \\\n",
      "0         I had problems with a non delivery of…   \n",
      "1                      PaulynJane was so helpful   \n",
      "2                               Customer Service   \n",
      "3  Great service! I would highly recommend ASOS.   \n",
      "4       Both customer care staff I've spoken to…   \n",
      "\n",
      "                                         Review_Text Location  \\\n",
      "0  I had problems with a non delivery of an order...       GB   \n",
      "1  PaulynJane was so helpful. I purchased from as...       US   \n",
      "2  I have been waiting for my parcel since 20/12/...       GB   \n",
      "3  Customer Service Agent Dan was very helpful an...       AU   \n",
      "4  Both customer care staff I've spoken to about ...       GB   \n",
      "\n",
      "                   Rating  \n",
      "0  Rated 5 out of 5 stars  \n",
      "1  Rated 5 out of 5 stars  \n",
      "2  Rated 4 out of 5 stars  \n",
      "3  Rated 5 out of 5 stars  \n",
      "4  Rated 5 out of 5 stars  \n"
     ]
    }
   ],
   "source": [
    "asos_df = pd.read_csv(\"ASOS_Trustpilot_45.csv\")\n",
    "print(asos_df.head())"
   ]
  },
  {
   "cell_type": "code",
   "execution_count": 3,
   "metadata": {},
   "outputs": [],
   "source": [
    "asos_df.Date=asos_df.Date.apply(pd.to_datetime, errors ='coerce')\n",
    "\n",
    "asos_df[\"month\"]=asos_df.Date.dt.month\n",
    "asos_df[\"year\"]=asos_df.Date.dt.year\n",
    "\n",
    "asos_df.drop(\"Date\", axis=1, inplace=True)"
   ]
  },
  {
   "cell_type": "code",
   "execution_count": 4,
   "metadata": {},
   "outputs": [
    {
     "data": {
      "text/html": [
       "<div>\n",
       "<style scoped>\n",
       "    .dataframe tbody tr th:only-of-type {\n",
       "        vertical-align: middle;\n",
       "    }\n",
       "\n",
       "    .dataframe tbody tr th {\n",
       "        vertical-align: top;\n",
       "    }\n",
       "\n",
       "    .dataframe thead th {\n",
       "        text-align: right;\n",
       "    }\n",
       "</style>\n",
       "<table border=\"1\" class=\"dataframe\">\n",
       "  <thead>\n",
       "    <tr style=\"text-align: right;\">\n",
       "      <th></th>\n",
       "      <th>Name</th>\n",
       "      <th>Review_Title</th>\n",
       "      <th>Review_Text</th>\n",
       "      <th>Location</th>\n",
       "      <th>Rating</th>\n",
       "      <th>month</th>\n",
       "      <th>year</th>\n",
       "    </tr>\n",
       "  </thead>\n",
       "  <tbody>\n",
       "    <tr>\n",
       "      <th>0</th>\n",
       "      <td>Dawn Pickering</td>\n",
       "      <td>I had problems with a non delivery of…</td>\n",
       "      <td>I had problems with a non delivery of an order...</td>\n",
       "      <td>GB</td>\n",
       "      <td>Rated 5 out of 5 stars</td>\n",
       "      <td>1</td>\n",
       "      <td>2023</td>\n",
       "    </tr>\n",
       "    <tr>\n",
       "      <th>1</th>\n",
       "      <td>Morgan Richards</td>\n",
       "      <td>PaulynJane was so helpful</td>\n",
       "      <td>PaulynJane was so helpful. I purchased from as...</td>\n",
       "      <td>US</td>\n",
       "      <td>Rated 5 out of 5 stars</td>\n",
       "      <td>1</td>\n",
       "      <td>2023</td>\n",
       "    </tr>\n",
       "    <tr>\n",
       "      <th>2</th>\n",
       "      <td>RELB</td>\n",
       "      <td>Customer Service</td>\n",
       "      <td>I have been waiting for my parcel since 20/12/...</td>\n",
       "      <td>GB</td>\n",
       "      <td>Rated 4 out of 5 stars</td>\n",
       "      <td>1</td>\n",
       "      <td>2023</td>\n",
       "    </tr>\n",
       "    <tr>\n",
       "      <th>3</th>\n",
       "      <td>Tara</td>\n",
       "      <td>Great service! I would highly recommend ASOS.</td>\n",
       "      <td>Customer Service Agent Dan was very helpful an...</td>\n",
       "      <td>AU</td>\n",
       "      <td>Rated 5 out of 5 stars</td>\n",
       "      <td>1</td>\n",
       "      <td>2023</td>\n",
       "    </tr>\n",
       "    <tr>\n",
       "      <th>4</th>\n",
       "      <td>Patrick Burke</td>\n",
       "      <td>Both customer care staff I've spoken to…</td>\n",
       "      <td>Both customer care staff I've spoken to about ...</td>\n",
       "      <td>GB</td>\n",
       "      <td>Rated 5 out of 5 stars</td>\n",
       "      <td>1</td>\n",
       "      <td>2023</td>\n",
       "    </tr>\n",
       "  </tbody>\n",
       "</table>\n",
       "</div>"
      ],
      "text/plain": [
       "              Name                                   Review_Title  \\\n",
       "0   Dawn Pickering         I had problems with a non delivery of…   \n",
       "1  Morgan Richards                      PaulynJane was so helpful   \n",
       "2             RELB                               Customer Service   \n",
       "3             Tara  Great service! I would highly recommend ASOS.   \n",
       "4    Patrick Burke       Both customer care staff I've spoken to…   \n",
       "\n",
       "                                         Review_Text Location  \\\n",
       "0  I had problems with a non delivery of an order...       GB   \n",
       "1  PaulynJane was so helpful. I purchased from as...       US   \n",
       "2  I have been waiting for my parcel since 20/12/...       GB   \n",
       "3  Customer Service Agent Dan was very helpful an...       AU   \n",
       "4  Both customer care staff I've spoken to about ...       GB   \n",
       "\n",
       "                   Rating  month  year  \n",
       "0  Rated 5 out of 5 stars      1  2023  \n",
       "1  Rated 5 out of 5 stars      1  2023  \n",
       "2  Rated 4 out of 5 stars      1  2023  \n",
       "3  Rated 5 out of 5 stars      1  2023  \n",
       "4  Rated 5 out of 5 stars      1  2023  "
      ]
     },
     "execution_count": 4,
     "metadata": {},
     "output_type": "execute_result"
    }
   ],
   "source": [
    "asos_df.head()"
   ]
  },
  {
   "cell_type": "code",
   "execution_count": 8,
   "metadata": {},
   "outputs": [
    {
     "name": "stderr",
     "output_type": "stream",
     "text": [
      "e:\\ProgramsInstalled\\Anaconda\\lib\\site-packages\\plotly\\io\\_renderers.py:395: DeprecationWarning:\n",
      "\n",
      "distutils Version classes are deprecated. Use packaging.version instead.\n",
      "\n",
      "e:\\ProgramsInstalled\\Anaconda\\lib\\site-packages\\plotly\\io\\_renderers.py:395: DeprecationWarning:\n",
      "\n",
      "distutils Version classes are deprecated. Use packaging.version instead.\n",
      "\n"
     ]
    },
    {
     "data": {
      "application/vnd.plotly.v1+json": {
       "config": {
        "plotlyServerURL": "https://plot.ly"
       },
       "data": [
        {
         "labels": [
          2022,
          2023,
          2021
         ],
         "marker": {
          "colors": [
           "#FFD700",
           "#FF8C00",
           "#FF0000",
           "#F08080",
           "#CD5C5C",
           "#87CEFA",
           "#4169E1",
           "#0000FF",
           "#00BFFF",
           "#008000"
          ]
         },
         "textinfo": "label+percent",
         "type": "pie",
         "values": [
          1769,
          230,
          1
         ]
        }
       ],
       "layout": {
        "legend": {
         "x": 0.75,
         "xanchor": "center",
         "y": 0.5,
         "yanchor": "middle"
        },
        "template": {
         "data": {
          "bar": [
           {
            "error_x": {
             "color": "#2a3f5f"
            },
            "error_y": {
             "color": "#2a3f5f"
            },
            "marker": {
             "line": {
              "color": "#E5ECF6",
              "width": 0.5
             },
             "pattern": {
              "fillmode": "overlay",
              "size": 10,
              "solidity": 0.2
             }
            },
            "type": "bar"
           }
          ],
          "barpolar": [
           {
            "marker": {
             "line": {
              "color": "#E5ECF6",
              "width": 0.5
             },
             "pattern": {
              "fillmode": "overlay",
              "size": 10,
              "solidity": 0.2
             }
            },
            "type": "barpolar"
           }
          ],
          "carpet": [
           {
            "aaxis": {
             "endlinecolor": "#2a3f5f",
             "gridcolor": "white",
             "linecolor": "white",
             "minorgridcolor": "white",
             "startlinecolor": "#2a3f5f"
            },
            "baxis": {
             "endlinecolor": "#2a3f5f",
             "gridcolor": "white",
             "linecolor": "white",
             "minorgridcolor": "white",
             "startlinecolor": "#2a3f5f"
            },
            "type": "carpet"
           }
          ],
          "choropleth": [
           {
            "colorbar": {
             "outlinewidth": 0,
             "ticks": ""
            },
            "type": "choropleth"
           }
          ],
          "contour": [
           {
            "colorbar": {
             "outlinewidth": 0,
             "ticks": ""
            },
            "colorscale": [
             [
              0,
              "#0d0887"
             ],
             [
              0.1111111111111111,
              "#46039f"
             ],
             [
              0.2222222222222222,
              "#7201a8"
             ],
             [
              0.3333333333333333,
              "#9c179e"
             ],
             [
              0.4444444444444444,
              "#bd3786"
             ],
             [
              0.5555555555555556,
              "#d8576b"
             ],
             [
              0.6666666666666666,
              "#ed7953"
             ],
             [
              0.7777777777777778,
              "#fb9f3a"
             ],
             [
              0.8888888888888888,
              "#fdca26"
             ],
             [
              1,
              "#f0f921"
             ]
            ],
            "type": "contour"
           }
          ],
          "contourcarpet": [
           {
            "colorbar": {
             "outlinewidth": 0,
             "ticks": ""
            },
            "type": "contourcarpet"
           }
          ],
          "heatmap": [
           {
            "colorbar": {
             "outlinewidth": 0,
             "ticks": ""
            },
            "colorscale": [
             [
              0,
              "#0d0887"
             ],
             [
              0.1111111111111111,
              "#46039f"
             ],
             [
              0.2222222222222222,
              "#7201a8"
             ],
             [
              0.3333333333333333,
              "#9c179e"
             ],
             [
              0.4444444444444444,
              "#bd3786"
             ],
             [
              0.5555555555555556,
              "#d8576b"
             ],
             [
              0.6666666666666666,
              "#ed7953"
             ],
             [
              0.7777777777777778,
              "#fb9f3a"
             ],
             [
              0.8888888888888888,
              "#fdca26"
             ],
             [
              1,
              "#f0f921"
             ]
            ],
            "type": "heatmap"
           }
          ],
          "heatmapgl": [
           {
            "colorbar": {
             "outlinewidth": 0,
             "ticks": ""
            },
            "colorscale": [
             [
              0,
              "#0d0887"
             ],
             [
              0.1111111111111111,
              "#46039f"
             ],
             [
              0.2222222222222222,
              "#7201a8"
             ],
             [
              0.3333333333333333,
              "#9c179e"
             ],
             [
              0.4444444444444444,
              "#bd3786"
             ],
             [
              0.5555555555555556,
              "#d8576b"
             ],
             [
              0.6666666666666666,
              "#ed7953"
             ],
             [
              0.7777777777777778,
              "#fb9f3a"
             ],
             [
              0.8888888888888888,
              "#fdca26"
             ],
             [
              1,
              "#f0f921"
             ]
            ],
            "type": "heatmapgl"
           }
          ],
          "histogram": [
           {
            "marker": {
             "pattern": {
              "fillmode": "overlay",
              "size": 10,
              "solidity": 0.2
             }
            },
            "type": "histogram"
           }
          ],
          "histogram2d": [
           {
            "colorbar": {
             "outlinewidth": 0,
             "ticks": ""
            },
            "colorscale": [
             [
              0,
              "#0d0887"
             ],
             [
              0.1111111111111111,
              "#46039f"
             ],
             [
              0.2222222222222222,
              "#7201a8"
             ],
             [
              0.3333333333333333,
              "#9c179e"
             ],
             [
              0.4444444444444444,
              "#bd3786"
             ],
             [
              0.5555555555555556,
              "#d8576b"
             ],
             [
              0.6666666666666666,
              "#ed7953"
             ],
             [
              0.7777777777777778,
              "#fb9f3a"
             ],
             [
              0.8888888888888888,
              "#fdca26"
             ],
             [
              1,
              "#f0f921"
             ]
            ],
            "type": "histogram2d"
           }
          ],
          "histogram2dcontour": [
           {
            "colorbar": {
             "outlinewidth": 0,
             "ticks": ""
            },
            "colorscale": [
             [
              0,
              "#0d0887"
             ],
             [
              0.1111111111111111,
              "#46039f"
             ],
             [
              0.2222222222222222,
              "#7201a8"
             ],
             [
              0.3333333333333333,
              "#9c179e"
             ],
             [
              0.4444444444444444,
              "#bd3786"
             ],
             [
              0.5555555555555556,
              "#d8576b"
             ],
             [
              0.6666666666666666,
              "#ed7953"
             ],
             [
              0.7777777777777778,
              "#fb9f3a"
             ],
             [
              0.8888888888888888,
              "#fdca26"
             ],
             [
              1,
              "#f0f921"
             ]
            ],
            "type": "histogram2dcontour"
           }
          ],
          "mesh3d": [
           {
            "colorbar": {
             "outlinewidth": 0,
             "ticks": ""
            },
            "type": "mesh3d"
           }
          ],
          "parcoords": [
           {
            "line": {
             "colorbar": {
              "outlinewidth": 0,
              "ticks": ""
             }
            },
            "type": "parcoords"
           }
          ],
          "pie": [
           {
            "automargin": true,
            "type": "pie"
           }
          ],
          "scatter": [
           {
            "fillpattern": {
             "fillmode": "overlay",
             "size": 10,
             "solidity": 0.2
            },
            "type": "scatter"
           }
          ],
          "scatter3d": [
           {
            "line": {
             "colorbar": {
              "outlinewidth": 0,
              "ticks": ""
             }
            },
            "marker": {
             "colorbar": {
              "outlinewidth": 0,
              "ticks": ""
             }
            },
            "type": "scatter3d"
           }
          ],
          "scattercarpet": [
           {
            "marker": {
             "colorbar": {
              "outlinewidth": 0,
              "ticks": ""
             }
            },
            "type": "scattercarpet"
           }
          ],
          "scattergeo": [
           {
            "marker": {
             "colorbar": {
              "outlinewidth": 0,
              "ticks": ""
             }
            },
            "type": "scattergeo"
           }
          ],
          "scattergl": [
           {
            "marker": {
             "colorbar": {
              "outlinewidth": 0,
              "ticks": ""
             }
            },
            "type": "scattergl"
           }
          ],
          "scattermapbox": [
           {
            "marker": {
             "colorbar": {
              "outlinewidth": 0,
              "ticks": ""
             }
            },
            "type": "scattermapbox"
           }
          ],
          "scatterpolar": [
           {
            "marker": {
             "colorbar": {
              "outlinewidth": 0,
              "ticks": ""
             }
            },
            "type": "scatterpolar"
           }
          ],
          "scatterpolargl": [
           {
            "marker": {
             "colorbar": {
              "outlinewidth": 0,
              "ticks": ""
             }
            },
            "type": "scatterpolargl"
           }
          ],
          "scatterternary": [
           {
            "marker": {
             "colorbar": {
              "outlinewidth": 0,
              "ticks": ""
             }
            },
            "type": "scatterternary"
           }
          ],
          "surface": [
           {
            "colorbar": {
             "outlinewidth": 0,
             "ticks": ""
            },
            "colorscale": [
             [
              0,
              "#0d0887"
             ],
             [
              0.1111111111111111,
              "#46039f"
             ],
             [
              0.2222222222222222,
              "#7201a8"
             ],
             [
              0.3333333333333333,
              "#9c179e"
             ],
             [
              0.4444444444444444,
              "#bd3786"
             ],
             [
              0.5555555555555556,
              "#d8576b"
             ],
             [
              0.6666666666666666,
              "#ed7953"
             ],
             [
              0.7777777777777778,
              "#fb9f3a"
             ],
             [
              0.8888888888888888,
              "#fdca26"
             ],
             [
              1,
              "#f0f921"
             ]
            ],
            "type": "surface"
           }
          ],
          "table": [
           {
            "cells": {
             "fill": {
              "color": "#EBF0F8"
             },
             "line": {
              "color": "white"
             }
            },
            "header": {
             "fill": {
              "color": "#C8D4E3"
             },
             "line": {
              "color": "white"
             }
            },
            "type": "table"
           }
          ]
         },
         "layout": {
          "annotationdefaults": {
           "arrowcolor": "#2a3f5f",
           "arrowhead": 0,
           "arrowwidth": 1
          },
          "autotypenumbers": "strict",
          "coloraxis": {
           "colorbar": {
            "outlinewidth": 0,
            "ticks": ""
           }
          },
          "colorscale": {
           "diverging": [
            [
             0,
             "#8e0152"
            ],
            [
             0.1,
             "#c51b7d"
            ],
            [
             0.2,
             "#de77ae"
            ],
            [
             0.3,
             "#f1b6da"
            ],
            [
             0.4,
             "#fde0ef"
            ],
            [
             0.5,
             "#f7f7f7"
            ],
            [
             0.6,
             "#e6f5d0"
            ],
            [
             0.7,
             "#b8e186"
            ],
            [
             0.8,
             "#7fbc41"
            ],
            [
             0.9,
             "#4d9221"
            ],
            [
             1,
             "#276419"
            ]
           ],
           "sequential": [
            [
             0,
             "#0d0887"
            ],
            [
             0.1111111111111111,
             "#46039f"
            ],
            [
             0.2222222222222222,
             "#7201a8"
            ],
            [
             0.3333333333333333,
             "#9c179e"
            ],
            [
             0.4444444444444444,
             "#bd3786"
            ],
            [
             0.5555555555555556,
             "#d8576b"
            ],
            [
             0.6666666666666666,
             "#ed7953"
            ],
            [
             0.7777777777777778,
             "#fb9f3a"
            ],
            [
             0.8888888888888888,
             "#fdca26"
            ],
            [
             1,
             "#f0f921"
            ]
           ],
           "sequentialminus": [
            [
             0,
             "#0d0887"
            ],
            [
             0.1111111111111111,
             "#46039f"
            ],
            [
             0.2222222222222222,
             "#7201a8"
            ],
            [
             0.3333333333333333,
             "#9c179e"
            ],
            [
             0.4444444444444444,
             "#bd3786"
            ],
            [
             0.5555555555555556,
             "#d8576b"
            ],
            [
             0.6666666666666666,
             "#ed7953"
            ],
            [
             0.7777777777777778,
             "#fb9f3a"
            ],
            [
             0.8888888888888888,
             "#fdca26"
            ],
            [
             1,
             "#f0f921"
            ]
           ]
          },
          "colorway": [
           "#636efa",
           "#EF553B",
           "#00cc96",
           "#ab63fa",
           "#FFA15A",
           "#19d3f3",
           "#FF6692",
           "#B6E880",
           "#FF97FF",
           "#FECB52"
          ],
          "font": {
           "color": "#2a3f5f"
          },
          "geo": {
           "bgcolor": "white",
           "lakecolor": "white",
           "landcolor": "#E5ECF6",
           "showlakes": true,
           "showland": true,
           "subunitcolor": "white"
          },
          "hoverlabel": {
           "align": "left"
          },
          "hovermode": "closest",
          "mapbox": {
           "style": "light"
          },
          "paper_bgcolor": "white",
          "plot_bgcolor": "#E5ECF6",
          "polar": {
           "angularaxis": {
            "gridcolor": "white",
            "linecolor": "white",
            "ticks": ""
           },
           "bgcolor": "#E5ECF6",
           "radialaxis": {
            "gridcolor": "white",
            "linecolor": "white",
            "ticks": ""
           }
          },
          "scene": {
           "xaxis": {
            "backgroundcolor": "#E5ECF6",
            "gridcolor": "white",
            "gridwidth": 2,
            "linecolor": "white",
            "showbackground": true,
            "ticks": "",
            "zerolinecolor": "white"
           },
           "yaxis": {
            "backgroundcolor": "#E5ECF6",
            "gridcolor": "white",
            "gridwidth": 2,
            "linecolor": "white",
            "showbackground": true,
            "ticks": "",
            "zerolinecolor": "white"
           },
           "zaxis": {
            "backgroundcolor": "#E5ECF6",
            "gridcolor": "white",
            "gridwidth": 2,
            "linecolor": "white",
            "showbackground": true,
            "ticks": "",
            "zerolinecolor": "white"
           }
          },
          "shapedefaults": {
           "line": {
            "color": "#2a3f5f"
           }
          },
          "ternary": {
           "aaxis": {
            "gridcolor": "white",
            "linecolor": "white",
            "ticks": ""
           },
           "baxis": {
            "gridcolor": "white",
            "linecolor": "white",
            "ticks": ""
           },
           "bgcolor": "#E5ECF6",
           "caxis": {
            "gridcolor": "white",
            "linecolor": "white",
            "ticks": ""
           }
          },
          "title": {
           "x": 0.05
          },
          "xaxis": {
           "automargin": true,
           "gridcolor": "white",
           "linecolor": "white",
           "ticks": "",
           "title": {
            "standoff": 15
           },
           "zerolinecolor": "white",
           "zerolinewidth": 2
          },
          "yaxis": {
           "automargin": true,
           "gridcolor": "white",
           "linecolor": "white",
           "ticks": "",
           "title": {
            "standoff": 15
           },
           "zerolinecolor": "white",
           "zerolinewidth": 2
          }
         }
        },
        "title": {
         "text": "Positive Review Year Distribution",
         "x": 0.5,
         "xanchor": "center",
         "y": 0.95,
         "yanchor": "middle"
        },
        "yaxis": {
         "automargin": true
        }
       }
      }
     },
     "metadata": {},
     "output_type": "display_data"
    }
   ],
   "source": [
    "\n",
    "year = asos_df['year'].value_counts()\n",
    "year_list = year.index\n",
    "\n",
    "fig = go.Figure(data=[go.Pie(labels=year_list[:10], values=year.sort_values(ascending=False).iloc[:10], textinfo='label+percent', \n",
    "    marker_colors=['#FFD700', '#FF8C00', '#FF0000', '#F08080', '#CD5C5C', '#87CEFA', '#4169E1', '#0000FF', '#00BFFF', '#008000'])]) \n",
    "fig.update_layout(\n",
    "    title={\n",
    "        'text': \"Positive Review Year Distribution\",\n",
    "        'x': 0.5,\n",
    "        'y': 0.95,\n",
    "        'xanchor': 'center',\n",
    "        'yanchor': 'middle'\n",
    "    },\n",
    "    legend={\n",
    "        'x': 0.75,\n",
    "        'y': 0.5,\n",
    "        'xanchor': 'center',\n",
    "        'yanchor': 'middle'\n",
    "    }\n",
    ")\n",
    "fig.update_yaxes(automargin=True)\n",
    "fig.show()"
   ]
  },
  {
   "cell_type": "code",
   "execution_count": 13,
   "metadata": {},
   "outputs": [
    {
     "name": "stderr",
     "output_type": "stream",
     "text": [
      "e:\\ProgramsInstalled\\Anaconda\\lib\\site-packages\\plotly\\io\\_renderers.py:395: DeprecationWarning:\n",
      "\n",
      "distutils Version classes are deprecated. Use packaging.version instead.\n",
      "\n",
      "e:\\ProgramsInstalled\\Anaconda\\lib\\site-packages\\plotly\\io\\_renderers.py:395: DeprecationWarning:\n",
      "\n",
      "distutils Version classes are deprecated. Use packaging.version instead.\n",
      "\n"
     ]
    },
    {
     "data": {
      "application/vnd.plotly.v1+json": {
       "config": {
        "plotlyServerURL": "https://plot.ly"
       },
       "data": [
        {
         "labels": [
          "GB",
          "US",
          "NL",
          "IE",
          "SE",
          "IL",
          "SA",
          "DK",
          "PL",
          "AU"
         ],
         "marker": {
          "colors": [
           "#FFD700",
           "#FF8C00",
           "#FF0000",
           "#F08080",
           "#CD5C5C",
           "#87CEFA",
           "#4169E1",
           "#0000FF",
           "#00BFFF",
           "#008000"
          ]
         },
         "textinfo": "label+percent",
         "type": "pie",
         "values": [
          889,
          220,
          161,
          93,
          69,
          54,
          42,
          36,
          34,
          32
         ]
        }
       ],
       "layout": {
        "height": 600,
        "legend": {
         "x": 1,
         "xanchor": "center",
         "y": 0.5,
         "yanchor": "middle"
        },
        "template": {
         "data": {
          "bar": [
           {
            "error_x": {
             "color": "#2a3f5f"
            },
            "error_y": {
             "color": "#2a3f5f"
            },
            "marker": {
             "line": {
              "color": "#E5ECF6",
              "width": 0.5
             },
             "pattern": {
              "fillmode": "overlay",
              "size": 10,
              "solidity": 0.2
             }
            },
            "type": "bar"
           }
          ],
          "barpolar": [
           {
            "marker": {
             "line": {
              "color": "#E5ECF6",
              "width": 0.5
             },
             "pattern": {
              "fillmode": "overlay",
              "size": 10,
              "solidity": 0.2
             }
            },
            "type": "barpolar"
           }
          ],
          "carpet": [
           {
            "aaxis": {
             "endlinecolor": "#2a3f5f",
             "gridcolor": "white",
             "linecolor": "white",
             "minorgridcolor": "white",
             "startlinecolor": "#2a3f5f"
            },
            "baxis": {
             "endlinecolor": "#2a3f5f",
             "gridcolor": "white",
             "linecolor": "white",
             "minorgridcolor": "white",
             "startlinecolor": "#2a3f5f"
            },
            "type": "carpet"
           }
          ],
          "choropleth": [
           {
            "colorbar": {
             "outlinewidth": 0,
             "ticks": ""
            },
            "type": "choropleth"
           }
          ],
          "contour": [
           {
            "colorbar": {
             "outlinewidth": 0,
             "ticks": ""
            },
            "colorscale": [
             [
              0,
              "#0d0887"
             ],
             [
              0.1111111111111111,
              "#46039f"
             ],
             [
              0.2222222222222222,
              "#7201a8"
             ],
             [
              0.3333333333333333,
              "#9c179e"
             ],
             [
              0.4444444444444444,
              "#bd3786"
             ],
             [
              0.5555555555555556,
              "#d8576b"
             ],
             [
              0.6666666666666666,
              "#ed7953"
             ],
             [
              0.7777777777777778,
              "#fb9f3a"
             ],
             [
              0.8888888888888888,
              "#fdca26"
             ],
             [
              1,
              "#f0f921"
             ]
            ],
            "type": "contour"
           }
          ],
          "contourcarpet": [
           {
            "colorbar": {
             "outlinewidth": 0,
             "ticks": ""
            },
            "type": "contourcarpet"
           }
          ],
          "heatmap": [
           {
            "colorbar": {
             "outlinewidth": 0,
             "ticks": ""
            },
            "colorscale": [
             [
              0,
              "#0d0887"
             ],
             [
              0.1111111111111111,
              "#46039f"
             ],
             [
              0.2222222222222222,
              "#7201a8"
             ],
             [
              0.3333333333333333,
              "#9c179e"
             ],
             [
              0.4444444444444444,
              "#bd3786"
             ],
             [
              0.5555555555555556,
              "#d8576b"
             ],
             [
              0.6666666666666666,
              "#ed7953"
             ],
             [
              0.7777777777777778,
              "#fb9f3a"
             ],
             [
              0.8888888888888888,
              "#fdca26"
             ],
             [
              1,
              "#f0f921"
             ]
            ],
            "type": "heatmap"
           }
          ],
          "heatmapgl": [
           {
            "colorbar": {
             "outlinewidth": 0,
             "ticks": ""
            },
            "colorscale": [
             [
              0,
              "#0d0887"
             ],
             [
              0.1111111111111111,
              "#46039f"
             ],
             [
              0.2222222222222222,
              "#7201a8"
             ],
             [
              0.3333333333333333,
              "#9c179e"
             ],
             [
              0.4444444444444444,
              "#bd3786"
             ],
             [
              0.5555555555555556,
              "#d8576b"
             ],
             [
              0.6666666666666666,
              "#ed7953"
             ],
             [
              0.7777777777777778,
              "#fb9f3a"
             ],
             [
              0.8888888888888888,
              "#fdca26"
             ],
             [
              1,
              "#f0f921"
             ]
            ],
            "type": "heatmapgl"
           }
          ],
          "histogram": [
           {
            "marker": {
             "pattern": {
              "fillmode": "overlay",
              "size": 10,
              "solidity": 0.2
             }
            },
            "type": "histogram"
           }
          ],
          "histogram2d": [
           {
            "colorbar": {
             "outlinewidth": 0,
             "ticks": ""
            },
            "colorscale": [
             [
              0,
              "#0d0887"
             ],
             [
              0.1111111111111111,
              "#46039f"
             ],
             [
              0.2222222222222222,
              "#7201a8"
             ],
             [
              0.3333333333333333,
              "#9c179e"
             ],
             [
              0.4444444444444444,
              "#bd3786"
             ],
             [
              0.5555555555555556,
              "#d8576b"
             ],
             [
              0.6666666666666666,
              "#ed7953"
             ],
             [
              0.7777777777777778,
              "#fb9f3a"
             ],
             [
              0.8888888888888888,
              "#fdca26"
             ],
             [
              1,
              "#f0f921"
             ]
            ],
            "type": "histogram2d"
           }
          ],
          "histogram2dcontour": [
           {
            "colorbar": {
             "outlinewidth": 0,
             "ticks": ""
            },
            "colorscale": [
             [
              0,
              "#0d0887"
             ],
             [
              0.1111111111111111,
              "#46039f"
             ],
             [
              0.2222222222222222,
              "#7201a8"
             ],
             [
              0.3333333333333333,
              "#9c179e"
             ],
             [
              0.4444444444444444,
              "#bd3786"
             ],
             [
              0.5555555555555556,
              "#d8576b"
             ],
             [
              0.6666666666666666,
              "#ed7953"
             ],
             [
              0.7777777777777778,
              "#fb9f3a"
             ],
             [
              0.8888888888888888,
              "#fdca26"
             ],
             [
              1,
              "#f0f921"
             ]
            ],
            "type": "histogram2dcontour"
           }
          ],
          "mesh3d": [
           {
            "colorbar": {
             "outlinewidth": 0,
             "ticks": ""
            },
            "type": "mesh3d"
           }
          ],
          "parcoords": [
           {
            "line": {
             "colorbar": {
              "outlinewidth": 0,
              "ticks": ""
             }
            },
            "type": "parcoords"
           }
          ],
          "pie": [
           {
            "automargin": true,
            "type": "pie"
           }
          ],
          "scatter": [
           {
            "fillpattern": {
             "fillmode": "overlay",
             "size": 10,
             "solidity": 0.2
            },
            "type": "scatter"
           }
          ],
          "scatter3d": [
           {
            "line": {
             "colorbar": {
              "outlinewidth": 0,
              "ticks": ""
             }
            },
            "marker": {
             "colorbar": {
              "outlinewidth": 0,
              "ticks": ""
             }
            },
            "type": "scatter3d"
           }
          ],
          "scattercarpet": [
           {
            "marker": {
             "colorbar": {
              "outlinewidth": 0,
              "ticks": ""
             }
            },
            "type": "scattercarpet"
           }
          ],
          "scattergeo": [
           {
            "marker": {
             "colorbar": {
              "outlinewidth": 0,
              "ticks": ""
             }
            },
            "type": "scattergeo"
           }
          ],
          "scattergl": [
           {
            "marker": {
             "colorbar": {
              "outlinewidth": 0,
              "ticks": ""
             }
            },
            "type": "scattergl"
           }
          ],
          "scattermapbox": [
           {
            "marker": {
             "colorbar": {
              "outlinewidth": 0,
              "ticks": ""
             }
            },
            "type": "scattermapbox"
           }
          ],
          "scatterpolar": [
           {
            "marker": {
             "colorbar": {
              "outlinewidth": 0,
              "ticks": ""
             }
            },
            "type": "scatterpolar"
           }
          ],
          "scatterpolargl": [
           {
            "marker": {
             "colorbar": {
              "outlinewidth": 0,
              "ticks": ""
             }
            },
            "type": "scatterpolargl"
           }
          ],
          "scatterternary": [
           {
            "marker": {
             "colorbar": {
              "outlinewidth": 0,
              "ticks": ""
             }
            },
            "type": "scatterternary"
           }
          ],
          "surface": [
           {
            "colorbar": {
             "outlinewidth": 0,
             "ticks": ""
            },
            "colorscale": [
             [
              0,
              "#0d0887"
             ],
             [
              0.1111111111111111,
              "#46039f"
             ],
             [
              0.2222222222222222,
              "#7201a8"
             ],
             [
              0.3333333333333333,
              "#9c179e"
             ],
             [
              0.4444444444444444,
              "#bd3786"
             ],
             [
              0.5555555555555556,
              "#d8576b"
             ],
             [
              0.6666666666666666,
              "#ed7953"
             ],
             [
              0.7777777777777778,
              "#fb9f3a"
             ],
             [
              0.8888888888888888,
              "#fdca26"
             ],
             [
              1,
              "#f0f921"
             ]
            ],
            "type": "surface"
           }
          ],
          "table": [
           {
            "cells": {
             "fill": {
              "color": "#EBF0F8"
             },
             "line": {
              "color": "white"
             }
            },
            "header": {
             "fill": {
              "color": "#C8D4E3"
             },
             "line": {
              "color": "white"
             }
            },
            "type": "table"
           }
          ]
         },
         "layout": {
          "annotationdefaults": {
           "arrowcolor": "#2a3f5f",
           "arrowhead": 0,
           "arrowwidth": 1
          },
          "autotypenumbers": "strict",
          "coloraxis": {
           "colorbar": {
            "outlinewidth": 0,
            "ticks": ""
           }
          },
          "colorscale": {
           "diverging": [
            [
             0,
             "#8e0152"
            ],
            [
             0.1,
             "#c51b7d"
            ],
            [
             0.2,
             "#de77ae"
            ],
            [
             0.3,
             "#f1b6da"
            ],
            [
             0.4,
             "#fde0ef"
            ],
            [
             0.5,
             "#f7f7f7"
            ],
            [
             0.6,
             "#e6f5d0"
            ],
            [
             0.7,
             "#b8e186"
            ],
            [
             0.8,
             "#7fbc41"
            ],
            [
             0.9,
             "#4d9221"
            ],
            [
             1,
             "#276419"
            ]
           ],
           "sequential": [
            [
             0,
             "#0d0887"
            ],
            [
             0.1111111111111111,
             "#46039f"
            ],
            [
             0.2222222222222222,
             "#7201a8"
            ],
            [
             0.3333333333333333,
             "#9c179e"
            ],
            [
             0.4444444444444444,
             "#bd3786"
            ],
            [
             0.5555555555555556,
             "#d8576b"
            ],
            [
             0.6666666666666666,
             "#ed7953"
            ],
            [
             0.7777777777777778,
             "#fb9f3a"
            ],
            [
             0.8888888888888888,
             "#fdca26"
            ],
            [
             1,
             "#f0f921"
            ]
           ],
           "sequentialminus": [
            [
             0,
             "#0d0887"
            ],
            [
             0.1111111111111111,
             "#46039f"
            ],
            [
             0.2222222222222222,
             "#7201a8"
            ],
            [
             0.3333333333333333,
             "#9c179e"
            ],
            [
             0.4444444444444444,
             "#bd3786"
            ],
            [
             0.5555555555555556,
             "#d8576b"
            ],
            [
             0.6666666666666666,
             "#ed7953"
            ],
            [
             0.7777777777777778,
             "#fb9f3a"
            ],
            [
             0.8888888888888888,
             "#fdca26"
            ],
            [
             1,
             "#f0f921"
            ]
           ]
          },
          "colorway": [
           "#636efa",
           "#EF553B",
           "#00cc96",
           "#ab63fa",
           "#FFA15A",
           "#19d3f3",
           "#FF6692",
           "#B6E880",
           "#FF97FF",
           "#FECB52"
          ],
          "font": {
           "color": "#2a3f5f"
          },
          "geo": {
           "bgcolor": "white",
           "lakecolor": "white",
           "landcolor": "#E5ECF6",
           "showlakes": true,
           "showland": true,
           "subunitcolor": "white"
          },
          "hoverlabel": {
           "align": "left"
          },
          "hovermode": "closest",
          "mapbox": {
           "style": "light"
          },
          "paper_bgcolor": "white",
          "plot_bgcolor": "#E5ECF6",
          "polar": {
           "angularaxis": {
            "gridcolor": "white",
            "linecolor": "white",
            "ticks": ""
           },
           "bgcolor": "#E5ECF6",
           "radialaxis": {
            "gridcolor": "white",
            "linecolor": "white",
            "ticks": ""
           }
          },
          "scene": {
           "xaxis": {
            "backgroundcolor": "#E5ECF6",
            "gridcolor": "white",
            "gridwidth": 2,
            "linecolor": "white",
            "showbackground": true,
            "ticks": "",
            "zerolinecolor": "white"
           },
           "yaxis": {
            "backgroundcolor": "#E5ECF6",
            "gridcolor": "white",
            "gridwidth": 2,
            "linecolor": "white",
            "showbackground": true,
            "ticks": "",
            "zerolinecolor": "white"
           },
           "zaxis": {
            "backgroundcolor": "#E5ECF6",
            "gridcolor": "white",
            "gridwidth": 2,
            "linecolor": "white",
            "showbackground": true,
            "ticks": "",
            "zerolinecolor": "white"
           }
          },
          "shapedefaults": {
           "line": {
            "color": "#2a3f5f"
           }
          },
          "ternary": {
           "aaxis": {
            "gridcolor": "white",
            "linecolor": "white",
            "ticks": ""
           },
           "baxis": {
            "gridcolor": "white",
            "linecolor": "white",
            "ticks": ""
           },
           "bgcolor": "#E5ECF6",
           "caxis": {
            "gridcolor": "white",
            "linecolor": "white",
            "ticks": ""
           }
          },
          "title": {
           "x": 0.05
          },
          "xaxis": {
           "automargin": true,
           "gridcolor": "white",
           "linecolor": "white",
           "ticks": "",
           "title": {
            "standoff": 15
           },
           "zerolinecolor": "white",
           "zerolinewidth": 2
          },
          "yaxis": {
           "automargin": true,
           "gridcolor": "white",
           "linecolor": "white",
           "ticks": "",
           "title": {
            "standoff": 15
           },
           "zerolinecolor": "white",
           "zerolinewidth": 2
          }
         }
        },
        "title": {
         "text": "Positive Review Location Distribution",
         "x": 0.5,
         "xanchor": "center",
         "y": 0.9,
         "yanchor": "middle"
        },
        "width": 800,
        "yaxis": {
         "automargin": true
        }
       }
      }
     },
     "metadata": {},
     "output_type": "display_data"
    }
   ],
   "source": [
    "\n",
    "Loc = asos_df['Location'].value_counts()\n",
    "loc_list = Loc.index\n",
    "\n",
    "fig = go.Figure(data=[go.Pie(labels=loc_list[:10], values=Loc.sort_values(ascending=False).iloc[:10], textinfo='label+percent', \n",
    "    marker_colors=['#FFD700', '#FF8C00', '#FF0000', '#F08080', '#CD5C5C', '#87CEFA', '#4169E1', '#0000FF', '#00BFFF', '#008000'])]) \n",
    "fig.update_layout(\n",
    "    title={\n",
    "        'text': \"Positive Review Location Distribution\",\n",
    "        'x': 0.50,\n",
    "        'y': 0.9,\n",
    "        'xanchor': 'center',\n",
    "        'yanchor': 'middle'\n",
    "    },\n",
    "    legend={\n",
    "        'x': 1,\n",
    "        'y': 0.5,\n",
    "        'xanchor': 'center',\n",
    "        'yanchor': 'middle'\n",
    "    },\n",
    "    width=800,\n",
    "    height=600\n",
    ")\n",
    "fig.update_yaxes(automargin=True)\n",
    "fig.show()"
   ]
  },
  {
   "cell_type": "code",
   "execution_count": 14,
   "metadata": {},
   "outputs": [
    {
     "name": "stderr",
     "output_type": "stream",
     "text": [
      "e:\\ProgramsInstalled\\Anaconda\\lib\\site-packages\\wordcloud\\wordcloud.py:508: DeprecationWarning:\n",
      "\n",
      "textsize is deprecated and will be removed in Pillow 10 (2023-07-01). Use textbbox or textlength instead.\n",
      "\n",
      "e:\\ProgramsInstalled\\Anaconda\\lib\\site-packages\\wordcloud\\wordcloud.py:519: DeprecationWarning:\n",
      "\n",
      "ROTATE_90 is deprecated and will be removed in Pillow 10 (2023-07-01). Use Transpose.ROTATE_90 instead.\n",
      "\n",
      "e:\\ProgramsInstalled\\Anaconda\\lib\\site-packages\\wordcloud\\wordcloud.py:508: DeprecationWarning:\n",
      "\n",
      "textsize is deprecated and will be removed in Pillow 10 (2023-07-01). Use textbbox or textlength instead.\n",
      "\n",
      "e:\\ProgramsInstalled\\Anaconda\\lib\\site-packages\\wordcloud\\wordcloud.py:508: DeprecationWarning:\n",
      "\n",
      "textsize is deprecated and will be removed in Pillow 10 (2023-07-01). Use textbbox or textlength instead.\n",
      "\n",
      "e:\\ProgramsInstalled\\Anaconda\\lib\\site-packages\\wordcloud\\wordcloud.py:508: DeprecationWarning:\n",
      "\n",
      "textsize is deprecated and will be removed in Pillow 10 (2023-07-01). Use textbbox or textlength instead.\n",
      "\n",
      "e:\\ProgramsInstalled\\Anaconda\\lib\\site-packages\\wordcloud\\wordcloud.py:508: DeprecationWarning:\n",
      "\n",
      "textsize is deprecated and will be removed in Pillow 10 (2023-07-01). Use textbbox or textlength instead.\n",
      "\n",
      "e:\\ProgramsInstalled\\Anaconda\\lib\\site-packages\\wordcloud\\wordcloud.py:508: DeprecationWarning:\n",
      "\n",
      "textsize is deprecated and will be removed in Pillow 10 (2023-07-01). Use textbbox or textlength instead.\n",
      "\n",
      "e:\\ProgramsInstalled\\Anaconda\\lib\\site-packages\\wordcloud\\wordcloud.py:508: DeprecationWarning:\n",
      "\n",
      "textsize is deprecated and will be removed in Pillow 10 (2023-07-01). Use textbbox or textlength instead.\n",
      "\n",
      "e:\\ProgramsInstalled\\Anaconda\\lib\\site-packages\\wordcloud\\wordcloud.py:508: DeprecationWarning:\n",
      "\n",
      "textsize is deprecated and will be removed in Pillow 10 (2023-07-01). Use textbbox or textlength instead.\n",
      "\n",
      "e:\\ProgramsInstalled\\Anaconda\\lib\\site-packages\\wordcloud\\wordcloud.py:508: DeprecationWarning:\n",
      "\n",
      "textsize is deprecated and will be removed in Pillow 10 (2023-07-01). Use textbbox or textlength instead.\n",
      "\n",
      "e:\\ProgramsInstalled\\Anaconda\\lib\\site-packages\\wordcloud\\wordcloud.py:508: DeprecationWarning:\n",
      "\n",
      "textsize is deprecated and will be removed in Pillow 10 (2023-07-01). Use textbbox or textlength instead.\n",
      "\n",
      "e:\\ProgramsInstalled\\Anaconda\\lib\\site-packages\\wordcloud\\wordcloud.py:508: DeprecationWarning:\n",
      "\n",
      "textsize is deprecated and will be removed in Pillow 10 (2023-07-01). Use textbbox or textlength instead.\n",
      "\n",
      "e:\\ProgramsInstalled\\Anaconda\\lib\\site-packages\\wordcloud\\wordcloud.py:508: DeprecationWarning:\n",
      "\n",
      "textsize is deprecated and will be removed in Pillow 10 (2023-07-01). Use textbbox or textlength instead.\n",
      "\n",
      "e:\\ProgramsInstalled\\Anaconda\\lib\\site-packages\\wordcloud\\wordcloud.py:508: DeprecationWarning:\n",
      "\n",
      "textsize is deprecated and will be removed in Pillow 10 (2023-07-01). Use textbbox or textlength instead.\n",
      "\n",
      "e:\\ProgramsInstalled\\Anaconda\\lib\\site-packages\\wordcloud\\wordcloud.py:508: DeprecationWarning:\n",
      "\n",
      "textsize is deprecated and will be removed in Pillow 10 (2023-07-01). Use textbbox or textlength instead.\n",
      "\n",
      "e:\\ProgramsInstalled\\Anaconda\\lib\\site-packages\\wordcloud\\wordcloud.py:508: DeprecationWarning:\n",
      "\n",
      "textsize is deprecated and will be removed in Pillow 10 (2023-07-01). Use textbbox or textlength instead.\n",
      "\n",
      "e:\\ProgramsInstalled\\Anaconda\\lib\\site-packages\\wordcloud\\wordcloud.py:508: DeprecationWarning:\n",
      "\n",
      "textsize is deprecated and will be removed in Pillow 10 (2023-07-01). Use textbbox or textlength instead.\n",
      "\n",
      "e:\\ProgramsInstalled\\Anaconda\\lib\\site-packages\\wordcloud\\wordcloud.py:508: DeprecationWarning:\n",
      "\n",
      "textsize is deprecated and will be removed in Pillow 10 (2023-07-01). Use textbbox or textlength instead.\n",
      "\n",
      "e:\\ProgramsInstalled\\Anaconda\\lib\\site-packages\\wordcloud\\wordcloud.py:508: DeprecationWarning:\n",
      "\n",
      "textsize is deprecated and will be removed in Pillow 10 (2023-07-01). Use textbbox or textlength instead.\n",
      "\n",
      "e:\\ProgramsInstalled\\Anaconda\\lib\\site-packages\\wordcloud\\wordcloud.py:508: DeprecationWarning:\n",
      "\n",
      "textsize is deprecated and will be removed in Pillow 10 (2023-07-01). Use textbbox or textlength instead.\n",
      "\n",
      "e:\\ProgramsInstalled\\Anaconda\\lib\\site-packages\\wordcloud\\wordcloud.py:508: DeprecationWarning:\n",
      "\n",
      "textsize is deprecated and will be removed in Pillow 10 (2023-07-01). Use textbbox or textlength instead.\n",
      "\n",
      "e:\\ProgramsInstalled\\Anaconda\\lib\\site-packages\\wordcloud\\wordcloud.py:508: DeprecationWarning:\n",
      "\n",
      "textsize is deprecated and will be removed in Pillow 10 (2023-07-01). Use textbbox or textlength instead.\n",
      "\n",
      "e:\\ProgramsInstalled\\Anaconda\\lib\\site-packages\\wordcloud\\wordcloud.py:508: DeprecationWarning:\n",
      "\n",
      "textsize is deprecated and will be removed in Pillow 10 (2023-07-01). Use textbbox or textlength instead.\n",
      "\n",
      "e:\\ProgramsInstalled\\Anaconda\\lib\\site-packages\\wordcloud\\wordcloud.py:508: DeprecationWarning:\n",
      "\n",
      "textsize is deprecated and will be removed in Pillow 10 (2023-07-01). Use textbbox or textlength instead.\n",
      "\n",
      "e:\\ProgramsInstalled\\Anaconda\\lib\\site-packages\\wordcloud\\wordcloud.py:508: DeprecationWarning:\n",
      "\n",
      "textsize is deprecated and will be removed in Pillow 10 (2023-07-01). Use textbbox or textlength instead.\n",
      "\n",
      "e:\\ProgramsInstalled\\Anaconda\\lib\\site-packages\\wordcloud\\wordcloud.py:508: DeprecationWarning:\n",
      "\n",
      "textsize is deprecated and will be removed in Pillow 10 (2023-07-01). Use textbbox or textlength instead.\n",
      "\n",
      "e:\\ProgramsInstalled\\Anaconda\\lib\\site-packages\\wordcloud\\wordcloud.py:508: DeprecationWarning:\n",
      "\n",
      "textsize is deprecated and will be removed in Pillow 10 (2023-07-01). Use textbbox or textlength instead.\n",
      "\n",
      "e:\\ProgramsInstalled\\Anaconda\\lib\\site-packages\\wordcloud\\wordcloud.py:508: DeprecationWarning:\n",
      "\n",
      "textsize is deprecated and will be removed in Pillow 10 (2023-07-01). Use textbbox or textlength instead.\n",
      "\n",
      "e:\\ProgramsInstalled\\Anaconda\\lib\\site-packages\\wordcloud\\wordcloud.py:508: DeprecationWarning:\n",
      "\n",
      "textsize is deprecated and will be removed in Pillow 10 (2023-07-01). Use textbbox or textlength instead.\n",
      "\n",
      "e:\\ProgramsInstalled\\Anaconda\\lib\\site-packages\\wordcloud\\wordcloud.py:508: DeprecationWarning:\n",
      "\n",
      "textsize is deprecated and will be removed in Pillow 10 (2023-07-01). Use textbbox or textlength instead.\n",
      "\n",
      "e:\\ProgramsInstalled\\Anaconda\\lib\\site-packages\\wordcloud\\wordcloud.py:508: DeprecationWarning:\n",
      "\n",
      "textsize is deprecated and will be removed in Pillow 10 (2023-07-01). Use textbbox or textlength instead.\n",
      "\n",
      "e:\\ProgramsInstalled\\Anaconda\\lib\\site-packages\\wordcloud\\wordcloud.py:508: DeprecationWarning:\n",
      "\n",
      "textsize is deprecated and will be removed in Pillow 10 (2023-07-01). Use textbbox or textlength instead.\n",
      "\n",
      "e:\\ProgramsInstalled\\Anaconda\\lib\\site-packages\\wordcloud\\wordcloud.py:508: DeprecationWarning:\n",
      "\n",
      "textsize is deprecated and will be removed in Pillow 10 (2023-07-01). Use textbbox or textlength instead.\n",
      "\n",
      "e:\\ProgramsInstalled\\Anaconda\\lib\\site-packages\\wordcloud\\wordcloud.py:508: DeprecationWarning:\n",
      "\n",
      "textsize is deprecated and will be removed in Pillow 10 (2023-07-01). Use textbbox or textlength instead.\n",
      "\n",
      "e:\\ProgramsInstalled\\Anaconda\\lib\\site-packages\\wordcloud\\wordcloud.py:508: DeprecationWarning:\n",
      "\n",
      "textsize is deprecated and will be removed in Pillow 10 (2023-07-01). Use textbbox or textlength instead.\n",
      "\n",
      "e:\\ProgramsInstalled\\Anaconda\\lib\\site-packages\\wordcloud\\wordcloud.py:508: DeprecationWarning:\n",
      "\n",
      "textsize is deprecated and will be removed in Pillow 10 (2023-07-01). Use textbbox or textlength instead.\n",
      "\n",
      "e:\\ProgramsInstalled\\Anaconda\\lib\\site-packages\\wordcloud\\wordcloud.py:508: DeprecationWarning:\n",
      "\n",
      "textsize is deprecated and will be removed in Pillow 10 (2023-07-01). Use textbbox or textlength instead.\n",
      "\n",
      "e:\\ProgramsInstalled\\Anaconda\\lib\\site-packages\\wordcloud\\wordcloud.py:508: DeprecationWarning:\n",
      "\n",
      "textsize is deprecated and will be removed in Pillow 10 (2023-07-01). Use textbbox or textlength instead.\n",
      "\n",
      "e:\\ProgramsInstalled\\Anaconda\\lib\\site-packages\\wordcloud\\wordcloud.py:508: DeprecationWarning:\n",
      "\n",
      "textsize is deprecated and will be removed in Pillow 10 (2023-07-01). Use textbbox or textlength instead.\n",
      "\n",
      "e:\\ProgramsInstalled\\Anaconda\\lib\\site-packages\\wordcloud\\wordcloud.py:508: DeprecationWarning:\n",
      "\n",
      "textsize is deprecated and will be removed in Pillow 10 (2023-07-01). Use textbbox or textlength instead.\n",
      "\n",
      "e:\\ProgramsInstalled\\Anaconda\\lib\\site-packages\\wordcloud\\wordcloud.py:508: DeprecationWarning:\n",
      "\n",
      "textsize is deprecated and will be removed in Pillow 10 (2023-07-01). Use textbbox or textlength instead.\n",
      "\n",
      "e:\\ProgramsInstalled\\Anaconda\\lib\\site-packages\\wordcloud\\wordcloud.py:508: DeprecationWarning:\n",
      "\n",
      "textsize is deprecated and will be removed in Pillow 10 (2023-07-01). Use textbbox or textlength instead.\n",
      "\n",
      "e:\\ProgramsInstalled\\Anaconda\\lib\\site-packages\\wordcloud\\wordcloud.py:508: DeprecationWarning:\n",
      "\n",
      "textsize is deprecated and will be removed in Pillow 10 (2023-07-01). Use textbbox or textlength instead.\n",
      "\n",
      "e:\\ProgramsInstalled\\Anaconda\\lib\\site-packages\\wordcloud\\wordcloud.py:508: DeprecationWarning:\n",
      "\n",
      "textsize is deprecated and will be removed in Pillow 10 (2023-07-01). Use textbbox or textlength instead.\n",
      "\n",
      "e:\\ProgramsInstalled\\Anaconda\\lib\\site-packages\\wordcloud\\wordcloud.py:508: DeprecationWarning:\n",
      "\n",
      "textsize is deprecated and will be removed in Pillow 10 (2023-07-01). Use textbbox or textlength instead.\n",
      "\n",
      "e:\\ProgramsInstalled\\Anaconda\\lib\\site-packages\\wordcloud\\wordcloud.py:508: DeprecationWarning:\n",
      "\n",
      "textsize is deprecated and will be removed in Pillow 10 (2023-07-01). Use textbbox or textlength instead.\n",
      "\n",
      "e:\\ProgramsInstalled\\Anaconda\\lib\\site-packages\\wordcloud\\wordcloud.py:508: DeprecationWarning:\n",
      "\n",
      "textsize is deprecated and will be removed in Pillow 10 (2023-07-01). Use textbbox or textlength instead.\n",
      "\n",
      "e:\\ProgramsInstalled\\Anaconda\\lib\\site-packages\\wordcloud\\wordcloud.py:508: DeprecationWarning:\n",
      "\n",
      "textsize is deprecated and will be removed in Pillow 10 (2023-07-01). Use textbbox or textlength instead.\n",
      "\n",
      "e:\\ProgramsInstalled\\Anaconda\\lib\\site-packages\\wordcloud\\wordcloud.py:508: DeprecationWarning:\n",
      "\n",
      "textsize is deprecated and will be removed in Pillow 10 (2023-07-01). Use textbbox or textlength instead.\n",
      "\n",
      "e:\\ProgramsInstalled\\Anaconda\\lib\\site-packages\\wordcloud\\wordcloud.py:508: DeprecationWarning:\n",
      "\n",
      "textsize is deprecated and will be removed in Pillow 10 (2023-07-01). Use textbbox or textlength instead.\n",
      "\n",
      "e:\\ProgramsInstalled\\Anaconda\\lib\\site-packages\\wordcloud\\wordcloud.py:508: DeprecationWarning:\n",
      "\n",
      "textsize is deprecated and will be removed in Pillow 10 (2023-07-01). Use textbbox or textlength instead.\n",
      "\n",
      "e:\\ProgramsInstalled\\Anaconda\\lib\\site-packages\\wordcloud\\wordcloud.py:508: DeprecationWarning:\n",
      "\n",
      "textsize is deprecated and will be removed in Pillow 10 (2023-07-01). Use textbbox or textlength instead.\n",
      "\n",
      "e:\\ProgramsInstalled\\Anaconda\\lib\\site-packages\\wordcloud\\wordcloud.py:508: DeprecationWarning:\n",
      "\n",
      "textsize is deprecated and will be removed in Pillow 10 (2023-07-01). Use textbbox or textlength instead.\n",
      "\n",
      "e:\\ProgramsInstalled\\Anaconda\\lib\\site-packages\\wordcloud\\wordcloud.py:508: DeprecationWarning:\n",
      "\n",
      "textsize is deprecated and will be removed in Pillow 10 (2023-07-01). Use textbbox or textlength instead.\n",
      "\n",
      "e:\\ProgramsInstalled\\Anaconda\\lib\\site-packages\\wordcloud\\wordcloud.py:508: DeprecationWarning:\n",
      "\n",
      "textsize is deprecated and will be removed in Pillow 10 (2023-07-01). Use textbbox or textlength instead.\n",
      "\n",
      "e:\\ProgramsInstalled\\Anaconda\\lib\\site-packages\\wordcloud\\wordcloud.py:508: DeprecationWarning:\n",
      "\n",
      "textsize is deprecated and will be removed in Pillow 10 (2023-07-01). Use textbbox or textlength instead.\n",
      "\n",
      "e:\\ProgramsInstalled\\Anaconda\\lib\\site-packages\\wordcloud\\wordcloud.py:508: DeprecationWarning:\n",
      "\n",
      "textsize is deprecated and will be removed in Pillow 10 (2023-07-01). Use textbbox or textlength instead.\n",
      "\n",
      "e:\\ProgramsInstalled\\Anaconda\\lib\\site-packages\\wordcloud\\wordcloud.py:508: DeprecationWarning:\n",
      "\n",
      "textsize is deprecated and will be removed in Pillow 10 (2023-07-01). Use textbbox or textlength instead.\n",
      "\n",
      "e:\\ProgramsInstalled\\Anaconda\\lib\\site-packages\\wordcloud\\wordcloud.py:508: DeprecationWarning:\n",
      "\n",
      "textsize is deprecated and will be removed in Pillow 10 (2023-07-01). Use textbbox or textlength instead.\n",
      "\n",
      "e:\\ProgramsInstalled\\Anaconda\\lib\\site-packages\\wordcloud\\wordcloud.py:508: DeprecationWarning:\n",
      "\n",
      "textsize is deprecated and will be removed in Pillow 10 (2023-07-01). Use textbbox or textlength instead.\n",
      "\n",
      "e:\\ProgramsInstalled\\Anaconda\\lib\\site-packages\\wordcloud\\wordcloud.py:508: DeprecationWarning:\n",
      "\n",
      "textsize is deprecated and will be removed in Pillow 10 (2023-07-01). Use textbbox or textlength instead.\n",
      "\n",
      "e:\\ProgramsInstalled\\Anaconda\\lib\\site-packages\\wordcloud\\wordcloud.py:508: DeprecationWarning:\n",
      "\n",
      "textsize is deprecated and will be removed in Pillow 10 (2023-07-01). Use textbbox or textlength instead.\n",
      "\n",
      "e:\\ProgramsInstalled\\Anaconda\\lib\\site-packages\\wordcloud\\wordcloud.py:508: DeprecationWarning:\n",
      "\n",
      "textsize is deprecated and will be removed in Pillow 10 (2023-07-01). Use textbbox or textlength instead.\n",
      "\n",
      "e:\\ProgramsInstalled\\Anaconda\\lib\\site-packages\\wordcloud\\wordcloud.py:508: DeprecationWarning:\n",
      "\n",
      "textsize is deprecated and will be removed in Pillow 10 (2023-07-01). Use textbbox or textlength instead.\n",
      "\n",
      "e:\\ProgramsInstalled\\Anaconda\\lib\\site-packages\\wordcloud\\wordcloud.py:508: DeprecationWarning:\n",
      "\n",
      "textsize is deprecated and will be removed in Pillow 10 (2023-07-01). Use textbbox or textlength instead.\n",
      "\n",
      "e:\\ProgramsInstalled\\Anaconda\\lib\\site-packages\\wordcloud\\wordcloud.py:508: DeprecationWarning:\n",
      "\n",
      "textsize is deprecated and will be removed in Pillow 10 (2023-07-01). Use textbbox or textlength instead.\n",
      "\n",
      "e:\\ProgramsInstalled\\Anaconda\\lib\\site-packages\\wordcloud\\wordcloud.py:508: DeprecationWarning:\n",
      "\n",
      "textsize is deprecated and will be removed in Pillow 10 (2023-07-01). Use textbbox or textlength instead.\n",
      "\n",
      "e:\\ProgramsInstalled\\Anaconda\\lib\\site-packages\\wordcloud\\wordcloud.py:508: DeprecationWarning:\n",
      "\n",
      "textsize is deprecated and will be removed in Pillow 10 (2023-07-01). Use textbbox or textlength instead.\n",
      "\n",
      "e:\\ProgramsInstalled\\Anaconda\\lib\\site-packages\\wordcloud\\wordcloud.py:508: DeprecationWarning:\n",
      "\n",
      "textsize is deprecated and will be removed in Pillow 10 (2023-07-01). Use textbbox or textlength instead.\n",
      "\n",
      "e:\\ProgramsInstalled\\Anaconda\\lib\\site-packages\\wordcloud\\wordcloud.py:508: DeprecationWarning:\n",
      "\n",
      "textsize is deprecated and will be removed in Pillow 10 (2023-07-01). Use textbbox or textlength instead.\n",
      "\n",
      "e:\\ProgramsInstalled\\Anaconda\\lib\\site-packages\\wordcloud\\wordcloud.py:508: DeprecationWarning:\n",
      "\n",
      "textsize is deprecated and will be removed in Pillow 10 (2023-07-01). Use textbbox or textlength instead.\n",
      "\n",
      "e:\\ProgramsInstalled\\Anaconda\\lib\\site-packages\\wordcloud\\wordcloud.py:508: DeprecationWarning:\n",
      "\n",
      "textsize is deprecated and will be removed in Pillow 10 (2023-07-01). Use textbbox or textlength instead.\n",
      "\n",
      "e:\\ProgramsInstalled\\Anaconda\\lib\\site-packages\\wordcloud\\wordcloud.py:508: DeprecationWarning:\n",
      "\n",
      "textsize is deprecated and will be removed in Pillow 10 (2023-07-01). Use textbbox or textlength instead.\n",
      "\n",
      "e:\\ProgramsInstalled\\Anaconda\\lib\\site-packages\\wordcloud\\wordcloud.py:508: DeprecationWarning:\n",
      "\n",
      "textsize is deprecated and will be removed in Pillow 10 (2023-07-01). Use textbbox or textlength instead.\n",
      "\n",
      "e:\\ProgramsInstalled\\Anaconda\\lib\\site-packages\\wordcloud\\wordcloud.py:508: DeprecationWarning:\n",
      "\n",
      "textsize is deprecated and will be removed in Pillow 10 (2023-07-01). Use textbbox or textlength instead.\n",
      "\n",
      "e:\\ProgramsInstalled\\Anaconda\\lib\\site-packages\\wordcloud\\wordcloud.py:508: DeprecationWarning:\n",
      "\n",
      "textsize is deprecated and will be removed in Pillow 10 (2023-07-01). Use textbbox or textlength instead.\n",
      "\n",
      "e:\\ProgramsInstalled\\Anaconda\\lib\\site-packages\\wordcloud\\wordcloud.py:508: DeprecationWarning:\n",
      "\n",
      "textsize is deprecated and will be removed in Pillow 10 (2023-07-01). Use textbbox or textlength instead.\n",
      "\n",
      "e:\\ProgramsInstalled\\Anaconda\\lib\\site-packages\\wordcloud\\wordcloud.py:508: DeprecationWarning:\n",
      "\n",
      "textsize is deprecated and will be removed in Pillow 10 (2023-07-01). Use textbbox or textlength instead.\n",
      "\n",
      "e:\\ProgramsInstalled\\Anaconda\\lib\\site-packages\\wordcloud\\wordcloud.py:508: DeprecationWarning:\n",
      "\n",
      "textsize is deprecated and will be removed in Pillow 10 (2023-07-01). Use textbbox or textlength instead.\n",
      "\n",
      "e:\\ProgramsInstalled\\Anaconda\\lib\\site-packages\\wordcloud\\wordcloud.py:508: DeprecationWarning:\n",
      "\n",
      "textsize is deprecated and will be removed in Pillow 10 (2023-07-01). Use textbbox or textlength instead.\n",
      "\n",
      "e:\\ProgramsInstalled\\Anaconda\\lib\\site-packages\\wordcloud\\wordcloud.py:508: DeprecationWarning:\n",
      "\n",
      "textsize is deprecated and will be removed in Pillow 10 (2023-07-01). Use textbbox or textlength instead.\n",
      "\n",
      "e:\\ProgramsInstalled\\Anaconda\\lib\\site-packages\\wordcloud\\wordcloud.py:508: DeprecationWarning:\n",
      "\n",
      "textsize is deprecated and will be removed in Pillow 10 (2023-07-01). Use textbbox or textlength instead.\n",
      "\n",
      "e:\\ProgramsInstalled\\Anaconda\\lib\\site-packages\\wordcloud\\wordcloud.py:508: DeprecationWarning:\n",
      "\n",
      "textsize is deprecated and will be removed in Pillow 10 (2023-07-01). Use textbbox or textlength instead.\n",
      "\n",
      "e:\\ProgramsInstalled\\Anaconda\\lib\\site-packages\\wordcloud\\wordcloud.py:508: DeprecationWarning:\n",
      "\n",
      "textsize is deprecated and will be removed in Pillow 10 (2023-07-01). Use textbbox or textlength instead.\n",
      "\n",
      "e:\\ProgramsInstalled\\Anaconda\\lib\\site-packages\\wordcloud\\wordcloud.py:508: DeprecationWarning:\n",
      "\n",
      "textsize is deprecated and will be removed in Pillow 10 (2023-07-01). Use textbbox or textlength instead.\n",
      "\n",
      "e:\\ProgramsInstalled\\Anaconda\\lib\\site-packages\\wordcloud\\wordcloud.py:508: DeprecationWarning:\n",
      "\n",
      "textsize is deprecated and will be removed in Pillow 10 (2023-07-01). Use textbbox or textlength instead.\n",
      "\n",
      "e:\\ProgramsInstalled\\Anaconda\\lib\\site-packages\\wordcloud\\wordcloud.py:508: DeprecationWarning:\n",
      "\n",
      "textsize is deprecated and will be removed in Pillow 10 (2023-07-01). Use textbbox or textlength instead.\n",
      "\n",
      "e:\\ProgramsInstalled\\Anaconda\\lib\\site-packages\\wordcloud\\wordcloud.py:508: DeprecationWarning:\n",
      "\n",
      "textsize is deprecated and will be removed in Pillow 10 (2023-07-01). Use textbbox or textlength instead.\n",
      "\n",
      "e:\\ProgramsInstalled\\Anaconda\\lib\\site-packages\\wordcloud\\wordcloud.py:508: DeprecationWarning:\n",
      "\n",
      "textsize is deprecated and will be removed in Pillow 10 (2023-07-01). Use textbbox or textlength instead.\n",
      "\n",
      "e:\\ProgramsInstalled\\Anaconda\\lib\\site-packages\\wordcloud\\wordcloud.py:508: DeprecationWarning:\n",
      "\n",
      "textsize is deprecated and will be removed in Pillow 10 (2023-07-01). Use textbbox or textlength instead.\n",
      "\n",
      "e:\\ProgramsInstalled\\Anaconda\\lib\\site-packages\\wordcloud\\wordcloud.py:508: DeprecationWarning:\n",
      "\n",
      "textsize is deprecated and will be removed in Pillow 10 (2023-07-01). Use textbbox or textlength instead.\n",
      "\n",
      "e:\\ProgramsInstalled\\Anaconda\\lib\\site-packages\\wordcloud\\wordcloud.py:508: DeprecationWarning:\n",
      "\n",
      "textsize is deprecated and will be removed in Pillow 10 (2023-07-01). Use textbbox or textlength instead.\n",
      "\n",
      "e:\\ProgramsInstalled\\Anaconda\\lib\\site-packages\\wordcloud\\wordcloud.py:508: DeprecationWarning:\n",
      "\n",
      "textsize is deprecated and will be removed in Pillow 10 (2023-07-01). Use textbbox or textlength instead.\n",
      "\n",
      "e:\\ProgramsInstalled\\Anaconda\\lib\\site-packages\\wordcloud\\wordcloud.py:508: DeprecationWarning:\n",
      "\n",
      "textsize is deprecated and will be removed in Pillow 10 (2023-07-01). Use textbbox or textlength instead.\n",
      "\n",
      "e:\\ProgramsInstalled\\Anaconda\\lib\\site-packages\\wordcloud\\wordcloud.py:508: DeprecationWarning:\n",
      "\n",
      "textsize is deprecated and will be removed in Pillow 10 (2023-07-01). Use textbbox or textlength instead.\n",
      "\n",
      "e:\\ProgramsInstalled\\Anaconda\\lib\\site-packages\\wordcloud\\wordcloud.py:508: DeprecationWarning:\n",
      "\n",
      "textsize is deprecated and will be removed in Pillow 10 (2023-07-01). Use textbbox or textlength instead.\n",
      "\n",
      "e:\\ProgramsInstalled\\Anaconda\\lib\\site-packages\\wordcloud\\wordcloud.py:508: DeprecationWarning:\n",
      "\n",
      "textsize is deprecated and will be removed in Pillow 10 (2023-07-01). Use textbbox or textlength instead.\n",
      "\n",
      "e:\\ProgramsInstalled\\Anaconda\\lib\\site-packages\\wordcloud\\wordcloud.py:508: DeprecationWarning:\n",
      "\n",
      "textsize is deprecated and will be removed in Pillow 10 (2023-07-01). Use textbbox or textlength instead.\n",
      "\n",
      "e:\\ProgramsInstalled\\Anaconda\\lib\\site-packages\\wordcloud\\wordcloud.py:508: DeprecationWarning:\n",
      "\n",
      "textsize is deprecated and will be removed in Pillow 10 (2023-07-01). Use textbbox or textlength instead.\n",
      "\n",
      "e:\\ProgramsInstalled\\Anaconda\\lib\\site-packages\\wordcloud\\wordcloud.py:508: DeprecationWarning:\n",
      "\n",
      "textsize is deprecated and will be removed in Pillow 10 (2023-07-01). Use textbbox or textlength instead.\n",
      "\n",
      "e:\\ProgramsInstalled\\Anaconda\\lib\\site-packages\\wordcloud\\wordcloud.py:508: DeprecationWarning:\n",
      "\n",
      "textsize is deprecated and will be removed in Pillow 10 (2023-07-01). Use textbbox or textlength instead.\n",
      "\n",
      "e:\\ProgramsInstalled\\Anaconda\\lib\\site-packages\\wordcloud\\wordcloud.py:508: DeprecationWarning:\n",
      "\n",
      "textsize is deprecated and will be removed in Pillow 10 (2023-07-01). Use textbbox or textlength instead.\n",
      "\n",
      "e:\\ProgramsInstalled\\Anaconda\\lib\\site-packages\\wordcloud\\wordcloud.py:508: DeprecationWarning:\n",
      "\n",
      "textsize is deprecated and will be removed in Pillow 10 (2023-07-01). Use textbbox or textlength instead.\n",
      "\n",
      "e:\\ProgramsInstalled\\Anaconda\\lib\\site-packages\\wordcloud\\wordcloud.py:508: DeprecationWarning:\n",
      "\n",
      "textsize is deprecated and will be removed in Pillow 10 (2023-07-01). Use textbbox or textlength instead.\n",
      "\n",
      "e:\\ProgramsInstalled\\Anaconda\\lib\\site-packages\\wordcloud\\wordcloud.py:508: DeprecationWarning:\n",
      "\n",
      "textsize is deprecated and will be removed in Pillow 10 (2023-07-01). Use textbbox or textlength instead.\n",
      "\n",
      "e:\\ProgramsInstalled\\Anaconda\\lib\\site-packages\\wordcloud\\wordcloud.py:508: DeprecationWarning:\n",
      "\n",
      "textsize is deprecated and will be removed in Pillow 10 (2023-07-01). Use textbbox or textlength instead.\n",
      "\n",
      "e:\\ProgramsInstalled\\Anaconda\\lib\\site-packages\\wordcloud\\wordcloud.py:508: DeprecationWarning:\n",
      "\n",
      "textsize is deprecated and will be removed in Pillow 10 (2023-07-01). Use textbbox or textlength instead.\n",
      "\n",
      "e:\\ProgramsInstalled\\Anaconda\\lib\\site-packages\\wordcloud\\wordcloud.py:508: DeprecationWarning:\n",
      "\n",
      "textsize is deprecated and will be removed in Pillow 10 (2023-07-01). Use textbbox or textlength instead.\n",
      "\n",
      "e:\\ProgramsInstalled\\Anaconda\\lib\\site-packages\\wordcloud\\wordcloud.py:508: DeprecationWarning:\n",
      "\n",
      "textsize is deprecated and will be removed in Pillow 10 (2023-07-01). Use textbbox or textlength instead.\n",
      "\n",
      "e:\\ProgramsInstalled\\Anaconda\\lib\\site-packages\\wordcloud\\wordcloud.py:508: DeprecationWarning:\n",
      "\n",
      "textsize is deprecated and will be removed in Pillow 10 (2023-07-01). Use textbbox or textlength instead.\n",
      "\n",
      "e:\\ProgramsInstalled\\Anaconda\\lib\\site-packages\\wordcloud\\wordcloud.py:508: DeprecationWarning:\n",
      "\n",
      "textsize is deprecated and will be removed in Pillow 10 (2023-07-01). Use textbbox or textlength instead.\n",
      "\n",
      "e:\\ProgramsInstalled\\Anaconda\\lib\\site-packages\\wordcloud\\wordcloud.py:508: DeprecationWarning:\n",
      "\n",
      "textsize is deprecated and will be removed in Pillow 10 (2023-07-01). Use textbbox or textlength instead.\n",
      "\n",
      "e:\\ProgramsInstalled\\Anaconda\\lib\\site-packages\\wordcloud\\wordcloud.py:508: DeprecationWarning:\n",
      "\n",
      "textsize is deprecated and will be removed in Pillow 10 (2023-07-01). Use textbbox or textlength instead.\n",
      "\n",
      "e:\\ProgramsInstalled\\Anaconda\\lib\\site-packages\\wordcloud\\wordcloud.py:508: DeprecationWarning:\n",
      "\n",
      "textsize is deprecated and will be removed in Pillow 10 (2023-07-01). Use textbbox or textlength instead.\n",
      "\n",
      "e:\\ProgramsInstalled\\Anaconda\\lib\\site-packages\\wordcloud\\wordcloud.py:508: DeprecationWarning:\n",
      "\n",
      "textsize is deprecated and will be removed in Pillow 10 (2023-07-01). Use textbbox or textlength instead.\n",
      "\n",
      "e:\\ProgramsInstalled\\Anaconda\\lib\\site-packages\\wordcloud\\wordcloud.py:508: DeprecationWarning:\n",
      "\n",
      "textsize is deprecated and will be removed in Pillow 10 (2023-07-01). Use textbbox or textlength instead.\n",
      "\n",
      "e:\\ProgramsInstalled\\Anaconda\\lib\\site-packages\\wordcloud\\wordcloud.py:508: DeprecationWarning:\n",
      "\n",
      "textsize is deprecated and will be removed in Pillow 10 (2023-07-01). Use textbbox or textlength instead.\n",
      "\n",
      "e:\\ProgramsInstalled\\Anaconda\\lib\\site-packages\\wordcloud\\wordcloud.py:508: DeprecationWarning:\n",
      "\n",
      "textsize is deprecated and will be removed in Pillow 10 (2023-07-01). Use textbbox or textlength instead.\n",
      "\n",
      "e:\\ProgramsInstalled\\Anaconda\\lib\\site-packages\\wordcloud\\wordcloud.py:508: DeprecationWarning:\n",
      "\n",
      "textsize is deprecated and will be removed in Pillow 10 (2023-07-01). Use textbbox or textlength instead.\n",
      "\n",
      "e:\\ProgramsInstalled\\Anaconda\\lib\\site-packages\\wordcloud\\wordcloud.py:508: DeprecationWarning:\n",
      "\n",
      "textsize is deprecated and will be removed in Pillow 10 (2023-07-01). Use textbbox or textlength instead.\n",
      "\n",
      "e:\\ProgramsInstalled\\Anaconda\\lib\\site-packages\\wordcloud\\wordcloud.py:508: DeprecationWarning:\n",
      "\n",
      "textsize is deprecated and will be removed in Pillow 10 (2023-07-01). Use textbbox or textlength instead.\n",
      "\n",
      "e:\\ProgramsInstalled\\Anaconda\\lib\\site-packages\\wordcloud\\wordcloud.py:508: DeprecationWarning:\n",
      "\n",
      "textsize is deprecated and will be removed in Pillow 10 (2023-07-01). Use textbbox or textlength instead.\n",
      "\n",
      "e:\\ProgramsInstalled\\Anaconda\\lib\\site-packages\\wordcloud\\wordcloud.py:508: DeprecationWarning:\n",
      "\n",
      "textsize is deprecated and will be removed in Pillow 10 (2023-07-01). Use textbbox or textlength instead.\n",
      "\n",
      "e:\\ProgramsInstalled\\Anaconda\\lib\\site-packages\\wordcloud\\wordcloud.py:508: DeprecationWarning:\n",
      "\n",
      "textsize is deprecated and will be removed in Pillow 10 (2023-07-01). Use textbbox or textlength instead.\n",
      "\n",
      "e:\\ProgramsInstalled\\Anaconda\\lib\\site-packages\\wordcloud\\wordcloud.py:508: DeprecationWarning:\n",
      "\n",
      "textsize is deprecated and will be removed in Pillow 10 (2023-07-01). Use textbbox or textlength instead.\n",
      "\n",
      "e:\\ProgramsInstalled\\Anaconda\\lib\\site-packages\\wordcloud\\wordcloud.py:508: DeprecationWarning:\n",
      "\n",
      "textsize is deprecated and will be removed in Pillow 10 (2023-07-01). Use textbbox or textlength instead.\n",
      "\n",
      "e:\\ProgramsInstalled\\Anaconda\\lib\\site-packages\\wordcloud\\wordcloud.py:508: DeprecationWarning:\n",
      "\n",
      "textsize is deprecated and will be removed in Pillow 10 (2023-07-01). Use textbbox or textlength instead.\n",
      "\n",
      "e:\\ProgramsInstalled\\Anaconda\\lib\\site-packages\\wordcloud\\wordcloud.py:508: DeprecationWarning:\n",
      "\n",
      "textsize is deprecated and will be removed in Pillow 10 (2023-07-01). Use textbbox or textlength instead.\n",
      "\n",
      "e:\\ProgramsInstalled\\Anaconda\\lib\\site-packages\\wordcloud\\wordcloud.py:508: DeprecationWarning:\n",
      "\n",
      "textsize is deprecated and will be removed in Pillow 10 (2023-07-01). Use textbbox or textlength instead.\n",
      "\n",
      "e:\\ProgramsInstalled\\Anaconda\\lib\\site-packages\\wordcloud\\wordcloud.py:508: DeprecationWarning:\n",
      "\n",
      "textsize is deprecated and will be removed in Pillow 10 (2023-07-01). Use textbbox or textlength instead.\n",
      "\n",
      "e:\\ProgramsInstalled\\Anaconda\\lib\\site-packages\\wordcloud\\wordcloud.py:508: DeprecationWarning:\n",
      "\n",
      "textsize is deprecated and will be removed in Pillow 10 (2023-07-01). Use textbbox or textlength instead.\n",
      "\n",
      "e:\\ProgramsInstalled\\Anaconda\\lib\\site-packages\\wordcloud\\wordcloud.py:508: DeprecationWarning:\n",
      "\n",
      "textsize is deprecated and will be removed in Pillow 10 (2023-07-01). Use textbbox or textlength instead.\n",
      "\n",
      "e:\\ProgramsInstalled\\Anaconda\\lib\\site-packages\\wordcloud\\wordcloud.py:508: DeprecationWarning:\n",
      "\n",
      "textsize is deprecated and will be removed in Pillow 10 (2023-07-01). Use textbbox or textlength instead.\n",
      "\n",
      "e:\\ProgramsInstalled\\Anaconda\\lib\\site-packages\\wordcloud\\wordcloud.py:508: DeprecationWarning:\n",
      "\n",
      "textsize is deprecated and will be removed in Pillow 10 (2023-07-01). Use textbbox or textlength instead.\n",
      "\n",
      "e:\\ProgramsInstalled\\Anaconda\\lib\\site-packages\\wordcloud\\wordcloud.py:508: DeprecationWarning:\n",
      "\n",
      "textsize is deprecated and will be removed in Pillow 10 (2023-07-01). Use textbbox or textlength instead.\n",
      "\n",
      "e:\\ProgramsInstalled\\Anaconda\\lib\\site-packages\\wordcloud\\wordcloud.py:508: DeprecationWarning:\n",
      "\n",
      "textsize is deprecated and will be removed in Pillow 10 (2023-07-01). Use textbbox or textlength instead.\n",
      "\n",
      "e:\\ProgramsInstalled\\Anaconda\\lib\\site-packages\\wordcloud\\wordcloud.py:508: DeprecationWarning:\n",
      "\n",
      "textsize is deprecated and will be removed in Pillow 10 (2023-07-01). Use textbbox or textlength instead.\n",
      "\n",
      "e:\\ProgramsInstalled\\Anaconda\\lib\\site-packages\\wordcloud\\wordcloud.py:508: DeprecationWarning:\n",
      "\n",
      "textsize is deprecated and will be removed in Pillow 10 (2023-07-01). Use textbbox or textlength instead.\n",
      "\n",
      "e:\\ProgramsInstalled\\Anaconda\\lib\\site-packages\\wordcloud\\wordcloud.py:508: DeprecationWarning:\n",
      "\n",
      "textsize is deprecated and will be removed in Pillow 10 (2023-07-01). Use textbbox or textlength instead.\n",
      "\n",
      "e:\\ProgramsInstalled\\Anaconda\\lib\\site-packages\\wordcloud\\wordcloud.py:508: DeprecationWarning:\n",
      "\n",
      "textsize is deprecated and will be removed in Pillow 10 (2023-07-01). Use textbbox or textlength instead.\n",
      "\n",
      "e:\\ProgramsInstalled\\Anaconda\\lib\\site-packages\\wordcloud\\wordcloud.py:508: DeprecationWarning:\n",
      "\n",
      "textsize is deprecated and will be removed in Pillow 10 (2023-07-01). Use textbbox or textlength instead.\n",
      "\n",
      "e:\\ProgramsInstalled\\Anaconda\\lib\\site-packages\\wordcloud\\wordcloud.py:508: DeprecationWarning:\n",
      "\n",
      "textsize is deprecated and will be removed in Pillow 10 (2023-07-01). Use textbbox or textlength instead.\n",
      "\n",
      "e:\\ProgramsInstalled\\Anaconda\\lib\\site-packages\\wordcloud\\wordcloud.py:508: DeprecationWarning:\n",
      "\n",
      "textsize is deprecated and will be removed in Pillow 10 (2023-07-01). Use textbbox or textlength instead.\n",
      "\n",
      "e:\\ProgramsInstalled\\Anaconda\\lib\\site-packages\\wordcloud\\wordcloud.py:508: DeprecationWarning:\n",
      "\n",
      "textsize is deprecated and will be removed in Pillow 10 (2023-07-01). Use textbbox or textlength instead.\n",
      "\n",
      "e:\\ProgramsInstalled\\Anaconda\\lib\\site-packages\\wordcloud\\wordcloud.py:508: DeprecationWarning:\n",
      "\n",
      "textsize is deprecated and will be removed in Pillow 10 (2023-07-01). Use textbbox or textlength instead.\n",
      "\n",
      "e:\\ProgramsInstalled\\Anaconda\\lib\\site-packages\\wordcloud\\wordcloud.py:508: DeprecationWarning:\n",
      "\n",
      "textsize is deprecated and will be removed in Pillow 10 (2023-07-01). Use textbbox or textlength instead.\n",
      "\n",
      "e:\\ProgramsInstalled\\Anaconda\\lib\\site-packages\\wordcloud\\wordcloud.py:508: DeprecationWarning:\n",
      "\n",
      "textsize is deprecated and will be removed in Pillow 10 (2023-07-01). Use textbbox or textlength instead.\n",
      "\n",
      "e:\\ProgramsInstalled\\Anaconda\\lib\\site-packages\\wordcloud\\wordcloud.py:508: DeprecationWarning:\n",
      "\n",
      "textsize is deprecated and will be removed in Pillow 10 (2023-07-01). Use textbbox or textlength instead.\n",
      "\n",
      "e:\\ProgramsInstalled\\Anaconda\\lib\\site-packages\\wordcloud\\wordcloud.py:508: DeprecationWarning:\n",
      "\n",
      "textsize is deprecated and will be removed in Pillow 10 (2023-07-01). Use textbbox or textlength instead.\n",
      "\n",
      "e:\\ProgramsInstalled\\Anaconda\\lib\\site-packages\\wordcloud\\wordcloud.py:508: DeprecationWarning:\n",
      "\n",
      "textsize is deprecated and will be removed in Pillow 10 (2023-07-01). Use textbbox or textlength instead.\n",
      "\n",
      "e:\\ProgramsInstalled\\Anaconda\\lib\\site-packages\\wordcloud\\wordcloud.py:508: DeprecationWarning:\n",
      "\n",
      "textsize is deprecated and will be removed in Pillow 10 (2023-07-01). Use textbbox or textlength instead.\n",
      "\n",
      "e:\\ProgramsInstalled\\Anaconda\\lib\\site-packages\\wordcloud\\wordcloud.py:508: DeprecationWarning:\n",
      "\n",
      "textsize is deprecated and will be removed in Pillow 10 (2023-07-01). Use textbbox or textlength instead.\n",
      "\n",
      "e:\\ProgramsInstalled\\Anaconda\\lib\\site-packages\\wordcloud\\wordcloud.py:508: DeprecationWarning:\n",
      "\n",
      "textsize is deprecated and will be removed in Pillow 10 (2023-07-01). Use textbbox or textlength instead.\n",
      "\n",
      "e:\\ProgramsInstalled\\Anaconda\\lib\\site-packages\\wordcloud\\wordcloud.py:508: DeprecationWarning:\n",
      "\n",
      "textsize is deprecated and will be removed in Pillow 10 (2023-07-01). Use textbbox or textlength instead.\n",
      "\n",
      "e:\\ProgramsInstalled\\Anaconda\\lib\\site-packages\\wordcloud\\wordcloud.py:508: DeprecationWarning:\n",
      "\n",
      "textsize is deprecated and will be removed in Pillow 10 (2023-07-01). Use textbbox or textlength instead.\n",
      "\n",
      "e:\\ProgramsInstalled\\Anaconda\\lib\\site-packages\\wordcloud\\wordcloud.py:508: DeprecationWarning:\n",
      "\n",
      "textsize is deprecated and will be removed in Pillow 10 (2023-07-01). Use textbbox or textlength instead.\n",
      "\n",
      "e:\\ProgramsInstalled\\Anaconda\\lib\\site-packages\\wordcloud\\wordcloud.py:508: DeprecationWarning:\n",
      "\n",
      "textsize is deprecated and will be removed in Pillow 10 (2023-07-01). Use textbbox or textlength instead.\n",
      "\n",
      "e:\\ProgramsInstalled\\Anaconda\\lib\\site-packages\\wordcloud\\wordcloud.py:508: DeprecationWarning:\n",
      "\n",
      "textsize is deprecated and will be removed in Pillow 10 (2023-07-01). Use textbbox or textlength instead.\n",
      "\n",
      "e:\\ProgramsInstalled\\Anaconda\\lib\\site-packages\\wordcloud\\wordcloud.py:508: DeprecationWarning:\n",
      "\n",
      "textsize is deprecated and will be removed in Pillow 10 (2023-07-01). Use textbbox or textlength instead.\n",
      "\n",
      "e:\\ProgramsInstalled\\Anaconda\\lib\\site-packages\\wordcloud\\wordcloud.py:508: DeprecationWarning:\n",
      "\n",
      "textsize is deprecated and will be removed in Pillow 10 (2023-07-01). Use textbbox or textlength instead.\n",
      "\n",
      "e:\\ProgramsInstalled\\Anaconda\\lib\\site-packages\\wordcloud\\wordcloud.py:508: DeprecationWarning:\n",
      "\n",
      "textsize is deprecated and will be removed in Pillow 10 (2023-07-01). Use textbbox or textlength instead.\n",
      "\n",
      "e:\\ProgramsInstalled\\Anaconda\\lib\\site-packages\\wordcloud\\wordcloud.py:508: DeprecationWarning:\n",
      "\n",
      "textsize is deprecated and will be removed in Pillow 10 (2023-07-01). Use textbbox or textlength instead.\n",
      "\n",
      "e:\\ProgramsInstalled\\Anaconda\\lib\\site-packages\\wordcloud\\wordcloud.py:508: DeprecationWarning:\n",
      "\n",
      "textsize is deprecated and will be removed in Pillow 10 (2023-07-01). Use textbbox or textlength instead.\n",
      "\n",
      "e:\\ProgramsInstalled\\Anaconda\\lib\\site-packages\\wordcloud\\wordcloud.py:508: DeprecationWarning:\n",
      "\n",
      "textsize is deprecated and will be removed in Pillow 10 (2023-07-01). Use textbbox or textlength instead.\n",
      "\n",
      "e:\\ProgramsInstalled\\Anaconda\\lib\\site-packages\\wordcloud\\wordcloud.py:508: DeprecationWarning:\n",
      "\n",
      "textsize is deprecated and will be removed in Pillow 10 (2023-07-01). Use textbbox or textlength instead.\n",
      "\n",
      "e:\\ProgramsInstalled\\Anaconda\\lib\\site-packages\\wordcloud\\wordcloud.py:508: DeprecationWarning:\n",
      "\n",
      "textsize is deprecated and will be removed in Pillow 10 (2023-07-01). Use textbbox or textlength instead.\n",
      "\n",
      "e:\\ProgramsInstalled\\Anaconda\\lib\\site-packages\\wordcloud\\wordcloud.py:508: DeprecationWarning:\n",
      "\n",
      "textsize is deprecated and will be removed in Pillow 10 (2023-07-01). Use textbbox or textlength instead.\n",
      "\n",
      "e:\\ProgramsInstalled\\Anaconda\\lib\\site-packages\\wordcloud\\wordcloud.py:508: DeprecationWarning:\n",
      "\n",
      "textsize is deprecated and will be removed in Pillow 10 (2023-07-01). Use textbbox or textlength instead.\n",
      "\n",
      "e:\\ProgramsInstalled\\Anaconda\\lib\\site-packages\\wordcloud\\wordcloud.py:508: DeprecationWarning:\n",
      "\n",
      "textsize is deprecated and will be removed in Pillow 10 (2023-07-01). Use textbbox or textlength instead.\n",
      "\n",
      "e:\\ProgramsInstalled\\Anaconda\\lib\\site-packages\\wordcloud\\wordcloud.py:508: DeprecationWarning:\n",
      "\n",
      "textsize is deprecated and will be removed in Pillow 10 (2023-07-01). Use textbbox or textlength instead.\n",
      "\n",
      "e:\\ProgramsInstalled\\Anaconda\\lib\\site-packages\\wordcloud\\wordcloud.py:508: DeprecationWarning:\n",
      "\n",
      "textsize is deprecated and will be removed in Pillow 10 (2023-07-01). Use textbbox or textlength instead.\n",
      "\n",
      "e:\\ProgramsInstalled\\Anaconda\\lib\\site-packages\\wordcloud\\wordcloud.py:508: DeprecationWarning:\n",
      "\n",
      "textsize is deprecated and will be removed in Pillow 10 (2023-07-01). Use textbbox or textlength instead.\n",
      "\n",
      "e:\\ProgramsInstalled\\Anaconda\\lib\\site-packages\\wordcloud\\wordcloud.py:508: DeprecationWarning:\n",
      "\n",
      "textsize is deprecated and will be removed in Pillow 10 (2023-07-01). Use textbbox or textlength instead.\n",
      "\n",
      "e:\\ProgramsInstalled\\Anaconda\\lib\\site-packages\\wordcloud\\wordcloud.py:508: DeprecationWarning:\n",
      "\n",
      "textsize is deprecated and will be removed in Pillow 10 (2023-07-01). Use textbbox or textlength instead.\n",
      "\n",
      "e:\\ProgramsInstalled\\Anaconda\\lib\\site-packages\\wordcloud\\wordcloud.py:508: DeprecationWarning:\n",
      "\n",
      "textsize is deprecated and will be removed in Pillow 10 (2023-07-01). Use textbbox or textlength instead.\n",
      "\n",
      "e:\\ProgramsInstalled\\Anaconda\\lib\\site-packages\\wordcloud\\wordcloud.py:508: DeprecationWarning:\n",
      "\n",
      "textsize is deprecated and will be removed in Pillow 10 (2023-07-01). Use textbbox or textlength instead.\n",
      "\n",
      "e:\\ProgramsInstalled\\Anaconda\\lib\\site-packages\\wordcloud\\wordcloud.py:508: DeprecationWarning:\n",
      "\n",
      "textsize is deprecated and will be removed in Pillow 10 (2023-07-01). Use textbbox or textlength instead.\n",
      "\n",
      "e:\\ProgramsInstalled\\Anaconda\\lib\\site-packages\\wordcloud\\wordcloud.py:508: DeprecationWarning:\n",
      "\n",
      "textsize is deprecated and will be removed in Pillow 10 (2023-07-01). Use textbbox or textlength instead.\n",
      "\n",
      "e:\\ProgramsInstalled\\Anaconda\\lib\\site-packages\\wordcloud\\wordcloud.py:508: DeprecationWarning:\n",
      "\n",
      "textsize is deprecated and will be removed in Pillow 10 (2023-07-01). Use textbbox or textlength instead.\n",
      "\n",
      "e:\\ProgramsInstalled\\Anaconda\\lib\\site-packages\\wordcloud\\wordcloud.py:508: DeprecationWarning:\n",
      "\n",
      "textsize is deprecated and will be removed in Pillow 10 (2023-07-01). Use textbbox or textlength instead.\n",
      "\n",
      "e:\\ProgramsInstalled\\Anaconda\\lib\\site-packages\\wordcloud\\wordcloud.py:508: DeprecationWarning:\n",
      "\n",
      "textsize is deprecated and will be removed in Pillow 10 (2023-07-01). Use textbbox or textlength instead.\n",
      "\n",
      "e:\\ProgramsInstalled\\Anaconda\\lib\\site-packages\\wordcloud\\wordcloud.py:508: DeprecationWarning:\n",
      "\n",
      "textsize is deprecated and will be removed in Pillow 10 (2023-07-01). Use textbbox or textlength instead.\n",
      "\n",
      "e:\\ProgramsInstalled\\Anaconda\\lib\\site-packages\\wordcloud\\wordcloud.py:508: DeprecationWarning:\n",
      "\n",
      "textsize is deprecated and will be removed in Pillow 10 (2023-07-01). Use textbbox or textlength instead.\n",
      "\n",
      "e:\\ProgramsInstalled\\Anaconda\\lib\\site-packages\\wordcloud\\wordcloud.py:508: DeprecationWarning:\n",
      "\n",
      "textsize is deprecated and will be removed in Pillow 10 (2023-07-01). Use textbbox or textlength instead.\n",
      "\n",
      "e:\\ProgramsInstalled\\Anaconda\\lib\\site-packages\\wordcloud\\wordcloud.py:508: DeprecationWarning:\n",
      "\n",
      "textsize is deprecated and will be removed in Pillow 10 (2023-07-01). Use textbbox or textlength instead.\n",
      "\n",
      "e:\\ProgramsInstalled\\Anaconda\\lib\\site-packages\\wordcloud\\wordcloud.py:508: DeprecationWarning:\n",
      "\n",
      "textsize is deprecated and will be removed in Pillow 10 (2023-07-01). Use textbbox or textlength instead.\n",
      "\n",
      "e:\\ProgramsInstalled\\Anaconda\\lib\\site-packages\\wordcloud\\wordcloud.py:508: DeprecationWarning:\n",
      "\n",
      "textsize is deprecated and will be removed in Pillow 10 (2023-07-01). Use textbbox or textlength instead.\n",
      "\n",
      "e:\\ProgramsInstalled\\Anaconda\\lib\\site-packages\\wordcloud\\wordcloud.py:508: DeprecationWarning:\n",
      "\n",
      "textsize is deprecated and will be removed in Pillow 10 (2023-07-01). Use textbbox or textlength instead.\n",
      "\n",
      "e:\\ProgramsInstalled\\Anaconda\\lib\\site-packages\\wordcloud\\wordcloud.py:508: DeprecationWarning:\n",
      "\n",
      "textsize is deprecated and will be removed in Pillow 10 (2023-07-01). Use textbbox or textlength instead.\n",
      "\n",
      "e:\\ProgramsInstalled\\Anaconda\\lib\\site-packages\\wordcloud\\wordcloud.py:508: DeprecationWarning:\n",
      "\n",
      "textsize is deprecated and will be removed in Pillow 10 (2023-07-01). Use textbbox or textlength instead.\n",
      "\n",
      "e:\\ProgramsInstalled\\Anaconda\\lib\\site-packages\\wordcloud\\wordcloud.py:508: DeprecationWarning:\n",
      "\n",
      "textsize is deprecated and will be removed in Pillow 10 (2023-07-01). Use textbbox or textlength instead.\n",
      "\n",
      "e:\\ProgramsInstalled\\Anaconda\\lib\\site-packages\\wordcloud\\wordcloud.py:508: DeprecationWarning:\n",
      "\n",
      "textsize is deprecated and will be removed in Pillow 10 (2023-07-01). Use textbbox or textlength instead.\n",
      "\n",
      "e:\\ProgramsInstalled\\Anaconda\\lib\\site-packages\\wordcloud\\wordcloud.py:508: DeprecationWarning:\n",
      "\n",
      "textsize is deprecated and will be removed in Pillow 10 (2023-07-01). Use textbbox or textlength instead.\n",
      "\n",
      "e:\\ProgramsInstalled\\Anaconda\\lib\\site-packages\\wordcloud\\wordcloud.py:508: DeprecationWarning:\n",
      "\n",
      "textsize is deprecated and will be removed in Pillow 10 (2023-07-01). Use textbbox or textlength instead.\n",
      "\n",
      "e:\\ProgramsInstalled\\Anaconda\\lib\\site-packages\\wordcloud\\wordcloud.py:508: DeprecationWarning:\n",
      "\n",
      "textsize is deprecated and will be removed in Pillow 10 (2023-07-01). Use textbbox or textlength instead.\n",
      "\n",
      "e:\\ProgramsInstalled\\Anaconda\\lib\\site-packages\\wordcloud\\wordcloud.py:508: DeprecationWarning:\n",
      "\n",
      "textsize is deprecated and will be removed in Pillow 10 (2023-07-01). Use textbbox or textlength instead.\n",
      "\n",
      "e:\\ProgramsInstalled\\Anaconda\\lib\\site-packages\\wordcloud\\wordcloud.py:508: DeprecationWarning:\n",
      "\n",
      "textsize is deprecated and will be removed in Pillow 10 (2023-07-01). Use textbbox or textlength instead.\n",
      "\n",
      "e:\\ProgramsInstalled\\Anaconda\\lib\\site-packages\\wordcloud\\wordcloud.py:508: DeprecationWarning:\n",
      "\n",
      "textsize is deprecated and will be removed in Pillow 10 (2023-07-01). Use textbbox or textlength instead.\n",
      "\n",
      "e:\\ProgramsInstalled\\Anaconda\\lib\\site-packages\\wordcloud\\wordcloud.py:508: DeprecationWarning:\n",
      "\n",
      "textsize is deprecated and will be removed in Pillow 10 (2023-07-01). Use textbbox or textlength instead.\n",
      "\n",
      "e:\\ProgramsInstalled\\Anaconda\\lib\\site-packages\\wordcloud\\wordcloud.py:508: DeprecationWarning:\n",
      "\n",
      "textsize is deprecated and will be removed in Pillow 10 (2023-07-01). Use textbbox or textlength instead.\n",
      "\n",
      "e:\\ProgramsInstalled\\Anaconda\\lib\\site-packages\\wordcloud\\wordcloud.py:508: DeprecationWarning:\n",
      "\n",
      "textsize is deprecated and will be removed in Pillow 10 (2023-07-01). Use textbbox or textlength instead.\n",
      "\n",
      "e:\\ProgramsInstalled\\Anaconda\\lib\\site-packages\\wordcloud\\wordcloud.py:508: DeprecationWarning:\n",
      "\n",
      "textsize is deprecated and will be removed in Pillow 10 (2023-07-01). Use textbbox or textlength instead.\n",
      "\n",
      "e:\\ProgramsInstalled\\Anaconda\\lib\\site-packages\\wordcloud\\wordcloud.py:508: DeprecationWarning:\n",
      "\n",
      "textsize is deprecated and will be removed in Pillow 10 (2023-07-01). Use textbbox or textlength instead.\n",
      "\n",
      "e:\\ProgramsInstalled\\Anaconda\\lib\\site-packages\\wordcloud\\wordcloud.py:508: DeprecationWarning:\n",
      "\n",
      "textsize is deprecated and will be removed in Pillow 10 (2023-07-01). Use textbbox or textlength instead.\n",
      "\n",
      "e:\\ProgramsInstalled\\Anaconda\\lib\\site-packages\\wordcloud\\wordcloud.py:508: DeprecationWarning:\n",
      "\n",
      "textsize is deprecated and will be removed in Pillow 10 (2023-07-01). Use textbbox or textlength instead.\n",
      "\n",
      "e:\\ProgramsInstalled\\Anaconda\\lib\\site-packages\\wordcloud\\wordcloud.py:508: DeprecationWarning:\n",
      "\n",
      "textsize is deprecated and will be removed in Pillow 10 (2023-07-01). Use textbbox or textlength instead.\n",
      "\n",
      "e:\\ProgramsInstalled\\Anaconda\\lib\\site-packages\\wordcloud\\wordcloud.py:508: DeprecationWarning:\n",
      "\n",
      "textsize is deprecated and will be removed in Pillow 10 (2023-07-01). Use textbbox or textlength instead.\n",
      "\n",
      "e:\\ProgramsInstalled\\Anaconda\\lib\\site-packages\\wordcloud\\wordcloud.py:508: DeprecationWarning:\n",
      "\n",
      "textsize is deprecated and will be removed in Pillow 10 (2023-07-01). Use textbbox or textlength instead.\n",
      "\n",
      "e:\\ProgramsInstalled\\Anaconda\\lib\\site-packages\\wordcloud\\wordcloud.py:508: DeprecationWarning:\n",
      "\n",
      "textsize is deprecated and will be removed in Pillow 10 (2023-07-01). Use textbbox or textlength instead.\n",
      "\n",
      "e:\\ProgramsInstalled\\Anaconda\\lib\\site-packages\\wordcloud\\wordcloud.py:508: DeprecationWarning:\n",
      "\n",
      "textsize is deprecated and will be removed in Pillow 10 (2023-07-01). Use textbbox or textlength instead.\n",
      "\n",
      "e:\\ProgramsInstalled\\Anaconda\\lib\\site-packages\\wordcloud\\wordcloud.py:508: DeprecationWarning:\n",
      "\n",
      "textsize is deprecated and will be removed in Pillow 10 (2023-07-01). Use textbbox or textlength instead.\n",
      "\n",
      "e:\\ProgramsInstalled\\Anaconda\\lib\\site-packages\\wordcloud\\wordcloud.py:508: DeprecationWarning:\n",
      "\n",
      "textsize is deprecated and will be removed in Pillow 10 (2023-07-01). Use textbbox or textlength instead.\n",
      "\n",
      "e:\\ProgramsInstalled\\Anaconda\\lib\\site-packages\\wordcloud\\wordcloud.py:508: DeprecationWarning:\n",
      "\n",
      "textsize is deprecated and will be removed in Pillow 10 (2023-07-01). Use textbbox or textlength instead.\n",
      "\n",
      "e:\\ProgramsInstalled\\Anaconda\\lib\\site-packages\\wordcloud\\wordcloud.py:508: DeprecationWarning:\n",
      "\n",
      "textsize is deprecated and will be removed in Pillow 10 (2023-07-01). Use textbbox or textlength instead.\n",
      "\n",
      "e:\\ProgramsInstalled\\Anaconda\\lib\\site-packages\\wordcloud\\wordcloud.py:508: DeprecationWarning:\n",
      "\n",
      "textsize is deprecated and will be removed in Pillow 10 (2023-07-01). Use textbbox or textlength instead.\n",
      "\n",
      "e:\\ProgramsInstalled\\Anaconda\\lib\\site-packages\\wordcloud\\wordcloud.py:508: DeprecationWarning:\n",
      "\n",
      "textsize is deprecated and will be removed in Pillow 10 (2023-07-01). Use textbbox or textlength instead.\n",
      "\n",
      "e:\\ProgramsInstalled\\Anaconda\\lib\\site-packages\\wordcloud\\wordcloud.py:508: DeprecationWarning:\n",
      "\n",
      "textsize is deprecated and will be removed in Pillow 10 (2023-07-01). Use textbbox or textlength instead.\n",
      "\n",
      "e:\\ProgramsInstalled\\Anaconda\\lib\\site-packages\\wordcloud\\wordcloud.py:508: DeprecationWarning:\n",
      "\n",
      "textsize is deprecated and will be removed in Pillow 10 (2023-07-01). Use textbbox or textlength instead.\n",
      "\n",
      "e:\\ProgramsInstalled\\Anaconda\\lib\\site-packages\\wordcloud\\wordcloud.py:508: DeprecationWarning:\n",
      "\n",
      "textsize is deprecated and will be removed in Pillow 10 (2023-07-01). Use textbbox or textlength instead.\n",
      "\n",
      "e:\\ProgramsInstalled\\Anaconda\\lib\\site-packages\\wordcloud\\wordcloud.py:508: DeprecationWarning:\n",
      "\n",
      "textsize is deprecated and will be removed in Pillow 10 (2023-07-01). Use textbbox or textlength instead.\n",
      "\n",
      "e:\\ProgramsInstalled\\Anaconda\\lib\\site-packages\\wordcloud\\wordcloud.py:508: DeprecationWarning:\n",
      "\n",
      "textsize is deprecated and will be removed in Pillow 10 (2023-07-01). Use textbbox or textlength instead.\n",
      "\n",
      "e:\\ProgramsInstalled\\Anaconda\\lib\\site-packages\\wordcloud\\wordcloud.py:508: DeprecationWarning:\n",
      "\n",
      "textsize is deprecated and will be removed in Pillow 10 (2023-07-01). Use textbbox or textlength instead.\n",
      "\n",
      "e:\\ProgramsInstalled\\Anaconda\\lib\\site-packages\\wordcloud\\wordcloud.py:508: DeprecationWarning:\n",
      "\n",
      "textsize is deprecated and will be removed in Pillow 10 (2023-07-01). Use textbbox or textlength instead.\n",
      "\n",
      "e:\\ProgramsInstalled\\Anaconda\\lib\\site-packages\\wordcloud\\wordcloud.py:508: DeprecationWarning:\n",
      "\n",
      "textsize is deprecated and will be removed in Pillow 10 (2023-07-01). Use textbbox or textlength instead.\n",
      "\n",
      "e:\\ProgramsInstalled\\Anaconda\\lib\\site-packages\\wordcloud\\wordcloud.py:508: DeprecationWarning:\n",
      "\n",
      "textsize is deprecated and will be removed in Pillow 10 (2023-07-01). Use textbbox or textlength instead.\n",
      "\n",
      "e:\\ProgramsInstalled\\Anaconda\\lib\\site-packages\\wordcloud\\wordcloud.py:508: DeprecationWarning:\n",
      "\n",
      "textsize is deprecated and will be removed in Pillow 10 (2023-07-01). Use textbbox or textlength instead.\n",
      "\n",
      "e:\\ProgramsInstalled\\Anaconda\\lib\\site-packages\\wordcloud\\wordcloud.py:508: DeprecationWarning:\n",
      "\n",
      "textsize is deprecated and will be removed in Pillow 10 (2023-07-01). Use textbbox or textlength instead.\n",
      "\n",
      "e:\\ProgramsInstalled\\Anaconda\\lib\\site-packages\\wordcloud\\wordcloud.py:508: DeprecationWarning:\n",
      "\n",
      "textsize is deprecated and will be removed in Pillow 10 (2023-07-01). Use textbbox or textlength instead.\n",
      "\n",
      "e:\\ProgramsInstalled\\Anaconda\\lib\\site-packages\\wordcloud\\wordcloud.py:508: DeprecationWarning:\n",
      "\n",
      "textsize is deprecated and will be removed in Pillow 10 (2023-07-01). Use textbbox or textlength instead.\n",
      "\n",
      "e:\\ProgramsInstalled\\Anaconda\\lib\\site-packages\\wordcloud\\wordcloud.py:508: DeprecationWarning:\n",
      "\n",
      "textsize is deprecated and will be removed in Pillow 10 (2023-07-01). Use textbbox or textlength instead.\n",
      "\n",
      "e:\\ProgramsInstalled\\Anaconda\\lib\\site-packages\\wordcloud\\wordcloud.py:508: DeprecationWarning:\n",
      "\n",
      "textsize is deprecated and will be removed in Pillow 10 (2023-07-01). Use textbbox or textlength instead.\n",
      "\n",
      "e:\\ProgramsInstalled\\Anaconda\\lib\\site-packages\\wordcloud\\wordcloud.py:508: DeprecationWarning:\n",
      "\n",
      "textsize is deprecated and will be removed in Pillow 10 (2023-07-01). Use textbbox or textlength instead.\n",
      "\n",
      "e:\\ProgramsInstalled\\Anaconda\\lib\\site-packages\\wordcloud\\wordcloud.py:508: DeprecationWarning:\n",
      "\n",
      "textsize is deprecated and will be removed in Pillow 10 (2023-07-01). Use textbbox or textlength instead.\n",
      "\n",
      "e:\\ProgramsInstalled\\Anaconda\\lib\\site-packages\\wordcloud\\wordcloud.py:508: DeprecationWarning:\n",
      "\n",
      "textsize is deprecated and will be removed in Pillow 10 (2023-07-01). Use textbbox or textlength instead.\n",
      "\n",
      "e:\\ProgramsInstalled\\Anaconda\\lib\\site-packages\\wordcloud\\wordcloud.py:508: DeprecationWarning:\n",
      "\n",
      "textsize is deprecated and will be removed in Pillow 10 (2023-07-01). Use textbbox or textlength instead.\n",
      "\n",
      "e:\\ProgramsInstalled\\Anaconda\\lib\\site-packages\\wordcloud\\wordcloud.py:508: DeprecationWarning:\n",
      "\n",
      "textsize is deprecated and will be removed in Pillow 10 (2023-07-01). Use textbbox or textlength instead.\n",
      "\n",
      "e:\\ProgramsInstalled\\Anaconda\\lib\\site-packages\\wordcloud\\wordcloud.py:508: DeprecationWarning:\n",
      "\n",
      "textsize is deprecated and will be removed in Pillow 10 (2023-07-01). Use textbbox or textlength instead.\n",
      "\n",
      "e:\\ProgramsInstalled\\Anaconda\\lib\\site-packages\\wordcloud\\wordcloud.py:508: DeprecationWarning:\n",
      "\n",
      "textsize is deprecated and will be removed in Pillow 10 (2023-07-01). Use textbbox or textlength instead.\n",
      "\n",
      "e:\\ProgramsInstalled\\Anaconda\\lib\\site-packages\\wordcloud\\wordcloud.py:508: DeprecationWarning:\n",
      "\n",
      "textsize is deprecated and will be removed in Pillow 10 (2023-07-01). Use textbbox or textlength instead.\n",
      "\n",
      "e:\\ProgramsInstalled\\Anaconda\\lib\\site-packages\\wordcloud\\wordcloud.py:508: DeprecationWarning:\n",
      "\n",
      "textsize is deprecated and will be removed in Pillow 10 (2023-07-01). Use textbbox or textlength instead.\n",
      "\n",
      "e:\\ProgramsInstalled\\Anaconda\\lib\\site-packages\\wordcloud\\wordcloud.py:508: DeprecationWarning:\n",
      "\n",
      "textsize is deprecated and will be removed in Pillow 10 (2023-07-01). Use textbbox or textlength instead.\n",
      "\n",
      "e:\\ProgramsInstalled\\Anaconda\\lib\\site-packages\\wordcloud\\wordcloud.py:508: DeprecationWarning:\n",
      "\n",
      "textsize is deprecated and will be removed in Pillow 10 (2023-07-01). Use textbbox or textlength instead.\n",
      "\n",
      "e:\\ProgramsInstalled\\Anaconda\\lib\\site-packages\\wordcloud\\wordcloud.py:508: DeprecationWarning:\n",
      "\n",
      "textsize is deprecated and will be removed in Pillow 10 (2023-07-01). Use textbbox or textlength instead.\n",
      "\n",
      "e:\\ProgramsInstalled\\Anaconda\\lib\\site-packages\\wordcloud\\wordcloud.py:508: DeprecationWarning:\n",
      "\n",
      "textsize is deprecated and will be removed in Pillow 10 (2023-07-01). Use textbbox or textlength instead.\n",
      "\n",
      "e:\\ProgramsInstalled\\Anaconda\\lib\\site-packages\\wordcloud\\wordcloud.py:508: DeprecationWarning:\n",
      "\n",
      "textsize is deprecated and will be removed in Pillow 10 (2023-07-01). Use textbbox or textlength instead.\n",
      "\n",
      "e:\\ProgramsInstalled\\Anaconda\\lib\\site-packages\\wordcloud\\wordcloud.py:508: DeprecationWarning:\n",
      "\n",
      "textsize is deprecated and will be removed in Pillow 10 (2023-07-01). Use textbbox or textlength instead.\n",
      "\n",
      "e:\\ProgramsInstalled\\Anaconda\\lib\\site-packages\\wordcloud\\wordcloud.py:508: DeprecationWarning:\n",
      "\n",
      "textsize is deprecated and will be removed in Pillow 10 (2023-07-01). Use textbbox or textlength instead.\n",
      "\n",
      "e:\\ProgramsInstalled\\Anaconda\\lib\\site-packages\\wordcloud\\wordcloud.py:508: DeprecationWarning:\n",
      "\n",
      "textsize is deprecated and will be removed in Pillow 10 (2023-07-01). Use textbbox or textlength instead.\n",
      "\n",
      "e:\\ProgramsInstalled\\Anaconda\\lib\\site-packages\\wordcloud\\wordcloud.py:508: DeprecationWarning:\n",
      "\n",
      "textsize is deprecated and will be removed in Pillow 10 (2023-07-01). Use textbbox or textlength instead.\n",
      "\n",
      "e:\\ProgramsInstalled\\Anaconda\\lib\\site-packages\\wordcloud\\wordcloud.py:508: DeprecationWarning:\n",
      "\n",
      "textsize is deprecated and will be removed in Pillow 10 (2023-07-01). Use textbbox or textlength instead.\n",
      "\n",
      "e:\\ProgramsInstalled\\Anaconda\\lib\\site-packages\\wordcloud\\wordcloud.py:508: DeprecationWarning:\n",
      "\n",
      "textsize is deprecated and will be removed in Pillow 10 (2023-07-01). Use textbbox or textlength instead.\n",
      "\n",
      "e:\\ProgramsInstalled\\Anaconda\\lib\\site-packages\\wordcloud\\wordcloud.py:508: DeprecationWarning:\n",
      "\n",
      "textsize is deprecated and will be removed in Pillow 10 (2023-07-01). Use textbbox or textlength instead.\n",
      "\n",
      "e:\\ProgramsInstalled\\Anaconda\\lib\\site-packages\\wordcloud\\wordcloud.py:508: DeprecationWarning:\n",
      "\n",
      "textsize is deprecated and will be removed in Pillow 10 (2023-07-01). Use textbbox or textlength instead.\n",
      "\n",
      "e:\\ProgramsInstalled\\Anaconda\\lib\\site-packages\\wordcloud\\wordcloud.py:508: DeprecationWarning:\n",
      "\n",
      "textsize is deprecated and will be removed in Pillow 10 (2023-07-01). Use textbbox or textlength instead.\n",
      "\n",
      "e:\\ProgramsInstalled\\Anaconda\\lib\\site-packages\\wordcloud\\wordcloud.py:508: DeprecationWarning:\n",
      "\n",
      "textsize is deprecated and will be removed in Pillow 10 (2023-07-01). Use textbbox or textlength instead.\n",
      "\n",
      "e:\\ProgramsInstalled\\Anaconda\\lib\\site-packages\\wordcloud\\wordcloud.py:508: DeprecationWarning:\n",
      "\n",
      "textsize is deprecated and will be removed in Pillow 10 (2023-07-01). Use textbbox or textlength instead.\n",
      "\n",
      "e:\\ProgramsInstalled\\Anaconda\\lib\\site-packages\\wordcloud\\wordcloud.py:508: DeprecationWarning:\n",
      "\n",
      "textsize is deprecated and will be removed in Pillow 10 (2023-07-01). Use textbbox or textlength instead.\n",
      "\n",
      "e:\\ProgramsInstalled\\Anaconda\\lib\\site-packages\\wordcloud\\wordcloud.py:508: DeprecationWarning:\n",
      "\n",
      "textsize is deprecated and will be removed in Pillow 10 (2023-07-01). Use textbbox or textlength instead.\n",
      "\n",
      "e:\\ProgramsInstalled\\Anaconda\\lib\\site-packages\\wordcloud\\wordcloud.py:508: DeprecationWarning:\n",
      "\n",
      "textsize is deprecated and will be removed in Pillow 10 (2023-07-01). Use textbbox or textlength instead.\n",
      "\n",
      "e:\\ProgramsInstalled\\Anaconda\\lib\\site-packages\\wordcloud\\wordcloud.py:508: DeprecationWarning:\n",
      "\n",
      "textsize is deprecated and will be removed in Pillow 10 (2023-07-01). Use textbbox or textlength instead.\n",
      "\n",
      "e:\\ProgramsInstalled\\Anaconda\\lib\\site-packages\\wordcloud\\wordcloud.py:508: DeprecationWarning:\n",
      "\n",
      "textsize is deprecated and will be removed in Pillow 10 (2023-07-01). Use textbbox or textlength instead.\n",
      "\n",
      "e:\\ProgramsInstalled\\Anaconda\\lib\\site-packages\\wordcloud\\wordcloud.py:508: DeprecationWarning:\n",
      "\n",
      "textsize is deprecated and will be removed in Pillow 10 (2023-07-01). Use textbbox or textlength instead.\n",
      "\n",
      "e:\\ProgramsInstalled\\Anaconda\\lib\\site-packages\\wordcloud\\wordcloud.py:508: DeprecationWarning:\n",
      "\n",
      "textsize is deprecated and will be removed in Pillow 10 (2023-07-01). Use textbbox or textlength instead.\n",
      "\n",
      "e:\\ProgramsInstalled\\Anaconda\\lib\\site-packages\\wordcloud\\wordcloud.py:508: DeprecationWarning:\n",
      "\n",
      "textsize is deprecated and will be removed in Pillow 10 (2023-07-01). Use textbbox or textlength instead.\n",
      "\n",
      "e:\\ProgramsInstalled\\Anaconda\\lib\\site-packages\\wordcloud\\wordcloud.py:508: DeprecationWarning:\n",
      "\n",
      "textsize is deprecated and will be removed in Pillow 10 (2023-07-01). Use textbbox or textlength instead.\n",
      "\n",
      "e:\\ProgramsInstalled\\Anaconda\\lib\\site-packages\\wordcloud\\wordcloud.py:508: DeprecationWarning:\n",
      "\n",
      "textsize is deprecated and will be removed in Pillow 10 (2023-07-01). Use textbbox or textlength instead.\n",
      "\n",
      "e:\\ProgramsInstalled\\Anaconda\\lib\\site-packages\\wordcloud\\wordcloud.py:508: DeprecationWarning:\n",
      "\n",
      "textsize is deprecated and will be removed in Pillow 10 (2023-07-01). Use textbbox or textlength instead.\n",
      "\n",
      "e:\\ProgramsInstalled\\Anaconda\\lib\\site-packages\\wordcloud\\wordcloud.py:508: DeprecationWarning:\n",
      "\n",
      "textsize is deprecated and will be removed in Pillow 10 (2023-07-01). Use textbbox or textlength instead.\n",
      "\n",
      "e:\\ProgramsInstalled\\Anaconda\\lib\\site-packages\\wordcloud\\wordcloud.py:508: DeprecationWarning:\n",
      "\n",
      "textsize is deprecated and will be removed in Pillow 10 (2023-07-01). Use textbbox or textlength instead.\n",
      "\n",
      "e:\\ProgramsInstalled\\Anaconda\\lib\\site-packages\\wordcloud\\wordcloud.py:508: DeprecationWarning:\n",
      "\n",
      "textsize is deprecated and will be removed in Pillow 10 (2023-07-01). Use textbbox or textlength instead.\n",
      "\n",
      "e:\\ProgramsInstalled\\Anaconda\\lib\\site-packages\\wordcloud\\wordcloud.py:508: DeprecationWarning:\n",
      "\n",
      "textsize is deprecated and will be removed in Pillow 10 (2023-07-01). Use textbbox or textlength instead.\n",
      "\n",
      "e:\\ProgramsInstalled\\Anaconda\\lib\\site-packages\\wordcloud\\wordcloud.py:508: DeprecationWarning:\n",
      "\n",
      "textsize is deprecated and will be removed in Pillow 10 (2023-07-01). Use textbbox or textlength instead.\n",
      "\n",
      "e:\\ProgramsInstalled\\Anaconda\\lib\\site-packages\\wordcloud\\wordcloud.py:508: DeprecationWarning:\n",
      "\n",
      "textsize is deprecated and will be removed in Pillow 10 (2023-07-01). Use textbbox or textlength instead.\n",
      "\n",
      "e:\\ProgramsInstalled\\Anaconda\\lib\\site-packages\\wordcloud\\wordcloud.py:508: DeprecationWarning:\n",
      "\n",
      "textsize is deprecated and will be removed in Pillow 10 (2023-07-01). Use textbbox or textlength instead.\n",
      "\n",
      "e:\\ProgramsInstalled\\Anaconda\\lib\\site-packages\\wordcloud\\wordcloud.py:508: DeprecationWarning:\n",
      "\n",
      "textsize is deprecated and will be removed in Pillow 10 (2023-07-01). Use textbbox or textlength instead.\n",
      "\n",
      "e:\\ProgramsInstalled\\Anaconda\\lib\\site-packages\\wordcloud\\wordcloud.py:508: DeprecationWarning:\n",
      "\n",
      "textsize is deprecated and will be removed in Pillow 10 (2023-07-01). Use textbbox or textlength instead.\n",
      "\n",
      "e:\\ProgramsInstalled\\Anaconda\\lib\\site-packages\\wordcloud\\wordcloud.py:508: DeprecationWarning:\n",
      "\n",
      "textsize is deprecated and will be removed in Pillow 10 (2023-07-01). Use textbbox or textlength instead.\n",
      "\n",
      "e:\\ProgramsInstalled\\Anaconda\\lib\\site-packages\\wordcloud\\wordcloud.py:508: DeprecationWarning:\n",
      "\n",
      "textsize is deprecated and will be removed in Pillow 10 (2023-07-01). Use textbbox or textlength instead.\n",
      "\n",
      "e:\\ProgramsInstalled\\Anaconda\\lib\\site-packages\\wordcloud\\wordcloud.py:508: DeprecationWarning:\n",
      "\n",
      "textsize is deprecated and will be removed in Pillow 10 (2023-07-01). Use textbbox or textlength instead.\n",
      "\n",
      "e:\\ProgramsInstalled\\Anaconda\\lib\\site-packages\\wordcloud\\wordcloud.py:508: DeprecationWarning:\n",
      "\n",
      "textsize is deprecated and will be removed in Pillow 10 (2023-07-01). Use textbbox or textlength instead.\n",
      "\n",
      "e:\\ProgramsInstalled\\Anaconda\\lib\\site-packages\\wordcloud\\wordcloud.py:508: DeprecationWarning:\n",
      "\n",
      "textsize is deprecated and will be removed in Pillow 10 (2023-07-01). Use textbbox or textlength instead.\n",
      "\n",
      "e:\\ProgramsInstalled\\Anaconda\\lib\\site-packages\\wordcloud\\wordcloud.py:508: DeprecationWarning:\n",
      "\n",
      "textsize is deprecated and will be removed in Pillow 10 (2023-07-01). Use textbbox or textlength instead.\n",
      "\n",
      "e:\\ProgramsInstalled\\Anaconda\\lib\\site-packages\\wordcloud\\wordcloud.py:508: DeprecationWarning:\n",
      "\n",
      "textsize is deprecated and will be removed in Pillow 10 (2023-07-01). Use textbbox or textlength instead.\n",
      "\n",
      "e:\\ProgramsInstalled\\Anaconda\\lib\\site-packages\\wordcloud\\wordcloud.py:508: DeprecationWarning:\n",
      "\n",
      "textsize is deprecated and will be removed in Pillow 10 (2023-07-01). Use textbbox or textlength instead.\n",
      "\n",
      "e:\\ProgramsInstalled\\Anaconda\\lib\\site-packages\\wordcloud\\wordcloud.py:508: DeprecationWarning:\n",
      "\n",
      "textsize is deprecated and will be removed in Pillow 10 (2023-07-01). Use textbbox or textlength instead.\n",
      "\n",
      "e:\\ProgramsInstalled\\Anaconda\\lib\\site-packages\\wordcloud\\wordcloud.py:508: DeprecationWarning:\n",
      "\n",
      "textsize is deprecated and will be removed in Pillow 10 (2023-07-01). Use textbbox or textlength instead.\n",
      "\n",
      "e:\\ProgramsInstalled\\Anaconda\\lib\\site-packages\\wordcloud\\wordcloud.py:508: DeprecationWarning:\n",
      "\n",
      "textsize is deprecated and will be removed in Pillow 10 (2023-07-01). Use textbbox or textlength instead.\n",
      "\n",
      "e:\\ProgramsInstalled\\Anaconda\\lib\\site-packages\\wordcloud\\wordcloud.py:508: DeprecationWarning:\n",
      "\n",
      "textsize is deprecated and will be removed in Pillow 10 (2023-07-01). Use textbbox or textlength instead.\n",
      "\n",
      "e:\\ProgramsInstalled\\Anaconda\\lib\\site-packages\\wordcloud\\wordcloud.py:508: DeprecationWarning:\n",
      "\n",
      "textsize is deprecated and will be removed in Pillow 10 (2023-07-01). Use textbbox or textlength instead.\n",
      "\n",
      "e:\\ProgramsInstalled\\Anaconda\\lib\\site-packages\\wordcloud\\wordcloud.py:508: DeprecationWarning:\n",
      "\n",
      "textsize is deprecated and will be removed in Pillow 10 (2023-07-01). Use textbbox or textlength instead.\n",
      "\n",
      "e:\\ProgramsInstalled\\Anaconda\\lib\\site-packages\\wordcloud\\wordcloud.py:519: DeprecationWarning:\n",
      "\n",
      "ROTATE_90 is deprecated and will be removed in Pillow 10 (2023-07-01). Use Transpose.ROTATE_90 instead.\n",
      "\n",
      "e:\\ProgramsInstalled\\Anaconda\\lib\\site-packages\\wordcloud\\wordcloud.py:508: DeprecationWarning:\n",
      "\n",
      "textsize is deprecated and will be removed in Pillow 10 (2023-07-01). Use textbbox or textlength instead.\n",
      "\n",
      "e:\\ProgramsInstalled\\Anaconda\\lib\\site-packages\\wordcloud\\wordcloud.py:508: DeprecationWarning:\n",
      "\n",
      "textsize is deprecated and will be removed in Pillow 10 (2023-07-01). Use textbbox or textlength instead.\n",
      "\n",
      "e:\\ProgramsInstalled\\Anaconda\\lib\\site-packages\\wordcloud\\wordcloud.py:508: DeprecationWarning:\n",
      "\n",
      "textsize is deprecated and will be removed in Pillow 10 (2023-07-01). Use textbbox or textlength instead.\n",
      "\n",
      "e:\\ProgramsInstalled\\Anaconda\\lib\\site-packages\\wordcloud\\wordcloud.py:508: DeprecationWarning:\n",
      "\n",
      "textsize is deprecated and will be removed in Pillow 10 (2023-07-01). Use textbbox or textlength instead.\n",
      "\n",
      "e:\\ProgramsInstalled\\Anaconda\\lib\\site-packages\\wordcloud\\wordcloud.py:508: DeprecationWarning:\n",
      "\n",
      "textsize is deprecated and will be removed in Pillow 10 (2023-07-01). Use textbbox or textlength instead.\n",
      "\n",
      "e:\\ProgramsInstalled\\Anaconda\\lib\\site-packages\\wordcloud\\wordcloud.py:508: DeprecationWarning:\n",
      "\n",
      "textsize is deprecated and will be removed in Pillow 10 (2023-07-01). Use textbbox or textlength instead.\n",
      "\n",
      "e:\\ProgramsInstalled\\Anaconda\\lib\\site-packages\\wordcloud\\wordcloud.py:508: DeprecationWarning:\n",
      "\n",
      "textsize is deprecated and will be removed in Pillow 10 (2023-07-01). Use textbbox or textlength instead.\n",
      "\n",
      "e:\\ProgramsInstalled\\Anaconda\\lib\\site-packages\\wordcloud\\wordcloud.py:508: DeprecationWarning:\n",
      "\n",
      "textsize is deprecated and will be removed in Pillow 10 (2023-07-01). Use textbbox or textlength instead.\n",
      "\n",
      "e:\\ProgramsInstalled\\Anaconda\\lib\\site-packages\\wordcloud\\wordcloud.py:508: DeprecationWarning:\n",
      "\n",
      "textsize is deprecated and will be removed in Pillow 10 (2023-07-01). Use textbbox or textlength instead.\n",
      "\n",
      "e:\\ProgramsInstalled\\Anaconda\\lib\\site-packages\\wordcloud\\wordcloud.py:508: DeprecationWarning:\n",
      "\n",
      "textsize is deprecated and will be removed in Pillow 10 (2023-07-01). Use textbbox or textlength instead.\n",
      "\n",
      "e:\\ProgramsInstalled\\Anaconda\\lib\\site-packages\\wordcloud\\wordcloud.py:508: DeprecationWarning:\n",
      "\n",
      "textsize is deprecated and will be removed in Pillow 10 (2023-07-01). Use textbbox or textlength instead.\n",
      "\n",
      "e:\\ProgramsInstalled\\Anaconda\\lib\\site-packages\\wordcloud\\wordcloud.py:508: DeprecationWarning:\n",
      "\n",
      "textsize is deprecated and will be removed in Pillow 10 (2023-07-01). Use textbbox or textlength instead.\n",
      "\n",
      "e:\\ProgramsInstalled\\Anaconda\\lib\\site-packages\\wordcloud\\wordcloud.py:508: DeprecationWarning:\n",
      "\n",
      "textsize is deprecated and will be removed in Pillow 10 (2023-07-01). Use textbbox or textlength instead.\n",
      "\n",
      "e:\\ProgramsInstalled\\Anaconda\\lib\\site-packages\\wordcloud\\wordcloud.py:508: DeprecationWarning:\n",
      "\n",
      "textsize is deprecated and will be removed in Pillow 10 (2023-07-01). Use textbbox or textlength instead.\n",
      "\n",
      "e:\\ProgramsInstalled\\Anaconda\\lib\\site-packages\\wordcloud\\wordcloud.py:508: DeprecationWarning:\n",
      "\n",
      "textsize is deprecated and will be removed in Pillow 10 (2023-07-01). Use textbbox or textlength instead.\n",
      "\n",
      "e:\\ProgramsInstalled\\Anaconda\\lib\\site-packages\\wordcloud\\wordcloud.py:508: DeprecationWarning:\n",
      "\n",
      "textsize is deprecated and will be removed in Pillow 10 (2023-07-01). Use textbbox or textlength instead.\n",
      "\n",
      "e:\\ProgramsInstalled\\Anaconda\\lib\\site-packages\\wordcloud\\wordcloud.py:508: DeprecationWarning:\n",
      "\n",
      "textsize is deprecated and will be removed in Pillow 10 (2023-07-01). Use textbbox or textlength instead.\n",
      "\n",
      "e:\\ProgramsInstalled\\Anaconda\\lib\\site-packages\\wordcloud\\wordcloud.py:508: DeprecationWarning:\n",
      "\n",
      "textsize is deprecated and will be removed in Pillow 10 (2023-07-01). Use textbbox or textlength instead.\n",
      "\n",
      "e:\\ProgramsInstalled\\Anaconda\\lib\\site-packages\\wordcloud\\wordcloud.py:508: DeprecationWarning:\n",
      "\n",
      "textsize is deprecated and will be removed in Pillow 10 (2023-07-01). Use textbbox or textlength instead.\n",
      "\n",
      "e:\\ProgramsInstalled\\Anaconda\\lib\\site-packages\\wordcloud\\wordcloud.py:508: DeprecationWarning:\n",
      "\n",
      "textsize is deprecated and will be removed in Pillow 10 (2023-07-01). Use textbbox or textlength instead.\n",
      "\n",
      "e:\\ProgramsInstalled\\Anaconda\\lib\\site-packages\\wordcloud\\wordcloud.py:508: DeprecationWarning:\n",
      "\n",
      "textsize is deprecated and will be removed in Pillow 10 (2023-07-01). Use textbbox or textlength instead.\n",
      "\n",
      "e:\\ProgramsInstalled\\Anaconda\\lib\\site-packages\\wordcloud\\wordcloud.py:508: DeprecationWarning:\n",
      "\n",
      "textsize is deprecated and will be removed in Pillow 10 (2023-07-01). Use textbbox or textlength instead.\n",
      "\n",
      "e:\\ProgramsInstalled\\Anaconda\\lib\\site-packages\\wordcloud\\wordcloud.py:508: DeprecationWarning:\n",
      "\n",
      "textsize is deprecated and will be removed in Pillow 10 (2023-07-01). Use textbbox or textlength instead.\n",
      "\n",
      "e:\\ProgramsInstalled\\Anaconda\\lib\\site-packages\\wordcloud\\wordcloud.py:508: DeprecationWarning:\n",
      "\n",
      "textsize is deprecated and will be removed in Pillow 10 (2023-07-01). Use textbbox or textlength instead.\n",
      "\n",
      "e:\\ProgramsInstalled\\Anaconda\\lib\\site-packages\\wordcloud\\wordcloud.py:508: DeprecationWarning:\n",
      "\n",
      "textsize is deprecated and will be removed in Pillow 10 (2023-07-01). Use textbbox or textlength instead.\n",
      "\n",
      "e:\\ProgramsInstalled\\Anaconda\\lib\\site-packages\\wordcloud\\wordcloud.py:508: DeprecationWarning:\n",
      "\n",
      "textsize is deprecated and will be removed in Pillow 10 (2023-07-01). Use textbbox or textlength instead.\n",
      "\n",
      "e:\\ProgramsInstalled\\Anaconda\\lib\\site-packages\\wordcloud\\wordcloud.py:508: DeprecationWarning:\n",
      "\n",
      "textsize is deprecated and will be removed in Pillow 10 (2023-07-01). Use textbbox or textlength instead.\n",
      "\n",
      "e:\\ProgramsInstalled\\Anaconda\\lib\\site-packages\\wordcloud\\wordcloud.py:508: DeprecationWarning:\n",
      "\n",
      "textsize is deprecated and will be removed in Pillow 10 (2023-07-01). Use textbbox or textlength instead.\n",
      "\n",
      "e:\\ProgramsInstalled\\Anaconda\\lib\\site-packages\\wordcloud\\wordcloud.py:508: DeprecationWarning:\n",
      "\n",
      "textsize is deprecated and will be removed in Pillow 10 (2023-07-01). Use textbbox or textlength instead.\n",
      "\n",
      "e:\\ProgramsInstalled\\Anaconda\\lib\\site-packages\\wordcloud\\wordcloud.py:508: DeprecationWarning:\n",
      "\n",
      "textsize is deprecated and will be removed in Pillow 10 (2023-07-01). Use textbbox or textlength instead.\n",
      "\n",
      "e:\\ProgramsInstalled\\Anaconda\\lib\\site-packages\\wordcloud\\wordcloud.py:508: DeprecationWarning:\n",
      "\n",
      "textsize is deprecated and will be removed in Pillow 10 (2023-07-01). Use textbbox or textlength instead.\n",
      "\n",
      "e:\\ProgramsInstalled\\Anaconda\\lib\\site-packages\\wordcloud\\wordcloud.py:508: DeprecationWarning:\n",
      "\n",
      "textsize is deprecated and will be removed in Pillow 10 (2023-07-01). Use textbbox or textlength instead.\n",
      "\n",
      "e:\\ProgramsInstalled\\Anaconda\\lib\\site-packages\\wordcloud\\wordcloud.py:508: DeprecationWarning:\n",
      "\n",
      "textsize is deprecated and will be removed in Pillow 10 (2023-07-01). Use textbbox or textlength instead.\n",
      "\n",
      "e:\\ProgramsInstalled\\Anaconda\\lib\\site-packages\\wordcloud\\wordcloud.py:508: DeprecationWarning:\n",
      "\n",
      "textsize is deprecated and will be removed in Pillow 10 (2023-07-01). Use textbbox or textlength instead.\n",
      "\n",
      "e:\\ProgramsInstalled\\Anaconda\\lib\\site-packages\\wordcloud\\wordcloud.py:508: DeprecationWarning:\n",
      "\n",
      "textsize is deprecated and will be removed in Pillow 10 (2023-07-01). Use textbbox or textlength instead.\n",
      "\n",
      "e:\\ProgramsInstalled\\Anaconda\\lib\\site-packages\\wordcloud\\wordcloud.py:508: DeprecationWarning:\n",
      "\n",
      "textsize is deprecated and will be removed in Pillow 10 (2023-07-01). Use textbbox or textlength instead.\n",
      "\n",
      "e:\\ProgramsInstalled\\Anaconda\\lib\\site-packages\\wordcloud\\wordcloud.py:508: DeprecationWarning:\n",
      "\n",
      "textsize is deprecated and will be removed in Pillow 10 (2023-07-01). Use textbbox or textlength instead.\n",
      "\n",
      "e:\\ProgramsInstalled\\Anaconda\\lib\\site-packages\\wordcloud\\wordcloud.py:508: DeprecationWarning:\n",
      "\n",
      "textsize is deprecated and will be removed in Pillow 10 (2023-07-01). Use textbbox or textlength instead.\n",
      "\n",
      "e:\\ProgramsInstalled\\Anaconda\\lib\\site-packages\\wordcloud\\wordcloud.py:508: DeprecationWarning:\n",
      "\n",
      "textsize is deprecated and will be removed in Pillow 10 (2023-07-01). Use textbbox or textlength instead.\n",
      "\n",
      "e:\\ProgramsInstalled\\Anaconda\\lib\\site-packages\\wordcloud\\wordcloud.py:508: DeprecationWarning:\n",
      "\n",
      "textsize is deprecated and will be removed in Pillow 10 (2023-07-01). Use textbbox or textlength instead.\n",
      "\n",
      "e:\\ProgramsInstalled\\Anaconda\\lib\\site-packages\\wordcloud\\wordcloud.py:508: DeprecationWarning:\n",
      "\n",
      "textsize is deprecated and will be removed in Pillow 10 (2023-07-01). Use textbbox or textlength instead.\n",
      "\n",
      "e:\\ProgramsInstalled\\Anaconda\\lib\\site-packages\\wordcloud\\wordcloud.py:508: DeprecationWarning:\n",
      "\n",
      "textsize is deprecated and will be removed in Pillow 10 (2023-07-01). Use textbbox or textlength instead.\n",
      "\n",
      "e:\\ProgramsInstalled\\Anaconda\\lib\\site-packages\\wordcloud\\wordcloud.py:508: DeprecationWarning:\n",
      "\n",
      "textsize is deprecated and will be removed in Pillow 10 (2023-07-01). Use textbbox or textlength instead.\n",
      "\n",
      "e:\\ProgramsInstalled\\Anaconda\\lib\\site-packages\\wordcloud\\wordcloud.py:508: DeprecationWarning:\n",
      "\n",
      "textsize is deprecated and will be removed in Pillow 10 (2023-07-01). Use textbbox or textlength instead.\n",
      "\n",
      "e:\\ProgramsInstalled\\Anaconda\\lib\\site-packages\\wordcloud\\wordcloud.py:508: DeprecationWarning:\n",
      "\n",
      "textsize is deprecated and will be removed in Pillow 10 (2023-07-01). Use textbbox or textlength instead.\n",
      "\n",
      "e:\\ProgramsInstalled\\Anaconda\\lib\\site-packages\\wordcloud\\wordcloud.py:508: DeprecationWarning:\n",
      "\n",
      "textsize is deprecated and will be removed in Pillow 10 (2023-07-01). Use textbbox or textlength instead.\n",
      "\n",
      "e:\\ProgramsInstalled\\Anaconda\\lib\\site-packages\\wordcloud\\wordcloud.py:508: DeprecationWarning:\n",
      "\n",
      "textsize is deprecated and will be removed in Pillow 10 (2023-07-01). Use textbbox or textlength instead.\n",
      "\n",
      "e:\\ProgramsInstalled\\Anaconda\\lib\\site-packages\\wordcloud\\wordcloud.py:508: DeprecationWarning:\n",
      "\n",
      "textsize is deprecated and will be removed in Pillow 10 (2023-07-01). Use textbbox or textlength instead.\n",
      "\n",
      "e:\\ProgramsInstalled\\Anaconda\\lib\\site-packages\\wordcloud\\wordcloud.py:508: DeprecationWarning:\n",
      "\n",
      "textsize is deprecated and will be removed in Pillow 10 (2023-07-01). Use textbbox or textlength instead.\n",
      "\n",
      "e:\\ProgramsInstalled\\Anaconda\\lib\\site-packages\\wordcloud\\wordcloud.py:508: DeprecationWarning:\n",
      "\n",
      "textsize is deprecated and will be removed in Pillow 10 (2023-07-01). Use textbbox or textlength instead.\n",
      "\n",
      "e:\\ProgramsInstalled\\Anaconda\\lib\\site-packages\\wordcloud\\wordcloud.py:508: DeprecationWarning:\n",
      "\n",
      "textsize is deprecated and will be removed in Pillow 10 (2023-07-01). Use textbbox or textlength instead.\n",
      "\n",
      "e:\\ProgramsInstalled\\Anaconda\\lib\\site-packages\\wordcloud\\wordcloud.py:508: DeprecationWarning:\n",
      "\n",
      "textsize is deprecated and will be removed in Pillow 10 (2023-07-01). Use textbbox or textlength instead.\n",
      "\n",
      "e:\\ProgramsInstalled\\Anaconda\\lib\\site-packages\\wordcloud\\wordcloud.py:508: DeprecationWarning:\n",
      "\n",
      "textsize is deprecated and will be removed in Pillow 10 (2023-07-01). Use textbbox or textlength instead.\n",
      "\n",
      "e:\\ProgramsInstalled\\Anaconda\\lib\\site-packages\\wordcloud\\wordcloud.py:508: DeprecationWarning:\n",
      "\n",
      "textsize is deprecated and will be removed in Pillow 10 (2023-07-01). Use textbbox or textlength instead.\n",
      "\n",
      "e:\\ProgramsInstalled\\Anaconda\\lib\\site-packages\\wordcloud\\wordcloud.py:508: DeprecationWarning:\n",
      "\n",
      "textsize is deprecated and will be removed in Pillow 10 (2023-07-01). Use textbbox or textlength instead.\n",
      "\n",
      "e:\\ProgramsInstalled\\Anaconda\\lib\\site-packages\\wordcloud\\wordcloud.py:508: DeprecationWarning:\n",
      "\n",
      "textsize is deprecated and will be removed in Pillow 10 (2023-07-01). Use textbbox or textlength instead.\n",
      "\n",
      "e:\\ProgramsInstalled\\Anaconda\\lib\\site-packages\\wordcloud\\wordcloud.py:508: DeprecationWarning:\n",
      "\n",
      "textsize is deprecated and will be removed in Pillow 10 (2023-07-01). Use textbbox or textlength instead.\n",
      "\n",
      "e:\\ProgramsInstalled\\Anaconda\\lib\\site-packages\\wordcloud\\wordcloud.py:508: DeprecationWarning:\n",
      "\n",
      "textsize is deprecated and will be removed in Pillow 10 (2023-07-01). Use textbbox or textlength instead.\n",
      "\n",
      "e:\\ProgramsInstalled\\Anaconda\\lib\\site-packages\\wordcloud\\wordcloud.py:508: DeprecationWarning:\n",
      "\n",
      "textsize is deprecated and will be removed in Pillow 10 (2023-07-01). Use textbbox or textlength instead.\n",
      "\n",
      "e:\\ProgramsInstalled\\Anaconda\\lib\\site-packages\\wordcloud\\wordcloud.py:508: DeprecationWarning:\n",
      "\n",
      "textsize is deprecated and will be removed in Pillow 10 (2023-07-01). Use textbbox or textlength instead.\n",
      "\n",
      "e:\\ProgramsInstalled\\Anaconda\\lib\\site-packages\\wordcloud\\wordcloud.py:508: DeprecationWarning:\n",
      "\n",
      "textsize is deprecated and will be removed in Pillow 10 (2023-07-01). Use textbbox or textlength instead.\n",
      "\n",
      "e:\\ProgramsInstalled\\Anaconda\\lib\\site-packages\\wordcloud\\wordcloud.py:508: DeprecationWarning:\n",
      "\n",
      "textsize is deprecated and will be removed in Pillow 10 (2023-07-01). Use textbbox or textlength instead.\n",
      "\n",
      "e:\\ProgramsInstalled\\Anaconda\\lib\\site-packages\\wordcloud\\wordcloud.py:508: DeprecationWarning:\n",
      "\n",
      "textsize is deprecated and will be removed in Pillow 10 (2023-07-01). Use textbbox or textlength instead.\n",
      "\n",
      "e:\\ProgramsInstalled\\Anaconda\\lib\\site-packages\\wordcloud\\wordcloud.py:508: DeprecationWarning:\n",
      "\n",
      "textsize is deprecated and will be removed in Pillow 10 (2023-07-01). Use textbbox or textlength instead.\n",
      "\n",
      "e:\\ProgramsInstalled\\Anaconda\\lib\\site-packages\\wordcloud\\wordcloud.py:508: DeprecationWarning:\n",
      "\n",
      "textsize is deprecated and will be removed in Pillow 10 (2023-07-01). Use textbbox or textlength instead.\n",
      "\n",
      "e:\\ProgramsInstalled\\Anaconda\\lib\\site-packages\\wordcloud\\wordcloud.py:508: DeprecationWarning:\n",
      "\n",
      "textsize is deprecated and will be removed in Pillow 10 (2023-07-01). Use textbbox or textlength instead.\n",
      "\n",
      "e:\\ProgramsInstalled\\Anaconda\\lib\\site-packages\\wordcloud\\wordcloud.py:508: DeprecationWarning:\n",
      "\n",
      "textsize is deprecated and will be removed in Pillow 10 (2023-07-01). Use textbbox or textlength instead.\n",
      "\n",
      "e:\\ProgramsInstalled\\Anaconda\\lib\\site-packages\\wordcloud\\wordcloud.py:508: DeprecationWarning:\n",
      "\n",
      "textsize is deprecated and will be removed in Pillow 10 (2023-07-01). Use textbbox or textlength instead.\n",
      "\n",
      "e:\\ProgramsInstalled\\Anaconda\\lib\\site-packages\\wordcloud\\wordcloud.py:508: DeprecationWarning:\n",
      "\n",
      "textsize is deprecated and will be removed in Pillow 10 (2023-07-01). Use textbbox or textlength instead.\n",
      "\n",
      "e:\\ProgramsInstalled\\Anaconda\\lib\\site-packages\\wordcloud\\wordcloud.py:508: DeprecationWarning:\n",
      "\n",
      "textsize is deprecated and will be removed in Pillow 10 (2023-07-01). Use textbbox or textlength instead.\n",
      "\n",
      "e:\\ProgramsInstalled\\Anaconda\\lib\\site-packages\\wordcloud\\wordcloud.py:508: DeprecationWarning:\n",
      "\n",
      "textsize is deprecated and will be removed in Pillow 10 (2023-07-01). Use textbbox or textlength instead.\n",
      "\n",
      "e:\\ProgramsInstalled\\Anaconda\\lib\\site-packages\\wordcloud\\wordcloud.py:508: DeprecationWarning:\n",
      "\n",
      "textsize is deprecated and will be removed in Pillow 10 (2023-07-01). Use textbbox or textlength instead.\n",
      "\n",
      "e:\\ProgramsInstalled\\Anaconda\\lib\\site-packages\\wordcloud\\wordcloud.py:508: DeprecationWarning:\n",
      "\n",
      "textsize is deprecated and will be removed in Pillow 10 (2023-07-01). Use textbbox or textlength instead.\n",
      "\n",
      "e:\\ProgramsInstalled\\Anaconda\\lib\\site-packages\\wordcloud\\wordcloud.py:508: DeprecationWarning:\n",
      "\n",
      "textsize is deprecated and will be removed in Pillow 10 (2023-07-01). Use textbbox or textlength instead.\n",
      "\n",
      "e:\\ProgramsInstalled\\Anaconda\\lib\\site-packages\\wordcloud\\wordcloud.py:508: DeprecationWarning:\n",
      "\n",
      "textsize is deprecated and will be removed in Pillow 10 (2023-07-01). Use textbbox or textlength instead.\n",
      "\n",
      "e:\\ProgramsInstalled\\Anaconda\\lib\\site-packages\\wordcloud\\wordcloud.py:508: DeprecationWarning:\n",
      "\n",
      "textsize is deprecated and will be removed in Pillow 10 (2023-07-01). Use textbbox or textlength instead.\n",
      "\n",
      "e:\\ProgramsInstalled\\Anaconda\\lib\\site-packages\\wordcloud\\wordcloud.py:508: DeprecationWarning:\n",
      "\n",
      "textsize is deprecated and will be removed in Pillow 10 (2023-07-01). Use textbbox or textlength instead.\n",
      "\n",
      "e:\\ProgramsInstalled\\Anaconda\\lib\\site-packages\\wordcloud\\wordcloud.py:508: DeprecationWarning:\n",
      "\n",
      "textsize is deprecated and will be removed in Pillow 10 (2023-07-01). Use textbbox or textlength instead.\n",
      "\n",
      "e:\\ProgramsInstalled\\Anaconda\\lib\\site-packages\\wordcloud\\wordcloud.py:508: DeprecationWarning:\n",
      "\n",
      "textsize is deprecated and will be removed in Pillow 10 (2023-07-01). Use textbbox or textlength instead.\n",
      "\n",
      "e:\\ProgramsInstalled\\Anaconda\\lib\\site-packages\\wordcloud\\wordcloud.py:508: DeprecationWarning:\n",
      "\n",
      "textsize is deprecated and will be removed in Pillow 10 (2023-07-01). Use textbbox or textlength instead.\n",
      "\n",
      "e:\\ProgramsInstalled\\Anaconda\\lib\\site-packages\\wordcloud\\wordcloud.py:508: DeprecationWarning:\n",
      "\n",
      "textsize is deprecated and will be removed in Pillow 10 (2023-07-01). Use textbbox or textlength instead.\n",
      "\n",
      "e:\\ProgramsInstalled\\Anaconda\\lib\\site-packages\\wordcloud\\wordcloud.py:508: DeprecationWarning:\n",
      "\n",
      "textsize is deprecated and will be removed in Pillow 10 (2023-07-01). Use textbbox or textlength instead.\n",
      "\n",
      "e:\\ProgramsInstalled\\Anaconda\\lib\\site-packages\\wordcloud\\wordcloud.py:508: DeprecationWarning:\n",
      "\n",
      "textsize is deprecated and will be removed in Pillow 10 (2023-07-01). Use textbbox or textlength instead.\n",
      "\n",
      "e:\\ProgramsInstalled\\Anaconda\\lib\\site-packages\\wordcloud\\wordcloud.py:508: DeprecationWarning:\n",
      "\n",
      "textsize is deprecated and will be removed in Pillow 10 (2023-07-01). Use textbbox or textlength instead.\n",
      "\n",
      "e:\\ProgramsInstalled\\Anaconda\\lib\\site-packages\\wordcloud\\wordcloud.py:508: DeprecationWarning:\n",
      "\n",
      "textsize is deprecated and will be removed in Pillow 10 (2023-07-01). Use textbbox or textlength instead.\n",
      "\n",
      "e:\\ProgramsInstalled\\Anaconda\\lib\\site-packages\\wordcloud\\wordcloud.py:508: DeprecationWarning:\n",
      "\n",
      "textsize is deprecated and will be removed in Pillow 10 (2023-07-01). Use textbbox or textlength instead.\n",
      "\n",
      "e:\\ProgramsInstalled\\Anaconda\\lib\\site-packages\\wordcloud\\wordcloud.py:508: DeprecationWarning:\n",
      "\n",
      "textsize is deprecated and will be removed in Pillow 10 (2023-07-01). Use textbbox or textlength instead.\n",
      "\n",
      "e:\\ProgramsInstalled\\Anaconda\\lib\\site-packages\\wordcloud\\wordcloud.py:508: DeprecationWarning:\n",
      "\n",
      "textsize is deprecated and will be removed in Pillow 10 (2023-07-01). Use textbbox or textlength instead.\n",
      "\n",
      "e:\\ProgramsInstalled\\Anaconda\\lib\\site-packages\\wordcloud\\wordcloud.py:508: DeprecationWarning:\n",
      "\n",
      "textsize is deprecated and will be removed in Pillow 10 (2023-07-01). Use textbbox or textlength instead.\n",
      "\n",
      "e:\\ProgramsInstalled\\Anaconda\\lib\\site-packages\\wordcloud\\wordcloud.py:508: DeprecationWarning:\n",
      "\n",
      "textsize is deprecated and will be removed in Pillow 10 (2023-07-01). Use textbbox or textlength instead.\n",
      "\n",
      "e:\\ProgramsInstalled\\Anaconda\\lib\\site-packages\\wordcloud\\wordcloud.py:508: DeprecationWarning:\n",
      "\n",
      "textsize is deprecated and will be removed in Pillow 10 (2023-07-01). Use textbbox or textlength instead.\n",
      "\n",
      "e:\\ProgramsInstalled\\Anaconda\\lib\\site-packages\\wordcloud\\wordcloud.py:508: DeprecationWarning:\n",
      "\n",
      "textsize is deprecated and will be removed in Pillow 10 (2023-07-01). Use textbbox or textlength instead.\n",
      "\n",
      "e:\\ProgramsInstalled\\Anaconda\\lib\\site-packages\\wordcloud\\wordcloud.py:508: DeprecationWarning:\n",
      "\n",
      "textsize is deprecated and will be removed in Pillow 10 (2023-07-01). Use textbbox or textlength instead.\n",
      "\n",
      "e:\\ProgramsInstalled\\Anaconda\\lib\\site-packages\\wordcloud\\wordcloud.py:508: DeprecationWarning:\n",
      "\n",
      "textsize is deprecated and will be removed in Pillow 10 (2023-07-01). Use textbbox or textlength instead.\n",
      "\n",
      "e:\\ProgramsInstalled\\Anaconda\\lib\\site-packages\\wordcloud\\wordcloud.py:508: DeprecationWarning:\n",
      "\n",
      "textsize is deprecated and will be removed in Pillow 10 (2023-07-01). Use textbbox or textlength instead.\n",
      "\n",
      "e:\\ProgramsInstalled\\Anaconda\\lib\\site-packages\\wordcloud\\wordcloud.py:508: DeprecationWarning:\n",
      "\n",
      "textsize is deprecated and will be removed in Pillow 10 (2023-07-01). Use textbbox or textlength instead.\n",
      "\n",
      "e:\\ProgramsInstalled\\Anaconda\\lib\\site-packages\\wordcloud\\wordcloud.py:508: DeprecationWarning:\n",
      "\n",
      "textsize is deprecated and will be removed in Pillow 10 (2023-07-01). Use textbbox or textlength instead.\n",
      "\n",
      "e:\\ProgramsInstalled\\Anaconda\\lib\\site-packages\\wordcloud\\wordcloud.py:508: DeprecationWarning:\n",
      "\n",
      "textsize is deprecated and will be removed in Pillow 10 (2023-07-01). Use textbbox or textlength instead.\n",
      "\n",
      "e:\\ProgramsInstalled\\Anaconda\\lib\\site-packages\\wordcloud\\wordcloud.py:508: DeprecationWarning:\n",
      "\n",
      "textsize is deprecated and will be removed in Pillow 10 (2023-07-01). Use textbbox or textlength instead.\n",
      "\n",
      "e:\\ProgramsInstalled\\Anaconda\\lib\\site-packages\\wordcloud\\wordcloud.py:508: DeprecationWarning:\n",
      "\n",
      "textsize is deprecated and will be removed in Pillow 10 (2023-07-01). Use textbbox or textlength instead.\n",
      "\n",
      "e:\\ProgramsInstalled\\Anaconda\\lib\\site-packages\\wordcloud\\wordcloud.py:508: DeprecationWarning:\n",
      "\n",
      "textsize is deprecated and will be removed in Pillow 10 (2023-07-01). Use textbbox or textlength instead.\n",
      "\n",
      "e:\\ProgramsInstalled\\Anaconda\\lib\\site-packages\\wordcloud\\wordcloud.py:508: DeprecationWarning:\n",
      "\n",
      "textsize is deprecated and will be removed in Pillow 10 (2023-07-01). Use textbbox or textlength instead.\n",
      "\n",
      "e:\\ProgramsInstalled\\Anaconda\\lib\\site-packages\\wordcloud\\wordcloud.py:508: DeprecationWarning:\n",
      "\n",
      "textsize is deprecated and will be removed in Pillow 10 (2023-07-01). Use textbbox or textlength instead.\n",
      "\n",
      "e:\\ProgramsInstalled\\Anaconda\\lib\\site-packages\\wordcloud\\wordcloud.py:508: DeprecationWarning:\n",
      "\n",
      "textsize is deprecated and will be removed in Pillow 10 (2023-07-01). Use textbbox or textlength instead.\n",
      "\n",
      "e:\\ProgramsInstalled\\Anaconda\\lib\\site-packages\\wordcloud\\wordcloud.py:508: DeprecationWarning:\n",
      "\n",
      "textsize is deprecated and will be removed in Pillow 10 (2023-07-01). Use textbbox or textlength instead.\n",
      "\n",
      "e:\\ProgramsInstalled\\Anaconda\\lib\\site-packages\\wordcloud\\wordcloud.py:508: DeprecationWarning:\n",
      "\n",
      "textsize is deprecated and will be removed in Pillow 10 (2023-07-01). Use textbbox or textlength instead.\n",
      "\n",
      "e:\\ProgramsInstalled\\Anaconda\\lib\\site-packages\\wordcloud\\wordcloud.py:508: DeprecationWarning:\n",
      "\n",
      "textsize is deprecated and will be removed in Pillow 10 (2023-07-01). Use textbbox or textlength instead.\n",
      "\n",
      "e:\\ProgramsInstalled\\Anaconda\\lib\\site-packages\\wordcloud\\wordcloud.py:508: DeprecationWarning:\n",
      "\n",
      "textsize is deprecated and will be removed in Pillow 10 (2023-07-01). Use textbbox or textlength instead.\n",
      "\n",
      "e:\\ProgramsInstalled\\Anaconda\\lib\\site-packages\\wordcloud\\wordcloud.py:508: DeprecationWarning:\n",
      "\n",
      "textsize is deprecated and will be removed in Pillow 10 (2023-07-01). Use textbbox or textlength instead.\n",
      "\n",
      "e:\\ProgramsInstalled\\Anaconda\\lib\\site-packages\\wordcloud\\wordcloud.py:508: DeprecationWarning:\n",
      "\n",
      "textsize is deprecated and will be removed in Pillow 10 (2023-07-01). Use textbbox or textlength instead.\n",
      "\n",
      "e:\\ProgramsInstalled\\Anaconda\\lib\\site-packages\\wordcloud\\wordcloud.py:508: DeprecationWarning:\n",
      "\n",
      "textsize is deprecated and will be removed in Pillow 10 (2023-07-01). Use textbbox or textlength instead.\n",
      "\n",
      "e:\\ProgramsInstalled\\Anaconda\\lib\\site-packages\\wordcloud\\wordcloud.py:508: DeprecationWarning:\n",
      "\n",
      "textsize is deprecated and will be removed in Pillow 10 (2023-07-01). Use textbbox or textlength instead.\n",
      "\n",
      "e:\\ProgramsInstalled\\Anaconda\\lib\\site-packages\\wordcloud\\wordcloud.py:508: DeprecationWarning:\n",
      "\n",
      "textsize is deprecated and will be removed in Pillow 10 (2023-07-01). Use textbbox or textlength instead.\n",
      "\n",
      "e:\\ProgramsInstalled\\Anaconda\\lib\\site-packages\\wordcloud\\wordcloud.py:508: DeprecationWarning:\n",
      "\n",
      "textsize is deprecated and will be removed in Pillow 10 (2023-07-01). Use textbbox or textlength instead.\n",
      "\n",
      "e:\\ProgramsInstalled\\Anaconda\\lib\\site-packages\\wordcloud\\wordcloud.py:508: DeprecationWarning:\n",
      "\n",
      "textsize is deprecated and will be removed in Pillow 10 (2023-07-01). Use textbbox or textlength instead.\n",
      "\n",
      "e:\\ProgramsInstalled\\Anaconda\\lib\\site-packages\\wordcloud\\wordcloud.py:508: DeprecationWarning:\n",
      "\n",
      "textsize is deprecated and will be removed in Pillow 10 (2023-07-01). Use textbbox or textlength instead.\n",
      "\n",
      "e:\\ProgramsInstalled\\Anaconda\\lib\\site-packages\\wordcloud\\wordcloud.py:508: DeprecationWarning:\n",
      "\n",
      "textsize is deprecated and will be removed in Pillow 10 (2023-07-01). Use textbbox or textlength instead.\n",
      "\n",
      "e:\\ProgramsInstalled\\Anaconda\\lib\\site-packages\\wordcloud\\wordcloud.py:508: DeprecationWarning:\n",
      "\n",
      "textsize is deprecated and will be removed in Pillow 10 (2023-07-01). Use textbbox or textlength instead.\n",
      "\n",
      "e:\\ProgramsInstalled\\Anaconda\\lib\\site-packages\\wordcloud\\wordcloud.py:508: DeprecationWarning:\n",
      "\n",
      "textsize is deprecated and will be removed in Pillow 10 (2023-07-01). Use textbbox or textlength instead.\n",
      "\n",
      "e:\\ProgramsInstalled\\Anaconda\\lib\\site-packages\\wordcloud\\wordcloud.py:508: DeprecationWarning:\n",
      "\n",
      "textsize is deprecated and will be removed in Pillow 10 (2023-07-01). Use textbbox or textlength instead.\n",
      "\n",
      "e:\\ProgramsInstalled\\Anaconda\\lib\\site-packages\\wordcloud\\wordcloud.py:508: DeprecationWarning:\n",
      "\n",
      "textsize is deprecated and will be removed in Pillow 10 (2023-07-01). Use textbbox or textlength instead.\n",
      "\n",
      "e:\\ProgramsInstalled\\Anaconda\\lib\\site-packages\\wordcloud\\wordcloud.py:508: DeprecationWarning:\n",
      "\n",
      "textsize is deprecated and will be removed in Pillow 10 (2023-07-01). Use textbbox or textlength instead.\n",
      "\n",
      "e:\\ProgramsInstalled\\Anaconda\\lib\\site-packages\\wordcloud\\wordcloud.py:508: DeprecationWarning:\n",
      "\n",
      "textsize is deprecated and will be removed in Pillow 10 (2023-07-01). Use textbbox or textlength instead.\n",
      "\n",
      "e:\\ProgramsInstalled\\Anaconda\\lib\\site-packages\\wordcloud\\wordcloud.py:508: DeprecationWarning:\n",
      "\n",
      "textsize is deprecated and will be removed in Pillow 10 (2023-07-01). Use textbbox or textlength instead.\n",
      "\n",
      "e:\\ProgramsInstalled\\Anaconda\\lib\\site-packages\\wordcloud\\wordcloud.py:508: DeprecationWarning:\n",
      "\n",
      "textsize is deprecated and will be removed in Pillow 10 (2023-07-01). Use textbbox or textlength instead.\n",
      "\n",
      "e:\\ProgramsInstalled\\Anaconda\\lib\\site-packages\\wordcloud\\wordcloud.py:508: DeprecationWarning:\n",
      "\n",
      "textsize is deprecated and will be removed in Pillow 10 (2023-07-01). Use textbbox or textlength instead.\n",
      "\n",
      "e:\\ProgramsInstalled\\Anaconda\\lib\\site-packages\\wordcloud\\wordcloud.py:508: DeprecationWarning:\n",
      "\n",
      "textsize is deprecated and will be removed in Pillow 10 (2023-07-01). Use textbbox or textlength instead.\n",
      "\n",
      "e:\\ProgramsInstalled\\Anaconda\\lib\\site-packages\\wordcloud\\wordcloud.py:508: DeprecationWarning:\n",
      "\n",
      "textsize is deprecated and will be removed in Pillow 10 (2023-07-01). Use textbbox or textlength instead.\n",
      "\n",
      "e:\\ProgramsInstalled\\Anaconda\\lib\\site-packages\\wordcloud\\wordcloud.py:508: DeprecationWarning:\n",
      "\n",
      "textsize is deprecated and will be removed in Pillow 10 (2023-07-01). Use textbbox or textlength instead.\n",
      "\n",
      "e:\\ProgramsInstalled\\Anaconda\\lib\\site-packages\\wordcloud\\wordcloud.py:508: DeprecationWarning:\n",
      "\n",
      "textsize is deprecated and will be removed in Pillow 10 (2023-07-01). Use textbbox or textlength instead.\n",
      "\n",
      "e:\\ProgramsInstalled\\Anaconda\\lib\\site-packages\\wordcloud\\wordcloud.py:508: DeprecationWarning:\n",
      "\n",
      "textsize is deprecated and will be removed in Pillow 10 (2023-07-01). Use textbbox or textlength instead.\n",
      "\n",
      "e:\\ProgramsInstalled\\Anaconda\\lib\\site-packages\\wordcloud\\wordcloud.py:508: DeprecationWarning:\n",
      "\n",
      "textsize is deprecated and will be removed in Pillow 10 (2023-07-01). Use textbbox or textlength instead.\n",
      "\n",
      "e:\\ProgramsInstalled\\Anaconda\\lib\\site-packages\\wordcloud\\wordcloud.py:508: DeprecationWarning:\n",
      "\n",
      "textsize is deprecated and will be removed in Pillow 10 (2023-07-01). Use textbbox or textlength instead.\n",
      "\n",
      "e:\\ProgramsInstalled\\Anaconda\\lib\\site-packages\\wordcloud\\wordcloud.py:508: DeprecationWarning:\n",
      "\n",
      "textsize is deprecated and will be removed in Pillow 10 (2023-07-01). Use textbbox or textlength instead.\n",
      "\n",
      "e:\\ProgramsInstalled\\Anaconda\\lib\\site-packages\\wordcloud\\wordcloud.py:508: DeprecationWarning:\n",
      "\n",
      "textsize is deprecated and will be removed in Pillow 10 (2023-07-01). Use textbbox or textlength instead.\n",
      "\n",
      "e:\\ProgramsInstalled\\Anaconda\\lib\\site-packages\\wordcloud\\wordcloud.py:508: DeprecationWarning:\n",
      "\n",
      "textsize is deprecated and will be removed in Pillow 10 (2023-07-01). Use textbbox or textlength instead.\n",
      "\n",
      "e:\\ProgramsInstalled\\Anaconda\\lib\\site-packages\\wordcloud\\wordcloud.py:508: DeprecationWarning:\n",
      "\n",
      "textsize is deprecated and will be removed in Pillow 10 (2023-07-01). Use textbbox or textlength instead.\n",
      "\n",
      "e:\\ProgramsInstalled\\Anaconda\\lib\\site-packages\\wordcloud\\wordcloud.py:508: DeprecationWarning:\n",
      "\n",
      "textsize is deprecated and will be removed in Pillow 10 (2023-07-01). Use textbbox or textlength instead.\n",
      "\n",
      "e:\\ProgramsInstalled\\Anaconda\\lib\\site-packages\\wordcloud\\wordcloud.py:508: DeprecationWarning:\n",
      "\n",
      "textsize is deprecated and will be removed in Pillow 10 (2023-07-01). Use textbbox or textlength instead.\n",
      "\n",
      "e:\\ProgramsInstalled\\Anaconda\\lib\\site-packages\\wordcloud\\wordcloud.py:508: DeprecationWarning:\n",
      "\n",
      "textsize is deprecated and will be removed in Pillow 10 (2023-07-01). Use textbbox or textlength instead.\n",
      "\n",
      "e:\\ProgramsInstalled\\Anaconda\\lib\\site-packages\\wordcloud\\wordcloud.py:508: DeprecationWarning:\n",
      "\n",
      "textsize is deprecated and will be removed in Pillow 10 (2023-07-01). Use textbbox or textlength instead.\n",
      "\n",
      "e:\\ProgramsInstalled\\Anaconda\\lib\\site-packages\\wordcloud\\wordcloud.py:508: DeprecationWarning:\n",
      "\n",
      "textsize is deprecated and will be removed in Pillow 10 (2023-07-01). Use textbbox or textlength instead.\n",
      "\n",
      "e:\\ProgramsInstalled\\Anaconda\\lib\\site-packages\\wordcloud\\wordcloud.py:508: DeprecationWarning:\n",
      "\n",
      "textsize is deprecated and will be removed in Pillow 10 (2023-07-01). Use textbbox or textlength instead.\n",
      "\n",
      "e:\\ProgramsInstalled\\Anaconda\\lib\\site-packages\\wordcloud\\wordcloud.py:508: DeprecationWarning:\n",
      "\n",
      "textsize is deprecated and will be removed in Pillow 10 (2023-07-01). Use textbbox or textlength instead.\n",
      "\n",
      "e:\\ProgramsInstalled\\Anaconda\\lib\\site-packages\\wordcloud\\wordcloud.py:508: DeprecationWarning:\n",
      "\n",
      "textsize is deprecated and will be removed in Pillow 10 (2023-07-01). Use textbbox or textlength instead.\n",
      "\n",
      "e:\\ProgramsInstalled\\Anaconda\\lib\\site-packages\\wordcloud\\wordcloud.py:508: DeprecationWarning:\n",
      "\n",
      "textsize is deprecated and will be removed in Pillow 10 (2023-07-01). Use textbbox or textlength instead.\n",
      "\n",
      "e:\\ProgramsInstalled\\Anaconda\\lib\\site-packages\\wordcloud\\wordcloud.py:508: DeprecationWarning:\n",
      "\n",
      "textsize is deprecated and will be removed in Pillow 10 (2023-07-01). Use textbbox or textlength instead.\n",
      "\n",
      "e:\\ProgramsInstalled\\Anaconda\\lib\\site-packages\\wordcloud\\wordcloud.py:508: DeprecationWarning:\n",
      "\n",
      "textsize is deprecated and will be removed in Pillow 10 (2023-07-01). Use textbbox or textlength instead.\n",
      "\n",
      "e:\\ProgramsInstalled\\Anaconda\\lib\\site-packages\\wordcloud\\wordcloud.py:508: DeprecationWarning:\n",
      "\n",
      "textsize is deprecated and will be removed in Pillow 10 (2023-07-01). Use textbbox or textlength instead.\n",
      "\n",
      "e:\\ProgramsInstalled\\Anaconda\\lib\\site-packages\\wordcloud\\wordcloud.py:508: DeprecationWarning:\n",
      "\n",
      "textsize is deprecated and will be removed in Pillow 10 (2023-07-01). Use textbbox or textlength instead.\n",
      "\n",
      "e:\\ProgramsInstalled\\Anaconda\\lib\\site-packages\\wordcloud\\wordcloud.py:508: DeprecationWarning:\n",
      "\n",
      "textsize is deprecated and will be removed in Pillow 10 (2023-07-01). Use textbbox or textlength instead.\n",
      "\n",
      "e:\\ProgramsInstalled\\Anaconda\\lib\\site-packages\\wordcloud\\wordcloud.py:508: DeprecationWarning:\n",
      "\n",
      "textsize is deprecated and will be removed in Pillow 10 (2023-07-01). Use textbbox or textlength instead.\n",
      "\n",
      "e:\\ProgramsInstalled\\Anaconda\\lib\\site-packages\\wordcloud\\wordcloud.py:508: DeprecationWarning:\n",
      "\n",
      "textsize is deprecated and will be removed in Pillow 10 (2023-07-01). Use textbbox or textlength instead.\n",
      "\n",
      "e:\\ProgramsInstalled\\Anaconda\\lib\\site-packages\\wordcloud\\wordcloud.py:508: DeprecationWarning:\n",
      "\n",
      "textsize is deprecated and will be removed in Pillow 10 (2023-07-01). Use textbbox or textlength instead.\n",
      "\n",
      "e:\\ProgramsInstalled\\Anaconda\\lib\\site-packages\\wordcloud\\wordcloud.py:508: DeprecationWarning:\n",
      "\n",
      "textsize is deprecated and will be removed in Pillow 10 (2023-07-01). Use textbbox or textlength instead.\n",
      "\n",
      "e:\\ProgramsInstalled\\Anaconda\\lib\\site-packages\\wordcloud\\wordcloud.py:508: DeprecationWarning:\n",
      "\n",
      "textsize is deprecated and will be removed in Pillow 10 (2023-07-01). Use textbbox or textlength instead.\n",
      "\n",
      "e:\\ProgramsInstalled\\Anaconda\\lib\\site-packages\\wordcloud\\wordcloud.py:508: DeprecationWarning:\n",
      "\n",
      "textsize is deprecated and will be removed in Pillow 10 (2023-07-01). Use textbbox or textlength instead.\n",
      "\n",
      "e:\\ProgramsInstalled\\Anaconda\\lib\\site-packages\\wordcloud\\wordcloud.py:508: DeprecationWarning:\n",
      "\n",
      "textsize is deprecated and will be removed in Pillow 10 (2023-07-01). Use textbbox or textlength instead.\n",
      "\n",
      "e:\\ProgramsInstalled\\Anaconda\\lib\\site-packages\\wordcloud\\wordcloud.py:508: DeprecationWarning:\n",
      "\n",
      "textsize is deprecated and will be removed in Pillow 10 (2023-07-01). Use textbbox or textlength instead.\n",
      "\n",
      "e:\\ProgramsInstalled\\Anaconda\\lib\\site-packages\\wordcloud\\wordcloud.py:508: DeprecationWarning:\n",
      "\n",
      "textsize is deprecated and will be removed in Pillow 10 (2023-07-01). Use textbbox or textlength instead.\n",
      "\n",
      "e:\\ProgramsInstalled\\Anaconda\\lib\\site-packages\\wordcloud\\wordcloud.py:508: DeprecationWarning:\n",
      "\n",
      "textsize is deprecated and will be removed in Pillow 10 (2023-07-01). Use textbbox or textlength instead.\n",
      "\n",
      "e:\\ProgramsInstalled\\Anaconda\\lib\\site-packages\\wordcloud\\wordcloud.py:508: DeprecationWarning:\n",
      "\n",
      "textsize is deprecated and will be removed in Pillow 10 (2023-07-01). Use textbbox or textlength instead.\n",
      "\n",
      "e:\\ProgramsInstalled\\Anaconda\\lib\\site-packages\\wordcloud\\wordcloud.py:508: DeprecationWarning:\n",
      "\n",
      "textsize is deprecated and will be removed in Pillow 10 (2023-07-01). Use textbbox or textlength instead.\n",
      "\n",
      "e:\\ProgramsInstalled\\Anaconda\\lib\\site-packages\\wordcloud\\wordcloud.py:508: DeprecationWarning:\n",
      "\n",
      "textsize is deprecated and will be removed in Pillow 10 (2023-07-01). Use textbbox or textlength instead.\n",
      "\n",
      "e:\\ProgramsInstalled\\Anaconda\\lib\\site-packages\\wordcloud\\wordcloud.py:508: DeprecationWarning:\n",
      "\n",
      "textsize is deprecated and will be removed in Pillow 10 (2023-07-01). Use textbbox or textlength instead.\n",
      "\n",
      "e:\\ProgramsInstalled\\Anaconda\\lib\\site-packages\\wordcloud\\wordcloud.py:508: DeprecationWarning:\n",
      "\n",
      "textsize is deprecated and will be removed in Pillow 10 (2023-07-01). Use textbbox or textlength instead.\n",
      "\n",
      "e:\\ProgramsInstalled\\Anaconda\\lib\\site-packages\\wordcloud\\wordcloud.py:508: DeprecationWarning:\n",
      "\n",
      "textsize is deprecated and will be removed in Pillow 10 (2023-07-01). Use textbbox or textlength instead.\n",
      "\n",
      "e:\\ProgramsInstalled\\Anaconda\\lib\\site-packages\\wordcloud\\wordcloud.py:508: DeprecationWarning:\n",
      "\n",
      "textsize is deprecated and will be removed in Pillow 10 (2023-07-01). Use textbbox or textlength instead.\n",
      "\n",
      "e:\\ProgramsInstalled\\Anaconda\\lib\\site-packages\\wordcloud\\wordcloud.py:508: DeprecationWarning:\n",
      "\n",
      "textsize is deprecated and will be removed in Pillow 10 (2023-07-01). Use textbbox or textlength instead.\n",
      "\n",
      "e:\\ProgramsInstalled\\Anaconda\\lib\\site-packages\\wordcloud\\wordcloud.py:508: DeprecationWarning:\n",
      "\n",
      "textsize is deprecated and will be removed in Pillow 10 (2023-07-01). Use textbbox or textlength instead.\n",
      "\n",
      "e:\\ProgramsInstalled\\Anaconda\\lib\\site-packages\\wordcloud\\wordcloud.py:508: DeprecationWarning:\n",
      "\n",
      "textsize is deprecated and will be removed in Pillow 10 (2023-07-01). Use textbbox or textlength instead.\n",
      "\n",
      "e:\\ProgramsInstalled\\Anaconda\\lib\\site-packages\\wordcloud\\wordcloud.py:508: DeprecationWarning:\n",
      "\n",
      "textsize is deprecated and will be removed in Pillow 10 (2023-07-01). Use textbbox or textlength instead.\n",
      "\n",
      "e:\\ProgramsInstalled\\Anaconda\\lib\\site-packages\\wordcloud\\wordcloud.py:508: DeprecationWarning:\n",
      "\n",
      "textsize is deprecated and will be removed in Pillow 10 (2023-07-01). Use textbbox or textlength instead.\n",
      "\n",
      "e:\\ProgramsInstalled\\Anaconda\\lib\\site-packages\\wordcloud\\wordcloud.py:508: DeprecationWarning:\n",
      "\n",
      "textsize is deprecated and will be removed in Pillow 10 (2023-07-01). Use textbbox or textlength instead.\n",
      "\n",
      "e:\\ProgramsInstalled\\Anaconda\\lib\\site-packages\\wordcloud\\wordcloud.py:508: DeprecationWarning:\n",
      "\n",
      "textsize is deprecated and will be removed in Pillow 10 (2023-07-01). Use textbbox or textlength instead.\n",
      "\n",
      "e:\\ProgramsInstalled\\Anaconda\\lib\\site-packages\\wordcloud\\wordcloud.py:508: DeprecationWarning:\n",
      "\n",
      "textsize is deprecated and will be removed in Pillow 10 (2023-07-01). Use textbbox or textlength instead.\n",
      "\n",
      "e:\\ProgramsInstalled\\Anaconda\\lib\\site-packages\\wordcloud\\wordcloud.py:508: DeprecationWarning:\n",
      "\n",
      "textsize is deprecated and will be removed in Pillow 10 (2023-07-01). Use textbbox or textlength instead.\n",
      "\n",
      "e:\\ProgramsInstalled\\Anaconda\\lib\\site-packages\\wordcloud\\wordcloud.py:508: DeprecationWarning:\n",
      "\n",
      "textsize is deprecated and will be removed in Pillow 10 (2023-07-01). Use textbbox or textlength instead.\n",
      "\n",
      "e:\\ProgramsInstalled\\Anaconda\\lib\\site-packages\\wordcloud\\wordcloud.py:508: DeprecationWarning:\n",
      "\n",
      "textsize is deprecated and will be removed in Pillow 10 (2023-07-01). Use textbbox or textlength instead.\n",
      "\n",
      "e:\\ProgramsInstalled\\Anaconda\\lib\\site-packages\\wordcloud\\wordcloud.py:508: DeprecationWarning:\n",
      "\n",
      "textsize is deprecated and will be removed in Pillow 10 (2023-07-01). Use textbbox or textlength instead.\n",
      "\n",
      "e:\\ProgramsInstalled\\Anaconda\\lib\\site-packages\\wordcloud\\wordcloud.py:508: DeprecationWarning:\n",
      "\n",
      "textsize is deprecated and will be removed in Pillow 10 (2023-07-01). Use textbbox or textlength instead.\n",
      "\n",
      "e:\\ProgramsInstalled\\Anaconda\\lib\\site-packages\\wordcloud\\wordcloud.py:508: DeprecationWarning:\n",
      "\n",
      "textsize is deprecated and will be removed in Pillow 10 (2023-07-01). Use textbbox or textlength instead.\n",
      "\n",
      "e:\\ProgramsInstalled\\Anaconda\\lib\\site-packages\\wordcloud\\wordcloud.py:508: DeprecationWarning:\n",
      "\n",
      "textsize is deprecated and will be removed in Pillow 10 (2023-07-01). Use textbbox or textlength instead.\n",
      "\n",
      "e:\\ProgramsInstalled\\Anaconda\\lib\\site-packages\\wordcloud\\wordcloud.py:508: DeprecationWarning:\n",
      "\n",
      "textsize is deprecated and will be removed in Pillow 10 (2023-07-01). Use textbbox or textlength instead.\n",
      "\n",
      "e:\\ProgramsInstalled\\Anaconda\\lib\\site-packages\\wordcloud\\wordcloud.py:508: DeprecationWarning:\n",
      "\n",
      "textsize is deprecated and will be removed in Pillow 10 (2023-07-01). Use textbbox or textlength instead.\n",
      "\n",
      "e:\\ProgramsInstalled\\Anaconda\\lib\\site-packages\\wordcloud\\wordcloud.py:508: DeprecationWarning:\n",
      "\n",
      "textsize is deprecated and will be removed in Pillow 10 (2023-07-01). Use textbbox or textlength instead.\n",
      "\n",
      "e:\\ProgramsInstalled\\Anaconda\\lib\\site-packages\\wordcloud\\wordcloud.py:508: DeprecationWarning:\n",
      "\n",
      "textsize is deprecated and will be removed in Pillow 10 (2023-07-01). Use textbbox or textlength instead.\n",
      "\n",
      "e:\\ProgramsInstalled\\Anaconda\\lib\\site-packages\\wordcloud\\wordcloud.py:508: DeprecationWarning:\n",
      "\n",
      "textsize is deprecated and will be removed in Pillow 10 (2023-07-01). Use textbbox or textlength instead.\n",
      "\n",
      "e:\\ProgramsInstalled\\Anaconda\\lib\\site-packages\\wordcloud\\wordcloud.py:508: DeprecationWarning:\n",
      "\n",
      "textsize is deprecated and will be removed in Pillow 10 (2023-07-01). Use textbbox or textlength instead.\n",
      "\n",
      "e:\\ProgramsInstalled\\Anaconda\\lib\\site-packages\\wordcloud\\wordcloud.py:508: DeprecationWarning:\n",
      "\n",
      "textsize is deprecated and will be removed in Pillow 10 (2023-07-01). Use textbbox or textlength instead.\n",
      "\n",
      "e:\\ProgramsInstalled\\Anaconda\\lib\\site-packages\\wordcloud\\wordcloud.py:508: DeprecationWarning:\n",
      "\n",
      "textsize is deprecated and will be removed in Pillow 10 (2023-07-01). Use textbbox or textlength instead.\n",
      "\n",
      "e:\\ProgramsInstalled\\Anaconda\\lib\\site-packages\\wordcloud\\wordcloud.py:508: DeprecationWarning:\n",
      "\n",
      "textsize is deprecated and will be removed in Pillow 10 (2023-07-01). Use textbbox or textlength instead.\n",
      "\n",
      "e:\\ProgramsInstalled\\Anaconda\\lib\\site-packages\\wordcloud\\wordcloud.py:508: DeprecationWarning:\n",
      "\n",
      "textsize is deprecated and will be removed in Pillow 10 (2023-07-01). Use textbbox or textlength instead.\n",
      "\n",
      "e:\\ProgramsInstalled\\Anaconda\\lib\\site-packages\\wordcloud\\wordcloud.py:508: DeprecationWarning:\n",
      "\n",
      "textsize is deprecated and will be removed in Pillow 10 (2023-07-01). Use textbbox or textlength instead.\n",
      "\n",
      "e:\\ProgramsInstalled\\Anaconda\\lib\\site-packages\\wordcloud\\wordcloud.py:508: DeprecationWarning:\n",
      "\n",
      "textsize is deprecated and will be removed in Pillow 10 (2023-07-01). Use textbbox or textlength instead.\n",
      "\n",
      "e:\\ProgramsInstalled\\Anaconda\\lib\\site-packages\\wordcloud\\wordcloud.py:508: DeprecationWarning:\n",
      "\n",
      "textsize is deprecated and will be removed in Pillow 10 (2023-07-01). Use textbbox or textlength instead.\n",
      "\n",
      "e:\\ProgramsInstalled\\Anaconda\\lib\\site-packages\\wordcloud\\wordcloud.py:508: DeprecationWarning:\n",
      "\n",
      "textsize is deprecated and will be removed in Pillow 10 (2023-07-01). Use textbbox or textlength instead.\n",
      "\n",
      "e:\\ProgramsInstalled\\Anaconda\\lib\\site-packages\\wordcloud\\wordcloud.py:508: DeprecationWarning:\n",
      "\n",
      "textsize is deprecated and will be removed in Pillow 10 (2023-07-01). Use textbbox or textlength instead.\n",
      "\n",
      "e:\\ProgramsInstalled\\Anaconda\\lib\\site-packages\\wordcloud\\wordcloud.py:508: DeprecationWarning:\n",
      "\n",
      "textsize is deprecated and will be removed in Pillow 10 (2023-07-01). Use textbbox or textlength instead.\n",
      "\n",
      "e:\\ProgramsInstalled\\Anaconda\\lib\\site-packages\\wordcloud\\wordcloud.py:508: DeprecationWarning:\n",
      "\n",
      "textsize is deprecated and will be removed in Pillow 10 (2023-07-01). Use textbbox or textlength instead.\n",
      "\n",
      "e:\\ProgramsInstalled\\Anaconda\\lib\\site-packages\\wordcloud\\wordcloud.py:508: DeprecationWarning:\n",
      "\n",
      "textsize is deprecated and will be removed in Pillow 10 (2023-07-01). Use textbbox or textlength instead.\n",
      "\n",
      "e:\\ProgramsInstalled\\Anaconda\\lib\\site-packages\\wordcloud\\wordcloud.py:508: DeprecationWarning:\n",
      "\n",
      "textsize is deprecated and will be removed in Pillow 10 (2023-07-01). Use textbbox or textlength instead.\n",
      "\n",
      "e:\\ProgramsInstalled\\Anaconda\\lib\\site-packages\\wordcloud\\wordcloud.py:508: DeprecationWarning:\n",
      "\n",
      "textsize is deprecated and will be removed in Pillow 10 (2023-07-01). Use textbbox or textlength instead.\n",
      "\n",
      "e:\\ProgramsInstalled\\Anaconda\\lib\\site-packages\\wordcloud\\wordcloud.py:508: DeprecationWarning:\n",
      "\n",
      "textsize is deprecated and will be removed in Pillow 10 (2023-07-01). Use textbbox or textlength instead.\n",
      "\n",
      "e:\\ProgramsInstalled\\Anaconda\\lib\\site-packages\\wordcloud\\wordcloud.py:508: DeprecationWarning:\n",
      "\n",
      "textsize is deprecated and will be removed in Pillow 10 (2023-07-01). Use textbbox or textlength instead.\n",
      "\n",
      "e:\\ProgramsInstalled\\Anaconda\\lib\\site-packages\\wordcloud\\wordcloud.py:508: DeprecationWarning:\n",
      "\n",
      "textsize is deprecated and will be removed in Pillow 10 (2023-07-01). Use textbbox or textlength instead.\n",
      "\n",
      "e:\\ProgramsInstalled\\Anaconda\\lib\\site-packages\\wordcloud\\wordcloud.py:508: DeprecationWarning:\n",
      "\n",
      "textsize is deprecated and will be removed in Pillow 10 (2023-07-01). Use textbbox or textlength instead.\n",
      "\n",
      "e:\\ProgramsInstalled\\Anaconda\\lib\\site-packages\\wordcloud\\wordcloud.py:508: DeprecationWarning:\n",
      "\n",
      "textsize is deprecated and will be removed in Pillow 10 (2023-07-01). Use textbbox or textlength instead.\n",
      "\n",
      "e:\\ProgramsInstalled\\Anaconda\\lib\\site-packages\\wordcloud\\wordcloud.py:508: DeprecationWarning:\n",
      "\n",
      "textsize is deprecated and will be removed in Pillow 10 (2023-07-01). Use textbbox or textlength instead.\n",
      "\n",
      "e:\\ProgramsInstalled\\Anaconda\\lib\\site-packages\\wordcloud\\wordcloud.py:508: DeprecationWarning:\n",
      "\n",
      "textsize is deprecated and will be removed in Pillow 10 (2023-07-01). Use textbbox or textlength instead.\n",
      "\n",
      "e:\\ProgramsInstalled\\Anaconda\\lib\\site-packages\\wordcloud\\wordcloud.py:508: DeprecationWarning:\n",
      "\n",
      "textsize is deprecated and will be removed in Pillow 10 (2023-07-01). Use textbbox or textlength instead.\n",
      "\n",
      "e:\\ProgramsInstalled\\Anaconda\\lib\\site-packages\\wordcloud\\wordcloud.py:508: DeprecationWarning:\n",
      "\n",
      "textsize is deprecated and will be removed in Pillow 10 (2023-07-01). Use textbbox or textlength instead.\n",
      "\n",
      "e:\\ProgramsInstalled\\Anaconda\\lib\\site-packages\\wordcloud\\wordcloud.py:508: DeprecationWarning:\n",
      "\n",
      "textsize is deprecated and will be removed in Pillow 10 (2023-07-01). Use textbbox or textlength instead.\n",
      "\n",
      "e:\\ProgramsInstalled\\Anaconda\\lib\\site-packages\\wordcloud\\wordcloud.py:508: DeprecationWarning:\n",
      "\n",
      "textsize is deprecated and will be removed in Pillow 10 (2023-07-01). Use textbbox or textlength instead.\n",
      "\n",
      "e:\\ProgramsInstalled\\Anaconda\\lib\\site-packages\\wordcloud\\wordcloud.py:508: DeprecationWarning:\n",
      "\n",
      "textsize is deprecated and will be removed in Pillow 10 (2023-07-01). Use textbbox or textlength instead.\n",
      "\n",
      "e:\\ProgramsInstalled\\Anaconda\\lib\\site-packages\\wordcloud\\wordcloud.py:508: DeprecationWarning:\n",
      "\n",
      "textsize is deprecated and will be removed in Pillow 10 (2023-07-01). Use textbbox or textlength instead.\n",
      "\n",
      "e:\\ProgramsInstalled\\Anaconda\\lib\\site-packages\\wordcloud\\wordcloud.py:508: DeprecationWarning:\n",
      "\n",
      "textsize is deprecated and will be removed in Pillow 10 (2023-07-01). Use textbbox or textlength instead.\n",
      "\n",
      "e:\\ProgramsInstalled\\Anaconda\\lib\\site-packages\\wordcloud\\wordcloud.py:508: DeprecationWarning:\n",
      "\n",
      "textsize is deprecated and will be removed in Pillow 10 (2023-07-01). Use textbbox or textlength instead.\n",
      "\n",
      "e:\\ProgramsInstalled\\Anaconda\\lib\\site-packages\\wordcloud\\wordcloud.py:508: DeprecationWarning:\n",
      "\n",
      "textsize is deprecated and will be removed in Pillow 10 (2023-07-01). Use textbbox or textlength instead.\n",
      "\n",
      "e:\\ProgramsInstalled\\Anaconda\\lib\\site-packages\\wordcloud\\wordcloud.py:508: DeprecationWarning:\n",
      "\n",
      "textsize is deprecated and will be removed in Pillow 10 (2023-07-01). Use textbbox or textlength instead.\n",
      "\n",
      "e:\\ProgramsInstalled\\Anaconda\\lib\\site-packages\\wordcloud\\wordcloud.py:508: DeprecationWarning:\n",
      "\n",
      "textsize is deprecated and will be removed in Pillow 10 (2023-07-01). Use textbbox or textlength instead.\n",
      "\n",
      "e:\\ProgramsInstalled\\Anaconda\\lib\\site-packages\\wordcloud\\wordcloud.py:508: DeprecationWarning:\n",
      "\n",
      "textsize is deprecated and will be removed in Pillow 10 (2023-07-01). Use textbbox or textlength instead.\n",
      "\n",
      "e:\\ProgramsInstalled\\Anaconda\\lib\\site-packages\\wordcloud\\wordcloud.py:508: DeprecationWarning:\n",
      "\n",
      "textsize is deprecated and will be removed in Pillow 10 (2023-07-01). Use textbbox or textlength instead.\n",
      "\n",
      "e:\\ProgramsInstalled\\Anaconda\\lib\\site-packages\\wordcloud\\wordcloud.py:508: DeprecationWarning:\n",
      "\n",
      "textsize is deprecated and will be removed in Pillow 10 (2023-07-01). Use textbbox or textlength instead.\n",
      "\n",
      "e:\\ProgramsInstalled\\Anaconda\\lib\\site-packages\\wordcloud\\wordcloud.py:508: DeprecationWarning:\n",
      "\n",
      "textsize is deprecated and will be removed in Pillow 10 (2023-07-01). Use textbbox or textlength instead.\n",
      "\n",
      "e:\\ProgramsInstalled\\Anaconda\\lib\\site-packages\\wordcloud\\wordcloud.py:508: DeprecationWarning:\n",
      "\n",
      "textsize is deprecated and will be removed in Pillow 10 (2023-07-01). Use textbbox or textlength instead.\n",
      "\n",
      "e:\\ProgramsInstalled\\Anaconda\\lib\\site-packages\\wordcloud\\wordcloud.py:508: DeprecationWarning:\n",
      "\n",
      "textsize is deprecated and will be removed in Pillow 10 (2023-07-01). Use textbbox or textlength instead.\n",
      "\n",
      "e:\\ProgramsInstalled\\Anaconda\\lib\\site-packages\\wordcloud\\wordcloud.py:508: DeprecationWarning:\n",
      "\n",
      "textsize is deprecated and will be removed in Pillow 10 (2023-07-01). Use textbbox or textlength instead.\n",
      "\n",
      "e:\\ProgramsInstalled\\Anaconda\\lib\\site-packages\\wordcloud\\wordcloud.py:508: DeprecationWarning:\n",
      "\n",
      "textsize is deprecated and will be removed in Pillow 10 (2023-07-01). Use textbbox or textlength instead.\n",
      "\n",
      "e:\\ProgramsInstalled\\Anaconda\\lib\\site-packages\\wordcloud\\wordcloud.py:508: DeprecationWarning:\n",
      "\n",
      "textsize is deprecated and will be removed in Pillow 10 (2023-07-01). Use textbbox or textlength instead.\n",
      "\n",
      "e:\\ProgramsInstalled\\Anaconda\\lib\\site-packages\\wordcloud\\wordcloud.py:508: DeprecationWarning:\n",
      "\n",
      "textsize is deprecated and will be removed in Pillow 10 (2023-07-01). Use textbbox or textlength instead.\n",
      "\n",
      "e:\\ProgramsInstalled\\Anaconda\\lib\\site-packages\\wordcloud\\wordcloud.py:508: DeprecationWarning:\n",
      "\n",
      "textsize is deprecated and will be removed in Pillow 10 (2023-07-01). Use textbbox or textlength instead.\n",
      "\n",
      "e:\\ProgramsInstalled\\Anaconda\\lib\\site-packages\\wordcloud\\wordcloud.py:508: DeprecationWarning:\n",
      "\n",
      "textsize is deprecated and will be removed in Pillow 10 (2023-07-01). Use textbbox or textlength instead.\n",
      "\n",
      "e:\\ProgramsInstalled\\Anaconda\\lib\\site-packages\\wordcloud\\wordcloud.py:508: DeprecationWarning:\n",
      "\n",
      "textsize is deprecated and will be removed in Pillow 10 (2023-07-01). Use textbbox or textlength instead.\n",
      "\n",
      "e:\\ProgramsInstalled\\Anaconda\\lib\\site-packages\\wordcloud\\wordcloud.py:508: DeprecationWarning:\n",
      "\n",
      "textsize is deprecated and will be removed in Pillow 10 (2023-07-01). Use textbbox or textlength instead.\n",
      "\n",
      "e:\\ProgramsInstalled\\Anaconda\\lib\\site-packages\\wordcloud\\wordcloud.py:508: DeprecationWarning:\n",
      "\n",
      "textsize is deprecated and will be removed in Pillow 10 (2023-07-01). Use textbbox or textlength instead.\n",
      "\n",
      "e:\\ProgramsInstalled\\Anaconda\\lib\\site-packages\\wordcloud\\wordcloud.py:508: DeprecationWarning:\n",
      "\n",
      "textsize is deprecated and will be removed in Pillow 10 (2023-07-01). Use textbbox or textlength instead.\n",
      "\n",
      "e:\\ProgramsInstalled\\Anaconda\\lib\\site-packages\\wordcloud\\wordcloud.py:508: DeprecationWarning:\n",
      "\n",
      "textsize is deprecated and will be removed in Pillow 10 (2023-07-01). Use textbbox or textlength instead.\n",
      "\n",
      "e:\\ProgramsInstalled\\Anaconda\\lib\\site-packages\\wordcloud\\wordcloud.py:508: DeprecationWarning:\n",
      "\n",
      "textsize is deprecated and will be removed in Pillow 10 (2023-07-01). Use textbbox or textlength instead.\n",
      "\n",
      "e:\\ProgramsInstalled\\Anaconda\\lib\\site-packages\\wordcloud\\wordcloud.py:508: DeprecationWarning:\n",
      "\n",
      "textsize is deprecated and will be removed in Pillow 10 (2023-07-01). Use textbbox or textlength instead.\n",
      "\n",
      "e:\\ProgramsInstalled\\Anaconda\\lib\\site-packages\\wordcloud\\wordcloud.py:508: DeprecationWarning:\n",
      "\n",
      "textsize is deprecated and will be removed in Pillow 10 (2023-07-01). Use textbbox or textlength instead.\n",
      "\n",
      "e:\\ProgramsInstalled\\Anaconda\\lib\\site-packages\\wordcloud\\wordcloud.py:508: DeprecationWarning:\n",
      "\n",
      "textsize is deprecated and will be removed in Pillow 10 (2023-07-01). Use textbbox or textlength instead.\n",
      "\n",
      "e:\\ProgramsInstalled\\Anaconda\\lib\\site-packages\\wordcloud\\wordcloud.py:508: DeprecationWarning:\n",
      "\n",
      "textsize is deprecated and will be removed in Pillow 10 (2023-07-01). Use textbbox or textlength instead.\n",
      "\n",
      "e:\\ProgramsInstalled\\Anaconda\\lib\\site-packages\\wordcloud\\wordcloud.py:508: DeprecationWarning:\n",
      "\n",
      "textsize is deprecated and will be removed in Pillow 10 (2023-07-01). Use textbbox or textlength instead.\n",
      "\n",
      "e:\\ProgramsInstalled\\Anaconda\\lib\\site-packages\\wordcloud\\wordcloud.py:508: DeprecationWarning:\n",
      "\n",
      "textsize is deprecated and will be removed in Pillow 10 (2023-07-01). Use textbbox or textlength instead.\n",
      "\n",
      "e:\\ProgramsInstalled\\Anaconda\\lib\\site-packages\\wordcloud\\wordcloud.py:508: DeprecationWarning:\n",
      "\n",
      "textsize is deprecated and will be removed in Pillow 10 (2023-07-01). Use textbbox or textlength instead.\n",
      "\n",
      "e:\\ProgramsInstalled\\Anaconda\\lib\\site-packages\\wordcloud\\wordcloud.py:508: DeprecationWarning:\n",
      "\n",
      "textsize is deprecated and will be removed in Pillow 10 (2023-07-01). Use textbbox or textlength instead.\n",
      "\n",
      "e:\\ProgramsInstalled\\Anaconda\\lib\\site-packages\\wordcloud\\wordcloud.py:508: DeprecationWarning:\n",
      "\n",
      "textsize is deprecated and will be removed in Pillow 10 (2023-07-01). Use textbbox or textlength instead.\n",
      "\n",
      "e:\\ProgramsInstalled\\Anaconda\\lib\\site-packages\\wordcloud\\wordcloud.py:508: DeprecationWarning:\n",
      "\n",
      "textsize is deprecated and will be removed in Pillow 10 (2023-07-01). Use textbbox or textlength instead.\n",
      "\n",
      "e:\\ProgramsInstalled\\Anaconda\\lib\\site-packages\\wordcloud\\wordcloud.py:508: DeprecationWarning:\n",
      "\n",
      "textsize is deprecated and will be removed in Pillow 10 (2023-07-01). Use textbbox or textlength instead.\n",
      "\n",
      "e:\\ProgramsInstalled\\Anaconda\\lib\\site-packages\\wordcloud\\wordcloud.py:508: DeprecationWarning:\n",
      "\n",
      "textsize is deprecated and will be removed in Pillow 10 (2023-07-01). Use textbbox or textlength instead.\n",
      "\n",
      "e:\\ProgramsInstalled\\Anaconda\\lib\\site-packages\\wordcloud\\wordcloud.py:508: DeprecationWarning:\n",
      "\n",
      "textsize is deprecated and will be removed in Pillow 10 (2023-07-01). Use textbbox or textlength instead.\n",
      "\n",
      "e:\\ProgramsInstalled\\Anaconda\\lib\\site-packages\\wordcloud\\wordcloud.py:508: DeprecationWarning:\n",
      "\n",
      "textsize is deprecated and will be removed in Pillow 10 (2023-07-01). Use textbbox or textlength instead.\n",
      "\n",
      "e:\\ProgramsInstalled\\Anaconda\\lib\\site-packages\\wordcloud\\wordcloud.py:508: DeprecationWarning:\n",
      "\n",
      "textsize is deprecated and will be removed in Pillow 10 (2023-07-01). Use textbbox or textlength instead.\n",
      "\n",
      "e:\\ProgramsInstalled\\Anaconda\\lib\\site-packages\\wordcloud\\wordcloud.py:508: DeprecationWarning:\n",
      "\n",
      "textsize is deprecated and will be removed in Pillow 10 (2023-07-01). Use textbbox or textlength instead.\n",
      "\n",
      "e:\\ProgramsInstalled\\Anaconda\\lib\\site-packages\\wordcloud\\wordcloud.py:508: DeprecationWarning:\n",
      "\n",
      "textsize is deprecated and will be removed in Pillow 10 (2023-07-01). Use textbbox or textlength instead.\n",
      "\n",
      "e:\\ProgramsInstalled\\Anaconda\\lib\\site-packages\\wordcloud\\wordcloud.py:508: DeprecationWarning:\n",
      "\n",
      "textsize is deprecated and will be removed in Pillow 10 (2023-07-01). Use textbbox or textlength instead.\n",
      "\n",
      "e:\\ProgramsInstalled\\Anaconda\\lib\\site-packages\\wordcloud\\wordcloud.py:508: DeprecationWarning:\n",
      "\n",
      "textsize is deprecated and will be removed in Pillow 10 (2023-07-01). Use textbbox or textlength instead.\n",
      "\n",
      "e:\\ProgramsInstalled\\Anaconda\\lib\\site-packages\\wordcloud\\wordcloud.py:508: DeprecationWarning:\n",
      "\n",
      "textsize is deprecated and will be removed in Pillow 10 (2023-07-01). Use textbbox or textlength instead.\n",
      "\n",
      "e:\\ProgramsInstalled\\Anaconda\\lib\\site-packages\\wordcloud\\wordcloud.py:508: DeprecationWarning:\n",
      "\n",
      "textsize is deprecated and will be removed in Pillow 10 (2023-07-01). Use textbbox or textlength instead.\n",
      "\n",
      "e:\\ProgramsInstalled\\Anaconda\\lib\\site-packages\\wordcloud\\wordcloud.py:508: DeprecationWarning:\n",
      "\n",
      "textsize is deprecated and will be removed in Pillow 10 (2023-07-01). Use textbbox or textlength instead.\n",
      "\n",
      "e:\\ProgramsInstalled\\Anaconda\\lib\\site-packages\\wordcloud\\wordcloud.py:508: DeprecationWarning:\n",
      "\n",
      "textsize is deprecated and will be removed in Pillow 10 (2023-07-01). Use textbbox or textlength instead.\n",
      "\n",
      "e:\\ProgramsInstalled\\Anaconda\\lib\\site-packages\\wordcloud\\wordcloud.py:508: DeprecationWarning:\n",
      "\n",
      "textsize is deprecated and will be removed in Pillow 10 (2023-07-01). Use textbbox or textlength instead.\n",
      "\n",
      "e:\\ProgramsInstalled\\Anaconda\\lib\\site-packages\\wordcloud\\wordcloud.py:508: DeprecationWarning:\n",
      "\n",
      "textsize is deprecated and will be removed in Pillow 10 (2023-07-01). Use textbbox or textlength instead.\n",
      "\n",
      "e:\\ProgramsInstalled\\Anaconda\\lib\\site-packages\\wordcloud\\wordcloud.py:508: DeprecationWarning:\n",
      "\n",
      "textsize is deprecated and will be removed in Pillow 10 (2023-07-01). Use textbbox or textlength instead.\n",
      "\n",
      "e:\\ProgramsInstalled\\Anaconda\\lib\\site-packages\\wordcloud\\wordcloud.py:508: DeprecationWarning:\n",
      "\n",
      "textsize is deprecated and will be removed in Pillow 10 (2023-07-01). Use textbbox or textlength instead.\n",
      "\n",
      "e:\\ProgramsInstalled\\Anaconda\\lib\\site-packages\\wordcloud\\wordcloud.py:508: DeprecationWarning:\n",
      "\n",
      "textsize is deprecated and will be removed in Pillow 10 (2023-07-01). Use textbbox or textlength instead.\n",
      "\n",
      "e:\\ProgramsInstalled\\Anaconda\\lib\\site-packages\\wordcloud\\wordcloud.py:508: DeprecationWarning:\n",
      "\n",
      "textsize is deprecated and will be removed in Pillow 10 (2023-07-01). Use textbbox or textlength instead.\n",
      "\n",
      "e:\\ProgramsInstalled\\Anaconda\\lib\\site-packages\\wordcloud\\wordcloud.py:508: DeprecationWarning:\n",
      "\n",
      "textsize is deprecated and will be removed in Pillow 10 (2023-07-01). Use textbbox or textlength instead.\n",
      "\n",
      "e:\\ProgramsInstalled\\Anaconda\\lib\\site-packages\\wordcloud\\wordcloud.py:508: DeprecationWarning:\n",
      "\n",
      "textsize is deprecated and will be removed in Pillow 10 (2023-07-01). Use textbbox or textlength instead.\n",
      "\n",
      "e:\\ProgramsInstalled\\Anaconda\\lib\\site-packages\\wordcloud\\wordcloud.py:508: DeprecationWarning:\n",
      "\n",
      "textsize is deprecated and will be removed in Pillow 10 (2023-07-01). Use textbbox or textlength instead.\n",
      "\n",
      "e:\\ProgramsInstalled\\Anaconda\\lib\\site-packages\\wordcloud\\wordcloud.py:508: DeprecationWarning:\n",
      "\n",
      "textsize is deprecated and will be removed in Pillow 10 (2023-07-01). Use textbbox or textlength instead.\n",
      "\n",
      "e:\\ProgramsInstalled\\Anaconda\\lib\\site-packages\\wordcloud\\wordcloud.py:508: DeprecationWarning:\n",
      "\n",
      "textsize is deprecated and will be removed in Pillow 10 (2023-07-01). Use textbbox or textlength instead.\n",
      "\n",
      "e:\\ProgramsInstalled\\Anaconda\\lib\\site-packages\\wordcloud\\wordcloud.py:508: DeprecationWarning:\n",
      "\n",
      "textsize is deprecated and will be removed in Pillow 10 (2023-07-01). Use textbbox or textlength instead.\n",
      "\n",
      "e:\\ProgramsInstalled\\Anaconda\\lib\\site-packages\\wordcloud\\wordcloud.py:508: DeprecationWarning:\n",
      "\n",
      "textsize is deprecated and will be removed in Pillow 10 (2023-07-01). Use textbbox or textlength instead.\n",
      "\n",
      "e:\\ProgramsInstalled\\Anaconda\\lib\\site-packages\\wordcloud\\wordcloud.py:508: DeprecationWarning:\n",
      "\n",
      "textsize is deprecated and will be removed in Pillow 10 (2023-07-01). Use textbbox or textlength instead.\n",
      "\n",
      "e:\\ProgramsInstalled\\Anaconda\\lib\\site-packages\\wordcloud\\wordcloud.py:508: DeprecationWarning:\n",
      "\n",
      "textsize is deprecated and will be removed in Pillow 10 (2023-07-01). Use textbbox or textlength instead.\n",
      "\n",
      "e:\\ProgramsInstalled\\Anaconda\\lib\\site-packages\\wordcloud\\wordcloud.py:508: DeprecationWarning:\n",
      "\n",
      "textsize is deprecated and will be removed in Pillow 10 (2023-07-01). Use textbbox or textlength instead.\n",
      "\n",
      "e:\\ProgramsInstalled\\Anaconda\\lib\\site-packages\\wordcloud\\wordcloud.py:508: DeprecationWarning:\n",
      "\n",
      "textsize is deprecated and will be removed in Pillow 10 (2023-07-01). Use textbbox or textlength instead.\n",
      "\n",
      "e:\\ProgramsInstalled\\Anaconda\\lib\\site-packages\\wordcloud\\wordcloud.py:508: DeprecationWarning:\n",
      "\n",
      "textsize is deprecated and will be removed in Pillow 10 (2023-07-01). Use textbbox or textlength instead.\n",
      "\n",
      "e:\\ProgramsInstalled\\Anaconda\\lib\\site-packages\\wordcloud\\wordcloud.py:508: DeprecationWarning:\n",
      "\n",
      "textsize is deprecated and will be removed in Pillow 10 (2023-07-01). Use textbbox or textlength instead.\n",
      "\n",
      "e:\\ProgramsInstalled\\Anaconda\\lib\\site-packages\\wordcloud\\wordcloud.py:508: DeprecationWarning:\n",
      "\n",
      "textsize is deprecated and will be removed in Pillow 10 (2023-07-01). Use textbbox or textlength instead.\n",
      "\n",
      "e:\\ProgramsInstalled\\Anaconda\\lib\\site-packages\\wordcloud\\wordcloud.py:508: DeprecationWarning:\n",
      "\n",
      "textsize is deprecated and will be removed in Pillow 10 (2023-07-01). Use textbbox or textlength instead.\n",
      "\n",
      "e:\\ProgramsInstalled\\Anaconda\\lib\\site-packages\\wordcloud\\wordcloud.py:508: DeprecationWarning:\n",
      "\n",
      "textsize is deprecated and will be removed in Pillow 10 (2023-07-01). Use textbbox or textlength instead.\n",
      "\n",
      "e:\\ProgramsInstalled\\Anaconda\\lib\\site-packages\\wordcloud\\wordcloud.py:508: DeprecationWarning:\n",
      "\n",
      "textsize is deprecated and will be removed in Pillow 10 (2023-07-01). Use textbbox or textlength instead.\n",
      "\n",
      "e:\\ProgramsInstalled\\Anaconda\\lib\\site-packages\\wordcloud\\wordcloud.py:508: DeprecationWarning:\n",
      "\n",
      "textsize is deprecated and will be removed in Pillow 10 (2023-07-01). Use textbbox or textlength instead.\n",
      "\n",
      "e:\\ProgramsInstalled\\Anaconda\\lib\\site-packages\\wordcloud\\wordcloud.py:508: DeprecationWarning:\n",
      "\n",
      "textsize is deprecated and will be removed in Pillow 10 (2023-07-01). Use textbbox or textlength instead.\n",
      "\n",
      "e:\\ProgramsInstalled\\Anaconda\\lib\\site-packages\\wordcloud\\wordcloud.py:508: DeprecationWarning:\n",
      "\n",
      "textsize is deprecated and will be removed in Pillow 10 (2023-07-01). Use textbbox or textlength instead.\n",
      "\n",
      "e:\\ProgramsInstalled\\Anaconda\\lib\\site-packages\\wordcloud\\wordcloud.py:508: DeprecationWarning:\n",
      "\n",
      "textsize is deprecated and will be removed in Pillow 10 (2023-07-01). Use textbbox or textlength instead.\n",
      "\n",
      "e:\\ProgramsInstalled\\Anaconda\\lib\\site-packages\\wordcloud\\wordcloud.py:508: DeprecationWarning:\n",
      "\n",
      "textsize is deprecated and will be removed in Pillow 10 (2023-07-01). Use textbbox or textlength instead.\n",
      "\n",
      "e:\\ProgramsInstalled\\Anaconda\\lib\\site-packages\\wordcloud\\wordcloud.py:508: DeprecationWarning:\n",
      "\n",
      "textsize is deprecated and will be removed in Pillow 10 (2023-07-01). Use textbbox or textlength instead.\n",
      "\n",
      "e:\\ProgramsInstalled\\Anaconda\\lib\\site-packages\\wordcloud\\wordcloud.py:508: DeprecationWarning:\n",
      "\n",
      "textsize is deprecated and will be removed in Pillow 10 (2023-07-01). Use textbbox or textlength instead.\n",
      "\n",
      "e:\\ProgramsInstalled\\Anaconda\\lib\\site-packages\\wordcloud\\wordcloud.py:508: DeprecationWarning:\n",
      "\n",
      "textsize is deprecated and will be removed in Pillow 10 (2023-07-01). Use textbbox or textlength instead.\n",
      "\n",
      "e:\\ProgramsInstalled\\Anaconda\\lib\\site-packages\\wordcloud\\wordcloud.py:508: DeprecationWarning:\n",
      "\n",
      "textsize is deprecated and will be removed in Pillow 10 (2023-07-01). Use textbbox or textlength instead.\n",
      "\n",
      "e:\\ProgramsInstalled\\Anaconda\\lib\\site-packages\\wordcloud\\wordcloud.py:508: DeprecationWarning:\n",
      "\n",
      "textsize is deprecated and will be removed in Pillow 10 (2023-07-01). Use textbbox or textlength instead.\n",
      "\n",
      "e:\\ProgramsInstalled\\Anaconda\\lib\\site-packages\\wordcloud\\wordcloud.py:508: DeprecationWarning:\n",
      "\n",
      "textsize is deprecated and will be removed in Pillow 10 (2023-07-01). Use textbbox or textlength instead.\n",
      "\n",
      "e:\\ProgramsInstalled\\Anaconda\\lib\\site-packages\\wordcloud\\wordcloud.py:508: DeprecationWarning:\n",
      "\n",
      "textsize is deprecated and will be removed in Pillow 10 (2023-07-01). Use textbbox or textlength instead.\n",
      "\n",
      "e:\\ProgramsInstalled\\Anaconda\\lib\\site-packages\\wordcloud\\wordcloud.py:508: DeprecationWarning:\n",
      "\n",
      "textsize is deprecated and will be removed in Pillow 10 (2023-07-01). Use textbbox or textlength instead.\n",
      "\n",
      "e:\\ProgramsInstalled\\Anaconda\\lib\\site-packages\\wordcloud\\wordcloud.py:508: DeprecationWarning:\n",
      "\n",
      "textsize is deprecated and will be removed in Pillow 10 (2023-07-01). Use textbbox or textlength instead.\n",
      "\n",
      "e:\\ProgramsInstalled\\Anaconda\\lib\\site-packages\\wordcloud\\wordcloud.py:508: DeprecationWarning:\n",
      "\n",
      "textsize is deprecated and will be removed in Pillow 10 (2023-07-01). Use textbbox or textlength instead.\n",
      "\n",
      "e:\\ProgramsInstalled\\Anaconda\\lib\\site-packages\\wordcloud\\wordcloud.py:508: DeprecationWarning:\n",
      "\n",
      "textsize is deprecated and will be removed in Pillow 10 (2023-07-01). Use textbbox or textlength instead.\n",
      "\n",
      "e:\\ProgramsInstalled\\Anaconda\\lib\\site-packages\\wordcloud\\wordcloud.py:508: DeprecationWarning:\n",
      "\n",
      "textsize is deprecated and will be removed in Pillow 10 (2023-07-01). Use textbbox or textlength instead.\n",
      "\n",
      "e:\\ProgramsInstalled\\Anaconda\\lib\\site-packages\\wordcloud\\wordcloud.py:508: DeprecationWarning:\n",
      "\n",
      "textsize is deprecated and will be removed in Pillow 10 (2023-07-01). Use textbbox or textlength instead.\n",
      "\n",
      "e:\\ProgramsInstalled\\Anaconda\\lib\\site-packages\\wordcloud\\wordcloud.py:508: DeprecationWarning:\n",
      "\n",
      "textsize is deprecated and will be removed in Pillow 10 (2023-07-01). Use textbbox or textlength instead.\n",
      "\n",
      "e:\\ProgramsInstalled\\Anaconda\\lib\\site-packages\\wordcloud\\wordcloud.py:508: DeprecationWarning:\n",
      "\n",
      "textsize is deprecated and will be removed in Pillow 10 (2023-07-01). Use textbbox or textlength instead.\n",
      "\n",
      "e:\\ProgramsInstalled\\Anaconda\\lib\\site-packages\\wordcloud\\wordcloud.py:508: DeprecationWarning:\n",
      "\n",
      "textsize is deprecated and will be removed in Pillow 10 (2023-07-01). Use textbbox or textlength instead.\n",
      "\n",
      "e:\\ProgramsInstalled\\Anaconda\\lib\\site-packages\\wordcloud\\wordcloud.py:508: DeprecationWarning:\n",
      "\n",
      "textsize is deprecated and will be removed in Pillow 10 (2023-07-01). Use textbbox or textlength instead.\n",
      "\n",
      "e:\\ProgramsInstalled\\Anaconda\\lib\\site-packages\\wordcloud\\wordcloud.py:508: DeprecationWarning:\n",
      "\n",
      "textsize is deprecated and will be removed in Pillow 10 (2023-07-01). Use textbbox or textlength instead.\n",
      "\n",
      "e:\\ProgramsInstalled\\Anaconda\\lib\\site-packages\\wordcloud\\wordcloud.py:508: DeprecationWarning:\n",
      "\n",
      "textsize is deprecated and will be removed in Pillow 10 (2023-07-01). Use textbbox or textlength instead.\n",
      "\n",
      "e:\\ProgramsInstalled\\Anaconda\\lib\\site-packages\\wordcloud\\wordcloud.py:508: DeprecationWarning:\n",
      "\n",
      "textsize is deprecated and will be removed in Pillow 10 (2023-07-01). Use textbbox or textlength instead.\n",
      "\n",
      "e:\\ProgramsInstalled\\Anaconda\\lib\\site-packages\\wordcloud\\wordcloud.py:508: DeprecationWarning:\n",
      "\n",
      "textsize is deprecated and will be removed in Pillow 10 (2023-07-01). Use textbbox or textlength instead.\n",
      "\n",
      "e:\\ProgramsInstalled\\Anaconda\\lib\\site-packages\\wordcloud\\wordcloud.py:508: DeprecationWarning:\n",
      "\n",
      "textsize is deprecated and will be removed in Pillow 10 (2023-07-01). Use textbbox or textlength instead.\n",
      "\n",
      "e:\\ProgramsInstalled\\Anaconda\\lib\\site-packages\\wordcloud\\wordcloud.py:508: DeprecationWarning:\n",
      "\n",
      "textsize is deprecated and will be removed in Pillow 10 (2023-07-01). Use textbbox or textlength instead.\n",
      "\n",
      "e:\\ProgramsInstalled\\Anaconda\\lib\\site-packages\\wordcloud\\wordcloud.py:508: DeprecationWarning:\n",
      "\n",
      "textsize is deprecated and will be removed in Pillow 10 (2023-07-01). Use textbbox or textlength instead.\n",
      "\n",
      "e:\\ProgramsInstalled\\Anaconda\\lib\\site-packages\\wordcloud\\wordcloud.py:508: DeprecationWarning:\n",
      "\n",
      "textsize is deprecated and will be removed in Pillow 10 (2023-07-01). Use textbbox or textlength instead.\n",
      "\n",
      "e:\\ProgramsInstalled\\Anaconda\\lib\\site-packages\\wordcloud\\wordcloud.py:508: DeprecationWarning:\n",
      "\n",
      "textsize is deprecated and will be removed in Pillow 10 (2023-07-01). Use textbbox or textlength instead.\n",
      "\n",
      "e:\\ProgramsInstalled\\Anaconda\\lib\\site-packages\\wordcloud\\wordcloud.py:508: DeprecationWarning:\n",
      "\n",
      "textsize is deprecated and will be removed in Pillow 10 (2023-07-01). Use textbbox or textlength instead.\n",
      "\n",
      "e:\\ProgramsInstalled\\Anaconda\\lib\\site-packages\\wordcloud\\wordcloud.py:508: DeprecationWarning:\n",
      "\n",
      "textsize is deprecated and will be removed in Pillow 10 (2023-07-01). Use textbbox or textlength instead.\n",
      "\n",
      "e:\\ProgramsInstalled\\Anaconda\\lib\\site-packages\\wordcloud\\wordcloud.py:508: DeprecationWarning:\n",
      "\n",
      "textsize is deprecated and will be removed in Pillow 10 (2023-07-01). Use textbbox or textlength instead.\n",
      "\n",
      "e:\\ProgramsInstalled\\Anaconda\\lib\\site-packages\\wordcloud\\wordcloud.py:508: DeprecationWarning:\n",
      "\n",
      "textsize is deprecated and will be removed in Pillow 10 (2023-07-01). Use textbbox or textlength instead.\n",
      "\n",
      "e:\\ProgramsInstalled\\Anaconda\\lib\\site-packages\\wordcloud\\wordcloud.py:508: DeprecationWarning:\n",
      "\n",
      "textsize is deprecated and will be removed in Pillow 10 (2023-07-01). Use textbbox or textlength instead.\n",
      "\n",
      "e:\\ProgramsInstalled\\Anaconda\\lib\\site-packages\\wordcloud\\wordcloud.py:508: DeprecationWarning:\n",
      "\n",
      "textsize is deprecated and will be removed in Pillow 10 (2023-07-01). Use textbbox or textlength instead.\n",
      "\n",
      "e:\\ProgramsInstalled\\Anaconda\\lib\\site-packages\\wordcloud\\wordcloud.py:508: DeprecationWarning:\n",
      "\n",
      "textsize is deprecated and will be removed in Pillow 10 (2023-07-01). Use textbbox or textlength instead.\n",
      "\n",
      "e:\\ProgramsInstalled\\Anaconda\\lib\\site-packages\\wordcloud\\wordcloud.py:508: DeprecationWarning:\n",
      "\n",
      "textsize is deprecated and will be removed in Pillow 10 (2023-07-01). Use textbbox or textlength instead.\n",
      "\n",
      "e:\\ProgramsInstalled\\Anaconda\\lib\\site-packages\\wordcloud\\wordcloud.py:508: DeprecationWarning:\n",
      "\n",
      "textsize is deprecated and will be removed in Pillow 10 (2023-07-01). Use textbbox or textlength instead.\n",
      "\n",
      "e:\\ProgramsInstalled\\Anaconda\\lib\\site-packages\\wordcloud\\wordcloud.py:508: DeprecationWarning:\n",
      "\n",
      "textsize is deprecated and will be removed in Pillow 10 (2023-07-01). Use textbbox or textlength instead.\n",
      "\n",
      "e:\\ProgramsInstalled\\Anaconda\\lib\\site-packages\\wordcloud\\wordcloud.py:508: DeprecationWarning:\n",
      "\n",
      "textsize is deprecated and will be removed in Pillow 10 (2023-07-01). Use textbbox or textlength instead.\n",
      "\n",
      "e:\\ProgramsInstalled\\Anaconda\\lib\\site-packages\\wordcloud\\wordcloud.py:508: DeprecationWarning:\n",
      "\n",
      "textsize is deprecated and will be removed in Pillow 10 (2023-07-01). Use textbbox or textlength instead.\n",
      "\n",
      "e:\\ProgramsInstalled\\Anaconda\\lib\\site-packages\\wordcloud\\wordcloud.py:508: DeprecationWarning:\n",
      "\n",
      "textsize is deprecated and will be removed in Pillow 10 (2023-07-01). Use textbbox or textlength instead.\n",
      "\n",
      "e:\\ProgramsInstalled\\Anaconda\\lib\\site-packages\\wordcloud\\wordcloud.py:508: DeprecationWarning:\n",
      "\n",
      "textsize is deprecated and will be removed in Pillow 10 (2023-07-01). Use textbbox or textlength instead.\n",
      "\n",
      "e:\\ProgramsInstalled\\Anaconda\\lib\\site-packages\\wordcloud\\wordcloud.py:508: DeprecationWarning:\n",
      "\n",
      "textsize is deprecated and will be removed in Pillow 10 (2023-07-01). Use textbbox or textlength instead.\n",
      "\n",
      "e:\\ProgramsInstalled\\Anaconda\\lib\\site-packages\\wordcloud\\wordcloud.py:508: DeprecationWarning:\n",
      "\n",
      "textsize is deprecated and will be removed in Pillow 10 (2023-07-01). Use textbbox or textlength instead.\n",
      "\n",
      "e:\\ProgramsInstalled\\Anaconda\\lib\\site-packages\\wordcloud\\wordcloud.py:508: DeprecationWarning:\n",
      "\n",
      "textsize is deprecated and will be removed in Pillow 10 (2023-07-01). Use textbbox or textlength instead.\n",
      "\n",
      "e:\\ProgramsInstalled\\Anaconda\\lib\\site-packages\\wordcloud\\wordcloud.py:508: DeprecationWarning:\n",
      "\n",
      "textsize is deprecated and will be removed in Pillow 10 (2023-07-01). Use textbbox or textlength instead.\n",
      "\n",
      "e:\\ProgramsInstalled\\Anaconda\\lib\\site-packages\\wordcloud\\wordcloud.py:508: DeprecationWarning:\n",
      "\n",
      "textsize is deprecated and will be removed in Pillow 10 (2023-07-01). Use textbbox or textlength instead.\n",
      "\n",
      "e:\\ProgramsInstalled\\Anaconda\\lib\\site-packages\\wordcloud\\wordcloud.py:508: DeprecationWarning:\n",
      "\n",
      "textsize is deprecated and will be removed in Pillow 10 (2023-07-01). Use textbbox or textlength instead.\n",
      "\n",
      "e:\\ProgramsInstalled\\Anaconda\\lib\\site-packages\\wordcloud\\wordcloud.py:508: DeprecationWarning:\n",
      "\n",
      "textsize is deprecated and will be removed in Pillow 10 (2023-07-01). Use textbbox or textlength instead.\n",
      "\n",
      "e:\\ProgramsInstalled\\Anaconda\\lib\\site-packages\\wordcloud\\wordcloud.py:508: DeprecationWarning:\n",
      "\n",
      "textsize is deprecated and will be removed in Pillow 10 (2023-07-01). Use textbbox or textlength instead.\n",
      "\n",
      "e:\\ProgramsInstalled\\Anaconda\\lib\\site-packages\\wordcloud\\wordcloud.py:508: DeprecationWarning:\n",
      "\n",
      "textsize is deprecated and will be removed in Pillow 10 (2023-07-01). Use textbbox or textlength instead.\n",
      "\n",
      "e:\\ProgramsInstalled\\Anaconda\\lib\\site-packages\\wordcloud\\wordcloud.py:508: DeprecationWarning:\n",
      "\n",
      "textsize is deprecated and will be removed in Pillow 10 (2023-07-01). Use textbbox or textlength instead.\n",
      "\n",
      "e:\\ProgramsInstalled\\Anaconda\\lib\\site-packages\\wordcloud\\wordcloud.py:508: DeprecationWarning:\n",
      "\n",
      "textsize is deprecated and will be removed in Pillow 10 (2023-07-01). Use textbbox or textlength instead.\n",
      "\n",
      "e:\\ProgramsInstalled\\Anaconda\\lib\\site-packages\\wordcloud\\wordcloud.py:508: DeprecationWarning:\n",
      "\n",
      "textsize is deprecated and will be removed in Pillow 10 (2023-07-01). Use textbbox or textlength instead.\n",
      "\n",
      "e:\\ProgramsInstalled\\Anaconda\\lib\\site-packages\\wordcloud\\wordcloud.py:508: DeprecationWarning:\n",
      "\n",
      "textsize is deprecated and will be removed in Pillow 10 (2023-07-01). Use textbbox or textlength instead.\n",
      "\n",
      "e:\\ProgramsInstalled\\Anaconda\\lib\\site-packages\\wordcloud\\wordcloud.py:508: DeprecationWarning:\n",
      "\n",
      "textsize is deprecated and will be removed in Pillow 10 (2023-07-01). Use textbbox or textlength instead.\n",
      "\n",
      "e:\\ProgramsInstalled\\Anaconda\\lib\\site-packages\\wordcloud\\wordcloud.py:508: DeprecationWarning:\n",
      "\n",
      "textsize is deprecated and will be removed in Pillow 10 (2023-07-01). Use textbbox or textlength instead.\n",
      "\n",
      "e:\\ProgramsInstalled\\Anaconda\\lib\\site-packages\\wordcloud\\wordcloud.py:508: DeprecationWarning:\n",
      "\n",
      "textsize is deprecated and will be removed in Pillow 10 (2023-07-01). Use textbbox or textlength instead.\n",
      "\n",
      "e:\\ProgramsInstalled\\Anaconda\\lib\\site-packages\\wordcloud\\wordcloud.py:508: DeprecationWarning:\n",
      "\n",
      "textsize is deprecated and will be removed in Pillow 10 (2023-07-01). Use textbbox or textlength instead.\n",
      "\n",
      "e:\\ProgramsInstalled\\Anaconda\\lib\\site-packages\\wordcloud\\wordcloud.py:508: DeprecationWarning:\n",
      "\n",
      "textsize is deprecated and will be removed in Pillow 10 (2023-07-01). Use textbbox or textlength instead.\n",
      "\n",
      "e:\\ProgramsInstalled\\Anaconda\\lib\\site-packages\\wordcloud\\wordcloud.py:508: DeprecationWarning:\n",
      "\n",
      "textsize is deprecated and will be removed in Pillow 10 (2023-07-01). Use textbbox or textlength instead.\n",
      "\n",
      "e:\\ProgramsInstalled\\Anaconda\\lib\\site-packages\\wordcloud\\wordcloud.py:508: DeprecationWarning:\n",
      "\n",
      "textsize is deprecated and will be removed in Pillow 10 (2023-07-01). Use textbbox or textlength instead.\n",
      "\n",
      "e:\\ProgramsInstalled\\Anaconda\\lib\\site-packages\\wordcloud\\wordcloud.py:508: DeprecationWarning:\n",
      "\n",
      "textsize is deprecated and will be removed in Pillow 10 (2023-07-01). Use textbbox or textlength instead.\n",
      "\n",
      "e:\\ProgramsInstalled\\Anaconda\\lib\\site-packages\\wordcloud\\wordcloud.py:508: DeprecationWarning:\n",
      "\n",
      "textsize is deprecated and will be removed in Pillow 10 (2023-07-01). Use textbbox or textlength instead.\n",
      "\n",
      "e:\\ProgramsInstalled\\Anaconda\\lib\\site-packages\\wordcloud\\wordcloud.py:508: DeprecationWarning:\n",
      "\n",
      "textsize is deprecated and will be removed in Pillow 10 (2023-07-01). Use textbbox or textlength instead.\n",
      "\n",
      "e:\\ProgramsInstalled\\Anaconda\\lib\\site-packages\\wordcloud\\wordcloud.py:508: DeprecationWarning:\n",
      "\n",
      "textsize is deprecated and will be removed in Pillow 10 (2023-07-01). Use textbbox or textlength instead.\n",
      "\n",
      "e:\\ProgramsInstalled\\Anaconda\\lib\\site-packages\\wordcloud\\wordcloud.py:508: DeprecationWarning:\n",
      "\n",
      "textsize is deprecated and will be removed in Pillow 10 (2023-07-01). Use textbbox or textlength instead.\n",
      "\n",
      "e:\\ProgramsInstalled\\Anaconda\\lib\\site-packages\\wordcloud\\wordcloud.py:508: DeprecationWarning:\n",
      "\n",
      "textsize is deprecated and will be removed in Pillow 10 (2023-07-01). Use textbbox or textlength instead.\n",
      "\n",
      "e:\\ProgramsInstalled\\Anaconda\\lib\\site-packages\\wordcloud\\wordcloud.py:508: DeprecationWarning:\n",
      "\n",
      "textsize is deprecated and will be removed in Pillow 10 (2023-07-01). Use textbbox or textlength instead.\n",
      "\n",
      "e:\\ProgramsInstalled\\Anaconda\\lib\\site-packages\\wordcloud\\wordcloud.py:508: DeprecationWarning:\n",
      "\n",
      "textsize is deprecated and will be removed in Pillow 10 (2023-07-01). Use textbbox or textlength instead.\n",
      "\n",
      "e:\\ProgramsInstalled\\Anaconda\\lib\\site-packages\\wordcloud\\wordcloud.py:508: DeprecationWarning:\n",
      "\n",
      "textsize is deprecated and will be removed in Pillow 10 (2023-07-01). Use textbbox or textlength instead.\n",
      "\n",
      "e:\\ProgramsInstalled\\Anaconda\\lib\\site-packages\\wordcloud\\wordcloud.py:508: DeprecationWarning:\n",
      "\n",
      "textsize is deprecated and will be removed in Pillow 10 (2023-07-01). Use textbbox or textlength instead.\n",
      "\n",
      "e:\\ProgramsInstalled\\Anaconda\\lib\\site-packages\\wordcloud\\wordcloud.py:508: DeprecationWarning:\n",
      "\n",
      "textsize is deprecated and will be removed in Pillow 10 (2023-07-01). Use textbbox or textlength instead.\n",
      "\n",
      "e:\\ProgramsInstalled\\Anaconda\\lib\\site-packages\\wordcloud\\wordcloud.py:508: DeprecationWarning:\n",
      "\n",
      "textsize is deprecated and will be removed in Pillow 10 (2023-07-01). Use textbbox or textlength instead.\n",
      "\n",
      "e:\\ProgramsInstalled\\Anaconda\\lib\\site-packages\\wordcloud\\wordcloud.py:508: DeprecationWarning:\n",
      "\n",
      "textsize is deprecated and will be removed in Pillow 10 (2023-07-01). Use textbbox or textlength instead.\n",
      "\n",
      "e:\\ProgramsInstalled\\Anaconda\\lib\\site-packages\\wordcloud\\wordcloud.py:508: DeprecationWarning:\n",
      "\n",
      "textsize is deprecated and will be removed in Pillow 10 (2023-07-01). Use textbbox or textlength instead.\n",
      "\n",
      "e:\\ProgramsInstalled\\Anaconda\\lib\\site-packages\\wordcloud\\wordcloud.py:508: DeprecationWarning:\n",
      "\n",
      "textsize is deprecated and will be removed in Pillow 10 (2023-07-01). Use textbbox or textlength instead.\n",
      "\n",
      "e:\\ProgramsInstalled\\Anaconda\\lib\\site-packages\\wordcloud\\wordcloud.py:508: DeprecationWarning:\n",
      "\n",
      "textsize is deprecated and will be removed in Pillow 10 (2023-07-01). Use textbbox or textlength instead.\n",
      "\n",
      "e:\\ProgramsInstalled\\Anaconda\\lib\\site-packages\\wordcloud\\wordcloud.py:508: DeprecationWarning:\n",
      "\n",
      "textsize is deprecated and will be removed in Pillow 10 (2023-07-01). Use textbbox or textlength instead.\n",
      "\n",
      "e:\\ProgramsInstalled\\Anaconda\\lib\\site-packages\\wordcloud\\wordcloud.py:508: DeprecationWarning:\n",
      "\n",
      "textsize is deprecated and will be removed in Pillow 10 (2023-07-01). Use textbbox or textlength instead.\n",
      "\n",
      "e:\\ProgramsInstalled\\Anaconda\\lib\\site-packages\\wordcloud\\wordcloud.py:508: DeprecationWarning:\n",
      "\n",
      "textsize is deprecated and will be removed in Pillow 10 (2023-07-01). Use textbbox or textlength instead.\n",
      "\n",
      "e:\\ProgramsInstalled\\Anaconda\\lib\\site-packages\\wordcloud\\wordcloud.py:508: DeprecationWarning:\n",
      "\n",
      "textsize is deprecated and will be removed in Pillow 10 (2023-07-01). Use textbbox or textlength instead.\n",
      "\n",
      "e:\\ProgramsInstalled\\Anaconda\\lib\\site-packages\\wordcloud\\wordcloud.py:508: DeprecationWarning:\n",
      "\n",
      "textsize is deprecated and will be removed in Pillow 10 (2023-07-01). Use textbbox or textlength instead.\n",
      "\n",
      "e:\\ProgramsInstalled\\Anaconda\\lib\\site-packages\\wordcloud\\wordcloud.py:508: DeprecationWarning:\n",
      "\n",
      "textsize is deprecated and will be removed in Pillow 10 (2023-07-01). Use textbbox or textlength instead.\n",
      "\n",
      "e:\\ProgramsInstalled\\Anaconda\\lib\\site-packages\\wordcloud\\wordcloud.py:508: DeprecationWarning:\n",
      "\n",
      "textsize is deprecated and will be removed in Pillow 10 (2023-07-01). Use textbbox or textlength instead.\n",
      "\n",
      "e:\\ProgramsInstalled\\Anaconda\\lib\\site-packages\\wordcloud\\wordcloud.py:508: DeprecationWarning:\n",
      "\n",
      "textsize is deprecated and will be removed in Pillow 10 (2023-07-01). Use textbbox or textlength instead.\n",
      "\n",
      "e:\\ProgramsInstalled\\Anaconda\\lib\\site-packages\\wordcloud\\wordcloud.py:508: DeprecationWarning:\n",
      "\n",
      "textsize is deprecated and will be removed in Pillow 10 (2023-07-01). Use textbbox or textlength instead.\n",
      "\n",
      "e:\\ProgramsInstalled\\Anaconda\\lib\\site-packages\\wordcloud\\wordcloud.py:508: DeprecationWarning:\n",
      "\n",
      "textsize is deprecated and will be removed in Pillow 10 (2023-07-01). Use textbbox or textlength instead.\n",
      "\n",
      "e:\\ProgramsInstalled\\Anaconda\\lib\\site-packages\\wordcloud\\wordcloud.py:508: DeprecationWarning:\n",
      "\n",
      "textsize is deprecated and will be removed in Pillow 10 (2023-07-01). Use textbbox or textlength instead.\n",
      "\n",
      "e:\\ProgramsInstalled\\Anaconda\\lib\\site-packages\\wordcloud\\wordcloud.py:508: DeprecationWarning:\n",
      "\n",
      "textsize is deprecated and will be removed in Pillow 10 (2023-07-01). Use textbbox or textlength instead.\n",
      "\n",
      "e:\\ProgramsInstalled\\Anaconda\\lib\\site-packages\\wordcloud\\wordcloud.py:508: DeprecationWarning:\n",
      "\n",
      "textsize is deprecated and will be removed in Pillow 10 (2023-07-01). Use textbbox or textlength instead.\n",
      "\n",
      "e:\\ProgramsInstalled\\Anaconda\\lib\\site-packages\\wordcloud\\wordcloud.py:508: DeprecationWarning:\n",
      "\n",
      "textsize is deprecated and will be removed in Pillow 10 (2023-07-01). Use textbbox or textlength instead.\n",
      "\n",
      "e:\\ProgramsInstalled\\Anaconda\\lib\\site-packages\\wordcloud\\wordcloud.py:508: DeprecationWarning:\n",
      "\n",
      "textsize is deprecated and will be removed in Pillow 10 (2023-07-01). Use textbbox or textlength instead.\n",
      "\n",
      "e:\\ProgramsInstalled\\Anaconda\\lib\\site-packages\\wordcloud\\wordcloud.py:508: DeprecationWarning:\n",
      "\n",
      "textsize is deprecated and will be removed in Pillow 10 (2023-07-01). Use textbbox or textlength instead.\n",
      "\n",
      "e:\\ProgramsInstalled\\Anaconda\\lib\\site-packages\\wordcloud\\wordcloud.py:508: DeprecationWarning:\n",
      "\n",
      "textsize is deprecated and will be removed in Pillow 10 (2023-07-01). Use textbbox or textlength instead.\n",
      "\n",
      "e:\\ProgramsInstalled\\Anaconda\\lib\\site-packages\\wordcloud\\wordcloud.py:508: DeprecationWarning:\n",
      "\n",
      "textsize is deprecated and will be removed in Pillow 10 (2023-07-01). Use textbbox or textlength instead.\n",
      "\n",
      "e:\\ProgramsInstalled\\Anaconda\\lib\\site-packages\\wordcloud\\wordcloud.py:508: DeprecationWarning:\n",
      "\n",
      "textsize is deprecated and will be removed in Pillow 10 (2023-07-01). Use textbbox or textlength instead.\n",
      "\n",
      "e:\\ProgramsInstalled\\Anaconda\\lib\\site-packages\\wordcloud\\wordcloud.py:508: DeprecationWarning:\n",
      "\n",
      "textsize is deprecated and will be removed in Pillow 10 (2023-07-01). Use textbbox or textlength instead.\n",
      "\n",
      "e:\\ProgramsInstalled\\Anaconda\\lib\\site-packages\\wordcloud\\wordcloud.py:508: DeprecationWarning:\n",
      "\n",
      "textsize is deprecated and will be removed in Pillow 10 (2023-07-01). Use textbbox or textlength instead.\n",
      "\n",
      "e:\\ProgramsInstalled\\Anaconda\\lib\\site-packages\\wordcloud\\wordcloud.py:508: DeprecationWarning:\n",
      "\n",
      "textsize is deprecated and will be removed in Pillow 10 (2023-07-01). Use textbbox or textlength instead.\n",
      "\n",
      "e:\\ProgramsInstalled\\Anaconda\\lib\\site-packages\\wordcloud\\wordcloud.py:508: DeprecationWarning:\n",
      "\n",
      "textsize is deprecated and will be removed in Pillow 10 (2023-07-01). Use textbbox or textlength instead.\n",
      "\n",
      "e:\\ProgramsInstalled\\Anaconda\\lib\\site-packages\\wordcloud\\wordcloud.py:508: DeprecationWarning:\n",
      "\n",
      "textsize is deprecated and will be removed in Pillow 10 (2023-07-01). Use textbbox or textlength instead.\n",
      "\n",
      "e:\\ProgramsInstalled\\Anaconda\\lib\\site-packages\\wordcloud\\wordcloud.py:508: DeprecationWarning:\n",
      "\n",
      "textsize is deprecated and will be removed in Pillow 10 (2023-07-01). Use textbbox or textlength instead.\n",
      "\n",
      "e:\\ProgramsInstalled\\Anaconda\\lib\\site-packages\\wordcloud\\wordcloud.py:508: DeprecationWarning:\n",
      "\n",
      "textsize is deprecated and will be removed in Pillow 10 (2023-07-01). Use textbbox or textlength instead.\n",
      "\n",
      "e:\\ProgramsInstalled\\Anaconda\\lib\\site-packages\\wordcloud\\wordcloud.py:508: DeprecationWarning:\n",
      "\n",
      "textsize is deprecated and will be removed in Pillow 10 (2023-07-01). Use textbbox or textlength instead.\n",
      "\n",
      "e:\\ProgramsInstalled\\Anaconda\\lib\\site-packages\\wordcloud\\wordcloud.py:508: DeprecationWarning:\n",
      "\n",
      "textsize is deprecated and will be removed in Pillow 10 (2023-07-01). Use textbbox or textlength instead.\n",
      "\n",
      "e:\\ProgramsInstalled\\Anaconda\\lib\\site-packages\\wordcloud\\wordcloud.py:508: DeprecationWarning:\n",
      "\n",
      "textsize is deprecated and will be removed in Pillow 10 (2023-07-01). Use textbbox or textlength instead.\n",
      "\n",
      "e:\\ProgramsInstalled\\Anaconda\\lib\\site-packages\\wordcloud\\wordcloud.py:508: DeprecationWarning:\n",
      "\n",
      "textsize is deprecated and will be removed in Pillow 10 (2023-07-01). Use textbbox or textlength instead.\n",
      "\n",
      "e:\\ProgramsInstalled\\Anaconda\\lib\\site-packages\\wordcloud\\wordcloud.py:508: DeprecationWarning:\n",
      "\n",
      "textsize is deprecated and will be removed in Pillow 10 (2023-07-01). Use textbbox or textlength instead.\n",
      "\n",
      "e:\\ProgramsInstalled\\Anaconda\\lib\\site-packages\\wordcloud\\wordcloud.py:508: DeprecationWarning:\n",
      "\n",
      "textsize is deprecated and will be removed in Pillow 10 (2023-07-01). Use textbbox or textlength instead.\n",
      "\n",
      "e:\\ProgramsInstalled\\Anaconda\\lib\\site-packages\\wordcloud\\wordcloud.py:508: DeprecationWarning:\n",
      "\n",
      "textsize is deprecated and will be removed in Pillow 10 (2023-07-01). Use textbbox or textlength instead.\n",
      "\n",
      "e:\\ProgramsInstalled\\Anaconda\\lib\\site-packages\\wordcloud\\wordcloud.py:508: DeprecationWarning:\n",
      "\n",
      "textsize is deprecated and will be removed in Pillow 10 (2023-07-01). Use textbbox or textlength instead.\n",
      "\n",
      "e:\\ProgramsInstalled\\Anaconda\\lib\\site-packages\\wordcloud\\wordcloud.py:508: DeprecationWarning:\n",
      "\n",
      "textsize is deprecated and will be removed in Pillow 10 (2023-07-01). Use textbbox or textlength instead.\n",
      "\n",
      "e:\\ProgramsInstalled\\Anaconda\\lib\\site-packages\\wordcloud\\wordcloud.py:508: DeprecationWarning:\n",
      "\n",
      "textsize is deprecated and will be removed in Pillow 10 (2023-07-01). Use textbbox or textlength instead.\n",
      "\n",
      "e:\\ProgramsInstalled\\Anaconda\\lib\\site-packages\\wordcloud\\wordcloud.py:508: DeprecationWarning:\n",
      "\n",
      "textsize is deprecated and will be removed in Pillow 10 (2023-07-01). Use textbbox or textlength instead.\n",
      "\n",
      "e:\\ProgramsInstalled\\Anaconda\\lib\\site-packages\\wordcloud\\wordcloud.py:508: DeprecationWarning:\n",
      "\n",
      "textsize is deprecated and will be removed in Pillow 10 (2023-07-01). Use textbbox or textlength instead.\n",
      "\n",
      "e:\\ProgramsInstalled\\Anaconda\\lib\\site-packages\\wordcloud\\wordcloud.py:508: DeprecationWarning:\n",
      "\n",
      "textsize is deprecated and will be removed in Pillow 10 (2023-07-01). Use textbbox or textlength instead.\n",
      "\n",
      "e:\\ProgramsInstalled\\Anaconda\\lib\\site-packages\\wordcloud\\wordcloud.py:508: DeprecationWarning:\n",
      "\n",
      "textsize is deprecated and will be removed in Pillow 10 (2023-07-01). Use textbbox or textlength instead.\n",
      "\n",
      "e:\\ProgramsInstalled\\Anaconda\\lib\\site-packages\\wordcloud\\wordcloud.py:508: DeprecationWarning:\n",
      "\n",
      "textsize is deprecated and will be removed in Pillow 10 (2023-07-01). Use textbbox or textlength instead.\n",
      "\n",
      "e:\\ProgramsInstalled\\Anaconda\\lib\\site-packages\\wordcloud\\wordcloud.py:508: DeprecationWarning:\n",
      "\n",
      "textsize is deprecated and will be removed in Pillow 10 (2023-07-01). Use textbbox or textlength instead.\n",
      "\n",
      "e:\\ProgramsInstalled\\Anaconda\\lib\\site-packages\\wordcloud\\wordcloud.py:508: DeprecationWarning:\n",
      "\n",
      "textsize is deprecated and will be removed in Pillow 10 (2023-07-01). Use textbbox or textlength instead.\n",
      "\n",
      "e:\\ProgramsInstalled\\Anaconda\\lib\\site-packages\\wordcloud\\wordcloud.py:508: DeprecationWarning:\n",
      "\n",
      "textsize is deprecated and will be removed in Pillow 10 (2023-07-01). Use textbbox or textlength instead.\n",
      "\n",
      "e:\\ProgramsInstalled\\Anaconda\\lib\\site-packages\\wordcloud\\wordcloud.py:508: DeprecationWarning:\n",
      "\n",
      "textsize is deprecated and will be removed in Pillow 10 (2023-07-01). Use textbbox or textlength instead.\n",
      "\n",
      "e:\\ProgramsInstalled\\Anaconda\\lib\\site-packages\\wordcloud\\wordcloud.py:508: DeprecationWarning:\n",
      "\n",
      "textsize is deprecated and will be removed in Pillow 10 (2023-07-01). Use textbbox or textlength instead.\n",
      "\n",
      "e:\\ProgramsInstalled\\Anaconda\\lib\\site-packages\\wordcloud\\wordcloud.py:508: DeprecationWarning:\n",
      "\n",
      "textsize is deprecated and will be removed in Pillow 10 (2023-07-01). Use textbbox or textlength instead.\n",
      "\n",
      "e:\\ProgramsInstalled\\Anaconda\\lib\\site-packages\\wordcloud\\wordcloud.py:508: DeprecationWarning:\n",
      "\n",
      "textsize is deprecated and will be removed in Pillow 10 (2023-07-01). Use textbbox or textlength instead.\n",
      "\n",
      "e:\\ProgramsInstalled\\Anaconda\\lib\\site-packages\\wordcloud\\wordcloud.py:508: DeprecationWarning:\n",
      "\n",
      "textsize is deprecated and will be removed in Pillow 10 (2023-07-01). Use textbbox or textlength instead.\n",
      "\n",
      "e:\\ProgramsInstalled\\Anaconda\\lib\\site-packages\\wordcloud\\wordcloud.py:508: DeprecationWarning:\n",
      "\n",
      "textsize is deprecated and will be removed in Pillow 10 (2023-07-01). Use textbbox or textlength instead.\n",
      "\n",
      "e:\\ProgramsInstalled\\Anaconda\\lib\\site-packages\\wordcloud\\wordcloud.py:508: DeprecationWarning:\n",
      "\n",
      "textsize is deprecated and will be removed in Pillow 10 (2023-07-01). Use textbbox or textlength instead.\n",
      "\n",
      "e:\\ProgramsInstalled\\Anaconda\\lib\\site-packages\\wordcloud\\wordcloud.py:508: DeprecationWarning:\n",
      "\n",
      "textsize is deprecated and will be removed in Pillow 10 (2023-07-01). Use textbbox or textlength instead.\n",
      "\n",
      "e:\\ProgramsInstalled\\Anaconda\\lib\\site-packages\\wordcloud\\wordcloud.py:508: DeprecationWarning:\n",
      "\n",
      "textsize is deprecated and will be removed in Pillow 10 (2023-07-01). Use textbbox or textlength instead.\n",
      "\n",
      "e:\\ProgramsInstalled\\Anaconda\\lib\\site-packages\\wordcloud\\wordcloud.py:508: DeprecationWarning:\n",
      "\n",
      "textsize is deprecated and will be removed in Pillow 10 (2023-07-01). Use textbbox or textlength instead.\n",
      "\n",
      "e:\\ProgramsInstalled\\Anaconda\\lib\\site-packages\\wordcloud\\wordcloud.py:508: DeprecationWarning:\n",
      "\n",
      "textsize is deprecated and will be removed in Pillow 10 (2023-07-01). Use textbbox or textlength instead.\n",
      "\n",
      "e:\\ProgramsInstalled\\Anaconda\\lib\\site-packages\\wordcloud\\wordcloud.py:508: DeprecationWarning:\n",
      "\n",
      "textsize is deprecated and will be removed in Pillow 10 (2023-07-01). Use textbbox or textlength instead.\n",
      "\n",
      "e:\\ProgramsInstalled\\Anaconda\\lib\\site-packages\\wordcloud\\wordcloud.py:508: DeprecationWarning:\n",
      "\n",
      "textsize is deprecated and will be removed in Pillow 10 (2023-07-01). Use textbbox or textlength instead.\n",
      "\n",
      "e:\\ProgramsInstalled\\Anaconda\\lib\\site-packages\\wordcloud\\wordcloud.py:508: DeprecationWarning:\n",
      "\n",
      "textsize is deprecated and will be removed in Pillow 10 (2023-07-01). Use textbbox or textlength instead.\n",
      "\n",
      "e:\\ProgramsInstalled\\Anaconda\\lib\\site-packages\\wordcloud\\wordcloud.py:508: DeprecationWarning:\n",
      "\n",
      "textsize is deprecated and will be removed in Pillow 10 (2023-07-01). Use textbbox or textlength instead.\n",
      "\n",
      "e:\\ProgramsInstalled\\Anaconda\\lib\\site-packages\\wordcloud\\wordcloud.py:508: DeprecationWarning:\n",
      "\n",
      "textsize is deprecated and will be removed in Pillow 10 (2023-07-01). Use textbbox or textlength instead.\n",
      "\n",
      "e:\\ProgramsInstalled\\Anaconda\\lib\\site-packages\\wordcloud\\wordcloud.py:508: DeprecationWarning:\n",
      "\n",
      "textsize is deprecated and will be removed in Pillow 10 (2023-07-01). Use textbbox or textlength instead.\n",
      "\n",
      "e:\\ProgramsInstalled\\Anaconda\\lib\\site-packages\\wordcloud\\wordcloud.py:508: DeprecationWarning:\n",
      "\n",
      "textsize is deprecated and will be removed in Pillow 10 (2023-07-01). Use textbbox or textlength instead.\n",
      "\n",
      "e:\\ProgramsInstalled\\Anaconda\\lib\\site-packages\\wordcloud\\wordcloud.py:508: DeprecationWarning:\n",
      "\n",
      "textsize is deprecated and will be removed in Pillow 10 (2023-07-01). Use textbbox or textlength instead.\n",
      "\n",
      "e:\\ProgramsInstalled\\Anaconda\\lib\\site-packages\\wordcloud\\wordcloud.py:508: DeprecationWarning:\n",
      "\n",
      "textsize is deprecated and will be removed in Pillow 10 (2023-07-01). Use textbbox or textlength instead.\n",
      "\n",
      "e:\\ProgramsInstalled\\Anaconda\\lib\\site-packages\\wordcloud\\wordcloud.py:508: DeprecationWarning:\n",
      "\n",
      "textsize is deprecated and will be removed in Pillow 10 (2023-07-01). Use textbbox or textlength instead.\n",
      "\n",
      "e:\\ProgramsInstalled\\Anaconda\\lib\\site-packages\\wordcloud\\wordcloud.py:508: DeprecationWarning:\n",
      "\n",
      "textsize is deprecated and will be removed in Pillow 10 (2023-07-01). Use textbbox or textlength instead.\n",
      "\n",
      "e:\\ProgramsInstalled\\Anaconda\\lib\\site-packages\\wordcloud\\wordcloud.py:508: DeprecationWarning:\n",
      "\n",
      "textsize is deprecated and will be removed in Pillow 10 (2023-07-01). Use textbbox or textlength instead.\n",
      "\n",
      "e:\\ProgramsInstalled\\Anaconda\\lib\\site-packages\\wordcloud\\wordcloud.py:499: DeprecationWarning:\n",
      "\n",
      "ROTATE_90 is deprecated and will be removed in Pillow 10 (2023-07-01). Use Transpose.ROTATE_90 instead.\n",
      "\n",
      "e:\\ProgramsInstalled\\Anaconda\\lib\\site-packages\\wordcloud\\wordcloud.py:508: DeprecationWarning:\n",
      "\n",
      "textsize is deprecated and will be removed in Pillow 10 (2023-07-01). Use textbbox or textlength instead.\n",
      "\n",
      "e:\\ProgramsInstalled\\Anaconda\\lib\\site-packages\\wordcloud\\wordcloud.py:508: DeprecationWarning:\n",
      "\n",
      "textsize is deprecated and will be removed in Pillow 10 (2023-07-01). Use textbbox or textlength instead.\n",
      "\n",
      "e:\\ProgramsInstalled\\Anaconda\\lib\\site-packages\\wordcloud\\wordcloud.py:508: DeprecationWarning:\n",
      "\n",
      "textsize is deprecated and will be removed in Pillow 10 (2023-07-01). Use textbbox or textlength instead.\n",
      "\n",
      "e:\\ProgramsInstalled\\Anaconda\\lib\\site-packages\\wordcloud\\wordcloud.py:508: DeprecationWarning:\n",
      "\n",
      "textsize is deprecated and will be removed in Pillow 10 (2023-07-01). Use textbbox or textlength instead.\n",
      "\n",
      "e:\\ProgramsInstalled\\Anaconda\\lib\\site-packages\\wordcloud\\wordcloud.py:508: DeprecationWarning:\n",
      "\n",
      "textsize is deprecated and will be removed in Pillow 10 (2023-07-01). Use textbbox or textlength instead.\n",
      "\n",
      "e:\\ProgramsInstalled\\Anaconda\\lib\\site-packages\\wordcloud\\wordcloud.py:508: DeprecationWarning:\n",
      "\n",
      "textsize is deprecated and will be removed in Pillow 10 (2023-07-01). Use textbbox or textlength instead.\n",
      "\n",
      "e:\\ProgramsInstalled\\Anaconda\\lib\\site-packages\\wordcloud\\wordcloud.py:508: DeprecationWarning:\n",
      "\n",
      "textsize is deprecated and will be removed in Pillow 10 (2023-07-01). Use textbbox or textlength instead.\n",
      "\n",
      "e:\\ProgramsInstalled\\Anaconda\\lib\\site-packages\\wordcloud\\wordcloud.py:508: DeprecationWarning:\n",
      "\n",
      "textsize is deprecated and will be removed in Pillow 10 (2023-07-01). Use textbbox or textlength instead.\n",
      "\n",
      "e:\\ProgramsInstalled\\Anaconda\\lib\\site-packages\\wordcloud\\wordcloud.py:508: DeprecationWarning:\n",
      "\n",
      "textsize is deprecated and will be removed in Pillow 10 (2023-07-01). Use textbbox or textlength instead.\n",
      "\n",
      "e:\\ProgramsInstalled\\Anaconda\\lib\\site-packages\\wordcloud\\wordcloud.py:519: DeprecationWarning:\n",
      "\n",
      "ROTATE_90 is deprecated and will be removed in Pillow 10 (2023-07-01). Use Transpose.ROTATE_90 instead.\n",
      "\n",
      "e:\\ProgramsInstalled\\Anaconda\\lib\\site-packages\\wordcloud\\wordcloud.py:508: DeprecationWarning:\n",
      "\n",
      "textsize is deprecated and will be removed in Pillow 10 (2023-07-01). Use textbbox or textlength instead.\n",
      "\n",
      "e:\\ProgramsInstalled\\Anaconda\\lib\\site-packages\\wordcloud\\wordcloud.py:508: DeprecationWarning:\n",
      "\n",
      "textsize is deprecated and will be removed in Pillow 10 (2023-07-01). Use textbbox or textlength instead.\n",
      "\n",
      "e:\\ProgramsInstalled\\Anaconda\\lib\\site-packages\\wordcloud\\wordcloud.py:508: DeprecationWarning:\n",
      "\n",
      "textsize is deprecated and will be removed in Pillow 10 (2023-07-01). Use textbbox or textlength instead.\n",
      "\n",
      "e:\\ProgramsInstalled\\Anaconda\\lib\\site-packages\\wordcloud\\wordcloud.py:519: DeprecationWarning:\n",
      "\n",
      "ROTATE_90 is deprecated and will be removed in Pillow 10 (2023-07-01). Use Transpose.ROTATE_90 instead.\n",
      "\n",
      "e:\\ProgramsInstalled\\Anaconda\\lib\\site-packages\\wordcloud\\wordcloud.py:508: DeprecationWarning:\n",
      "\n",
      "textsize is deprecated and will be removed in Pillow 10 (2023-07-01). Use textbbox or textlength instead.\n",
      "\n",
      "e:\\ProgramsInstalled\\Anaconda\\lib\\site-packages\\wordcloud\\wordcloud.py:508: DeprecationWarning:\n",
      "\n",
      "textsize is deprecated and will be removed in Pillow 10 (2023-07-01). Use textbbox or textlength instead.\n",
      "\n",
      "e:\\ProgramsInstalled\\Anaconda\\lib\\site-packages\\wordcloud\\wordcloud.py:508: DeprecationWarning:\n",
      "\n",
      "textsize is deprecated and will be removed in Pillow 10 (2023-07-01). Use textbbox or textlength instead.\n",
      "\n",
      "e:\\ProgramsInstalled\\Anaconda\\lib\\site-packages\\wordcloud\\wordcloud.py:508: DeprecationWarning:\n",
      "\n",
      "textsize is deprecated and will be removed in Pillow 10 (2023-07-01). Use textbbox or textlength instead.\n",
      "\n",
      "e:\\ProgramsInstalled\\Anaconda\\lib\\site-packages\\wordcloud\\wordcloud.py:508: DeprecationWarning:\n",
      "\n",
      "textsize is deprecated and will be removed in Pillow 10 (2023-07-01). Use textbbox or textlength instead.\n",
      "\n",
      "e:\\ProgramsInstalled\\Anaconda\\lib\\site-packages\\wordcloud\\wordcloud.py:508: DeprecationWarning:\n",
      "\n",
      "textsize is deprecated and will be removed in Pillow 10 (2023-07-01). Use textbbox or textlength instead.\n",
      "\n",
      "e:\\ProgramsInstalled\\Anaconda\\lib\\site-packages\\wordcloud\\wordcloud.py:508: DeprecationWarning:\n",
      "\n",
      "textsize is deprecated and will be removed in Pillow 10 (2023-07-01). Use textbbox or textlength instead.\n",
      "\n",
      "e:\\ProgramsInstalled\\Anaconda\\lib\\site-packages\\wordcloud\\wordcloud.py:508: DeprecationWarning:\n",
      "\n",
      "textsize is deprecated and will be removed in Pillow 10 (2023-07-01). Use textbbox or textlength instead.\n",
      "\n",
      "e:\\ProgramsInstalled\\Anaconda\\lib\\site-packages\\wordcloud\\wordcloud.py:508: DeprecationWarning:\n",
      "\n",
      "textsize is deprecated and will be removed in Pillow 10 (2023-07-01). Use textbbox or textlength instead.\n",
      "\n",
      "e:\\ProgramsInstalled\\Anaconda\\lib\\site-packages\\wordcloud\\wordcloud.py:508: DeprecationWarning:\n",
      "\n",
      "textsize is deprecated and will be removed in Pillow 10 (2023-07-01). Use textbbox or textlength instead.\n",
      "\n",
      "e:\\ProgramsInstalled\\Anaconda\\lib\\site-packages\\wordcloud\\wordcloud.py:508: DeprecationWarning:\n",
      "\n",
      "textsize is deprecated and will be removed in Pillow 10 (2023-07-01). Use textbbox or textlength instead.\n",
      "\n",
      "e:\\ProgramsInstalled\\Anaconda\\lib\\site-packages\\wordcloud\\wordcloud.py:508: DeprecationWarning:\n",
      "\n",
      "textsize is deprecated and will be removed in Pillow 10 (2023-07-01). Use textbbox or textlength instead.\n",
      "\n",
      "e:\\ProgramsInstalled\\Anaconda\\lib\\site-packages\\wordcloud\\wordcloud.py:508: DeprecationWarning:\n",
      "\n",
      "textsize is deprecated and will be removed in Pillow 10 (2023-07-01). Use textbbox or textlength instead.\n",
      "\n",
      "e:\\ProgramsInstalled\\Anaconda\\lib\\site-packages\\wordcloud\\wordcloud.py:508: DeprecationWarning:\n",
      "\n",
      "textsize is deprecated and will be removed in Pillow 10 (2023-07-01). Use textbbox or textlength instead.\n",
      "\n",
      "e:\\ProgramsInstalled\\Anaconda\\lib\\site-packages\\wordcloud\\wordcloud.py:508: DeprecationWarning:\n",
      "\n",
      "textsize is deprecated and will be removed in Pillow 10 (2023-07-01). Use textbbox or textlength instead.\n",
      "\n",
      "e:\\ProgramsInstalled\\Anaconda\\lib\\site-packages\\wordcloud\\wordcloud.py:519: DeprecationWarning:\n",
      "\n",
      "ROTATE_90 is deprecated and will be removed in Pillow 10 (2023-07-01). Use Transpose.ROTATE_90 instead.\n",
      "\n",
      "e:\\ProgramsInstalled\\Anaconda\\lib\\site-packages\\wordcloud\\wordcloud.py:508: DeprecationWarning:\n",
      "\n",
      "textsize is deprecated and will be removed in Pillow 10 (2023-07-01). Use textbbox or textlength instead.\n",
      "\n",
      "e:\\ProgramsInstalled\\Anaconda\\lib\\site-packages\\wordcloud\\wordcloud.py:508: DeprecationWarning:\n",
      "\n",
      "textsize is deprecated and will be removed in Pillow 10 (2023-07-01). Use textbbox or textlength instead.\n",
      "\n",
      "e:\\ProgramsInstalled\\Anaconda\\lib\\site-packages\\wordcloud\\wordcloud.py:508: DeprecationWarning:\n",
      "\n",
      "textsize is deprecated and will be removed in Pillow 10 (2023-07-01). Use textbbox or textlength instead.\n",
      "\n",
      "e:\\ProgramsInstalled\\Anaconda\\lib\\site-packages\\wordcloud\\wordcloud.py:508: DeprecationWarning:\n",
      "\n",
      "textsize is deprecated and will be removed in Pillow 10 (2023-07-01). Use textbbox or textlength instead.\n",
      "\n",
      "e:\\ProgramsInstalled\\Anaconda\\lib\\site-packages\\wordcloud\\wordcloud.py:508: DeprecationWarning:\n",
      "\n",
      "textsize is deprecated and will be removed in Pillow 10 (2023-07-01). Use textbbox or textlength instead.\n",
      "\n",
      "e:\\ProgramsInstalled\\Anaconda\\lib\\site-packages\\wordcloud\\wordcloud.py:508: DeprecationWarning:\n",
      "\n",
      "textsize is deprecated and will be removed in Pillow 10 (2023-07-01). Use textbbox or textlength instead.\n",
      "\n",
      "e:\\ProgramsInstalled\\Anaconda\\lib\\site-packages\\wordcloud\\wordcloud.py:508: DeprecationWarning:\n",
      "\n",
      "textsize is deprecated and will be removed in Pillow 10 (2023-07-01). Use textbbox or textlength instead.\n",
      "\n",
      "e:\\ProgramsInstalled\\Anaconda\\lib\\site-packages\\wordcloud\\wordcloud.py:508: DeprecationWarning:\n",
      "\n",
      "textsize is deprecated and will be removed in Pillow 10 (2023-07-01). Use textbbox or textlength instead.\n",
      "\n",
      "e:\\ProgramsInstalled\\Anaconda\\lib\\site-packages\\wordcloud\\wordcloud.py:508: DeprecationWarning:\n",
      "\n",
      "textsize is deprecated and will be removed in Pillow 10 (2023-07-01). Use textbbox or textlength instead.\n",
      "\n",
      "e:\\ProgramsInstalled\\Anaconda\\lib\\site-packages\\wordcloud\\wordcloud.py:508: DeprecationWarning:\n",
      "\n",
      "textsize is deprecated and will be removed in Pillow 10 (2023-07-01). Use textbbox or textlength instead.\n",
      "\n",
      "e:\\ProgramsInstalled\\Anaconda\\lib\\site-packages\\wordcloud\\wordcloud.py:508: DeprecationWarning:\n",
      "\n",
      "textsize is deprecated and will be removed in Pillow 10 (2023-07-01). Use textbbox or textlength instead.\n",
      "\n",
      "e:\\ProgramsInstalled\\Anaconda\\lib\\site-packages\\wordcloud\\wordcloud.py:508: DeprecationWarning:\n",
      "\n",
      "textsize is deprecated and will be removed in Pillow 10 (2023-07-01). Use textbbox or textlength instead.\n",
      "\n",
      "e:\\ProgramsInstalled\\Anaconda\\lib\\site-packages\\wordcloud\\wordcloud.py:508: DeprecationWarning:\n",
      "\n",
      "textsize is deprecated and will be removed in Pillow 10 (2023-07-01). Use textbbox or textlength instead.\n",
      "\n",
      "e:\\ProgramsInstalled\\Anaconda\\lib\\site-packages\\wordcloud\\wordcloud.py:508: DeprecationWarning:\n",
      "\n",
      "textsize is deprecated and will be removed in Pillow 10 (2023-07-01). Use textbbox or textlength instead.\n",
      "\n",
      "e:\\ProgramsInstalled\\Anaconda\\lib\\site-packages\\wordcloud\\wordcloud.py:508: DeprecationWarning:\n",
      "\n",
      "textsize is deprecated and will be removed in Pillow 10 (2023-07-01). Use textbbox or textlength instead.\n",
      "\n",
      "e:\\ProgramsInstalled\\Anaconda\\lib\\site-packages\\wordcloud\\wordcloud.py:508: DeprecationWarning:\n",
      "\n",
      "textsize is deprecated and will be removed in Pillow 10 (2023-07-01). Use textbbox or textlength instead.\n",
      "\n",
      "e:\\ProgramsInstalled\\Anaconda\\lib\\site-packages\\wordcloud\\wordcloud.py:508: DeprecationWarning:\n",
      "\n",
      "textsize is deprecated and will be removed in Pillow 10 (2023-07-01). Use textbbox or textlength instead.\n",
      "\n",
      "e:\\ProgramsInstalled\\Anaconda\\lib\\site-packages\\wordcloud\\wordcloud.py:508: DeprecationWarning:\n",
      "\n",
      "textsize is deprecated and will be removed in Pillow 10 (2023-07-01). Use textbbox or textlength instead.\n",
      "\n",
      "e:\\ProgramsInstalled\\Anaconda\\lib\\site-packages\\wordcloud\\wordcloud.py:508: DeprecationWarning:\n",
      "\n",
      "textsize is deprecated and will be removed in Pillow 10 (2023-07-01). Use textbbox or textlength instead.\n",
      "\n",
      "e:\\ProgramsInstalled\\Anaconda\\lib\\site-packages\\wordcloud\\wordcloud.py:508: DeprecationWarning:\n",
      "\n",
      "textsize is deprecated and will be removed in Pillow 10 (2023-07-01). Use textbbox or textlength instead.\n",
      "\n",
      "e:\\ProgramsInstalled\\Anaconda\\lib\\site-packages\\wordcloud\\wordcloud.py:508: DeprecationWarning:\n",
      "\n",
      "textsize is deprecated and will be removed in Pillow 10 (2023-07-01). Use textbbox or textlength instead.\n",
      "\n",
      "e:\\ProgramsInstalled\\Anaconda\\lib\\site-packages\\wordcloud\\wordcloud.py:508: DeprecationWarning:\n",
      "\n",
      "textsize is deprecated and will be removed in Pillow 10 (2023-07-01). Use textbbox or textlength instead.\n",
      "\n",
      "e:\\ProgramsInstalled\\Anaconda\\lib\\site-packages\\wordcloud\\wordcloud.py:508: DeprecationWarning:\n",
      "\n",
      "textsize is deprecated and will be removed in Pillow 10 (2023-07-01). Use textbbox or textlength instead.\n",
      "\n",
      "e:\\ProgramsInstalled\\Anaconda\\lib\\site-packages\\wordcloud\\wordcloud.py:508: DeprecationWarning:\n",
      "\n",
      "textsize is deprecated and will be removed in Pillow 10 (2023-07-01). Use textbbox or textlength instead.\n",
      "\n",
      "e:\\ProgramsInstalled\\Anaconda\\lib\\site-packages\\wordcloud\\wordcloud.py:508: DeprecationWarning:\n",
      "\n",
      "textsize is deprecated and will be removed in Pillow 10 (2023-07-01). Use textbbox or textlength instead.\n",
      "\n",
      "e:\\ProgramsInstalled\\Anaconda\\lib\\site-packages\\wordcloud\\wordcloud.py:519: DeprecationWarning:\n",
      "\n",
      "ROTATE_90 is deprecated and will be removed in Pillow 10 (2023-07-01). Use Transpose.ROTATE_90 instead.\n",
      "\n",
      "e:\\ProgramsInstalled\\Anaconda\\lib\\site-packages\\wordcloud\\wordcloud.py:508: DeprecationWarning:\n",
      "\n",
      "textsize is deprecated and will be removed in Pillow 10 (2023-07-01). Use textbbox or textlength instead.\n",
      "\n",
      "e:\\ProgramsInstalled\\Anaconda\\lib\\site-packages\\wordcloud\\wordcloud.py:508: DeprecationWarning:\n",
      "\n",
      "textsize is deprecated and will be removed in Pillow 10 (2023-07-01). Use textbbox or textlength instead.\n",
      "\n",
      "e:\\ProgramsInstalled\\Anaconda\\lib\\site-packages\\wordcloud\\wordcloud.py:508: DeprecationWarning:\n",
      "\n",
      "textsize is deprecated and will be removed in Pillow 10 (2023-07-01). Use textbbox or textlength instead.\n",
      "\n",
      "e:\\ProgramsInstalled\\Anaconda\\lib\\site-packages\\wordcloud\\wordcloud.py:508: DeprecationWarning:\n",
      "\n",
      "textsize is deprecated and will be removed in Pillow 10 (2023-07-01). Use textbbox or textlength instead.\n",
      "\n",
      "e:\\ProgramsInstalled\\Anaconda\\lib\\site-packages\\wordcloud\\wordcloud.py:508: DeprecationWarning:\n",
      "\n",
      "textsize is deprecated and will be removed in Pillow 10 (2023-07-01). Use textbbox or textlength instead.\n",
      "\n",
      "e:\\ProgramsInstalled\\Anaconda\\lib\\site-packages\\wordcloud\\wordcloud.py:508: DeprecationWarning:\n",
      "\n",
      "textsize is deprecated and will be removed in Pillow 10 (2023-07-01). Use textbbox or textlength instead.\n",
      "\n",
      "e:\\ProgramsInstalled\\Anaconda\\lib\\site-packages\\wordcloud\\wordcloud.py:508: DeprecationWarning:\n",
      "\n",
      "textsize is deprecated and will be removed in Pillow 10 (2023-07-01). Use textbbox or textlength instead.\n",
      "\n",
      "e:\\ProgramsInstalled\\Anaconda\\lib\\site-packages\\wordcloud\\wordcloud.py:508: DeprecationWarning:\n",
      "\n",
      "textsize is deprecated and will be removed in Pillow 10 (2023-07-01). Use textbbox or textlength instead.\n",
      "\n",
      "e:\\ProgramsInstalled\\Anaconda\\lib\\site-packages\\wordcloud\\wordcloud.py:508: DeprecationWarning:\n",
      "\n",
      "textsize is deprecated and will be removed in Pillow 10 (2023-07-01). Use textbbox or textlength instead.\n",
      "\n",
      "e:\\ProgramsInstalled\\Anaconda\\lib\\site-packages\\wordcloud\\wordcloud.py:508: DeprecationWarning:\n",
      "\n",
      "textsize is deprecated and will be removed in Pillow 10 (2023-07-01). Use textbbox or textlength instead.\n",
      "\n",
      "e:\\ProgramsInstalled\\Anaconda\\lib\\site-packages\\wordcloud\\wordcloud.py:508: DeprecationWarning:\n",
      "\n",
      "textsize is deprecated and will be removed in Pillow 10 (2023-07-01). Use textbbox or textlength instead.\n",
      "\n",
      "e:\\ProgramsInstalled\\Anaconda\\lib\\site-packages\\wordcloud\\wordcloud.py:508: DeprecationWarning:\n",
      "\n",
      "textsize is deprecated and will be removed in Pillow 10 (2023-07-01). Use textbbox or textlength instead.\n",
      "\n",
      "e:\\ProgramsInstalled\\Anaconda\\lib\\site-packages\\wordcloud\\wordcloud.py:508: DeprecationWarning:\n",
      "\n",
      "textsize is deprecated and will be removed in Pillow 10 (2023-07-01). Use textbbox or textlength instead.\n",
      "\n",
      "e:\\ProgramsInstalled\\Anaconda\\lib\\site-packages\\wordcloud\\wordcloud.py:508: DeprecationWarning:\n",
      "\n",
      "textsize is deprecated and will be removed in Pillow 10 (2023-07-01). Use textbbox or textlength instead.\n",
      "\n",
      "e:\\ProgramsInstalled\\Anaconda\\lib\\site-packages\\wordcloud\\wordcloud.py:508: DeprecationWarning:\n",
      "\n",
      "textsize is deprecated and will be removed in Pillow 10 (2023-07-01). Use textbbox or textlength instead.\n",
      "\n",
      "e:\\ProgramsInstalled\\Anaconda\\lib\\site-packages\\wordcloud\\wordcloud.py:508: DeprecationWarning:\n",
      "\n",
      "textsize is deprecated and will be removed in Pillow 10 (2023-07-01). Use textbbox or textlength instead.\n",
      "\n",
      "e:\\ProgramsInstalled\\Anaconda\\lib\\site-packages\\wordcloud\\wordcloud.py:508: DeprecationWarning:\n",
      "\n",
      "textsize is deprecated and will be removed in Pillow 10 (2023-07-01). Use textbbox or textlength instead.\n",
      "\n",
      "e:\\ProgramsInstalled\\Anaconda\\lib\\site-packages\\wordcloud\\wordcloud.py:508: DeprecationWarning:\n",
      "\n",
      "textsize is deprecated and will be removed in Pillow 10 (2023-07-01). Use textbbox or textlength instead.\n",
      "\n",
      "e:\\ProgramsInstalled\\Anaconda\\lib\\site-packages\\wordcloud\\wordcloud.py:508: DeprecationWarning:\n",
      "\n",
      "textsize is deprecated and will be removed in Pillow 10 (2023-07-01). Use textbbox or textlength instead.\n",
      "\n",
      "e:\\ProgramsInstalled\\Anaconda\\lib\\site-packages\\wordcloud\\wordcloud.py:499: DeprecationWarning:\n",
      "\n",
      "ROTATE_90 is deprecated and will be removed in Pillow 10 (2023-07-01). Use Transpose.ROTATE_90 instead.\n",
      "\n",
      "e:\\ProgramsInstalled\\Anaconda\\lib\\site-packages\\wordcloud\\wordcloud.py:508: DeprecationWarning:\n",
      "\n",
      "textsize is deprecated and will be removed in Pillow 10 (2023-07-01). Use textbbox or textlength instead.\n",
      "\n",
      "e:\\ProgramsInstalled\\Anaconda\\lib\\site-packages\\wordcloud\\wordcloud.py:508: DeprecationWarning:\n",
      "\n",
      "textsize is deprecated and will be removed in Pillow 10 (2023-07-01). Use textbbox or textlength instead.\n",
      "\n",
      "e:\\ProgramsInstalled\\Anaconda\\lib\\site-packages\\wordcloud\\wordcloud.py:508: DeprecationWarning:\n",
      "\n",
      "textsize is deprecated and will be removed in Pillow 10 (2023-07-01). Use textbbox or textlength instead.\n",
      "\n",
      "e:\\ProgramsInstalled\\Anaconda\\lib\\site-packages\\wordcloud\\wordcloud.py:508: DeprecationWarning:\n",
      "\n",
      "textsize is deprecated and will be removed in Pillow 10 (2023-07-01). Use textbbox or textlength instead.\n",
      "\n",
      "e:\\ProgramsInstalled\\Anaconda\\lib\\site-packages\\wordcloud\\wordcloud.py:519: DeprecationWarning:\n",
      "\n",
      "ROTATE_90 is deprecated and will be removed in Pillow 10 (2023-07-01). Use Transpose.ROTATE_90 instead.\n",
      "\n",
      "e:\\ProgramsInstalled\\Anaconda\\lib\\site-packages\\wordcloud\\wordcloud.py:508: DeprecationWarning:\n",
      "\n",
      "textsize is deprecated and will be removed in Pillow 10 (2023-07-01). Use textbbox or textlength instead.\n",
      "\n",
      "e:\\ProgramsInstalled\\Anaconda\\lib\\site-packages\\wordcloud\\wordcloud.py:508: DeprecationWarning:\n",
      "\n",
      "textsize is deprecated and will be removed in Pillow 10 (2023-07-01). Use textbbox or textlength instead.\n",
      "\n",
      "e:\\ProgramsInstalled\\Anaconda\\lib\\site-packages\\wordcloud\\wordcloud.py:508: DeprecationWarning:\n",
      "\n",
      "textsize is deprecated and will be removed in Pillow 10 (2023-07-01). Use textbbox or textlength instead.\n",
      "\n",
      "e:\\ProgramsInstalled\\Anaconda\\lib\\site-packages\\wordcloud\\wordcloud.py:508: DeprecationWarning:\n",
      "\n",
      "textsize is deprecated and will be removed in Pillow 10 (2023-07-01). Use textbbox or textlength instead.\n",
      "\n",
      "e:\\ProgramsInstalled\\Anaconda\\lib\\site-packages\\wordcloud\\wordcloud.py:508: DeprecationWarning:\n",
      "\n",
      "textsize is deprecated and will be removed in Pillow 10 (2023-07-01). Use textbbox or textlength instead.\n",
      "\n",
      "e:\\ProgramsInstalled\\Anaconda\\lib\\site-packages\\wordcloud\\wordcloud.py:508: DeprecationWarning:\n",
      "\n",
      "textsize is deprecated and will be removed in Pillow 10 (2023-07-01). Use textbbox or textlength instead.\n",
      "\n",
      "e:\\ProgramsInstalled\\Anaconda\\lib\\site-packages\\wordcloud\\wordcloud.py:508: DeprecationWarning:\n",
      "\n",
      "textsize is deprecated and will be removed in Pillow 10 (2023-07-01). Use textbbox or textlength instead.\n",
      "\n",
      "e:\\ProgramsInstalled\\Anaconda\\lib\\site-packages\\wordcloud\\wordcloud.py:508: DeprecationWarning:\n",
      "\n",
      "textsize is deprecated and will be removed in Pillow 10 (2023-07-01). Use textbbox or textlength instead.\n",
      "\n",
      "e:\\ProgramsInstalled\\Anaconda\\lib\\site-packages\\wordcloud\\wordcloud.py:508: DeprecationWarning:\n",
      "\n",
      "textsize is deprecated and will be removed in Pillow 10 (2023-07-01). Use textbbox or textlength instead.\n",
      "\n",
      "e:\\ProgramsInstalled\\Anaconda\\lib\\site-packages\\wordcloud\\wordcloud.py:508: DeprecationWarning:\n",
      "\n",
      "textsize is deprecated and will be removed in Pillow 10 (2023-07-01). Use textbbox or textlength instead.\n",
      "\n",
      "e:\\ProgramsInstalled\\Anaconda\\lib\\site-packages\\wordcloud\\wordcloud.py:519: DeprecationWarning:\n",
      "\n",
      "ROTATE_90 is deprecated and will be removed in Pillow 10 (2023-07-01). Use Transpose.ROTATE_90 instead.\n",
      "\n",
      "e:\\ProgramsInstalled\\Anaconda\\lib\\site-packages\\wordcloud\\wordcloud.py:508: DeprecationWarning:\n",
      "\n",
      "textsize is deprecated and will be removed in Pillow 10 (2023-07-01). Use textbbox or textlength instead.\n",
      "\n",
      "e:\\ProgramsInstalled\\Anaconda\\lib\\site-packages\\wordcloud\\wordcloud.py:508: DeprecationWarning:\n",
      "\n",
      "textsize is deprecated and will be removed in Pillow 10 (2023-07-01). Use textbbox or textlength instead.\n",
      "\n",
      "e:\\ProgramsInstalled\\Anaconda\\lib\\site-packages\\wordcloud\\wordcloud.py:508: DeprecationWarning:\n",
      "\n",
      "textsize is deprecated and will be removed in Pillow 10 (2023-07-01). Use textbbox or textlength instead.\n",
      "\n",
      "e:\\ProgramsInstalled\\Anaconda\\lib\\site-packages\\wordcloud\\wordcloud.py:508: DeprecationWarning:\n",
      "\n",
      "textsize is deprecated and will be removed in Pillow 10 (2023-07-01). Use textbbox or textlength instead.\n",
      "\n",
      "e:\\ProgramsInstalled\\Anaconda\\lib\\site-packages\\wordcloud\\wordcloud.py:508: DeprecationWarning:\n",
      "\n",
      "textsize is deprecated and will be removed in Pillow 10 (2023-07-01). Use textbbox or textlength instead.\n",
      "\n",
      "e:\\ProgramsInstalled\\Anaconda\\lib\\site-packages\\wordcloud\\wordcloud.py:508: DeprecationWarning:\n",
      "\n",
      "textsize is deprecated and will be removed in Pillow 10 (2023-07-01). Use textbbox or textlength instead.\n",
      "\n",
      "e:\\ProgramsInstalled\\Anaconda\\lib\\site-packages\\wordcloud\\wordcloud.py:508: DeprecationWarning:\n",
      "\n",
      "textsize is deprecated and will be removed in Pillow 10 (2023-07-01). Use textbbox or textlength instead.\n",
      "\n",
      "e:\\ProgramsInstalled\\Anaconda\\lib\\site-packages\\wordcloud\\wordcloud.py:519: DeprecationWarning:\n",
      "\n",
      "ROTATE_90 is deprecated and will be removed in Pillow 10 (2023-07-01). Use Transpose.ROTATE_90 instead.\n",
      "\n",
      "e:\\ProgramsInstalled\\Anaconda\\lib\\site-packages\\wordcloud\\wordcloud.py:508: DeprecationWarning:\n",
      "\n",
      "textsize is deprecated and will be removed in Pillow 10 (2023-07-01). Use textbbox or textlength instead.\n",
      "\n",
      "e:\\ProgramsInstalled\\Anaconda\\lib\\site-packages\\wordcloud\\wordcloud.py:508: DeprecationWarning:\n",
      "\n",
      "textsize is deprecated and will be removed in Pillow 10 (2023-07-01). Use textbbox or textlength instead.\n",
      "\n",
      "e:\\ProgramsInstalled\\Anaconda\\lib\\site-packages\\wordcloud\\wordcloud.py:519: DeprecationWarning:\n",
      "\n",
      "ROTATE_90 is deprecated and will be removed in Pillow 10 (2023-07-01). Use Transpose.ROTATE_90 instead.\n",
      "\n",
      "e:\\ProgramsInstalled\\Anaconda\\lib\\site-packages\\wordcloud\\wordcloud.py:508: DeprecationWarning:\n",
      "\n",
      "textsize is deprecated and will be removed in Pillow 10 (2023-07-01). Use textbbox or textlength instead.\n",
      "\n",
      "e:\\ProgramsInstalled\\Anaconda\\lib\\site-packages\\wordcloud\\wordcloud.py:508: DeprecationWarning:\n",
      "\n",
      "textsize is deprecated and will be removed in Pillow 10 (2023-07-01). Use textbbox or textlength instead.\n",
      "\n",
      "e:\\ProgramsInstalled\\Anaconda\\lib\\site-packages\\wordcloud\\wordcloud.py:508: DeprecationWarning:\n",
      "\n",
      "textsize is deprecated and will be removed in Pillow 10 (2023-07-01). Use textbbox or textlength instead.\n",
      "\n",
      "e:\\ProgramsInstalled\\Anaconda\\lib\\site-packages\\wordcloud\\wordcloud.py:508: DeprecationWarning:\n",
      "\n",
      "textsize is deprecated and will be removed in Pillow 10 (2023-07-01). Use textbbox or textlength instead.\n",
      "\n",
      "e:\\ProgramsInstalled\\Anaconda\\lib\\site-packages\\wordcloud\\wordcloud.py:508: DeprecationWarning:\n",
      "\n",
      "textsize is deprecated and will be removed in Pillow 10 (2023-07-01). Use textbbox or textlength instead.\n",
      "\n",
      "e:\\ProgramsInstalled\\Anaconda\\lib\\site-packages\\wordcloud\\wordcloud.py:508: DeprecationWarning:\n",
      "\n",
      "textsize is deprecated and will be removed in Pillow 10 (2023-07-01). Use textbbox or textlength instead.\n",
      "\n",
      "e:\\ProgramsInstalled\\Anaconda\\lib\\site-packages\\wordcloud\\wordcloud.py:508: DeprecationWarning:\n",
      "\n",
      "textsize is deprecated and will be removed in Pillow 10 (2023-07-01). Use textbbox or textlength instead.\n",
      "\n",
      "e:\\ProgramsInstalled\\Anaconda\\lib\\site-packages\\wordcloud\\wordcloud.py:508: DeprecationWarning:\n",
      "\n",
      "textsize is deprecated and will be removed in Pillow 10 (2023-07-01). Use textbbox or textlength instead.\n",
      "\n",
      "e:\\ProgramsInstalled\\Anaconda\\lib\\site-packages\\wordcloud\\wordcloud.py:508: DeprecationWarning:\n",
      "\n",
      "textsize is deprecated and will be removed in Pillow 10 (2023-07-01). Use textbbox or textlength instead.\n",
      "\n",
      "e:\\ProgramsInstalled\\Anaconda\\lib\\site-packages\\wordcloud\\wordcloud.py:508: DeprecationWarning:\n",
      "\n",
      "textsize is deprecated and will be removed in Pillow 10 (2023-07-01). Use textbbox or textlength instead.\n",
      "\n",
      "e:\\ProgramsInstalled\\Anaconda\\lib\\site-packages\\wordcloud\\wordcloud.py:508: DeprecationWarning:\n",
      "\n",
      "textsize is deprecated and will be removed in Pillow 10 (2023-07-01). Use textbbox or textlength instead.\n",
      "\n",
      "e:\\ProgramsInstalled\\Anaconda\\lib\\site-packages\\wordcloud\\wordcloud.py:508: DeprecationWarning:\n",
      "\n",
      "textsize is deprecated and will be removed in Pillow 10 (2023-07-01). Use textbbox or textlength instead.\n",
      "\n",
      "e:\\ProgramsInstalled\\Anaconda\\lib\\site-packages\\wordcloud\\wordcloud.py:508: DeprecationWarning:\n",
      "\n",
      "textsize is deprecated and will be removed in Pillow 10 (2023-07-01). Use textbbox or textlength instead.\n",
      "\n",
      "e:\\ProgramsInstalled\\Anaconda\\lib\\site-packages\\wordcloud\\wordcloud.py:519: DeprecationWarning:\n",
      "\n",
      "ROTATE_90 is deprecated and will be removed in Pillow 10 (2023-07-01). Use Transpose.ROTATE_90 instead.\n",
      "\n",
      "e:\\ProgramsInstalled\\Anaconda\\lib\\site-packages\\wordcloud\\wordcloud.py:508: DeprecationWarning:\n",
      "\n",
      "textsize is deprecated and will be removed in Pillow 10 (2023-07-01). Use textbbox or textlength instead.\n",
      "\n",
      "e:\\ProgramsInstalled\\Anaconda\\lib\\site-packages\\wordcloud\\wordcloud.py:508: DeprecationWarning:\n",
      "\n",
      "textsize is deprecated and will be removed in Pillow 10 (2023-07-01). Use textbbox or textlength instead.\n",
      "\n",
      "e:\\ProgramsInstalled\\Anaconda\\lib\\site-packages\\wordcloud\\wordcloud.py:508: DeprecationWarning:\n",
      "\n",
      "textsize is deprecated and will be removed in Pillow 10 (2023-07-01). Use textbbox or textlength instead.\n",
      "\n",
      "e:\\ProgramsInstalled\\Anaconda\\lib\\site-packages\\wordcloud\\wordcloud.py:508: DeprecationWarning:\n",
      "\n",
      "textsize is deprecated and will be removed in Pillow 10 (2023-07-01). Use textbbox or textlength instead.\n",
      "\n",
      "e:\\ProgramsInstalled\\Anaconda\\lib\\site-packages\\wordcloud\\wordcloud.py:508: DeprecationWarning:\n",
      "\n",
      "textsize is deprecated and will be removed in Pillow 10 (2023-07-01). Use textbbox or textlength instead.\n",
      "\n",
      "e:\\ProgramsInstalled\\Anaconda\\lib\\site-packages\\wordcloud\\wordcloud.py:508: DeprecationWarning:\n",
      "\n",
      "textsize is deprecated and will be removed in Pillow 10 (2023-07-01). Use textbbox or textlength instead.\n",
      "\n",
      "e:\\ProgramsInstalled\\Anaconda\\lib\\site-packages\\wordcloud\\wordcloud.py:508: DeprecationWarning:\n",
      "\n",
      "textsize is deprecated and will be removed in Pillow 10 (2023-07-01). Use textbbox or textlength instead.\n",
      "\n",
      "e:\\ProgramsInstalled\\Anaconda\\lib\\site-packages\\wordcloud\\wordcloud.py:508: DeprecationWarning:\n",
      "\n",
      "textsize is deprecated and will be removed in Pillow 10 (2023-07-01). Use textbbox or textlength instead.\n",
      "\n",
      "e:\\ProgramsInstalled\\Anaconda\\lib\\site-packages\\wordcloud\\wordcloud.py:508: DeprecationWarning:\n",
      "\n",
      "textsize is deprecated and will be removed in Pillow 10 (2023-07-01). Use textbbox or textlength instead.\n",
      "\n",
      "e:\\ProgramsInstalled\\Anaconda\\lib\\site-packages\\wordcloud\\wordcloud.py:508: DeprecationWarning:\n",
      "\n",
      "textsize is deprecated and will be removed in Pillow 10 (2023-07-01). Use textbbox or textlength instead.\n",
      "\n",
      "e:\\ProgramsInstalled\\Anaconda\\lib\\site-packages\\wordcloud\\wordcloud.py:508: DeprecationWarning:\n",
      "\n",
      "textsize is deprecated and will be removed in Pillow 10 (2023-07-01). Use textbbox or textlength instead.\n",
      "\n",
      "e:\\ProgramsInstalled\\Anaconda\\lib\\site-packages\\wordcloud\\wordcloud.py:508: DeprecationWarning:\n",
      "\n",
      "textsize is deprecated and will be removed in Pillow 10 (2023-07-01). Use textbbox or textlength instead.\n",
      "\n",
      "e:\\ProgramsInstalled\\Anaconda\\lib\\site-packages\\wordcloud\\wordcloud.py:508: DeprecationWarning:\n",
      "\n",
      "textsize is deprecated and will be removed in Pillow 10 (2023-07-01). Use textbbox or textlength instead.\n",
      "\n",
      "e:\\ProgramsInstalled\\Anaconda\\lib\\site-packages\\wordcloud\\wordcloud.py:508: DeprecationWarning:\n",
      "\n",
      "textsize is deprecated and will be removed in Pillow 10 (2023-07-01). Use textbbox or textlength instead.\n",
      "\n",
      "e:\\ProgramsInstalled\\Anaconda\\lib\\site-packages\\wordcloud\\wordcloud.py:499: DeprecationWarning:\n",
      "\n",
      "ROTATE_90 is deprecated and will be removed in Pillow 10 (2023-07-01). Use Transpose.ROTATE_90 instead.\n",
      "\n",
      "e:\\ProgramsInstalled\\Anaconda\\lib\\site-packages\\wordcloud\\wordcloud.py:508: DeprecationWarning:\n",
      "\n",
      "textsize is deprecated and will be removed in Pillow 10 (2023-07-01). Use textbbox or textlength instead.\n",
      "\n",
      "e:\\ProgramsInstalled\\Anaconda\\lib\\site-packages\\wordcloud\\wordcloud.py:520: DeprecationWarning:\n",
      "\n",
      "ROTATE_90 is deprecated and will be removed in Pillow 10 (2023-07-01). Use Transpose.ROTATE_90 instead.\n",
      "\n",
      "e:\\ProgramsInstalled\\Anaconda\\lib\\site-packages\\wordcloud\\wordcloud.py:508: DeprecationWarning:\n",
      "\n",
      "textsize is deprecated and will be removed in Pillow 10 (2023-07-01). Use textbbox or textlength instead.\n",
      "\n",
      "e:\\ProgramsInstalled\\Anaconda\\lib\\site-packages\\wordcloud\\wordcloud.py:508: DeprecationWarning:\n",
      "\n",
      "textsize is deprecated and will be removed in Pillow 10 (2023-07-01). Use textbbox or textlength instead.\n",
      "\n",
      "e:\\ProgramsInstalled\\Anaconda\\lib\\site-packages\\wordcloud\\wordcloud.py:508: DeprecationWarning:\n",
      "\n",
      "textsize is deprecated and will be removed in Pillow 10 (2023-07-01). Use textbbox or textlength instead.\n",
      "\n",
      "e:\\ProgramsInstalled\\Anaconda\\lib\\site-packages\\wordcloud\\wordcloud.py:508: DeprecationWarning:\n",
      "\n",
      "textsize is deprecated and will be removed in Pillow 10 (2023-07-01). Use textbbox or textlength instead.\n",
      "\n",
      "e:\\ProgramsInstalled\\Anaconda\\lib\\site-packages\\wordcloud\\wordcloud.py:508: DeprecationWarning:\n",
      "\n",
      "textsize is deprecated and will be removed in Pillow 10 (2023-07-01). Use textbbox or textlength instead.\n",
      "\n",
      "e:\\ProgramsInstalled\\Anaconda\\lib\\site-packages\\wordcloud\\wordcloud.py:508: DeprecationWarning:\n",
      "\n",
      "textsize is deprecated and will be removed in Pillow 10 (2023-07-01). Use textbbox or textlength instead.\n",
      "\n",
      "e:\\ProgramsInstalled\\Anaconda\\lib\\site-packages\\wordcloud\\wordcloud.py:508: DeprecationWarning:\n",
      "\n",
      "textsize is deprecated and will be removed in Pillow 10 (2023-07-01). Use textbbox or textlength instead.\n",
      "\n",
      "e:\\ProgramsInstalled\\Anaconda\\lib\\site-packages\\wordcloud\\wordcloud.py:499: DeprecationWarning:\n",
      "\n",
      "ROTATE_90 is deprecated and will be removed in Pillow 10 (2023-07-01). Use Transpose.ROTATE_90 instead.\n",
      "\n",
      "e:\\ProgramsInstalled\\Anaconda\\lib\\site-packages\\wordcloud\\wordcloud.py:508: DeprecationWarning:\n",
      "\n",
      "textsize is deprecated and will be removed in Pillow 10 (2023-07-01). Use textbbox or textlength instead.\n",
      "\n",
      "e:\\ProgramsInstalled\\Anaconda\\lib\\site-packages\\wordcloud\\wordcloud.py:508: DeprecationWarning:\n",
      "\n",
      "textsize is deprecated and will be removed in Pillow 10 (2023-07-01). Use textbbox or textlength instead.\n",
      "\n",
      "e:\\ProgramsInstalled\\Anaconda\\lib\\site-packages\\wordcloud\\wordcloud.py:508: DeprecationWarning:\n",
      "\n",
      "textsize is deprecated and will be removed in Pillow 10 (2023-07-01). Use textbbox or textlength instead.\n",
      "\n",
      "e:\\ProgramsInstalled\\Anaconda\\lib\\site-packages\\wordcloud\\wordcloud.py:508: DeprecationWarning:\n",
      "\n",
      "textsize is deprecated and will be removed in Pillow 10 (2023-07-01). Use textbbox or textlength instead.\n",
      "\n",
      "e:\\ProgramsInstalled\\Anaconda\\lib\\site-packages\\wordcloud\\wordcloud.py:508: DeprecationWarning:\n",
      "\n",
      "textsize is deprecated and will be removed in Pillow 10 (2023-07-01). Use textbbox or textlength instead.\n",
      "\n",
      "e:\\ProgramsInstalled\\Anaconda\\lib\\site-packages\\wordcloud\\wordcloud.py:508: DeprecationWarning:\n",
      "\n",
      "textsize is deprecated and will be removed in Pillow 10 (2023-07-01). Use textbbox or textlength instead.\n",
      "\n",
      "e:\\ProgramsInstalled\\Anaconda\\lib\\site-packages\\wordcloud\\wordcloud.py:508: DeprecationWarning:\n",
      "\n",
      "textsize is deprecated and will be removed in Pillow 10 (2023-07-01). Use textbbox or textlength instead.\n",
      "\n",
      "e:\\ProgramsInstalled\\Anaconda\\lib\\site-packages\\wordcloud\\wordcloud.py:508: DeprecationWarning:\n",
      "\n",
      "textsize is deprecated and will be removed in Pillow 10 (2023-07-01). Use textbbox or textlength instead.\n",
      "\n",
      "e:\\ProgramsInstalled\\Anaconda\\lib\\site-packages\\wordcloud\\wordcloud.py:508: DeprecationWarning:\n",
      "\n",
      "textsize is deprecated and will be removed in Pillow 10 (2023-07-01). Use textbbox or textlength instead.\n",
      "\n",
      "e:\\ProgramsInstalled\\Anaconda\\lib\\site-packages\\wordcloud\\wordcloud.py:508: DeprecationWarning:\n",
      "\n",
      "textsize is deprecated and will be removed in Pillow 10 (2023-07-01). Use textbbox or textlength instead.\n",
      "\n",
      "e:\\ProgramsInstalled\\Anaconda\\lib\\site-packages\\wordcloud\\wordcloud.py:508: DeprecationWarning:\n",
      "\n",
      "textsize is deprecated and will be removed in Pillow 10 (2023-07-01). Use textbbox or textlength instead.\n",
      "\n",
      "e:\\ProgramsInstalled\\Anaconda\\lib\\site-packages\\wordcloud\\wordcloud.py:508: DeprecationWarning:\n",
      "\n",
      "textsize is deprecated and will be removed in Pillow 10 (2023-07-01). Use textbbox or textlength instead.\n",
      "\n",
      "e:\\ProgramsInstalled\\Anaconda\\lib\\site-packages\\wordcloud\\wordcloud.py:508: DeprecationWarning:\n",
      "\n",
      "textsize is deprecated and will be removed in Pillow 10 (2023-07-01). Use textbbox or textlength instead.\n",
      "\n",
      "e:\\ProgramsInstalled\\Anaconda\\lib\\site-packages\\wordcloud\\wordcloud.py:508: DeprecationWarning:\n",
      "\n",
      "textsize is deprecated and will be removed in Pillow 10 (2023-07-01). Use textbbox or textlength instead.\n",
      "\n",
      "e:\\ProgramsInstalled\\Anaconda\\lib\\site-packages\\wordcloud\\wordcloud.py:508: DeprecationWarning:\n",
      "\n",
      "textsize is deprecated and will be removed in Pillow 10 (2023-07-01). Use textbbox or textlength instead.\n",
      "\n",
      "e:\\ProgramsInstalled\\Anaconda\\lib\\site-packages\\wordcloud\\wordcloud.py:508: DeprecationWarning:\n",
      "\n",
      "textsize is deprecated and will be removed in Pillow 10 (2023-07-01). Use textbbox or textlength instead.\n",
      "\n",
      "e:\\ProgramsInstalled\\Anaconda\\lib\\site-packages\\wordcloud\\wordcloud.py:508: DeprecationWarning:\n",
      "\n",
      "textsize is deprecated and will be removed in Pillow 10 (2023-07-01). Use textbbox or textlength instead.\n",
      "\n",
      "e:\\ProgramsInstalled\\Anaconda\\lib\\site-packages\\wordcloud\\wordcloud.py:508: DeprecationWarning:\n",
      "\n",
      "textsize is deprecated and will be removed in Pillow 10 (2023-07-01). Use textbbox or textlength instead.\n",
      "\n",
      "e:\\ProgramsInstalled\\Anaconda\\lib\\site-packages\\wordcloud\\wordcloud.py:508: DeprecationWarning:\n",
      "\n",
      "textsize is deprecated and will be removed in Pillow 10 (2023-07-01). Use textbbox or textlength instead.\n",
      "\n",
      "e:\\ProgramsInstalled\\Anaconda\\lib\\site-packages\\wordcloud\\wordcloud.py:508: DeprecationWarning:\n",
      "\n",
      "textsize is deprecated and will be removed in Pillow 10 (2023-07-01). Use textbbox or textlength instead.\n",
      "\n",
      "e:\\ProgramsInstalled\\Anaconda\\lib\\site-packages\\wordcloud\\wordcloud.py:508: DeprecationWarning:\n",
      "\n",
      "textsize is deprecated and will be removed in Pillow 10 (2023-07-01). Use textbbox or textlength instead.\n",
      "\n",
      "e:\\ProgramsInstalled\\Anaconda\\lib\\site-packages\\wordcloud\\wordcloud.py:508: DeprecationWarning:\n",
      "\n",
      "textsize is deprecated and will be removed in Pillow 10 (2023-07-01). Use textbbox or textlength instead.\n",
      "\n",
      "e:\\ProgramsInstalled\\Anaconda\\lib\\site-packages\\wordcloud\\wordcloud.py:508: DeprecationWarning:\n",
      "\n",
      "textsize is deprecated and will be removed in Pillow 10 (2023-07-01). Use textbbox or textlength instead.\n",
      "\n",
      "e:\\ProgramsInstalled\\Anaconda\\lib\\site-packages\\wordcloud\\wordcloud.py:499: DeprecationWarning:\n",
      "\n",
      "ROTATE_90 is deprecated and will be removed in Pillow 10 (2023-07-01). Use Transpose.ROTATE_90 instead.\n",
      "\n",
      "e:\\ProgramsInstalled\\Anaconda\\lib\\site-packages\\wordcloud\\wordcloud.py:508: DeprecationWarning:\n",
      "\n",
      "textsize is deprecated and will be removed in Pillow 10 (2023-07-01). Use textbbox or textlength instead.\n",
      "\n",
      "e:\\ProgramsInstalled\\Anaconda\\lib\\site-packages\\wordcloud\\wordcloud.py:508: DeprecationWarning:\n",
      "\n",
      "textsize is deprecated and will be removed in Pillow 10 (2023-07-01). Use textbbox or textlength instead.\n",
      "\n",
      "e:\\ProgramsInstalled\\Anaconda\\lib\\site-packages\\wordcloud\\wordcloud.py:508: DeprecationWarning:\n",
      "\n",
      "textsize is deprecated and will be removed in Pillow 10 (2023-07-01). Use textbbox or textlength instead.\n",
      "\n",
      "e:\\ProgramsInstalled\\Anaconda\\lib\\site-packages\\wordcloud\\wordcloud.py:499: DeprecationWarning:\n",
      "\n",
      "ROTATE_90 is deprecated and will be removed in Pillow 10 (2023-07-01). Use Transpose.ROTATE_90 instead.\n",
      "\n",
      "e:\\ProgramsInstalled\\Anaconda\\lib\\site-packages\\wordcloud\\wordcloud.py:508: DeprecationWarning:\n",
      "\n",
      "textsize is deprecated and will be removed in Pillow 10 (2023-07-01). Use textbbox or textlength instead.\n",
      "\n",
      "e:\\ProgramsInstalled\\Anaconda\\lib\\site-packages\\wordcloud\\wordcloud.py:508: DeprecationWarning:\n",
      "\n",
      "textsize is deprecated and will be removed in Pillow 10 (2023-07-01). Use textbbox or textlength instead.\n",
      "\n",
      "e:\\ProgramsInstalled\\Anaconda\\lib\\site-packages\\wordcloud\\wordcloud.py:499: DeprecationWarning:\n",
      "\n",
      "ROTATE_90 is deprecated and will be removed in Pillow 10 (2023-07-01). Use Transpose.ROTATE_90 instead.\n",
      "\n",
      "e:\\ProgramsInstalled\\Anaconda\\lib\\site-packages\\wordcloud\\wordcloud.py:508: DeprecationWarning:\n",
      "\n",
      "textsize is deprecated and will be removed in Pillow 10 (2023-07-01). Use textbbox or textlength instead.\n",
      "\n",
      "e:\\ProgramsInstalled\\Anaconda\\lib\\site-packages\\wordcloud\\wordcloud.py:508: DeprecationWarning:\n",
      "\n",
      "textsize is deprecated and will be removed in Pillow 10 (2023-07-01). Use textbbox or textlength instead.\n",
      "\n",
      "e:\\ProgramsInstalled\\Anaconda\\lib\\site-packages\\wordcloud\\wordcloud.py:508: DeprecationWarning:\n",
      "\n",
      "textsize is deprecated and will be removed in Pillow 10 (2023-07-01). Use textbbox or textlength instead.\n",
      "\n",
      "e:\\ProgramsInstalled\\Anaconda\\lib\\site-packages\\wordcloud\\wordcloud.py:508: DeprecationWarning:\n",
      "\n",
      "textsize is deprecated and will be removed in Pillow 10 (2023-07-01). Use textbbox or textlength instead.\n",
      "\n",
      "e:\\ProgramsInstalled\\Anaconda\\lib\\site-packages\\wordcloud\\wordcloud.py:508: DeprecationWarning:\n",
      "\n",
      "textsize is deprecated and will be removed in Pillow 10 (2023-07-01). Use textbbox or textlength instead.\n",
      "\n",
      "e:\\ProgramsInstalled\\Anaconda\\lib\\site-packages\\wordcloud\\wordcloud.py:508: DeprecationWarning:\n",
      "\n",
      "textsize is deprecated and will be removed in Pillow 10 (2023-07-01). Use textbbox or textlength instead.\n",
      "\n",
      "e:\\ProgramsInstalled\\Anaconda\\lib\\site-packages\\wordcloud\\wordcloud.py:508: DeprecationWarning:\n",
      "\n",
      "textsize is deprecated and will be removed in Pillow 10 (2023-07-01). Use textbbox or textlength instead.\n",
      "\n",
      "e:\\ProgramsInstalled\\Anaconda\\lib\\site-packages\\wordcloud\\wordcloud.py:508: DeprecationWarning:\n",
      "\n",
      "textsize is deprecated and will be removed in Pillow 10 (2023-07-01). Use textbbox or textlength instead.\n",
      "\n",
      "e:\\ProgramsInstalled\\Anaconda\\lib\\site-packages\\wordcloud\\wordcloud.py:508: DeprecationWarning:\n",
      "\n",
      "textsize is deprecated and will be removed in Pillow 10 (2023-07-01). Use textbbox or textlength instead.\n",
      "\n",
      "e:\\ProgramsInstalled\\Anaconda\\lib\\site-packages\\wordcloud\\wordcloud.py:508: DeprecationWarning:\n",
      "\n",
      "textsize is deprecated and will be removed in Pillow 10 (2023-07-01). Use textbbox or textlength instead.\n",
      "\n",
      "e:\\ProgramsInstalled\\Anaconda\\lib\\site-packages\\wordcloud\\wordcloud.py:508: DeprecationWarning:\n",
      "\n",
      "textsize is deprecated and will be removed in Pillow 10 (2023-07-01). Use textbbox or textlength instead.\n",
      "\n",
      "e:\\ProgramsInstalled\\Anaconda\\lib\\site-packages\\wordcloud\\wordcloud.py:508: DeprecationWarning:\n",
      "\n",
      "textsize is deprecated and will be removed in Pillow 10 (2023-07-01). Use textbbox or textlength instead.\n",
      "\n",
      "e:\\ProgramsInstalled\\Anaconda\\lib\\site-packages\\wordcloud\\wordcloud.py:508: DeprecationWarning:\n",
      "\n",
      "textsize is deprecated and will be removed in Pillow 10 (2023-07-01). Use textbbox or textlength instead.\n",
      "\n",
      "e:\\ProgramsInstalled\\Anaconda\\lib\\site-packages\\wordcloud\\wordcloud.py:508: DeprecationWarning:\n",
      "\n",
      "textsize is deprecated and will be removed in Pillow 10 (2023-07-01). Use textbbox or textlength instead.\n",
      "\n",
      "e:\\ProgramsInstalled\\Anaconda\\lib\\site-packages\\wordcloud\\wordcloud.py:508: DeprecationWarning:\n",
      "\n",
      "textsize is deprecated and will be removed in Pillow 10 (2023-07-01). Use textbbox or textlength instead.\n",
      "\n",
      "e:\\ProgramsInstalled\\Anaconda\\lib\\site-packages\\wordcloud\\wordcloud.py:508: DeprecationWarning:\n",
      "\n",
      "textsize is deprecated and will be removed in Pillow 10 (2023-07-01). Use textbbox or textlength instead.\n",
      "\n",
      "e:\\ProgramsInstalled\\Anaconda\\lib\\site-packages\\wordcloud\\wordcloud.py:499: DeprecationWarning:\n",
      "\n",
      "ROTATE_90 is deprecated and will be removed in Pillow 10 (2023-07-01). Use Transpose.ROTATE_90 instead.\n",
      "\n",
      "e:\\ProgramsInstalled\\Anaconda\\lib\\site-packages\\wordcloud\\wordcloud.py:508: DeprecationWarning:\n",
      "\n",
      "textsize is deprecated and will be removed in Pillow 10 (2023-07-01). Use textbbox or textlength instead.\n",
      "\n",
      "e:\\ProgramsInstalled\\Anaconda\\lib\\site-packages\\wordcloud\\wordcloud.py:499: DeprecationWarning:\n",
      "\n",
      "ROTATE_90 is deprecated and will be removed in Pillow 10 (2023-07-01). Use Transpose.ROTATE_90 instead.\n",
      "\n",
      "e:\\ProgramsInstalled\\Anaconda\\lib\\site-packages\\wordcloud\\wordcloud.py:508: DeprecationWarning:\n",
      "\n",
      "textsize is deprecated and will be removed in Pillow 10 (2023-07-01). Use textbbox or textlength instead.\n",
      "\n",
      "e:\\ProgramsInstalled\\Anaconda\\lib\\site-packages\\wordcloud\\wordcloud.py:508: DeprecationWarning:\n",
      "\n",
      "textsize is deprecated and will be removed in Pillow 10 (2023-07-01). Use textbbox or textlength instead.\n",
      "\n",
      "e:\\ProgramsInstalled\\Anaconda\\lib\\site-packages\\wordcloud\\wordcloud.py:508: DeprecationWarning:\n",
      "\n",
      "textsize is deprecated and will be removed in Pillow 10 (2023-07-01). Use textbbox or textlength instead.\n",
      "\n",
      "e:\\ProgramsInstalled\\Anaconda\\lib\\site-packages\\wordcloud\\wordcloud.py:508: DeprecationWarning:\n",
      "\n",
      "textsize is deprecated and will be removed in Pillow 10 (2023-07-01). Use textbbox or textlength instead.\n",
      "\n",
      "e:\\ProgramsInstalled\\Anaconda\\lib\\site-packages\\wordcloud\\wordcloud.py:508: DeprecationWarning:\n",
      "\n",
      "textsize is deprecated and will be removed in Pillow 10 (2023-07-01). Use textbbox or textlength instead.\n",
      "\n",
      "e:\\ProgramsInstalled\\Anaconda\\lib\\site-packages\\wordcloud\\wordcloud.py:508: DeprecationWarning:\n",
      "\n",
      "textsize is deprecated and will be removed in Pillow 10 (2023-07-01). Use textbbox or textlength instead.\n",
      "\n",
      "e:\\ProgramsInstalled\\Anaconda\\lib\\site-packages\\wordcloud\\wordcloud.py:508: DeprecationWarning:\n",
      "\n",
      "textsize is deprecated and will be removed in Pillow 10 (2023-07-01). Use textbbox or textlength instead.\n",
      "\n",
      "e:\\ProgramsInstalled\\Anaconda\\lib\\site-packages\\wordcloud\\wordcloud.py:508: DeprecationWarning:\n",
      "\n",
      "textsize is deprecated and will be removed in Pillow 10 (2023-07-01). Use textbbox or textlength instead.\n",
      "\n",
      "e:\\ProgramsInstalled\\Anaconda\\lib\\site-packages\\wordcloud\\wordcloud.py:508: DeprecationWarning:\n",
      "\n",
      "textsize is deprecated and will be removed in Pillow 10 (2023-07-01). Use textbbox or textlength instead.\n",
      "\n",
      "e:\\ProgramsInstalled\\Anaconda\\lib\\site-packages\\wordcloud\\wordcloud.py:508: DeprecationWarning:\n",
      "\n",
      "textsize is deprecated and will be removed in Pillow 10 (2023-07-01). Use textbbox or textlength instead.\n",
      "\n",
      "e:\\ProgramsInstalled\\Anaconda\\lib\\site-packages\\wordcloud\\wordcloud.py:508: DeprecationWarning:\n",
      "\n",
      "textsize is deprecated and will be removed in Pillow 10 (2023-07-01). Use textbbox or textlength instead.\n",
      "\n",
      "e:\\ProgramsInstalled\\Anaconda\\lib\\site-packages\\wordcloud\\wordcloud.py:508: DeprecationWarning:\n",
      "\n",
      "textsize is deprecated and will be removed in Pillow 10 (2023-07-01). Use textbbox or textlength instead.\n",
      "\n",
      "e:\\ProgramsInstalled\\Anaconda\\lib\\site-packages\\wordcloud\\wordcloud.py:508: DeprecationWarning:\n",
      "\n",
      "textsize is deprecated and will be removed in Pillow 10 (2023-07-01). Use textbbox or textlength instead.\n",
      "\n",
      "e:\\ProgramsInstalled\\Anaconda\\lib\\site-packages\\wordcloud\\wordcloud.py:508: DeprecationWarning:\n",
      "\n",
      "textsize is deprecated and will be removed in Pillow 10 (2023-07-01). Use textbbox or textlength instead.\n",
      "\n",
      "e:\\ProgramsInstalled\\Anaconda\\lib\\site-packages\\wordcloud\\wordcloud.py:508: DeprecationWarning:\n",
      "\n",
      "textsize is deprecated and will be removed in Pillow 10 (2023-07-01). Use textbbox or textlength instead.\n",
      "\n",
      "e:\\ProgramsInstalled\\Anaconda\\lib\\site-packages\\wordcloud\\wordcloud.py:508: DeprecationWarning:\n",
      "\n",
      "textsize is deprecated and will be removed in Pillow 10 (2023-07-01). Use textbbox or textlength instead.\n",
      "\n",
      "e:\\ProgramsInstalled\\Anaconda\\lib\\site-packages\\wordcloud\\wordcloud.py:508: DeprecationWarning:\n",
      "\n",
      "textsize is deprecated and will be removed in Pillow 10 (2023-07-01). Use textbbox or textlength instead.\n",
      "\n",
      "e:\\ProgramsInstalled\\Anaconda\\lib\\site-packages\\wordcloud\\wordcloud.py:508: DeprecationWarning:\n",
      "\n",
      "textsize is deprecated and will be removed in Pillow 10 (2023-07-01). Use textbbox or textlength instead.\n",
      "\n",
      "e:\\ProgramsInstalled\\Anaconda\\lib\\site-packages\\wordcloud\\wordcloud.py:508: DeprecationWarning:\n",
      "\n",
      "textsize is deprecated and will be removed in Pillow 10 (2023-07-01). Use textbbox or textlength instead.\n",
      "\n",
      "e:\\ProgramsInstalled\\Anaconda\\lib\\site-packages\\wordcloud\\wordcloud.py:508: DeprecationWarning:\n",
      "\n",
      "textsize is deprecated and will be removed in Pillow 10 (2023-07-01). Use textbbox or textlength instead.\n",
      "\n",
      "e:\\ProgramsInstalled\\Anaconda\\lib\\site-packages\\wordcloud\\wordcloud.py:508: DeprecationWarning:\n",
      "\n",
      "textsize is deprecated and will be removed in Pillow 10 (2023-07-01). Use textbbox or textlength instead.\n",
      "\n",
      "e:\\ProgramsInstalled\\Anaconda\\lib\\site-packages\\wordcloud\\wordcloud.py:508: DeprecationWarning:\n",
      "\n",
      "textsize is deprecated and will be removed in Pillow 10 (2023-07-01). Use textbbox or textlength instead.\n",
      "\n",
      "e:\\ProgramsInstalled\\Anaconda\\lib\\site-packages\\wordcloud\\wordcloud.py:508: DeprecationWarning:\n",
      "\n",
      "textsize is deprecated and will be removed in Pillow 10 (2023-07-01). Use textbbox or textlength instead.\n",
      "\n",
      "e:\\ProgramsInstalled\\Anaconda\\lib\\site-packages\\wordcloud\\wordcloud.py:508: DeprecationWarning:\n",
      "\n",
      "textsize is deprecated and will be removed in Pillow 10 (2023-07-01). Use textbbox or textlength instead.\n",
      "\n",
      "e:\\ProgramsInstalled\\Anaconda\\lib\\site-packages\\wordcloud\\wordcloud.py:508: DeprecationWarning:\n",
      "\n",
      "textsize is deprecated and will be removed in Pillow 10 (2023-07-01). Use textbbox or textlength instead.\n",
      "\n",
      "e:\\ProgramsInstalled\\Anaconda\\lib\\site-packages\\wordcloud\\wordcloud.py:508: DeprecationWarning:\n",
      "\n",
      "textsize is deprecated and will be removed in Pillow 10 (2023-07-01). Use textbbox or textlength instead.\n",
      "\n",
      "e:\\ProgramsInstalled\\Anaconda\\lib\\site-packages\\wordcloud\\wordcloud.py:499: DeprecationWarning:\n",
      "\n",
      "ROTATE_90 is deprecated and will be removed in Pillow 10 (2023-07-01). Use Transpose.ROTATE_90 instead.\n",
      "\n",
      "e:\\ProgramsInstalled\\Anaconda\\lib\\site-packages\\wordcloud\\wordcloud.py:508: DeprecationWarning:\n",
      "\n",
      "textsize is deprecated and will be removed in Pillow 10 (2023-07-01). Use textbbox or textlength instead.\n",
      "\n",
      "e:\\ProgramsInstalled\\Anaconda\\lib\\site-packages\\wordcloud\\wordcloud.py:508: DeprecationWarning:\n",
      "\n",
      "textsize is deprecated and will be removed in Pillow 10 (2023-07-01). Use textbbox or textlength instead.\n",
      "\n",
      "e:\\ProgramsInstalled\\Anaconda\\lib\\site-packages\\wordcloud\\wordcloud.py:508: DeprecationWarning:\n",
      "\n",
      "textsize is deprecated and will be removed in Pillow 10 (2023-07-01). Use textbbox or textlength instead.\n",
      "\n",
      "e:\\ProgramsInstalled\\Anaconda\\lib\\site-packages\\wordcloud\\wordcloud.py:508: DeprecationWarning:\n",
      "\n",
      "textsize is deprecated and will be removed in Pillow 10 (2023-07-01). Use textbbox or textlength instead.\n",
      "\n",
      "e:\\ProgramsInstalled\\Anaconda\\lib\\site-packages\\wordcloud\\wordcloud.py:508: DeprecationWarning:\n",
      "\n",
      "textsize is deprecated and will be removed in Pillow 10 (2023-07-01). Use textbbox or textlength instead.\n",
      "\n",
      "e:\\ProgramsInstalled\\Anaconda\\lib\\site-packages\\wordcloud\\wordcloud.py:508: DeprecationWarning:\n",
      "\n",
      "textsize is deprecated and will be removed in Pillow 10 (2023-07-01). Use textbbox or textlength instead.\n",
      "\n",
      "e:\\ProgramsInstalled\\Anaconda\\lib\\site-packages\\wordcloud\\wordcloud.py:508: DeprecationWarning:\n",
      "\n",
      "textsize is deprecated and will be removed in Pillow 10 (2023-07-01). Use textbbox or textlength instead.\n",
      "\n",
      "e:\\ProgramsInstalled\\Anaconda\\lib\\site-packages\\wordcloud\\wordcloud.py:508: DeprecationWarning:\n",
      "\n",
      "textsize is deprecated and will be removed in Pillow 10 (2023-07-01). Use textbbox or textlength instead.\n",
      "\n",
      "e:\\ProgramsInstalled\\Anaconda\\lib\\site-packages\\wordcloud\\wordcloud.py:508: DeprecationWarning:\n",
      "\n",
      "textsize is deprecated and will be removed in Pillow 10 (2023-07-01). Use textbbox or textlength instead.\n",
      "\n",
      "e:\\ProgramsInstalled\\Anaconda\\lib\\site-packages\\wordcloud\\wordcloud.py:508: DeprecationWarning:\n",
      "\n",
      "textsize is deprecated and will be removed in Pillow 10 (2023-07-01). Use textbbox or textlength instead.\n",
      "\n",
      "e:\\ProgramsInstalled\\Anaconda\\lib\\site-packages\\wordcloud\\wordcloud.py:508: DeprecationWarning:\n",
      "\n",
      "textsize is deprecated and will be removed in Pillow 10 (2023-07-01). Use textbbox or textlength instead.\n",
      "\n",
      "e:\\ProgramsInstalled\\Anaconda\\lib\\site-packages\\wordcloud\\wordcloud.py:508: DeprecationWarning:\n",
      "\n",
      "textsize is deprecated and will be removed in Pillow 10 (2023-07-01). Use textbbox or textlength instead.\n",
      "\n",
      "e:\\ProgramsInstalled\\Anaconda\\lib\\site-packages\\wordcloud\\wordcloud.py:508: DeprecationWarning:\n",
      "\n",
      "textsize is deprecated and will be removed in Pillow 10 (2023-07-01). Use textbbox or textlength instead.\n",
      "\n",
      "e:\\ProgramsInstalled\\Anaconda\\lib\\site-packages\\wordcloud\\wordcloud.py:508: DeprecationWarning:\n",
      "\n",
      "textsize is deprecated and will be removed in Pillow 10 (2023-07-01). Use textbbox or textlength instead.\n",
      "\n",
      "e:\\ProgramsInstalled\\Anaconda\\lib\\site-packages\\wordcloud\\wordcloud.py:508: DeprecationWarning:\n",
      "\n",
      "textsize is deprecated and will be removed in Pillow 10 (2023-07-01). Use textbbox or textlength instead.\n",
      "\n",
      "e:\\ProgramsInstalled\\Anaconda\\lib\\site-packages\\wordcloud\\wordcloud.py:508: DeprecationWarning:\n",
      "\n",
      "textsize is deprecated and will be removed in Pillow 10 (2023-07-01). Use textbbox or textlength instead.\n",
      "\n",
      "e:\\ProgramsInstalled\\Anaconda\\lib\\site-packages\\wordcloud\\wordcloud.py:508: DeprecationWarning:\n",
      "\n",
      "textsize is deprecated and will be removed in Pillow 10 (2023-07-01). Use textbbox or textlength instead.\n",
      "\n",
      "e:\\ProgramsInstalled\\Anaconda\\lib\\site-packages\\wordcloud\\wordcloud.py:508: DeprecationWarning:\n",
      "\n",
      "textsize is deprecated and will be removed in Pillow 10 (2023-07-01). Use textbbox or textlength instead.\n",
      "\n",
      "e:\\ProgramsInstalled\\Anaconda\\lib\\site-packages\\wordcloud\\wordcloud.py:508: DeprecationWarning:\n",
      "\n",
      "textsize is deprecated and will be removed in Pillow 10 (2023-07-01). Use textbbox or textlength instead.\n",
      "\n",
      "e:\\ProgramsInstalled\\Anaconda\\lib\\site-packages\\wordcloud\\wordcloud.py:508: DeprecationWarning:\n",
      "\n",
      "textsize is deprecated and will be removed in Pillow 10 (2023-07-01). Use textbbox or textlength instead.\n",
      "\n",
      "e:\\ProgramsInstalled\\Anaconda\\lib\\site-packages\\wordcloud\\wordcloud.py:508: DeprecationWarning:\n",
      "\n",
      "textsize is deprecated and will be removed in Pillow 10 (2023-07-01). Use textbbox or textlength instead.\n",
      "\n",
      "e:\\ProgramsInstalled\\Anaconda\\lib\\site-packages\\wordcloud\\wordcloud.py:508: DeprecationWarning:\n",
      "\n",
      "textsize is deprecated and will be removed in Pillow 10 (2023-07-01). Use textbbox or textlength instead.\n",
      "\n",
      "e:\\ProgramsInstalled\\Anaconda\\lib\\site-packages\\wordcloud\\wordcloud.py:508: DeprecationWarning:\n",
      "\n",
      "textsize is deprecated and will be removed in Pillow 10 (2023-07-01). Use textbbox or textlength instead.\n",
      "\n",
      "e:\\ProgramsInstalled\\Anaconda\\lib\\site-packages\\wordcloud\\wordcloud.py:508: DeprecationWarning:\n",
      "\n",
      "textsize is deprecated and will be removed in Pillow 10 (2023-07-01). Use textbbox or textlength instead.\n",
      "\n",
      "e:\\ProgramsInstalled\\Anaconda\\lib\\site-packages\\wordcloud\\wordcloud.py:508: DeprecationWarning:\n",
      "\n",
      "textsize is deprecated and will be removed in Pillow 10 (2023-07-01). Use textbbox or textlength instead.\n",
      "\n",
      "e:\\ProgramsInstalled\\Anaconda\\lib\\site-packages\\wordcloud\\wordcloud.py:508: DeprecationWarning:\n",
      "\n",
      "textsize is deprecated and will be removed in Pillow 10 (2023-07-01). Use textbbox or textlength instead.\n",
      "\n",
      "e:\\ProgramsInstalled\\Anaconda\\lib\\site-packages\\wordcloud\\wordcloud.py:508: DeprecationWarning:\n",
      "\n",
      "textsize is deprecated and will be removed in Pillow 10 (2023-07-01). Use textbbox or textlength instead.\n",
      "\n",
      "e:\\ProgramsInstalled\\Anaconda\\lib\\site-packages\\wordcloud\\wordcloud.py:508: DeprecationWarning:\n",
      "\n",
      "textsize is deprecated and will be removed in Pillow 10 (2023-07-01). Use textbbox or textlength instead.\n",
      "\n",
      "e:\\ProgramsInstalled\\Anaconda\\lib\\site-packages\\wordcloud\\wordcloud.py:508: DeprecationWarning:\n",
      "\n",
      "textsize is deprecated and will be removed in Pillow 10 (2023-07-01). Use textbbox or textlength instead.\n",
      "\n",
      "e:\\ProgramsInstalled\\Anaconda\\lib\\site-packages\\wordcloud\\wordcloud.py:508: DeprecationWarning:\n",
      "\n",
      "textsize is deprecated and will be removed in Pillow 10 (2023-07-01). Use textbbox or textlength instead.\n",
      "\n",
      "e:\\ProgramsInstalled\\Anaconda\\lib\\site-packages\\wordcloud\\wordcloud.py:508: DeprecationWarning:\n",
      "\n",
      "textsize is deprecated and will be removed in Pillow 10 (2023-07-01). Use textbbox or textlength instead.\n",
      "\n",
      "e:\\ProgramsInstalled\\Anaconda\\lib\\site-packages\\wordcloud\\wordcloud.py:508: DeprecationWarning:\n",
      "\n",
      "textsize is deprecated and will be removed in Pillow 10 (2023-07-01). Use textbbox or textlength instead.\n",
      "\n",
      "e:\\ProgramsInstalled\\Anaconda\\lib\\site-packages\\wordcloud\\wordcloud.py:508: DeprecationWarning:\n",
      "\n",
      "textsize is deprecated and will be removed in Pillow 10 (2023-07-01). Use textbbox or textlength instead.\n",
      "\n",
      "e:\\ProgramsInstalled\\Anaconda\\lib\\site-packages\\wordcloud\\wordcloud.py:508: DeprecationWarning:\n",
      "\n",
      "textsize is deprecated and will be removed in Pillow 10 (2023-07-01). Use textbbox or textlength instead.\n",
      "\n",
      "e:\\ProgramsInstalled\\Anaconda\\lib\\site-packages\\wordcloud\\wordcloud.py:508: DeprecationWarning:\n",
      "\n",
      "textsize is deprecated and will be removed in Pillow 10 (2023-07-01). Use textbbox or textlength instead.\n",
      "\n",
      "e:\\ProgramsInstalled\\Anaconda\\lib\\site-packages\\wordcloud\\wordcloud.py:499: DeprecationWarning:\n",
      "\n",
      "ROTATE_90 is deprecated and will be removed in Pillow 10 (2023-07-01). Use Transpose.ROTATE_90 instead.\n",
      "\n",
      "e:\\ProgramsInstalled\\Anaconda\\lib\\site-packages\\wordcloud\\wordcloud.py:508: DeprecationWarning:\n",
      "\n",
      "textsize is deprecated and will be removed in Pillow 10 (2023-07-01). Use textbbox or textlength instead.\n",
      "\n",
      "e:\\ProgramsInstalled\\Anaconda\\lib\\site-packages\\wordcloud\\wordcloud.py:508: DeprecationWarning:\n",
      "\n",
      "textsize is deprecated and will be removed in Pillow 10 (2023-07-01). Use textbbox or textlength instead.\n",
      "\n",
      "e:\\ProgramsInstalled\\Anaconda\\lib\\site-packages\\wordcloud\\wordcloud.py:508: DeprecationWarning:\n",
      "\n",
      "textsize is deprecated and will be removed in Pillow 10 (2023-07-01). Use textbbox or textlength instead.\n",
      "\n",
      "e:\\ProgramsInstalled\\Anaconda\\lib\\site-packages\\wordcloud\\wordcloud.py:508: DeprecationWarning:\n",
      "\n",
      "textsize is deprecated and will be removed in Pillow 10 (2023-07-01). Use textbbox or textlength instead.\n",
      "\n",
      "e:\\ProgramsInstalled\\Anaconda\\lib\\site-packages\\wordcloud\\wordcloud.py:508: DeprecationWarning:\n",
      "\n",
      "textsize is deprecated and will be removed in Pillow 10 (2023-07-01). Use textbbox or textlength instead.\n",
      "\n",
      "e:\\ProgramsInstalled\\Anaconda\\lib\\site-packages\\wordcloud\\wordcloud.py:508: DeprecationWarning:\n",
      "\n",
      "textsize is deprecated and will be removed in Pillow 10 (2023-07-01). Use textbbox or textlength instead.\n",
      "\n",
      "e:\\ProgramsInstalled\\Anaconda\\lib\\site-packages\\wordcloud\\wordcloud.py:508: DeprecationWarning:\n",
      "\n",
      "textsize is deprecated and will be removed in Pillow 10 (2023-07-01). Use textbbox or textlength instead.\n",
      "\n",
      "e:\\ProgramsInstalled\\Anaconda\\lib\\site-packages\\wordcloud\\wordcloud.py:508: DeprecationWarning:\n",
      "\n",
      "textsize is deprecated and will be removed in Pillow 10 (2023-07-01). Use textbbox or textlength instead.\n",
      "\n",
      "e:\\ProgramsInstalled\\Anaconda\\lib\\site-packages\\wordcloud\\wordcloud.py:508: DeprecationWarning:\n",
      "\n",
      "textsize is deprecated and will be removed in Pillow 10 (2023-07-01). Use textbbox or textlength instead.\n",
      "\n",
      "e:\\ProgramsInstalled\\Anaconda\\lib\\site-packages\\wordcloud\\wordcloud.py:508: DeprecationWarning:\n",
      "\n",
      "textsize is deprecated and will be removed in Pillow 10 (2023-07-01). Use textbbox or textlength instead.\n",
      "\n",
      "e:\\ProgramsInstalled\\Anaconda\\lib\\site-packages\\wordcloud\\wordcloud.py:508: DeprecationWarning:\n",
      "\n",
      "textsize is deprecated and will be removed in Pillow 10 (2023-07-01). Use textbbox or textlength instead.\n",
      "\n",
      "e:\\ProgramsInstalled\\Anaconda\\lib\\site-packages\\wordcloud\\wordcloud.py:508: DeprecationWarning:\n",
      "\n",
      "textsize is deprecated and will be removed in Pillow 10 (2023-07-01). Use textbbox or textlength instead.\n",
      "\n",
      "e:\\ProgramsInstalled\\Anaconda\\lib\\site-packages\\wordcloud\\wordcloud.py:508: DeprecationWarning:\n",
      "\n",
      "textsize is deprecated and will be removed in Pillow 10 (2023-07-01). Use textbbox or textlength instead.\n",
      "\n",
      "e:\\ProgramsInstalled\\Anaconda\\lib\\site-packages\\wordcloud\\wordcloud.py:508: DeprecationWarning:\n",
      "\n",
      "textsize is deprecated and will be removed in Pillow 10 (2023-07-01). Use textbbox or textlength instead.\n",
      "\n",
      "e:\\ProgramsInstalled\\Anaconda\\lib\\site-packages\\wordcloud\\wordcloud.py:508: DeprecationWarning:\n",
      "\n",
      "textsize is deprecated and will be removed in Pillow 10 (2023-07-01). Use textbbox or textlength instead.\n",
      "\n",
      "e:\\ProgramsInstalled\\Anaconda\\lib\\site-packages\\wordcloud\\wordcloud.py:508: DeprecationWarning:\n",
      "\n",
      "textsize is deprecated and will be removed in Pillow 10 (2023-07-01). Use textbbox or textlength instead.\n",
      "\n",
      "e:\\ProgramsInstalled\\Anaconda\\lib\\site-packages\\wordcloud\\wordcloud.py:508: DeprecationWarning:\n",
      "\n",
      "textsize is deprecated and will be removed in Pillow 10 (2023-07-01). Use textbbox or textlength instead.\n",
      "\n",
      "e:\\ProgramsInstalled\\Anaconda\\lib\\site-packages\\wordcloud\\wordcloud.py:508: DeprecationWarning:\n",
      "\n",
      "textsize is deprecated and will be removed in Pillow 10 (2023-07-01). Use textbbox or textlength instead.\n",
      "\n",
      "e:\\ProgramsInstalled\\Anaconda\\lib\\site-packages\\wordcloud\\wordcloud.py:508: DeprecationWarning:\n",
      "\n",
      "textsize is deprecated and will be removed in Pillow 10 (2023-07-01). Use textbbox or textlength instead.\n",
      "\n",
      "e:\\ProgramsInstalled\\Anaconda\\lib\\site-packages\\wordcloud\\wordcloud.py:508: DeprecationWarning:\n",
      "\n",
      "textsize is deprecated and will be removed in Pillow 10 (2023-07-01). Use textbbox or textlength instead.\n",
      "\n",
      "e:\\ProgramsInstalled\\Anaconda\\lib\\site-packages\\wordcloud\\wordcloud.py:508: DeprecationWarning:\n",
      "\n",
      "textsize is deprecated and will be removed in Pillow 10 (2023-07-01). Use textbbox or textlength instead.\n",
      "\n",
      "e:\\ProgramsInstalled\\Anaconda\\lib\\site-packages\\wordcloud\\wordcloud.py:508: DeprecationWarning:\n",
      "\n",
      "textsize is deprecated and will be removed in Pillow 10 (2023-07-01). Use textbbox or textlength instead.\n",
      "\n",
      "e:\\ProgramsInstalled\\Anaconda\\lib\\site-packages\\wordcloud\\wordcloud.py:508: DeprecationWarning:\n",
      "\n",
      "textsize is deprecated and will be removed in Pillow 10 (2023-07-01). Use textbbox or textlength instead.\n",
      "\n",
      "e:\\ProgramsInstalled\\Anaconda\\lib\\site-packages\\wordcloud\\wordcloud.py:508: DeprecationWarning:\n",
      "\n",
      "textsize is deprecated and will be removed in Pillow 10 (2023-07-01). Use textbbox or textlength instead.\n",
      "\n",
      "e:\\ProgramsInstalled\\Anaconda\\lib\\site-packages\\wordcloud\\wordcloud.py:508: DeprecationWarning:\n",
      "\n",
      "textsize is deprecated and will be removed in Pillow 10 (2023-07-01). Use textbbox or textlength instead.\n",
      "\n",
      "e:\\ProgramsInstalled\\Anaconda\\lib\\site-packages\\wordcloud\\wordcloud.py:508: DeprecationWarning:\n",
      "\n",
      "textsize is deprecated and will be removed in Pillow 10 (2023-07-01). Use textbbox or textlength instead.\n",
      "\n",
      "e:\\ProgramsInstalled\\Anaconda\\lib\\site-packages\\wordcloud\\wordcloud.py:508: DeprecationWarning:\n",
      "\n",
      "textsize is deprecated and will be removed in Pillow 10 (2023-07-01). Use textbbox or textlength instead.\n",
      "\n",
      "e:\\ProgramsInstalled\\Anaconda\\lib\\site-packages\\wordcloud\\wordcloud.py:508: DeprecationWarning:\n",
      "\n",
      "textsize is deprecated and will be removed in Pillow 10 (2023-07-01). Use textbbox or textlength instead.\n",
      "\n",
      "e:\\ProgramsInstalled\\Anaconda\\lib\\site-packages\\wordcloud\\wordcloud.py:508: DeprecationWarning:\n",
      "\n",
      "textsize is deprecated and will be removed in Pillow 10 (2023-07-01). Use textbbox or textlength instead.\n",
      "\n",
      "e:\\ProgramsInstalled\\Anaconda\\lib\\site-packages\\wordcloud\\wordcloud.py:508: DeprecationWarning:\n",
      "\n",
      "textsize is deprecated and will be removed in Pillow 10 (2023-07-01). Use textbbox or textlength instead.\n",
      "\n",
      "e:\\ProgramsInstalled\\Anaconda\\lib\\site-packages\\wordcloud\\wordcloud.py:508: DeprecationWarning:\n",
      "\n",
      "textsize is deprecated and will be removed in Pillow 10 (2023-07-01). Use textbbox or textlength instead.\n",
      "\n",
      "e:\\ProgramsInstalled\\Anaconda\\lib\\site-packages\\wordcloud\\wordcloud.py:508: DeprecationWarning:\n",
      "\n",
      "textsize is deprecated and will be removed in Pillow 10 (2023-07-01). Use textbbox or textlength instead.\n",
      "\n",
      "e:\\ProgramsInstalled\\Anaconda\\lib\\site-packages\\wordcloud\\wordcloud.py:508: DeprecationWarning:\n",
      "\n",
      "textsize is deprecated and will be removed in Pillow 10 (2023-07-01). Use textbbox or textlength instead.\n",
      "\n",
      "e:\\ProgramsInstalled\\Anaconda\\lib\\site-packages\\wordcloud\\wordcloud.py:508: DeprecationWarning:\n",
      "\n",
      "textsize is deprecated and will be removed in Pillow 10 (2023-07-01). Use textbbox or textlength instead.\n",
      "\n",
      "e:\\ProgramsInstalled\\Anaconda\\lib\\site-packages\\wordcloud\\wordcloud.py:508: DeprecationWarning:\n",
      "\n",
      "textsize is deprecated and will be removed in Pillow 10 (2023-07-01). Use textbbox or textlength instead.\n",
      "\n",
      "e:\\ProgramsInstalled\\Anaconda\\lib\\site-packages\\wordcloud\\wordcloud.py:508: DeprecationWarning:\n",
      "\n",
      "textsize is deprecated and will be removed in Pillow 10 (2023-07-01). Use textbbox or textlength instead.\n",
      "\n",
      "e:\\ProgramsInstalled\\Anaconda\\lib\\site-packages\\wordcloud\\wordcloud.py:508: DeprecationWarning:\n",
      "\n",
      "textsize is deprecated and will be removed in Pillow 10 (2023-07-01). Use textbbox or textlength instead.\n",
      "\n",
      "e:\\ProgramsInstalled\\Anaconda\\lib\\site-packages\\wordcloud\\wordcloud.py:508: DeprecationWarning:\n",
      "\n",
      "textsize is deprecated and will be removed in Pillow 10 (2023-07-01). Use textbbox or textlength instead.\n",
      "\n",
      "e:\\ProgramsInstalled\\Anaconda\\lib\\site-packages\\wordcloud\\wordcloud.py:508: DeprecationWarning:\n",
      "\n",
      "textsize is deprecated and will be removed in Pillow 10 (2023-07-01). Use textbbox or textlength instead.\n",
      "\n",
      "e:\\ProgramsInstalled\\Anaconda\\lib\\site-packages\\wordcloud\\wordcloud.py:508: DeprecationWarning:\n",
      "\n",
      "textsize is deprecated and will be removed in Pillow 10 (2023-07-01). Use textbbox or textlength instead.\n",
      "\n",
      "e:\\ProgramsInstalled\\Anaconda\\lib\\site-packages\\wordcloud\\wordcloud.py:508: DeprecationWarning:\n",
      "\n",
      "textsize is deprecated and will be removed in Pillow 10 (2023-07-01). Use textbbox or textlength instead.\n",
      "\n",
      "e:\\ProgramsInstalled\\Anaconda\\lib\\site-packages\\wordcloud\\wordcloud.py:508: DeprecationWarning:\n",
      "\n",
      "textsize is deprecated and will be removed in Pillow 10 (2023-07-01). Use textbbox or textlength instead.\n",
      "\n",
      "e:\\ProgramsInstalled\\Anaconda\\lib\\site-packages\\wordcloud\\wordcloud.py:508: DeprecationWarning:\n",
      "\n",
      "textsize is deprecated and will be removed in Pillow 10 (2023-07-01). Use textbbox or textlength instead.\n",
      "\n",
      "e:\\ProgramsInstalled\\Anaconda\\lib\\site-packages\\wordcloud\\wordcloud.py:508: DeprecationWarning:\n",
      "\n",
      "textsize is deprecated and will be removed in Pillow 10 (2023-07-01). Use textbbox or textlength instead.\n",
      "\n",
      "e:\\ProgramsInstalled\\Anaconda\\lib\\site-packages\\wordcloud\\wordcloud.py:499: DeprecationWarning:\n",
      "\n",
      "ROTATE_90 is deprecated and will be removed in Pillow 10 (2023-07-01). Use Transpose.ROTATE_90 instead.\n",
      "\n",
      "e:\\ProgramsInstalled\\Anaconda\\lib\\site-packages\\wordcloud\\wordcloud.py:508: DeprecationWarning:\n",
      "\n",
      "textsize is deprecated and will be removed in Pillow 10 (2023-07-01). Use textbbox or textlength instead.\n",
      "\n",
      "e:\\ProgramsInstalled\\Anaconda\\lib\\site-packages\\wordcloud\\wordcloud.py:508: DeprecationWarning:\n",
      "\n",
      "textsize is deprecated and will be removed in Pillow 10 (2023-07-01). Use textbbox or textlength instead.\n",
      "\n",
      "e:\\ProgramsInstalled\\Anaconda\\lib\\site-packages\\wordcloud\\wordcloud.py:508: DeprecationWarning:\n",
      "\n",
      "textsize is deprecated and will be removed in Pillow 10 (2023-07-01). Use textbbox or textlength instead.\n",
      "\n",
      "e:\\ProgramsInstalled\\Anaconda\\lib\\site-packages\\wordcloud\\wordcloud.py:508: DeprecationWarning:\n",
      "\n",
      "textsize is deprecated and will be removed in Pillow 10 (2023-07-01). Use textbbox or textlength instead.\n",
      "\n",
      "e:\\ProgramsInstalled\\Anaconda\\lib\\site-packages\\wordcloud\\wordcloud.py:508: DeprecationWarning:\n",
      "\n",
      "textsize is deprecated and will be removed in Pillow 10 (2023-07-01). Use textbbox or textlength instead.\n",
      "\n",
      "e:\\ProgramsInstalled\\Anaconda\\lib\\site-packages\\wordcloud\\wordcloud.py:508: DeprecationWarning:\n",
      "\n",
      "textsize is deprecated and will be removed in Pillow 10 (2023-07-01). Use textbbox or textlength instead.\n",
      "\n",
      "e:\\ProgramsInstalled\\Anaconda\\lib\\site-packages\\wordcloud\\wordcloud.py:508: DeprecationWarning:\n",
      "\n",
      "textsize is deprecated and will be removed in Pillow 10 (2023-07-01). Use textbbox or textlength instead.\n",
      "\n",
      "e:\\ProgramsInstalled\\Anaconda\\lib\\site-packages\\wordcloud\\wordcloud.py:508: DeprecationWarning:\n",
      "\n",
      "textsize is deprecated and will be removed in Pillow 10 (2023-07-01). Use textbbox or textlength instead.\n",
      "\n",
      "e:\\ProgramsInstalled\\Anaconda\\lib\\site-packages\\wordcloud\\wordcloud.py:508: DeprecationWarning:\n",
      "\n",
      "textsize is deprecated and will be removed in Pillow 10 (2023-07-01). Use textbbox or textlength instead.\n",
      "\n",
      "e:\\ProgramsInstalled\\Anaconda\\lib\\site-packages\\wordcloud\\wordcloud.py:508: DeprecationWarning:\n",
      "\n",
      "textsize is deprecated and will be removed in Pillow 10 (2023-07-01). Use textbbox or textlength instead.\n",
      "\n",
      "e:\\ProgramsInstalled\\Anaconda\\lib\\site-packages\\wordcloud\\wordcloud.py:508: DeprecationWarning:\n",
      "\n",
      "textsize is deprecated and will be removed in Pillow 10 (2023-07-01). Use textbbox or textlength instead.\n",
      "\n",
      "e:\\ProgramsInstalled\\Anaconda\\lib\\site-packages\\wordcloud\\wordcloud.py:499: DeprecationWarning:\n",
      "\n",
      "ROTATE_90 is deprecated and will be removed in Pillow 10 (2023-07-01). Use Transpose.ROTATE_90 instead.\n",
      "\n",
      "e:\\ProgramsInstalled\\Anaconda\\lib\\site-packages\\wordcloud\\wordcloud.py:508: DeprecationWarning:\n",
      "\n",
      "textsize is deprecated and will be removed in Pillow 10 (2023-07-01). Use textbbox or textlength instead.\n",
      "\n",
      "e:\\ProgramsInstalled\\Anaconda\\lib\\site-packages\\wordcloud\\wordcloud.py:508: DeprecationWarning:\n",
      "\n",
      "textsize is deprecated and will be removed in Pillow 10 (2023-07-01). Use textbbox or textlength instead.\n",
      "\n",
      "e:\\ProgramsInstalled\\Anaconda\\lib\\site-packages\\wordcloud\\wordcloud.py:508: DeprecationWarning:\n",
      "\n",
      "textsize is deprecated and will be removed in Pillow 10 (2023-07-01). Use textbbox or textlength instead.\n",
      "\n",
      "e:\\ProgramsInstalled\\Anaconda\\lib\\site-packages\\wordcloud\\wordcloud.py:508: DeprecationWarning:\n",
      "\n",
      "textsize is deprecated and will be removed in Pillow 10 (2023-07-01). Use textbbox or textlength instead.\n",
      "\n",
      "e:\\ProgramsInstalled\\Anaconda\\lib\\site-packages\\wordcloud\\wordcloud.py:508: DeprecationWarning:\n",
      "\n",
      "textsize is deprecated and will be removed in Pillow 10 (2023-07-01). Use textbbox or textlength instead.\n",
      "\n",
      "e:\\ProgramsInstalled\\Anaconda\\lib\\site-packages\\wordcloud\\wordcloud.py:508: DeprecationWarning:\n",
      "\n",
      "textsize is deprecated and will be removed in Pillow 10 (2023-07-01). Use textbbox or textlength instead.\n",
      "\n",
      "e:\\ProgramsInstalled\\Anaconda\\lib\\site-packages\\wordcloud\\wordcloud.py:508: DeprecationWarning:\n",
      "\n",
      "textsize is deprecated and will be removed in Pillow 10 (2023-07-01). Use textbbox or textlength instead.\n",
      "\n",
      "e:\\ProgramsInstalled\\Anaconda\\lib\\site-packages\\wordcloud\\wordcloud.py:508: DeprecationWarning:\n",
      "\n",
      "textsize is deprecated and will be removed in Pillow 10 (2023-07-01). Use textbbox or textlength instead.\n",
      "\n",
      "e:\\ProgramsInstalled\\Anaconda\\lib\\site-packages\\wordcloud\\wordcloud.py:508: DeprecationWarning:\n",
      "\n",
      "textsize is deprecated and will be removed in Pillow 10 (2023-07-01). Use textbbox or textlength instead.\n",
      "\n",
      "e:\\ProgramsInstalled\\Anaconda\\lib\\site-packages\\wordcloud\\wordcloud.py:508: DeprecationWarning:\n",
      "\n",
      "textsize is deprecated and will be removed in Pillow 10 (2023-07-01). Use textbbox or textlength instead.\n",
      "\n",
      "e:\\ProgramsInstalled\\Anaconda\\lib\\site-packages\\wordcloud\\wordcloud.py:508: DeprecationWarning:\n",
      "\n",
      "textsize is deprecated and will be removed in Pillow 10 (2023-07-01). Use textbbox or textlength instead.\n",
      "\n",
      "e:\\ProgramsInstalled\\Anaconda\\lib\\site-packages\\wordcloud\\wordcloud.py:508: DeprecationWarning:\n",
      "\n",
      "textsize is deprecated and will be removed in Pillow 10 (2023-07-01). Use textbbox or textlength instead.\n",
      "\n",
      "e:\\ProgramsInstalled\\Anaconda\\lib\\site-packages\\wordcloud\\wordcloud.py:508: DeprecationWarning:\n",
      "\n",
      "textsize is deprecated and will be removed in Pillow 10 (2023-07-01). Use textbbox or textlength instead.\n",
      "\n",
      "e:\\ProgramsInstalled\\Anaconda\\lib\\site-packages\\wordcloud\\wordcloud.py:508: DeprecationWarning:\n",
      "\n",
      "textsize is deprecated and will be removed in Pillow 10 (2023-07-01). Use textbbox or textlength instead.\n",
      "\n",
      "e:\\ProgramsInstalled\\Anaconda\\lib\\site-packages\\wordcloud\\wordcloud.py:508: DeprecationWarning:\n",
      "\n",
      "textsize is deprecated and will be removed in Pillow 10 (2023-07-01). Use textbbox or textlength instead.\n",
      "\n",
      "e:\\ProgramsInstalled\\Anaconda\\lib\\site-packages\\wordcloud\\wordcloud.py:508: DeprecationWarning:\n",
      "\n",
      "textsize is deprecated and will be removed in Pillow 10 (2023-07-01). Use textbbox or textlength instead.\n",
      "\n",
      "e:\\ProgramsInstalled\\Anaconda\\lib\\site-packages\\wordcloud\\wordcloud.py:508: DeprecationWarning:\n",
      "\n",
      "textsize is deprecated and will be removed in Pillow 10 (2023-07-01). Use textbbox or textlength instead.\n",
      "\n",
      "e:\\ProgramsInstalled\\Anaconda\\lib\\site-packages\\wordcloud\\wordcloud.py:508: DeprecationWarning:\n",
      "\n",
      "textsize is deprecated and will be removed in Pillow 10 (2023-07-01). Use textbbox or textlength instead.\n",
      "\n",
      "e:\\ProgramsInstalled\\Anaconda\\lib\\site-packages\\wordcloud\\wordcloud.py:508: DeprecationWarning:\n",
      "\n",
      "textsize is deprecated and will be removed in Pillow 10 (2023-07-01). Use textbbox or textlength instead.\n",
      "\n",
      "e:\\ProgramsInstalled\\Anaconda\\lib\\site-packages\\wordcloud\\wordcloud.py:508: DeprecationWarning:\n",
      "\n",
      "textsize is deprecated and will be removed in Pillow 10 (2023-07-01). Use textbbox or textlength instead.\n",
      "\n",
      "e:\\ProgramsInstalled\\Anaconda\\lib\\site-packages\\wordcloud\\wordcloud.py:508: DeprecationWarning:\n",
      "\n",
      "textsize is deprecated and will be removed in Pillow 10 (2023-07-01). Use textbbox or textlength instead.\n",
      "\n",
      "e:\\ProgramsInstalled\\Anaconda\\lib\\site-packages\\wordcloud\\wordcloud.py:508: DeprecationWarning:\n",
      "\n",
      "textsize is deprecated and will be removed in Pillow 10 (2023-07-01). Use textbbox or textlength instead.\n",
      "\n",
      "e:\\ProgramsInstalled\\Anaconda\\lib\\site-packages\\wordcloud\\wordcloud.py:508: DeprecationWarning:\n",
      "\n",
      "textsize is deprecated and will be removed in Pillow 10 (2023-07-01). Use textbbox or textlength instead.\n",
      "\n",
      "e:\\ProgramsInstalled\\Anaconda\\lib\\site-packages\\wordcloud\\wordcloud.py:508: DeprecationWarning:\n",
      "\n",
      "textsize is deprecated and will be removed in Pillow 10 (2023-07-01). Use textbbox or textlength instead.\n",
      "\n",
      "e:\\ProgramsInstalled\\Anaconda\\lib\\site-packages\\wordcloud\\wordcloud.py:508: DeprecationWarning:\n",
      "\n",
      "textsize is deprecated and will be removed in Pillow 10 (2023-07-01). Use textbbox or textlength instead.\n",
      "\n",
      "e:\\ProgramsInstalled\\Anaconda\\lib\\site-packages\\wordcloud\\wordcloud.py:508: DeprecationWarning:\n",
      "\n",
      "textsize is deprecated and will be removed in Pillow 10 (2023-07-01). Use textbbox or textlength instead.\n",
      "\n",
      "e:\\ProgramsInstalled\\Anaconda\\lib\\site-packages\\wordcloud\\wordcloud.py:508: DeprecationWarning:\n",
      "\n",
      "textsize is deprecated and will be removed in Pillow 10 (2023-07-01). Use textbbox or textlength instead.\n",
      "\n",
      "e:\\ProgramsInstalled\\Anaconda\\lib\\site-packages\\wordcloud\\wordcloud.py:508: DeprecationWarning:\n",
      "\n",
      "textsize is deprecated and will be removed in Pillow 10 (2023-07-01). Use textbbox or textlength instead.\n",
      "\n",
      "e:\\ProgramsInstalled\\Anaconda\\lib\\site-packages\\wordcloud\\wordcloud.py:508: DeprecationWarning:\n",
      "\n",
      "textsize is deprecated and will be removed in Pillow 10 (2023-07-01). Use textbbox or textlength instead.\n",
      "\n",
      "e:\\ProgramsInstalled\\Anaconda\\lib\\site-packages\\wordcloud\\wordcloud.py:508: DeprecationWarning:\n",
      "\n",
      "textsize is deprecated and will be removed in Pillow 10 (2023-07-01). Use textbbox or textlength instead.\n",
      "\n",
      "e:\\ProgramsInstalled\\Anaconda\\lib\\site-packages\\wordcloud\\wordcloud.py:508: DeprecationWarning:\n",
      "\n",
      "textsize is deprecated and will be removed in Pillow 10 (2023-07-01). Use textbbox or textlength instead.\n",
      "\n",
      "e:\\ProgramsInstalled\\Anaconda\\lib\\site-packages\\wordcloud\\wordcloud.py:508: DeprecationWarning:\n",
      "\n",
      "textsize is deprecated and will be removed in Pillow 10 (2023-07-01). Use textbbox or textlength instead.\n",
      "\n",
      "e:\\ProgramsInstalled\\Anaconda\\lib\\site-packages\\wordcloud\\wordcloud.py:508: DeprecationWarning:\n",
      "\n",
      "textsize is deprecated and will be removed in Pillow 10 (2023-07-01). Use textbbox or textlength instead.\n",
      "\n",
      "e:\\ProgramsInstalled\\Anaconda\\lib\\site-packages\\wordcloud\\wordcloud.py:508: DeprecationWarning:\n",
      "\n",
      "textsize is deprecated and will be removed in Pillow 10 (2023-07-01). Use textbbox or textlength instead.\n",
      "\n",
      "e:\\ProgramsInstalled\\Anaconda\\lib\\site-packages\\wordcloud\\wordcloud.py:508: DeprecationWarning:\n",
      "\n",
      "textsize is deprecated and will be removed in Pillow 10 (2023-07-01). Use textbbox or textlength instead.\n",
      "\n",
      "e:\\ProgramsInstalled\\Anaconda\\lib\\site-packages\\wordcloud\\wordcloud.py:508: DeprecationWarning:\n",
      "\n",
      "textsize is deprecated and will be removed in Pillow 10 (2023-07-01). Use textbbox or textlength instead.\n",
      "\n",
      "e:\\ProgramsInstalled\\Anaconda\\lib\\site-packages\\wordcloud\\wordcloud.py:508: DeprecationWarning:\n",
      "\n",
      "textsize is deprecated and will be removed in Pillow 10 (2023-07-01). Use textbbox or textlength instead.\n",
      "\n",
      "e:\\ProgramsInstalled\\Anaconda\\lib\\site-packages\\wordcloud\\wordcloud.py:508: DeprecationWarning:\n",
      "\n",
      "textsize is deprecated and will be removed in Pillow 10 (2023-07-01). Use textbbox or textlength instead.\n",
      "\n",
      "e:\\ProgramsInstalled\\Anaconda\\lib\\site-packages\\wordcloud\\wordcloud.py:508: DeprecationWarning:\n",
      "\n",
      "textsize is deprecated and will be removed in Pillow 10 (2023-07-01). Use textbbox or textlength instead.\n",
      "\n",
      "e:\\ProgramsInstalled\\Anaconda\\lib\\site-packages\\wordcloud\\wordcloud.py:508: DeprecationWarning:\n",
      "\n",
      "textsize is deprecated and will be removed in Pillow 10 (2023-07-01). Use textbbox or textlength instead.\n",
      "\n",
      "e:\\ProgramsInstalled\\Anaconda\\lib\\site-packages\\wordcloud\\wordcloud.py:508: DeprecationWarning:\n",
      "\n",
      "textsize is deprecated and will be removed in Pillow 10 (2023-07-01). Use textbbox or textlength instead.\n",
      "\n",
      "e:\\ProgramsInstalled\\Anaconda\\lib\\site-packages\\wordcloud\\wordcloud.py:508: DeprecationWarning:\n",
      "\n",
      "textsize is deprecated and will be removed in Pillow 10 (2023-07-01). Use textbbox or textlength instead.\n",
      "\n",
      "e:\\ProgramsInstalled\\Anaconda\\lib\\site-packages\\wordcloud\\wordcloud.py:499: DeprecationWarning:\n",
      "\n",
      "ROTATE_90 is deprecated and will be removed in Pillow 10 (2023-07-01). Use Transpose.ROTATE_90 instead.\n",
      "\n",
      "e:\\ProgramsInstalled\\Anaconda\\lib\\site-packages\\wordcloud\\wordcloud.py:508: DeprecationWarning:\n",
      "\n",
      "textsize is deprecated and will be removed in Pillow 10 (2023-07-01). Use textbbox or textlength instead.\n",
      "\n",
      "e:\\ProgramsInstalled\\Anaconda\\lib\\site-packages\\wordcloud\\wordcloud.py:508: DeprecationWarning:\n",
      "\n",
      "textsize is deprecated and will be removed in Pillow 10 (2023-07-01). Use textbbox or textlength instead.\n",
      "\n",
      "e:\\ProgramsInstalled\\Anaconda\\lib\\site-packages\\wordcloud\\wordcloud.py:508: DeprecationWarning:\n",
      "\n",
      "textsize is deprecated and will be removed in Pillow 10 (2023-07-01). Use textbbox or textlength instead.\n",
      "\n",
      "e:\\ProgramsInstalled\\Anaconda\\lib\\site-packages\\wordcloud\\wordcloud.py:508: DeprecationWarning:\n",
      "\n",
      "textsize is deprecated and will be removed in Pillow 10 (2023-07-01). Use textbbox or textlength instead.\n",
      "\n",
      "e:\\ProgramsInstalled\\Anaconda\\lib\\site-packages\\wordcloud\\wordcloud.py:508: DeprecationWarning:\n",
      "\n",
      "textsize is deprecated and will be removed in Pillow 10 (2023-07-01). Use textbbox or textlength instead.\n",
      "\n",
      "e:\\ProgramsInstalled\\Anaconda\\lib\\site-packages\\wordcloud\\wordcloud.py:499: DeprecationWarning:\n",
      "\n",
      "ROTATE_90 is deprecated and will be removed in Pillow 10 (2023-07-01). Use Transpose.ROTATE_90 instead.\n",
      "\n",
      "e:\\ProgramsInstalled\\Anaconda\\lib\\site-packages\\wordcloud\\wordcloud.py:508: DeprecationWarning:\n",
      "\n",
      "textsize is deprecated and will be removed in Pillow 10 (2023-07-01). Use textbbox or textlength instead.\n",
      "\n",
      "e:\\ProgramsInstalled\\Anaconda\\lib\\site-packages\\wordcloud\\wordcloud.py:508: DeprecationWarning:\n",
      "\n",
      "textsize is deprecated and will be removed in Pillow 10 (2023-07-01). Use textbbox or textlength instead.\n",
      "\n",
      "e:\\ProgramsInstalled\\Anaconda\\lib\\site-packages\\wordcloud\\wordcloud.py:508: DeprecationWarning:\n",
      "\n",
      "textsize is deprecated and will be removed in Pillow 10 (2023-07-01). Use textbbox or textlength instead.\n",
      "\n",
      "e:\\ProgramsInstalled\\Anaconda\\lib\\site-packages\\wordcloud\\wordcloud.py:508: DeprecationWarning:\n",
      "\n",
      "textsize is deprecated and will be removed in Pillow 10 (2023-07-01). Use textbbox or textlength instead.\n",
      "\n",
      "e:\\ProgramsInstalled\\Anaconda\\lib\\site-packages\\wordcloud\\wordcloud.py:508: DeprecationWarning:\n",
      "\n",
      "textsize is deprecated and will be removed in Pillow 10 (2023-07-01). Use textbbox or textlength instead.\n",
      "\n",
      "e:\\ProgramsInstalled\\Anaconda\\lib\\site-packages\\wordcloud\\wordcloud.py:508: DeprecationWarning:\n",
      "\n",
      "textsize is deprecated and will be removed in Pillow 10 (2023-07-01). Use textbbox or textlength instead.\n",
      "\n",
      "e:\\ProgramsInstalled\\Anaconda\\lib\\site-packages\\wordcloud\\wordcloud.py:508: DeprecationWarning:\n",
      "\n",
      "textsize is deprecated and will be removed in Pillow 10 (2023-07-01). Use textbbox or textlength instead.\n",
      "\n",
      "e:\\ProgramsInstalled\\Anaconda\\lib\\site-packages\\wordcloud\\wordcloud.py:508: DeprecationWarning:\n",
      "\n",
      "textsize is deprecated and will be removed in Pillow 10 (2023-07-01). Use textbbox or textlength instead.\n",
      "\n",
      "e:\\ProgramsInstalled\\Anaconda\\lib\\site-packages\\wordcloud\\wordcloud.py:508: DeprecationWarning:\n",
      "\n",
      "textsize is deprecated and will be removed in Pillow 10 (2023-07-01). Use textbbox or textlength instead.\n",
      "\n",
      "e:\\ProgramsInstalled\\Anaconda\\lib\\site-packages\\wordcloud\\wordcloud.py:508: DeprecationWarning:\n",
      "\n",
      "textsize is deprecated and will be removed in Pillow 10 (2023-07-01). Use textbbox or textlength instead.\n",
      "\n",
      "e:\\ProgramsInstalled\\Anaconda\\lib\\site-packages\\wordcloud\\wordcloud.py:508: DeprecationWarning:\n",
      "\n",
      "textsize is deprecated and will be removed in Pillow 10 (2023-07-01). Use textbbox or textlength instead.\n",
      "\n",
      "e:\\ProgramsInstalled\\Anaconda\\lib\\site-packages\\wordcloud\\wordcloud.py:508: DeprecationWarning:\n",
      "\n",
      "textsize is deprecated and will be removed in Pillow 10 (2023-07-01). Use textbbox or textlength instead.\n",
      "\n",
      "e:\\ProgramsInstalled\\Anaconda\\lib\\site-packages\\wordcloud\\wordcloud.py:508: DeprecationWarning:\n",
      "\n",
      "textsize is deprecated and will be removed in Pillow 10 (2023-07-01). Use textbbox or textlength instead.\n",
      "\n",
      "e:\\ProgramsInstalled\\Anaconda\\lib\\site-packages\\wordcloud\\wordcloud.py:508: DeprecationWarning:\n",
      "\n",
      "textsize is deprecated and will be removed in Pillow 10 (2023-07-01). Use textbbox or textlength instead.\n",
      "\n",
      "e:\\ProgramsInstalled\\Anaconda\\lib\\site-packages\\wordcloud\\wordcloud.py:508: DeprecationWarning:\n",
      "\n",
      "textsize is deprecated and will be removed in Pillow 10 (2023-07-01). Use textbbox or textlength instead.\n",
      "\n",
      "e:\\ProgramsInstalled\\Anaconda\\lib\\site-packages\\wordcloud\\wordcloud.py:508: DeprecationWarning:\n",
      "\n",
      "textsize is deprecated and will be removed in Pillow 10 (2023-07-01). Use textbbox or textlength instead.\n",
      "\n",
      "e:\\ProgramsInstalled\\Anaconda\\lib\\site-packages\\wordcloud\\wordcloud.py:508: DeprecationWarning:\n",
      "\n",
      "textsize is deprecated and will be removed in Pillow 10 (2023-07-01). Use textbbox or textlength instead.\n",
      "\n",
      "e:\\ProgramsInstalled\\Anaconda\\lib\\site-packages\\wordcloud\\wordcloud.py:508: DeprecationWarning:\n",
      "\n",
      "textsize is deprecated and will be removed in Pillow 10 (2023-07-01). Use textbbox or textlength instead.\n",
      "\n",
      "e:\\ProgramsInstalled\\Anaconda\\lib\\site-packages\\wordcloud\\wordcloud.py:508: DeprecationWarning:\n",
      "\n",
      "textsize is deprecated and will be removed in Pillow 10 (2023-07-01). Use textbbox or textlength instead.\n",
      "\n",
      "e:\\ProgramsInstalled\\Anaconda\\lib\\site-packages\\wordcloud\\wordcloud.py:508: DeprecationWarning:\n",
      "\n",
      "textsize is deprecated and will be removed in Pillow 10 (2023-07-01). Use textbbox or textlength instead.\n",
      "\n",
      "e:\\ProgramsInstalled\\Anaconda\\lib\\site-packages\\wordcloud\\wordcloud.py:508: DeprecationWarning:\n",
      "\n",
      "textsize is deprecated and will be removed in Pillow 10 (2023-07-01). Use textbbox or textlength instead.\n",
      "\n",
      "e:\\ProgramsInstalled\\Anaconda\\lib\\site-packages\\wordcloud\\wordcloud.py:508: DeprecationWarning:\n",
      "\n",
      "textsize is deprecated and will be removed in Pillow 10 (2023-07-01). Use textbbox or textlength instead.\n",
      "\n",
      "e:\\ProgramsInstalled\\Anaconda\\lib\\site-packages\\wordcloud\\wordcloud.py:508: DeprecationWarning:\n",
      "\n",
      "textsize is deprecated and will be removed in Pillow 10 (2023-07-01). Use textbbox or textlength instead.\n",
      "\n"
     ]
    },
    {
     "data": {
      "image/png": "[encoded data removed]",
      "text/plain": [
       "<Figure size 1000x500 with 1 Axes>"
      ]
     },
     "metadata": {},
     "output_type": "display_data"
    }
   ],
   "source": [
    "# process review data to txt\n",
    "asos_df['Review_Text']=asos_df['Review_Text'].astype('str')\n",
    "Reviews_Text = \" \".join(txt for txt in asos_df.Review_Text)\n",
    "\n",
    "# draw the word cloud\n",
    "wc = WordCloud(background_color = 'white', mode = 'RGB',\n",
    "               width = 3000, max_words = 300, height = 1000,\n",
    "                contour_width = 2, contour_color = 'black',colormap = 'Dark2')\n",
    "wc.generate(Reviews_Text)\n",
    "\n",
    "# plot the figure\n",
    "plt.figure(figsize=(10, 5))\n",
    "plt.imshow(wc)\n",
    "plt.tight_layout(pad=0)\n",
    "plt.axis('off')\n",
    "plt.show()"
   ]
  },
  {
   "cell_type": "code",
   "execution_count": 14,
   "metadata": {},
   "outputs": [
    {
     "name": "stderr",
     "output_type": "stream",
     "text": [
      "<>:17: DeprecationWarning:\n",
      "\n",
      "invalid escape sequence \\S\n",
      "\n",
      "<>:18: DeprecationWarning:\n",
      "\n",
      "invalid escape sequence \\s\n",
      "\n",
      "<>:17: DeprecationWarning:\n",
      "\n",
      "invalid escape sequence \\S\n",
      "\n",
      "<>:18: DeprecationWarning:\n",
      "\n",
      "invalid escape sequence \\s\n",
      "\n",
      "C:\\Users\\annab\\AppData\\Local\\Temp\\ipykernel_19836\\1087925319.py:17: DeprecationWarning:\n",
      "\n",
      "invalid escape sequence \\S\n",
      "\n",
      "C:\\Users\\annab\\AppData\\Local\\Temp\\ipykernel_19836\\1087925319.py:18: DeprecationWarning:\n",
      "\n",
      "invalid escape sequence \\s\n",
      "\n"
     ]
    }
   ],
   "source": [
    "stopword = stopwords.words(\"english\")\n",
    "disney_stopwords = ['ASOS', 'asos', 'order', 'item']\n",
    "\n",
    "\n",
    "def sent_to_words(sentences):\n",
    "    for sentence in sentences:\n",
    "        yield(gensim.utils.simple_preprocess(str(sentence), deacc=True))\n",
    "\n",
    "\n",
    "def remove_stopwords(texts):\n",
    "    return [[word for word in simple_preprocess(str(doc)) \n",
    "             if word not in disney_stopwords] for doc in texts]\n",
    "\n",
    "\n",
    "def clean_topic(data):\n",
    "    cleaned_data = data.Review_Text.values.tolist()\n",
    "    cleaned_data = [re.sub('\\S*@\\S*\\s?', '', sent) for sent in cleaned_data]\n",
    "    cleaned_data = [re.sub('\\s+', ' ', sent) for sent in cleaned_data]\n",
    "    cleaned_data = [re.sub(\"\\'\", \"\", sent) for sent in cleaned_data]\n",
    "    cleaned_data = list(sent_to_words(cleaned_data))\n",
    "    cleaned_data = remove_stopwords(cleaned_data)\n",
    "\n",
    "    return cleaned_data\n",
    "\n",
    "# Define lemmatization\n",
    "\n",
    "def lemmatization(texts, NLP, allowed_postags=['NOUN', 'ADJ', 'VERB', 'ADV']):\n",
    "    \"\"\"https://spacy.io/api/annotation\"\"\"\n",
    "    texts_out = []\n",
    "    for sent in texts:\n",
    "        doc = NLP(\" \".join(sent)) \n",
    "        texts_out.append([token.lemma_ for token in doc if token.pos_ in allowed_postags])\n",
    "    return texts_out\n",
    "\n"
   ]
  },
  {
   "cell_type": "code",
   "execution_count": 46,
   "metadata": {},
   "outputs": [],
   "source": [
    "def lda_model(data):\n",
    "    data = clean_topic(data)\n",
    "    nlp = spacy.load('en_core_web_sm', disable=['parser', 'ner'])\n",
    "    data = lemmatization(data, nlp, \n",
    "        allowed_postags=['NOUN', 'ADJ', 'VERB', 'ADV'])\n",
    "    # Create Dictionary\n",
    "    id2word = corpora.Dictionary(data)\n",
    "\n",
    "    # Create Corpus\n",
    "    texts = data\n",
    "\n",
    "    # Term Document Frequency\n",
    "    corpus = [id2word.doc2bow(text) for text in texts]\n",
    "\n",
    "    # Build LDA model\n",
    "    lda_model = gensim.models.ldamodel.LdaModel(corpus=corpus,\n",
    "                                           id2word=id2word,\n",
    "                                           num_topics=4, \n",
    "                                           random_state=100,\n",
    "                                           update_every=1,\n",
    "                                           chunksize=100,\n",
    "                                           passes=10,\n",
    "                                           alpha='auto',\n",
    "                                           per_word_topics=True)\n",
    "                                           \n",
    "    doc_lda = lda_model[corpus]\n",
    "\n",
    "    return lda_model, corpus, id2word, texts"
   ]
  },
  {
   "cell_type": "code",
   "execution_count": 37,
   "metadata": {},
   "outputs": [],
   "source": [
    "def compute_coherence_values(dictionary, corpus, texts, start, stop):\n",
    "\n",
    "    coherence_values = []\n",
    "    model_list = []\n",
    "    for num_topics in range(start, stop):\n",
    "        model = gensim.models.ldamodel.LdaModel(corpus=corpus, \n",
    "                                              num_topics=num_topics,\n",
    "                                              id2word=id2word,\n",
    "                                              random_state=90,\n",
    "                                              alpha='auto',\n",
    "                                              eta='auto',\n",
    "                                              per_word_topics=True)\n",
    "        model_list.append(model)\n",
    "        coherencemodel = CoherenceModel(model=model, texts=texts,\n",
    "                             dictionary=dictionary, coherence='c_v')\n",
    "        coherence_values.append(coherencemodel.get_coherence())\n",
    "    return model_list, coherence_values"
   ]
  },
  {
   "cell_type": "code",
   "execution_count": 39,
   "metadata": {},
   "outputs": [
    {
     "data": {
      "image/png": "[encoded data removed]",
      "text/plain": [
       "<Figure size 1000x700 with 1 Axes>"
      ]
     },
     "metadata": {},
     "output_type": "display_data"
    }
   ],
   "source": [
    "lda_model1, corpus, id2word, texts = lda_model(asos_df)\n",
    "\n",
    "# Test the best number of topics\n",
    "start = 3\n",
    "stop = 11\n",
    "\n",
    "model_list, coherence_values = compute_coherence_values(dictionary=id2word, \n",
    "                                    corpus = corpus,\n",
    "                                    texts = texts,\n",
    "                                    start=start, stop=stop)\n",
    "\n",
    "x = range(start, stop)\n",
    "plt.figure(figsize=(10,7))\n",
    "plt.style.use('ggplot')\n",
    "plt.plot(x, coherence_values, color = \"blue\",marker=\".\")\n",
    "plt.xlabel(\"Num Topics\", size=14)\n",
    "plt.ylabel(\"Coherence score\", size=14)\n",
    "plt.title('Number of Topics Based on The Coherence Score',size=18)\n",
    "plt.show()"
   ]
  },
  {
   "cell_type": "code",
   "execution_count": 32,
   "metadata": {},
   "outputs": [
    {
     "name": "stderr",
     "output_type": "stream",
     "text": [
      "<>:2: DeprecationWarning:\n",
      "\n",
      "invalid escape sequence \\d\n",
      "\n",
      "<>:6: DeprecationWarning:\n",
      "\n",
      "invalid escape sequence \\W\n",
      "\n",
      "<>:2: DeprecationWarning:\n",
      "\n",
      "invalid escape sequence \\d\n",
      "\n",
      "<>:6: DeprecationWarning:\n",
      "\n",
      "invalid escape sequence \\W\n",
      "\n",
      "C:\\Users\\annab\\AppData\\Local\\Temp\\ipykernel_19836\\4010669126.py:2: DeprecationWarning:\n",
      "\n",
      "invalid escape sequence \\d\n",
      "\n",
      "C:\\Users\\annab\\AppData\\Local\\Temp\\ipykernel_19836\\4010669126.py:6: DeprecationWarning:\n",
      "\n",
      "invalid escape sequence \\W\n",
      "\n"
     ]
    }
   ],
   "source": [
    "def clean(data):\n",
    "    data[\"Review_Text\"] = data[\"Review_Text\"].str.replace(\"\\d\",\"\")\n",
    "    word = \" \".join(review for review in data[\"Review_Text\"])\n",
    "    tokenizer = nltk.tokenize.RegexpTokenizer(r'\\w+')\n",
    "    word = word.lower()\n",
    "    cleaned_words = re.sub('\\W', ' ', word)\n",
    "    tokens = nltk.word_tokenize(cleaned_words)\n",
    "    stopword = stopwords.words(\"english\")\n",
    "    disney_stopwords = ['disneyland', 'park', 'disney', 'disneyworld','disney land', 'disney world',\n",
    "                    'california', 'hong kong','kong', 'hong', 'hk', 'paris']\n",
    "    cleaned_tokens = [token for token in tokens if token not in stopword]\n",
    "    cleaned_tokens = [cleaned_token for cleaned_token in cleaned_tokens if cleaned_token not in disney_stopwords]\n",
    "    return cleaned_tokens\n"
   ]
  },
  {
   "cell_type": "code",
   "execution_count": 33,
   "metadata": {},
   "outputs": [
    {
     "data": {
      "text/html": [
       "<div>\n",
       "<style scoped>\n",
       "    .dataframe tbody tr th:only-of-type {\n",
       "        vertical-align: middle;\n",
       "    }\n",
       "\n",
       "    .dataframe tbody tr th {\n",
       "        vertical-align: top;\n",
       "    }\n",
       "\n",
       "    .dataframe thead th {\n",
       "        text-align: right;\n",
       "    }\n",
       "</style>\n",
       "<table border=\"1\" class=\"dataframe\">\n",
       "  <thead>\n",
       "    <tr style=\"text-align: right;\">\n",
       "      <th></th>\n",
       "      <th>Name</th>\n",
       "      <th>Review_Title</th>\n",
       "      <th>Review_Text</th>\n",
       "      <th>Location</th>\n",
       "      <th>Rating</th>\n",
       "      <th>month</th>\n",
       "      <th>year</th>\n",
       "    </tr>\n",
       "  </thead>\n",
       "  <tbody>\n",
       "    <tr>\n",
       "      <th>3</th>\n",
       "      <td>Tara</td>\n",
       "      <td>Great service! I would highly recommend ASOS.</td>\n",
       "      <td>Customer Service Agent Dan was very helpful an...</td>\n",
       "      <td>AU</td>\n",
       "      <td>Rated 5 out of 5 stars</td>\n",
       "      <td>1</td>\n",
       "      <td>2023</td>\n",
       "    </tr>\n",
       "    <tr>\n",
       "      <th>56</th>\n",
       "      <td>Elena</td>\n",
       "      <td>I was chatting with Paulene</td>\n",
       "      <td>I was chatting with Paulene, very helpful and ...</td>\n",
       "      <td>GB</td>\n",
       "      <td>Rated 5 out of 5 stars</td>\n",
       "      <td>1</td>\n",
       "      <td>2023</td>\n",
       "    </tr>\n",
       "    <tr>\n",
       "      <th>485</th>\n",
       "      <td>shon elbaz</td>\n",
       "      <td>the assistans was great</td>\n",
       "      <td>the assistans was great! helped me with everyt...</td>\n",
       "      <td>IL</td>\n",
       "      <td>Rated 5 out of 5 stars</td>\n",
       "      <td>12</td>\n",
       "      <td>2022</td>\n",
       "    </tr>\n",
       "    <tr>\n",
       "      <th>495</th>\n",
       "      <td>Jessica de Brouwer</td>\n",
       "      <td>Great customer service</td>\n",
       "      <td>Great information supplied and very quick and ...</td>\n",
       "      <td>NL</td>\n",
       "      <td>Rated 5 out of 5 stars</td>\n",
       "      <td>12</td>\n",
       "      <td>2022</td>\n",
       "    </tr>\n",
       "    <tr>\n",
       "      <th>1010</th>\n",
       "      <td>Jeffrey</td>\n",
       "      <td>Very helpful</td>\n",
       "      <td>Very helpful! Thanks Jay for your information ...</td>\n",
       "      <td>NL</td>\n",
       "      <td>Rated 5 out of 5 stars</td>\n",
       "      <td>12</td>\n",
       "      <td>2022</td>\n",
       "    </tr>\n",
       "    <tr>\n",
       "      <th>1182</th>\n",
       "      <td>LB</td>\n",
       "      <td>Very Helpful Team</td>\n",
       "      <td>The responses were fast with the information I...</td>\n",
       "      <td>GB</td>\n",
       "      <td>Rated 5 out of 5 stars</td>\n",
       "      <td>12</td>\n",
       "      <td>2022</td>\n",
       "    </tr>\n",
       "    <tr>\n",
       "      <th>1229</th>\n",
       "      <td>J Patrick</td>\n",
       "      <td>Janno was efficient in getting the…</td>\n",
       "      <td>Janno was efficient in getting the information...</td>\n",
       "      <td>GB</td>\n",
       "      <td>Rated 5 out of 5 stars</td>\n",
       "      <td>12</td>\n",
       "      <td>2022</td>\n",
       "    </tr>\n",
       "    <tr>\n",
       "      <th>1277</th>\n",
       "      <td>Mrs Amy Upton</td>\n",
       "      <td>Let down by their chosen courier … EVRi</td>\n",
       "      <td>I regularly shop with ASOS (often I’ll order i...</td>\n",
       "      <td>GB</td>\n",
       "      <td>Rated 4 out of 5 stars</td>\n",
       "      <td>12</td>\n",
       "      <td>2022</td>\n",
       "    </tr>\n",
       "    <tr>\n",
       "      <th>1344</th>\n",
       "      <td>Ce Kiomi</td>\n",
       "      <td>Thank you Ariane.</td>\n",
       "      <td>Thank you for your help \"Ariane\" great custome...</td>\n",
       "      <td>GB</td>\n",
       "      <td>Rated 4 out of 5 stars</td>\n",
       "      <td>12</td>\n",
       "      <td>2022</td>\n",
       "    </tr>\n",
       "    <tr>\n",
       "      <th>1409</th>\n",
       "      <td>Tasha Squire</td>\n",
       "      <td>Kimberley 5*</td>\n",
       "      <td>I was chasing up my order which I made on an e...</td>\n",
       "      <td>GB</td>\n",
       "      <td>Rated 5 out of 5 stars</td>\n",
       "      <td>12</td>\n",
       "      <td>2022</td>\n",
       "    </tr>\n",
       "    <tr>\n",
       "      <th>1414</th>\n",
       "      <td>Tharunica Thavajothy</td>\n",
       "      <td>Received the help I need</td>\n",
       "      <td>The person I eventually spoke to did help me a...</td>\n",
       "      <td>GB</td>\n",
       "      <td>Rated 5 out of 5 stars</td>\n",
       "      <td>12</td>\n",
       "      <td>2022</td>\n",
       "    </tr>\n",
       "    <tr>\n",
       "      <th>1438</th>\n",
       "      <td>Alan Grehan</td>\n",
       "      <td>Helpful but wasn't able to help additional sup...</td>\n",
       "      <td>Very helpful but wasn't able to give a lot of ...</td>\n",
       "      <td>GB</td>\n",
       "      <td>Rated 4 out of 5 stars</td>\n",
       "      <td>12</td>\n",
       "      <td>2022</td>\n",
       "    </tr>\n",
       "    <tr>\n",
       "      <th>1449</th>\n",
       "      <td>Zain Hussain</td>\n",
       "      <td>Transparent, to the point and easy!</td>\n",
       "      <td>Asos have always been straight to the point, c...</td>\n",
       "      <td>GB</td>\n",
       "      <td>Rated 5 out of 5 stars</td>\n",
       "      <td>12</td>\n",
       "      <td>2022</td>\n",
       "    </tr>\n",
       "    <tr>\n",
       "      <th>1473</th>\n",
       "      <td>JMort</td>\n",
       "      <td>Beatricemaryjeija</td>\n",
       "      <td>After a week of being lied to and fobbed off b...</td>\n",
       "      <td>GB</td>\n",
       "      <td>Rated 5 out of 5 stars</td>\n",
       "      <td>12</td>\n",
       "      <td>2022</td>\n",
       "    </tr>\n",
       "    <tr>\n",
       "      <th>1652</th>\n",
       "      <td>Kate</td>\n",
       "      <td>Pearl was really helpful</td>\n",
       "      <td>Spoke to Pearl on live chat, and they were rea...</td>\n",
       "      <td>GB</td>\n",
       "      <td>Rated 5 out of 5 stars</td>\n",
       "      <td>11</td>\n",
       "      <td>2022</td>\n",
       "    </tr>\n",
       "    <tr>\n",
       "      <th>1722</th>\n",
       "      <td>Иван Небольсин</td>\n",
       "      <td>The support agent did everything they…</td>\n",
       "      <td>The support agent did everything they can but ...</td>\n",
       "      <td>CY</td>\n",
       "      <td>Rated 4 out of 5 stars</td>\n",
       "      <td>11</td>\n",
       "      <td>2022</td>\n",
       "    </tr>\n",
       "  </tbody>\n",
       "</table>\n",
       "</div>"
      ],
      "text/plain": [
       "                      Name                                       Review_Title  \\\n",
       "3                     Tara      Great service! I would highly recommend ASOS.   \n",
       "56                   Elena                        I was chatting with Paulene   \n",
       "485             shon elbaz                            the assistans was great   \n",
       "495     Jessica de Brouwer                             Great customer service   \n",
       "1010               Jeffrey                                       Very helpful   \n",
       "1182                    LB                                  Very Helpful Team   \n",
       "1229             J Patrick                Janno was efficient in getting the…   \n",
       "1277         Mrs Amy Upton            Let down by their chosen courier … EVRi   \n",
       "1344              Ce Kiomi                                  Thank you Ariane.   \n",
       "1409          Tasha Squire                                       Kimberley 5*   \n",
       "1414  Tharunica Thavajothy                           Received the help I need   \n",
       "1438           Alan Grehan  Helpful but wasn't able to help additional sup...   \n",
       "1449          Zain Hussain                Transparent, to the point and easy!   \n",
       "1473                 JMort                                  Beatricemaryjeija   \n",
       "1652                  Kate                           Pearl was really helpful   \n",
       "1722        Иван Небольсин             The support agent did everything they…   \n",
       "\n",
       "                                            Review_Text Location  \\\n",
       "3     Customer Service Agent Dan was very helpful an...       AU   \n",
       "56    I was chatting with Paulene, very helpful and ...       GB   \n",
       "485   the assistans was great! helped me with everyt...       IL   \n",
       "495   Great information supplied and very quick and ...       NL   \n",
       "1010  Very helpful! Thanks Jay for your information ...       NL   \n",
       "1182  The responses were fast with the information I...       GB   \n",
       "1229  Janno was efficient in getting the information...       GB   \n",
       "1277  I regularly shop with ASOS (often I’ll order i...       GB   \n",
       "1344  Thank you for your help \"Ariane\" great custome...       GB   \n",
       "1409  I was chasing up my order which I made on an e...       GB   \n",
       "1414  The person I eventually spoke to did help me a...       GB   \n",
       "1438  Very helpful but wasn't able to give a lot of ...       GB   \n",
       "1449  Asos have always been straight to the point, c...       GB   \n",
       "1473  After a week of being lied to and fobbed off b...       GB   \n",
       "1652  Spoke to Pearl on live chat, and they were rea...       GB   \n",
       "1722  The support agent did everything they can but ...       CY   \n",
       "\n",
       "                      Rating  month  year  \n",
       "3     Rated 5 out of 5 stars      1  2023  \n",
       "56    Rated 5 out of 5 stars      1  2023  \n",
       "485   Rated 5 out of 5 stars     12  2022  \n",
       "495   Rated 5 out of 5 stars     12  2022  \n",
       "1010  Rated 5 out of 5 stars     12  2022  \n",
       "1182  Rated 5 out of 5 stars     12  2022  \n",
       "1229  Rated 5 out of 5 stars     12  2022  \n",
       "1277  Rated 4 out of 5 stars     12  2022  \n",
       "1344  Rated 4 out of 5 stars     12  2022  \n",
       "1409  Rated 5 out of 5 stars     12  2022  \n",
       "1414  Rated 5 out of 5 stars     12  2022  \n",
       "1438  Rated 4 out of 5 stars     12  2022  \n",
       "1449  Rated 5 out of 5 stars     12  2022  \n",
       "1473  Rated 5 out of 5 stars     12  2022  \n",
       "1652  Rated 5 out of 5 stars     11  2022  \n",
       "1722  Rated 4 out of 5 stars     11  2022  "
      ]
     },
     "execution_count": 33,
     "metadata": {},
     "output_type": "execute_result"
    }
   ],
   "source": [
    "# Select the row that contains the key word\n",
    "website = asos_df[asos_df['Review_Text'].str.contains('information')]\n",
    "\n",
    "# Recreate the DataFrame from the selected row\n",
    "asos_website = pd.DataFrame(website)\n",
    "\n",
    "# Print the new DataFrame\n",
    "asos_website"
   ]
  },
  {
   "cell_type": "code",
   "execution_count": 47,
   "metadata": {},
   "outputs": [
    {
     "name": "stderr",
     "output_type": "stream",
     "text": [
      "e:\\ProgramsInstalled\\Anaconda\\lib\\site-packages\\pyLDAvis\\_prepare.py:246: FutureWarning:\n",
      "\n",
      "In a future version of pandas all arguments of DataFrame.drop except for the argument 'labels' will be keyword-only.\n",
      "\n"
     ]
    },
    {
     "data": {
      "text/html": [
       "\n",
       "<link rel=\"stylesheet\" type=\"text/css\" href=\"https://cdn.jsdelivr.net/gh/bmabey/pyLDAvis@3.3.1/pyLDAvis/js/ldavis.v1.0.0.css\">\n",
       "\n",
       "\n",
       "<div id=\"ldavis_el1983621284230118248402200902\"></div>\n",
       "<script type=\"text/javascript\">\n",
       "\n",
       "var ldavis_el1983621284230118248402200902_data = {\"mdsDat\": {\"x\": [0.3616033722291958, -0.1222568039844735, -0.10748801805746391, -0.1318585501872582], \"y\": [-0.0009040360500934859, -0.25860256374705193, 0.12019202273062173, 0.13931457706652373], \"topics\": [1, 2, 3, 4], \"cluster\": [1, 1, 1, 1], \"Freq\": [63.928942410551414, 16.489088031771804, 10.176639493648421, 9.405330064028353]}, \"tinfo\": {\"Term\": [\"very\", \"helpful\", \"service\", \"customer\", \"parcel\", \"help\", \"delivery\", \"refund\", \"issue\", \"amazing\", \"understanding\", \"question\", \"receive\", \"take\", \"great\", \"minute\", \"professional\", \"company\", \"miss\", \"process\", \"deliver\", \"wait\", \"really\", \"thank\", \"provide\", \"item\", \"way\", \"day\", \"go\", \"chat\", \"very\", \"helpful\", \"service\", \"customer\", \"help\", \"issue\", \"great\", \"really\", \"thank\", \"quick\", \"chat\", \"good\", \"problem\", \"resolve\", \"so\", \"quickly\", \"get\", \"fast\", \"sort\", \"solve\", \"friendly\", \"kind\", \"experience\", \"response\", \"polite\", \"nice\", \"person\", \"answer\", \"care\", \"easy\", \"time\", \"always\", \"delivery\", \"question\", \"company\", \"miss\", \"deliver\", \"day\", \"extremely\", \"courier\", \"order\", \"clear\", \"ve\", \"replacement\", \"love\", \"say\", \"lose\", \"never\", \"package\", \"thing\", \"next\", \"look\", \"parcel\", \"discount\", \"then\", \"fault\", \"year\", \"shop\", \"offer\", \"update\", \"wrong\", \"all\", \"raise\", \"have\", \"go\", \"return\", \"take\", \"process\", \"wait\", \"item\", \"immediately\", \"send\", \"hope\", \"efficiently\", \"email\", \"concern\", \"dress\", \"star\", \"however\", \"expect\", \"week\", \"address\", \"perfect\", \"like\", \"wonderful\", \"responsive\", \"finally\", \"same\", \"quite\", \"unfortunately\", \"soon\", \"initially\", \"few\", \"replace\", \"advise\", \"whole\", \"still\", \"receive\", \"refund\", \"now\", \"return\", \"back\", \"ball\", \"grab\", \"only\", \"amazing\", \"understanding\", \"minute\", \"professional\", \"way\", \"provide\", \"try\", \"first\", \"ask\", \"assistant\", \"arrive\", \"respond\", \"know\", \"tell\", \"option\", \"talk\", \"fix\", \"last\", \"hour\", \"recommend\", \"reply\", \"guy\", \"let\", \"purchase\", \"free\", \"m\", \"pay\", \"short\", \"bit\", \"at\", \"exactly\", \"too\"], \"Freq\": [669.0, 574.0, 478.0, 436.0, 86.0, 350.0, 73.0, 95.0, 318.0, 51.0, 47.0, 61.0, 59.0, 46.0, 254.0, 40.0, 40.0, 52.0, 52.0, 39.0, 50.0, 39.0, 224.0, 220.0, 32.0, 34.0, 32.0, 42.0, 53.0, 194.0, 669.1482192823305, 573.8349476259747, 477.8068482009482, 435.61602674784865, 349.7800377019365, 318.0786781065167, 253.72585447440431, 224.0359082222127, 219.47679623423747, 187.51949416423025, 193.74270631206878, 178.41723393981337, 172.70134014071087, 173.3045764486613, 167.5201062429709, 157.9777592512767, 180.26842926765013, 117.11041987531868, 114.42916751774175, 109.06786250270312, 106.64706117014664, 94.48636867691869, 92.48931303506973, 88.84831993529443, 87.52316408299212, 82.0299307552797, 81.05181234881586, 79.05231860673268, 77.27393733589086, 77.0220003116883, 85.21128391089927, 81.13654116945541, 73.21280746627372, 60.76724852140152, 52.11810852678009, 51.550127486750185, 50.1074188121254, 42.01291415222698, 39.78761761059264, 35.22996192545756, 35.64588227871197, 34.73454129552646, 34.32491947633984, 30.779084360063777, 30.7391395760609, 29.554730689189583, 27.595794262186278, 25.44642949337879, 24.55248184713962, 26.29067262235868, 22.12677014383607, 22.04353167221741, 83.82858736439104, 20.63106669158418, 21.86215684927138, 20.32183212615328, 19.834020145339743, 19.381382882019338, 18.422167799458357, 18.317618123030265, 16.791133205752107, 17.40784553471861, 17.50443345483002, 21.921765836306847, 45.118485729895475, 22.39434554614184, 46.11601835968871, 39.18255449536808, 38.6072967899176, 33.389247115523396, 28.119045498428658, 27.5025061004572, 21.195221318986732, 18.4796039605474, 18.06878458627033, 16.10766085070103, 16.022288265272635, 16.004505903615897, 14.49781499437594, 14.583674261450232, 12.605358034700078, 12.189403861032433, 12.464661605147962, 12.510290319648508, 11.704247715674041, 10.750926928939412, 10.10127238726777, 10.192241811623983, 9.927600966008432, 10.442718065159422, 9.244058134477616, 8.994385829736983, 11.1498064315082, 8.335355735788761, 10.22847880246415, 8.155074068883248, 18.188087815182147, 42.528395322740245, 34.94870139978485, 17.4382238284753, 20.488927660642013, 12.041370243628878, 10.862696603196463, 10.862696603196463, 10.468222647615299, 51.052813780447906, 46.949092057717586, 40.213662518076084, 39.517527898759454, 32.0809846800088, 32.19205557587215, 25.86527333009986, 24.327202189617676, 24.219752428148883, 22.958179950564592, 21.911431555617998, 19.29495698567639, 18.69679084787487, 18.697740256931933, 17.412241817068484, 14.551867334191341, 14.632164281308466, 14.627962398944966, 14.716428249478124, 12.992223114745334, 13.053160372829275, 13.04177031094827, 12.003958033033538, 11.45231436243006, 11.210627127724221, 9.147877241941455, 10.635245383890362, 9.595591223936887, 9.09899121591394, 8.883159364741905, 9.437769404873, 11.029471481565194], \"Total\": [669.0, 574.0, 478.0, 436.0, 86.0, 350.0, 73.0, 95.0, 318.0, 51.0, 47.0, 61.0, 59.0, 46.0, 254.0, 40.0, 40.0, 52.0, 52.0, 39.0, 50.0, 39.0, 224.0, 220.0, 32.0, 34.0, 32.0, 42.0, 53.0, 194.0, 669.7483792750619, 574.4363722409906, 478.41272205398155, 436.2212136186606, 350.3849819669406, 318.6891308810516, 254.32533640992293, 224.64389777343607, 220.0848534338394, 188.11788286106446, 194.36553169941033, 179.03101582152772, 173.30181098776492, 173.91222678991753, 168.14082510966654, 158.57850379305088, 180.97925872119532, 117.70849650215008, 115.04080544928082, 109.66767151205775, 107.24590102141006, 95.08411411261132, 93.10436912111386, 89.45683775314276, 88.12452446881838, 82.63399949608248, 81.6686149876959, 79.65517447018561, 77.87867787218647, 77.62997163457474, 102.024594138819, 94.91235398014155, 73.84359548793591, 61.44645755206834, 52.76111116864281, 52.200009590569245, 50.75099236299152, 42.64764801313013, 40.463612687056035, 35.858088609664556, 36.28785631014931, 35.3912144772894, 34.97830399866988, 31.411592135312656, 31.416906646073127, 30.21275372833111, 28.23730520019654, 26.08369654400815, 25.202865270563013, 27.0084366534019, 22.751554150263935, 22.687363960329726, 86.29480091319428, 21.256818905140307, 22.531240847032745, 20.979153305502685, 20.480455699846434, 20.014467419731332, 19.051927000124145, 18.946995175437433, 17.443235327296325, 18.09058313979694, 18.216671091726464, 23.384730265261606, 53.24868393913343, 96.56397598539613, 46.78988425488982, 39.852701675994766, 39.29879297084232, 34.07506185159482, 28.820024658459864, 28.2343695625366, 21.888468701620386, 19.15941559542704, 18.75977622726525, 16.818319758313535, 16.733065050046285, 16.723484166208742, 15.170254588094744, 15.348138039048521, 13.28398216105674, 12.866762807120656, 13.16151802171971, 13.21924567979575, 12.415320441883706, 11.418644250012692, 10.781178278976483, 10.880723626541624, 10.613922697990697, 11.188258961097013, 9.922492124006562, 9.69346239388699, 12.047536665595407, 9.015163659681258, 11.077896847083696, 8.845831091216095, 21.30525226169566, 59.12157446955213, 95.48597654442452, 31.26521901147978, 96.56397598539613, 21.61586532550848, 14.485257186633358, 14.485257186633358, 27.473314578394223, 51.720764227610715, 47.61940855992298, 40.881314182961866, 40.18553852267286, 32.74850636789413, 32.89783296492464, 26.540494571846256, 24.9944326549659, 24.902442238369208, 23.624295763693052, 22.599012558448926, 19.960427217595836, 19.39041097750321, 19.428296834471343, 18.1885771557549, 15.207909157109516, 15.296343645533986, 15.302028250074473, 15.397737446901058, 13.643641678174012, 13.71058980688014, 13.716896416413213, 12.685244251296876, 12.147952133112724, 11.912156975756634, 9.798679882557442, 11.39392453963849, 10.292817153700936, 9.78018742837416, 9.557801909002732, 10.288186091713454, 26.24588398224484], \"Category\": [\"Default\", \"Default\", \"Default\", \"Default\", \"Default\", \"Default\", \"Default\", \"Default\", \"Default\", \"Default\", \"Default\", \"Default\", \"Default\", \"Default\", \"Default\", \"Default\", \"Default\", \"Default\", \"Default\", \"Default\", \"Default\", \"Default\", \"Default\", \"Default\", \"Default\", \"Default\", \"Default\", \"Default\", \"Default\", \"Default\", \"Topic1\", \"Topic1\", \"Topic1\", \"Topic1\", \"Topic1\", \"Topic1\", \"Topic1\", \"Topic1\", \"Topic1\", \"Topic1\", \"Topic1\", \"Topic1\", \"Topic1\", \"Topic1\", \"Topic1\", \"Topic1\", \"Topic1\", \"Topic1\", \"Topic1\", \"Topic1\", \"Topic1\", \"Topic1\", \"Topic1\", \"Topic1\", \"Topic1\", \"Topic1\", \"Topic1\", \"Topic1\", \"Topic1\", \"Topic1\", \"Topic1\", \"Topic1\", \"Topic2\", \"Topic2\", \"Topic2\", \"Topic2\", \"Topic2\", \"Topic2\", \"Topic2\", \"Topic2\", \"Topic2\", \"Topic2\", \"Topic2\", \"Topic2\", \"Topic2\", \"Topic2\", \"Topic2\", \"Topic2\", \"Topic2\", \"Topic2\", \"Topic2\", \"Topic2\", \"Topic2\", \"Topic2\", \"Topic2\", \"Topic2\", \"Topic2\", \"Topic2\", \"Topic2\", \"Topic2\", \"Topic2\", \"Topic2\", \"Topic2\", \"Topic2\", \"Topic2\", \"Topic2\", \"Topic3\", \"Topic3\", \"Topic3\", \"Topic3\", \"Topic3\", \"Topic3\", \"Topic3\", \"Topic3\", \"Topic3\", \"Topic3\", \"Topic3\", \"Topic3\", \"Topic3\", \"Topic3\", \"Topic3\", \"Topic3\", \"Topic3\", \"Topic3\", \"Topic3\", \"Topic3\", \"Topic3\", \"Topic3\", \"Topic3\", \"Topic3\", \"Topic3\", \"Topic3\", \"Topic3\", \"Topic3\", \"Topic3\", \"Topic3\", \"Topic3\", \"Topic3\", \"Topic3\", \"Topic3\", \"Topic3\", \"Topic3\", \"Topic3\", \"Topic3\", \"Topic3\", \"Topic4\", \"Topic4\", \"Topic4\", \"Topic4\", \"Topic4\", \"Topic4\", \"Topic4\", \"Topic4\", \"Topic4\", \"Topic4\", \"Topic4\", \"Topic4\", \"Topic4\", \"Topic4\", \"Topic4\", \"Topic4\", \"Topic4\", \"Topic4\", \"Topic4\", \"Topic4\", \"Topic4\", \"Topic4\", \"Topic4\", \"Topic4\", \"Topic4\", \"Topic4\", \"Topic4\", \"Topic4\", \"Topic4\", \"Topic4\", \"Topic4\", \"Topic4\"], \"logprob\": [30.0, 29.0, 28.0, 27.0, 26.0, 25.0, 24.0, 23.0, 22.0, 21.0, 20.0, 19.0, 18.0, 17.0, 16.0, 15.0, 14.0, 13.0, 12.0, 11.0, 10.0, 9.0, 8.0, 7.0, 6.0, 5.0, 4.0, 3.0, 2.0, 1.0, -2.7424, -2.8961, -3.0792, -3.1717, -3.3911, -3.4862, -3.7122, -3.8366, -3.8572, -4.0146, -3.9819, -4.0643, -4.0969, -4.0934, -4.1273, -4.186, -4.054, -4.4853, -4.5085, -4.5565, -4.5789, -4.7, -4.7214, -4.7615, -4.7765, -4.8414, -4.8534, -4.8783, -4.9011, -4.9044, -4.8033, -4.8523, -3.6, -3.7863, -3.9399, -3.9508, -3.9792, -4.1554, -4.2098, -4.3315, -4.3197, -4.3456, -4.3575, -4.4665, -4.4678, -4.5071, -4.5757, -4.6568, -4.6926, -4.6242, -4.7966, -4.8004, -3.4646, -4.8666, -4.8086, -4.8817, -4.906, -4.9291, -4.9798, -4.9855, -5.0725, -5.0365, -5.0309, -4.8059, -4.0841, -4.7846, -3.5796, -3.7425, -3.7573, -3.9025, -4.0743, -4.0965, -4.357, -4.4941, -4.5166, -4.6315, -4.6368, -4.6379, -4.7368, -4.7309, -4.8767, -4.9102, -4.8879, -4.8842, -4.9508, -5.0358, -5.0981, -5.0891, -5.1155, -5.0649, -5.1868, -5.2142, -4.9994, -5.2903, -5.0856, -5.3121, -4.51, -3.6606, -3.8569, -4.5521, -4.3909, -4.9224, -5.0254, -5.0254, -5.0624, -3.3991, -3.4829, -3.6377, -3.6552, -3.8637, -3.8602, -4.0791, -4.1404, -4.1448, -4.1983, -4.2449, -4.3721, -4.4036, -4.4036, -4.4748, -4.6542, -4.6487, -4.649, -4.643, -4.7676, -4.7629, -4.7638, -4.8467, -4.8938, -4.9151, -5.1184, -4.9678, -5.0707, -5.1238, -5.1478, -5.0872, -4.9314], \"loglift\": [30.0, 29.0, 28.0, 27.0, 26.0, 25.0, 24.0, 23.0, 22.0, 21.0, 20.0, 19.0, 18.0, 17.0, 16.0, 15.0, 14.0, 13.0, 12.0, 11.0, 10.0, 9.0, 8.0, 7.0, 6.0, 5.0, 4.0, 3.0, 2.0, 1.0, 0.4465, 0.4464, 0.4461, 0.446, 0.4457, 0.4455, 0.445, 0.4447, 0.4446, 0.4442, 0.4442, 0.444, 0.4439, 0.4439, 0.4437, 0.4436, 0.4435, 0.4423, 0.4421, 0.4419, 0.4418, 0.4411, 0.4408, 0.4406, 0.4406, 0.4401, 0.4398, 0.4398, 0.4396, 0.4395, 0.2673, 0.2906, 1.7939, 1.7914, 1.7902, 1.7899, 1.7897, 1.7875, 1.7856, 1.7848, 1.7846, 1.7837, 1.7836, 1.7821, 1.7807, 1.7805, 1.7795, 1.7777, 1.7763, 1.7755, 1.7746, 1.7737, 1.7735, 1.7726, 1.7723, 1.7706, 1.7704, 1.7703, 1.7689, 1.7687, 1.7644, 1.764, 1.7626, 1.7379, 1.6368, 0.3411, 2.2706, 2.2681, 2.2673, 2.2647, 2.2605, 2.2588, 2.2529, 2.2489, 2.2475, 2.2419, 2.2417, 2.2411, 2.2397, 2.234, 2.2326, 2.231, 2.2307, 2.23, 2.2261, 2.2248, 2.2199, 2.2197, 2.2182, 2.2161, 2.2143, 2.2102, 2.2076, 2.2067, 2.2053, 2.2038, 2.1269, 1.9557, 1.28, 1.7012, 0.7348, 1.7, 1.9973, 1.9973, 1.3202, 2.3509, 2.3497, 2.3474, 2.3471, 2.3433, 2.3422, 2.3381, 2.3368, 2.3361, 2.3353, 2.333, 2.33, 2.3275, 2.3256, 2.3203, 2.3198, 2.3195, 2.3188, 2.3186, 2.315, 2.3148, 2.3134, 2.3087, 2.3049, 2.3032, 2.2952, 2.295, 2.2938, 2.2917, 2.2907, 2.2776, 1.497]}, \"token.table\": {\"Topic\": [3, 3, 2, 1, 2, 4, 1, 4, 4, 4, 4, 1, 3, 3, 4, 4, 1, 1, 2, 2, 3, 2, 1, 2, 2, 2, 2, 3, 1, 3, 3, 4, 3, 1, 2, 1, 2, 3, 3, 4, 4, 4, 1, 1, 2, 4, 1, 3, 4, 1, 4, 1, 2, 1, 1, 3, 4, 3, 3, 3, 1, 3, 1, 4, 4, 4, 3, 2, 2, 2, 4, 4, 2, 2, 2, 1, 2, 3, 2, 2, 3, 4, 2, 2, 1, 2, 4, 3, 1, 1, 1, 3, 4, 4, 4, 2, 1, 1, 3, 2, 1, 1, 2, 3, 4, 1, 3, 3, 2, 4, 1, 4, 1, 3, 1, 2, 3, 3, 2, 3, 1, 2, 4, 1, 1, 3, 1, 3, 2, 3, 3, 4, 4, 1, 2, 2, 1, 2, 4, 2, 4, 4, 4, 3, 2, 2, 1, 3, 4, 3, 3, 3, 2, 2], \"Freq\": [0.9326355183418026, 0.9026984217344958, 0.9397154236892564, 0.8534189344513315, 0.13696847096132483, 0.9860643159788048, 0.9917748661710503, 0.9734938614286942, 0.9637608942235094, 0.973573994757867, 0.9416391013003393, 0.4163608472050974, 0.5551477962734632, 0.7593927990557552, 0.20710712701520598, 0.9202277631090494, 0.9887173499063692, 0.9981193594552782, 0.9889460002131194, 0.985574390838547, 0.9513435485783871, 0.9760698731322427, 0.9994928866094669, 0.9848139805287566, 0.9852024102776136, 0.9885759153199178, 0.9879182813624948, 0.9561906292807809, 0.9918849431307255, 0.9394858580287925, 0.959499718010442, 0.8747897753569004, 0.9773172460292712, 0.9881383749061523, 0.9885424791246002, 0.9939809230157218, 0.9533273201618743, 0.9130497217255295, 0.9275424022530268, 0.9602138336687419, 0.9806265044509177, 0.9234263804940586, 0.9977071289525464, 0.9945891107737164, 0.845091308762444, 0.15023845489110116, 0.9942411329299751, 0.7593927990557552, 0.20710712701520598, 0.9987207864756402, 0.9477362520901305, 0.042762947814947265, 0.9407848519288399, 0.9989012600803281, 0.9992403471261956, 0.9594092801222494, 0.9741690980072462, 0.9228586058790911, 0.9715467051753839, 0.9284608155776918, 0.9978376078307207, 0.968450186348099, 0.9885983676376543, 0.9798657708722026, 0.9802622080459822, 0.9459809966822815, 0.9834146603288534, 0.969702784266536, 0.9915960394055277, 0.9867298632939969, 0.9184910730700402, 0.9784421269086997, 0.9961683993520687, 0.9584531072051177, 0.9669669093680259, 0.9923276193824729, 0.4157975031368479, 0.5437351964097242, 0.944786320033806, 0.618782271483517, 0.36398957146089234, 0.934652548928005, 0.992067420359885, 0.9919507060651568, 0.023176367276307192, 0.9734074256049021, 0.9654267905436743, 0.9117489320150668, 0.991813073017136, 0.9985869487572391, 0.9982584660480771, 0.9786036670003633, 0.9953829529354652, 0.9727084466055287, 0.9055024155072482, 0.9927342019401196, 0.9993733564333619, 0.9963519406526509, 0.942158736646262, 0.9881058898941821, 0.9971336956854022, 0.20297159045011653, 0.06765719681670551, 0.7273148657795843, 0.9528247887656228, 0.6283645219053209, 0.3665459711114372, 0.8873937625534853, 0.9868968076008491, 0.9481721926708392, 0.9947546713261313, 0.9518834337999948, 0.9948932047608992, 0.9633367814211196, 0.5488589244504127, 0.22782823279073736, 0.20711657526430668, 0.9190565208003949, 0.9929581483950731, 0.9916991395179733, 0.9991373096179181, 0.9493132943057373, 0.9715513110426091, 0.9991624573652789, 0.9939118657043399, 0.9070301984140984, 0.9909527280757809, 0.9567384308785005, 0.14081034869479803, 0.8448620921687882, 0.9831184823927562, 0.9863288796006306, 0.977954998416978, 0.9950707492273405, 0.9764220332719622, 0.9626621612223201, 0.8331324492636097, 0.12742025694619916, 0.039206232906522816, 0.5715181858666828, 0.4191133363022341, 0.9796350979676315, 0.9869925188351818, 0.8937941135230477, 0.9500187144890868, 0.9720311196704368, 0.9988825963627237, 0.9923968919080032, 0.9771438013237773, 0.9786222115015134, 0.9043808227294771, 0.9665477468883846, 0.97458984420151, 0.9765407710215142], \"Term\": [\"address\", \"advise\", \"all\", \"always\", \"always\", \"amazing\", \"answer\", \"arrive\", \"ask\", \"assistant\", \"at\", \"back\", \"back\", \"ball\", \"ball\", \"bit\", \"care\", \"chat\", \"clear\", \"company\", \"concern\", \"courier\", \"customer\", \"day\", \"deliver\", \"delivery\", \"discount\", \"dress\", \"easy\", \"efficiently\", \"email\", \"exactly\", \"expect\", \"experience\", \"extremely\", \"fast\", \"fault\", \"few\", \"finally\", \"first\", \"fix\", \"free\", \"friendly\", \"get\", \"go\", \"go\", \"good\", \"grab\", \"grab\", \"great\", \"guy\", \"have\", \"have\", \"help\", \"helpful\", \"hope\", \"hour\", \"however\", \"immediately\", \"initially\", \"issue\", \"item\", \"kind\", \"know\", \"last\", \"let\", \"like\", \"look\", \"lose\", \"love\", \"m\", \"minute\", \"miss\", \"never\", \"next\", \"nice\", \"now\", \"now\", \"offer\", \"only\", \"only\", \"option\", \"order\", \"package\", \"parcel\", \"parcel\", \"pay\", \"perfect\", \"person\", \"polite\", \"problem\", \"process\", \"professional\", \"provide\", \"purchase\", \"question\", \"quick\", \"quickly\", \"quite\", \"raise\", \"really\", \"receive\", \"receive\", \"receive\", \"recommend\", \"refund\", \"refund\", \"replace\", \"replacement\", \"reply\", \"resolve\", \"respond\", \"response\", \"responsive\", \"return\", \"return\", \"return\", \"same\", \"say\", \"send\", \"service\", \"shop\", \"short\", \"so\", \"solve\", \"soon\", \"sort\", \"star\", \"still\", \"still\", \"take\", \"talk\", \"tell\", \"thank\", \"then\", \"thing\", \"time\", \"time\", \"time\", \"too\", \"too\", \"try\", \"understanding\", \"unfortunately\", \"update\", \"ve\", \"very\", \"wait\", \"way\", \"week\", \"whole\", \"wonderful\", \"wrong\", \"year\"]}, \"R\": 30, \"lambda.step\": 0.01, \"plot.opts\": {\"xlab\": \"PC1\", \"ylab\": \"PC2\"}, \"topic.order\": [3, 4, 1, 2]};\n",
       "\n",
       "function LDAvis_load_lib(url, callback){\n",
       "  var s = document.createElement('script');\n",
       "  s.src = url;\n",
       "  s.async = true;\n",
       "  s.onreadystatechange = s.onload = callback;\n",
       "  s.onerror = function(){console.warn(\"failed to load library \" + url);};\n",
       "  document.getElementsByTagName(\"head\")[0].appendChild(s);\n",
       "}\n",
       "\n",
       "if(typeof(LDAvis) !== \"undefined\"){\n",
       "   // already loaded: just create the visualization\n",
       "   !function(LDAvis){\n",
       "       new LDAvis(\"#\" + \"ldavis_el1983621284230118248402200902\", ldavis_el1983621284230118248402200902_data);\n",
       "   }(LDAvis);\n",
       "}else if(typeof define === \"function\" && define.amd){\n",
       "   // require.js is available: use it to load d3/LDAvis\n",
       "   require.config({paths: {d3: \"https://d3js.org/d3.v5\"}});\n",
       "   require([\"d3\"], function(d3){\n",
       "      window.d3 = d3;\n",
       "      LDAvis_load_lib(\"https://cdn.jsdelivr.net/gh/bmabey/pyLDAvis@3.3.1/pyLDAvis/js/ldavis.v3.0.0.js\", function(){\n",
       "        new LDAvis(\"#\" + \"ldavis_el1983621284230118248402200902\", ldavis_el1983621284230118248402200902_data);\n",
       "      });\n",
       "    });\n",
       "}else{\n",
       "    // require.js not available: dynamically load d3 & LDAvis\n",
       "    LDAvis_load_lib(\"https://d3js.org/d3.v5.js\", function(){\n",
       "         LDAvis_load_lib(\"https://cdn.jsdelivr.net/gh/bmabey/pyLDAvis@3.3.1/pyLDAvis/js/ldavis.v3.0.0.js\", function(){\n",
       "                 new LDAvis(\"#\" + \"ldavis_el1983621284230118248402200902\", ldavis_el1983621284230118248402200902_data);\n",
       "            })\n",
       "         });\n",
       "}\n",
       "</script>"
      ],
      "text/plain": [
       "PreparedData(topic_coordinates=              x         y  topics  cluster       Freq\n",
       "topic                                                \n",
       "2      0.361603 -0.000904       1        1  63.928942\n",
       "3     -0.122257 -0.258603       2        1  16.489088\n",
       "0     -0.107488  0.120192       3        1  10.176639\n",
       "1     -0.131859  0.139315       4        1   9.405330, topic_info=         Term        Freq       Total Category  logprob  loglift\n",
       "59       very  669.000000  669.000000  Default  30.0000  30.0000\n",
       "14    helpful  574.000000  574.000000  Default  29.0000  29.0000\n",
       "22    service  478.000000  478.000000  Default  28.0000  28.0000\n",
       "4    customer  436.000000  436.000000  Default  27.0000  27.0000\n",
       "53     parcel   86.000000   86.000000  Default  26.0000  26.0000\n",
       "..        ...         ...         ...      ...      ...      ...\n",
       "680     short    9.595591   10.292817   Topic4  -5.0707   2.2938\n",
       "269       bit    9.098991    9.780187   Topic4  -5.1238   2.2917\n",
       "174        at    8.883159    9.557802   Topic4  -5.1478   2.2907\n",
       "431   exactly    9.437769   10.288186   Topic4  -5.0872   2.2776\n",
       "153       too   11.029471   26.245884   Topic4  -4.9314   1.4970\n",
       "\n",
       "[167 rows x 6 columns], token_table=      Topic      Freq       Term\n",
       "term                            \n",
       "190       3  0.932636    address\n",
       "302       3  0.902698     advise\n",
       "640       2  0.939715        all\n",
       "26        1  0.853419     always\n",
       "26        2  0.136968     always\n",
       "...     ...       ...        ...\n",
       "275       3  0.978622       week\n",
       "836       3  0.904381      whole\n",
       "474       3  0.966548  wonderful\n",
       "42        2  0.974590      wrong\n",
       "111       2  0.976541       year\n",
       "\n",
       "[154 rows x 3 columns], R=30, lambda_step=0.01, plot_opts={'xlab': 'PC1', 'ylab': 'PC2'}, topic_order=[3, 4, 1, 2])"
      ]
     },
     "execution_count": 47,
     "metadata": {},
     "output_type": "execute_result"
    }
   ],
   "source": [
    "lda_model1, corpus, id2word, texts = lda_model(asos_df)\n",
    "\n",
    "# Visualize the topics\n",
    "pyLDAvis.enable_notebook()\n",
    "vis = pyLDAvis.gensim_models.prepare(lda_model1, corpus, id2word)\n",
    "vis"
   ]
  },
  {
   "cell_type": "code",
   "execution_count": 42,
   "metadata": {},
   "outputs": [
    {
     "name": "stderr",
     "output_type": "stream",
     "text": [
      "e:\\ProgramsInstalled\\Anaconda\\lib\\site-packages\\pyLDAvis\\_prepare.py:246: FutureWarning:\n",
      "\n",
      "In a future version of pandas all arguments of DataFrame.drop except for the argument 'labels' will be keyword-only.\n",
      "\n"
     ]
    },
    {
     "data": {
      "text/html": [
       "\n",
       "<link rel=\"stylesheet\" type=\"text/css\" href=\"https://cdn.jsdelivr.net/gh/bmabey/pyLDAvis@3.3.1/pyLDAvis/js/ldavis.v1.0.0.css\">\n",
       "\n",
       "\n",
       "<div id=\"ldavis_el1983621285310331044918656240\"></div>\n",
       "<script type=\"text/javascript\">\n",
       "\n",
       "var ldavis_el1983621285310331044918656240_data = {\"mdsDat\": {\"x\": [0.16335131918471002, -0.10006800548407709, -0.08131681972950613, -0.0025928782113784792, 0.0035602382935772297, 0.017066145946674532], \"y\": [0.02161585289787025, 0.10409807087308451, -0.08075719125596195, -0.06684401262443276, 0.016871107729556342, 0.005016172379883671], \"topics\": [1, 2, 3, 4, 5, 6], \"cluster\": [1, 1, 1, 1, 1, 1], \"Freq\": [30.979177755431586, 27.161701425148937, 22.100116503818228, 15.635426952496633, 4.016985274423782, 0.10659208868083131]}, \"tinfo\": {\"Term\": [\"very\", \"email\", \"delivery\", \"order\", \"thank\", \"chat\", \"speak\", \"really\", \"courier\", \"customer\", \"helpful\", \"support\", \"need\", \"quick\", \"day\", \"pay\", \"premier\", \"busy\", \"long\", \"information\", \"so\", \"easy\", \"ve\", \"ariane\", \"today\", \"address\", \"number\", \"clear\", \"provide\", \"able\", \"delivery\", \"order\", \"courier\", \"pay\", \"premier\", \"person\", \"item\", \"reliable\", \"parcel\", \"shop\", \"recently\", \"update\", \"miss\", \"concern\", \"adequate\", \"eventually\", \"follow\", \"last\", \"stupid\", \"frustrating\", \"wrong\", \"seriously\", \"however\", \"take\", \"action\", \"initially\", \"separate\", \"hope\", \"assistan\", \"occasion\", \"just\", \"more\", \"provide\", \"day\", \"help\", \"next\", \"issue\", \"service\", \"speak\", \"information\", \"need\", \"tell\", \"confuse\", \"website\", \"agent\", \"solve\", \"date\", \"time\", \"know\", \"really\", \"mistake\", \"reality\", \"return\", \"specific\", \"client\", \"aramex\", \"true\", \"collection\", \"unfortunate\", \"arrange\", \"fault\", \"waste\", \"paulene\", \"ask\", \"jay\", \"rectify\", \"query\", \"quickly\", \"fast\", \"answer\", \"certain\", \"well\", \"need\", \"very\", \"too\", \"resolve\", \"give\", \"get\", \"information\", \"chat\", \"issue\", \"helpful\", \"tell\", \"service\", \"customer\", \"thank\", \"clear\", \"support\", \"more\", \"straight\", \"use\", \"help\", \"honest\", \"unfortunately\", \"email\", \"able\", \"address\", \"number\", \"request\", \"additional\", \"supply\", \"perfectly\", \"suit\", \"end\", \"tomorrow\", \"lie\", \"back\", \"fob\", \"manager\", \"finally\", \"understand\", \"check\", \"deal\", \"glad\", \"locate\", \"m\", \"cancel\", \"appreciate\", \"tracking\", \"people\", \"remember\", \"unable\", \"account\", \"prior\", \"quick\", \"today\", \"very\", \"advisor\", \"also\", \"helpful\", \"information\", \"issue\", \"tell\", \"speak\", \"thank\", \"provide\", \"help\", \"great\", \"polite\", \"lot\", \"response\", \"just\", \"week\", \"resolve\", \"solution\", \"easy\", \"ve\", \"ariane\", \"care\", \"available\", \"detail\", \"contact\", \"app\", \"learn\", \"ago\", \"past\", \"similar\", \"assure\", \"sort\", \"company\", \"necessary\", \"advice\", \"correct\", \"point\", \"prakash\", \"slight\", \"navigate\", \"early\", \"reassure\", \"support\", \"so\", \"customer\", \"clear\", \"day\", \"excellent\", \"thank\", \"help\", \"helpful\", \"information\", \"today\", \"issue\", \"step\", \"always\", \"other\", \"straight\", \"provide\", \"too\", \"lot\", \"much\", \"pearl\", \"que\", \"consider\", \"wait\", \"period\", \"live\", \"sale\", \"so\", \"busy\", \"long\", \"really\", \"chat\", \"speak\", \"thank\", \"helpful\", \"necessary\", \"care\", \"detail\", \"available\", \"advice\", \"contact\", \"app\", \"correct\", \"learn\", \"ago\", \"past\", \"slight\", \"similar\", \"assure\", \"information\", \"early\", \"reassure\", \"sort\", \"company\", \"point\", \"delivery\", \"order\", \"courier\", \"pay\", \"recently\", \"premier\", \"issue\", \"update\", \"more\", \"just\", \"shop\", \"miss\", \"service\", \"much\", \"pearl\", \"que\", \"consider\", \"wait\", \"period\", \"live\", \"sale\", \"assist\", \"refund\", \"chase\", \"care\", \"necessary\", \"detail\", \"advice\", \"available\", \"contact\", \"app\", \"correct\", \"learn\", \"ago\", \"past\", \"slight\", \"similar\", \"assure\", \"sort\", \"early\", \"company\", \"reassure\", \"point\", \"previously\", \"one\", \"explain\", \"account\", \"unable\", \"prior\", \"remember\", \"people\", \"tracking\", \"appreciate\", \"cancel\", \"locate\", \"m\", \"glad\", \"deal\", \"address\", \"number\", \"email\", \"today\", \"provide\", \"also\", \"problem\", \"speak\", \"unfortunately\", \"efficient\", \"make\", \"able\", \"very\", \"issue\", \"clear\"], \"Freq\": [9.0, 3.0, 4.0, 4.0, 5.0, 3.0, 4.0, 2.0, 3.0, 4.0, 7.0, 3.0, 5.0, 3.0, 3.0, 2.0, 2.0, 1.0, 1.0, 11.0, 1.0, 1.0, 1.0, 1.0, 2.0, 1.0, 1.0, 3.0, 4.0, 1.0, 3.9886157417233674, 3.9871673454489285, 3.21740970661735, 2.444761959000252, 2.4438348962677665, 1.6766078045077055, 1.672734192321341, 1.6727114180165643, 1.6725386303564107, 1.672318685032562, 1.672260016443083, 1.6721597599927074, 1.6715876793585887, 0.9027780828500371, 0.9027777115298505, 0.9027772164362685, 0.9027768451160819, 0.902777340209664, 0.9027764737958953, 0.9027761024757087, 0.9027765975692909, 0.9027764737958953, 0.9027764119091976, 0.9027764119091976, 0.9027764737958953, 0.902776288135802, 0.9027753598353356, 0.9027748647417535, 0.9027725130472385, 0.9012821575917166, 1.672187237686514, 1.6731931440719494, 2.4507119936699513, 1.6720300454741968, 2.450554801457634, 1.6745108356407132, 2.4450498559182443, 1.6719136984824028, 1.6745552702897069, 2.4485776452375108, 1.6743446079705226, 0.9028950487088088, 1.6187448903176398, 1.6187447817964893, 1.616899705194549, 1.6167956334111553, 1.6161768458106223, 1.6156911051406844, 1.6131525783866212, 1.6187595406729665, 0.8716215878990101, 0.8716215878990101, 0.871621370856709, 0.8716215878990101, 0.871621370856709, 0.8716212080749831, 0.8716210995538325, 0.8716210452932572, 0.8716207739903808, 0.8716208282509561, 0.8716205026875045, 0.8716196887788752, 0.8716145882847985, 0.8716138828973198, 0.8716088366638185, 0.8697856813342928, 0.8696800359942158, 0.8694872481702336, 0.8694718924274283, 0.8694358634054401, 0.8694157869925851, 0.8693410701804198, 3.1015505443352227, 5.346339193397425, 1.6155628331407141, 1.6146775175943886, 1.6156941437329002, 1.6153320086534582, 4.603461998037029, 1.6167463648087979, 3.1091415988173843, 2.364614881968371, 1.6173945616411347, 1.6164289404433896, 1.6183201385343207, 1.6171873947647022, 0.8739805121488851, 0.8733298193300852, 0.8728306762980523, 0.8727643156144806, 0.8725480872219759, 0.8725229103150444, 0.8724350624436603, 0.8716235412797203, 2.923331068928823, 1.5272681147809568, 1.5184810284502481, 1.5185250009671567, 0.8244608515181792, 0.8244600568341386, 0.8244595270447783, 0.8244594387465516, 0.8244589089571912, 0.8244574078873369, 0.8239844825850009, 0.8239557856613154, 0.8238930056221143, 0.8238830279224945, 0.8238092106049528, 0.8237683285259795, 0.8237138485200904, 0.823607625753341, 0.8201824492404735, 0.8200312826763212, 0.819692040889246, 0.8196695248414313, 0.8194704123401676, 0.8193591565744949, 0.8192715647335842, 0.8192242368840599, 0.8186008514033855, 0.8185334798563947, 0.8183680972777398, 0.8184998382320127, 2.2368616265568675, 1.5200938838595965, 2.9464943427454435, 1.5321810281159043, 1.524956467205311, 2.2598580167249787, 2.9676638426026263, 2.2406384949067784, 1.5293049782750359, 1.5376927800244968, 1.5470624580551333, 1.5196974248216037, 1.529713445871863, 0.8289247683702329, 0.8265306502508266, 0.8263597931821148, 0.826342751624357, 0.8256783074682557, 0.8246443352333125, 0.8244700345337586, 0.8244616462022197, 1.3696797863840309, 1.3696229392524282, 1.3688954209066653, 0.7377467689420875, 0.7376914210754941, 0.7376884225454755, 0.7376779901597859, 0.7376709311203671, 0.737654001919637, 0.7376127096625059, 0.7375341856576437, 0.7375084482749841, 0.7374830232392013, 0.7374523507758861, 0.7374152439669059, 0.7373202905163169, 0.737232458574522, 0.7371739872391594, 0.7372132180069028, 0.7371934152149049, 0.7369577807309432, 0.7369325431032866, 0.7368509580990305, 0.7367671866666359, 2.0013711098125997, 0.7372631935072127, 2.0026747207381868, 1.3696209402324158, 1.3689926232547682, 0.7376768657110289, 1.3696275619862068, 1.3694756364652645, 1.3695223635580542, 1.3715371258530524, 0.7379641623684361, 0.7377116611531197, 0.7376518779608738, 0.7376458809008366, 0.7376275773738481, 0.7375316868826283, 0.7375241280882063, 0.7375153823756522, 0.7374978909505436, 0.35820224568463366, 0.358079371801553, 0.3580513817216036, 0.3580444163003318, 0.3577658315481748, 0.35765098234397874, 0.3576283206508087, 0.356718643052453, 0.3577807253521846, 0.3579631102538733, 0.35693184272105843, 0.3576410959395929, 0.35736954080613886, 0.3548676064235053, 0.3536312601971162, 0.35190065794886827, 0.05146724098770319, 0.05146711660518048, 0.05146715271623546, 0.05146712061751992, 0.05146716475325379, 0.05146716074091434, 0.051467112592841036, 0.051467249012382074, 0.05146713666687769, 0.051467144691556575, 0.05146713265453825, 0.05146720086430877, 0.05146712864219881, 0.05146713666687769, 0.35130927121379046, 0.05146722895068486, 0.0514672610494004, 0.051467144691556575, 0.051467144691556575, 0.05146716074091434, 0.05161825741963205, 0.05161036113560963, 0.05157173835613816, 0.05155947664680252, 0.05155113098076256, 0.05155001555039761, 0.05154934548971074, 0.05154694611072425, 0.051543407227336156, 0.05153519396849779, 0.05152983749534234, 0.05152879829942678, 0.051525933489064986, 0.0019364210707533266, 0.001936419154314748, 0.0019364183025642686, 0.0019364187284395084, 0.001936420644878087, 0.0019364189413771282, 0.001936417876689029, 0.0019364172378761695, 0.002055345666750308, 0.0020548124709502086, 0.0020507641009216595, 0.001936411062685194, 0.0019364129791237725, 0.0019364142567494915, 0.0019364157473128305, 0.0019364117014980535, 0.0019364129791237725, 0.0019364119144356733, 0.0019364165990633099, 0.0019364119144356733, 0.0019364127661861527, 0.0019364131920613923, 0.0019364144696871115, 0.0019364117014980535, 0.0019364119144356733, 0.001936412340310913, 0.0019364157473128305, 0.0019364117014980535, 0.0019364161731880703, 0.001936412340310913, 0.002041426147478467, 0.0020369410423916098, 0.002034543577729742, 0.002033606439264791, 0.0020312206861720144, 0.0020302328685535397, 0.0020296117295164435, 0.0020195663973001164, 0.002018673549860094, 0.002017309471467348, 0.0020155120650182114, 0.0020111511025637254, 0.0020110126931108243, 0.0020059660715204277, 0.0020032553756197634, 0.002138131980470034, 0.0021351353093459137, 0.002273520700296039, 0.0021093743290343282, 0.002138817639605944, 0.00207186856136241, 0.002014679265986986, 0.002077618515911164, 0.0020083976062014713, 0.002008307533588276, 0.0019999880607808164, 0.0019970007589119694, 0.0020481477363865877, 0.002043132629563929, 0.002006580396553689], \"Total\": [9.0, 3.0, 4.0, 4.0, 5.0, 3.0, 4.0, 2.0, 3.0, 4.0, 7.0, 3.0, 5.0, 3.0, 3.0, 2.0, 2.0, 1.0, 1.0, 11.0, 1.0, 1.0, 1.0, 1.0, 2.0, 1.0, 1.0, 3.0, 4.0, 1.0, 4.398539640700567, 4.398420053143414, 3.6249101944134714, 2.8511618921385242, 2.851154595534438, 2.0778190902045663, 2.0774964748999647, 2.077529124217464, 2.077467277185971, 2.077438062857861, 2.0774153379729445, 2.07742470575012, 2.077440858733521, 1.3039880466667007, 1.3039877012960759, 1.303987166857827, 1.3039866344961404, 1.3039874317881788, 1.3039865556368742, 1.3039860945586488, 1.30398681931528, 1.303986739540311, 1.3039866631402517, 1.303986709227833, 1.303986835096644, 1.3039867059810024, 1.3039859282250874, 1.3039854304161296, 1.3039857263015875, 1.3038596042607946, 2.784186361045859, 2.8245955547540906, 4.88606340043865, 3.34393978901844, 6.27571823829779, 3.4577981713641104, 8.586134088914802, 4.204652665040334, 4.431545648943178, 11.74452980418937, 5.065108333325579, 4.208647624770886, 2.024407231549642, 2.024407207582166, 2.024306894915641, 2.0243014888943316, 2.024267559933451, 2.02394017980027, 2.023778628004865, 2.3365886640171833, 1.2772827889887735, 1.2772828287662648, 1.277282587957366, 1.2772829084299797, 1.2772826935769364, 1.2772826644360629, 1.2772825978608162, 1.2772825419490608, 1.2772823599765546, 1.2772824503620643, 1.2772822711143397, 1.277281859549893, 1.2772796876433856, 1.2772793203821808, 1.2772775846322955, 1.2771829346371055, 1.2771765578079044, 1.2771663550970886, 1.2771655179704162, 1.277163347414999, 1.2771621279054512, 1.277158456637583, 5.065108333325579, 9.212836814705232, 2.6573476058988814, 2.7272940994535833, 2.730617695756743, 2.7304785587154914, 11.74452980418937, 3.1106350962314675, 8.586134088914802, 7.248599639032812, 4.208647624770886, 4.204652665040334, 4.697227293118417, 5.018557632711158, 3.246131476778233, 3.950321904147251, 2.8245955547540906, 1.9104558720669065, 2.050911451969198, 6.27571823829779, 2.050959328086391, 1.979654068199648, 3.336770061718116, 1.9399364081271508, 1.9314889347095514, 1.9316668238605883, 1.236861643016386, 1.2368609711309868, 1.236861057382436, 1.2368612815281608, 1.2368605564757775, 1.2368604108397299, 1.2368895272123448, 1.2368910950785685, 1.2368946951859363, 1.2368955134029653, 1.2368993387200615, 1.2369017340177912, 1.2369045474334313, 1.2369109632066702, 1.2328603975640002, 1.2326963600434715, 1.2323875263615187, 1.232398041557665, 1.2321289747491038, 1.232020193562594, 1.2319375343314027, 1.2318879188552778, 1.23128546978541, 1.2311883220808195, 1.2310445836742359, 1.231242891682999, 3.394357515897283, 2.5663521154598006, 9.212836814705232, 3.3506320391174036, 3.456108078655227, 7.248599639032812, 11.74452980418937, 8.586134088914802, 4.208647624770886, 4.431545648943178, 5.018557632711158, 4.88606340043865, 6.27571823829779, 3.3908045216133837, 1.9838440025254145, 2.6170337935555836, 1.9838550436283353, 2.784186361045859, 2.0105523925528574, 2.7272940994535833, 2.0106674254632324, 1.7965200774424828, 1.7965305948612769, 1.7964942964546398, 1.1633148770772048, 1.1633247134520066, 1.1633250391384085, 1.1633270254541273, 1.1633284596791578, 1.1633315287425694, 1.1633386878729908, 1.1633530067993942, 1.1633577041212286, 1.1633622400741443, 1.1633677165465839, 1.16337437876217, 1.1633160453445814, 1.1633262144568564, 1.1633328049945257, 1.1634108550373088, 1.163414245800777, 1.163358007597916, 1.1634611260118226, 1.1633703887703448, 1.163380028331524, 3.950321904147251, 1.475323357200451, 4.697227293118417, 3.246131476778233, 3.34393978901844, 1.86668504398075, 5.018557632711158, 6.27571823829779, 7.248599639032812, 11.74452980418937, 2.5663521154598006, 8.586134088914802, 1.9371377252036428, 1.9369533243793897, 1.870046948707984, 1.9104558720669065, 4.88606340043865, 2.6573476058988814, 2.6170337935555836, 0.8416376917119824, 0.8417961713781625, 0.8418322139858343, 0.8418413317926009, 0.8422000201029402, 0.8423481303052263, 0.8423772198707412, 0.8435491676778732, 1.475323357200451, 1.5886004368990359, 1.5902477497685974, 2.3365886640171833, 3.1106350962314675, 4.431545648943178, 5.018557632711158, 7.248599639032812, 1.1633160453445814, 1.1633148770772048, 1.1633250391384085, 1.1633247134520066, 1.1633262144568564, 1.1633270254541273, 1.1633284596791578, 1.1633328049945257, 1.1633315287425694, 1.1633386878729908, 1.1633530067993942, 1.163358007597916, 1.1633577041212286, 1.1633622400741443, 11.74452980418937, 1.1633703887703448, 1.163380028331524, 1.1633677165465839, 1.16337437876217, 1.1634108550373088, 4.398539640700567, 4.398420053143414, 3.6249101944134714, 2.8511618921385242, 2.0774153379729445, 2.851154595534438, 8.586134088914802, 2.07742470575012, 2.8245955547540906, 2.784186361045859, 2.077438062857861, 2.077440858733521, 4.204652665040334, 0.8416376917119824, 0.8417961713781625, 0.8418322139858343, 0.8418413317926009, 0.8422000201029402, 0.8423481303052263, 0.8423772198707412, 0.8435491676778732, 1.2297389651917536, 1.2297805570769618, 1.2300189586447543, 1.1633148770772048, 1.1633160453445814, 1.1633250391384085, 1.1633262144568564, 1.1633247134520066, 1.1633270254541273, 1.1633284596791578, 1.1633328049945257, 1.1633315287425694, 1.1633386878729908, 1.1633530067993942, 1.163358007597916, 1.1633577041212286, 1.1633622400741443, 1.1633677165465839, 1.1633703887703448, 1.16337437876217, 1.163380028331524, 1.1634108550373088, 1.2305741268477697, 1.2308482233606366, 1.2309889940373302, 1.2310445836742359, 1.2311883220808195, 1.231242891682999, 1.23128546978541, 1.2318879188552778, 1.2319375343314027, 1.232020193562594, 1.2321289747491038, 1.2323875263615187, 1.232398041557665, 1.2326963600434715, 1.2328603975640002, 1.9314889347095514, 1.9316668238605883, 3.336770061718116, 2.5663521154598006, 4.88606340043865, 3.456108078655227, 1.979278218880123, 4.431545648943178, 1.979654068199648, 1.979191396017862, 1.9800247384780512, 1.9399364081271508, 9.212836814705232, 8.586134088914802, 3.246131476778233], \"Category\": [\"Default\", \"Default\", \"Default\", \"Default\", \"Default\", \"Default\", \"Default\", \"Default\", \"Default\", \"Default\", \"Default\", \"Default\", \"Default\", \"Default\", \"Default\", \"Default\", \"Default\", \"Default\", \"Default\", \"Default\", \"Default\", \"Default\", \"Default\", \"Default\", \"Default\", \"Default\", \"Default\", \"Default\", \"Default\", \"Default\", \"Topic1\", \"Topic1\", \"Topic1\", \"Topic1\", \"Topic1\", \"Topic1\", \"Topic1\", \"Topic1\", \"Topic1\", \"Topic1\", \"Topic1\", \"Topic1\", \"Topic1\", \"Topic1\", \"Topic1\", \"Topic1\", \"Topic1\", \"Topic1\", \"Topic1\", \"Topic1\", \"Topic1\", \"Topic1\", \"Topic1\", \"Topic1\", \"Topic1\", \"Topic1\", \"Topic1\", \"Topic1\", \"Topic1\", \"Topic1\", \"Topic1\", \"Topic1\", \"Topic1\", \"Topic1\", \"Topic1\", \"Topic1\", \"Topic1\", \"Topic1\", \"Topic1\", \"Topic1\", \"Topic1\", \"Topic1\", \"Topic2\", \"Topic2\", \"Topic2\", \"Topic2\", \"Topic2\", \"Topic2\", \"Topic2\", \"Topic2\", \"Topic2\", \"Topic2\", \"Topic2\", \"Topic2\", \"Topic2\", \"Topic2\", \"Topic2\", \"Topic2\", \"Topic2\", \"Topic2\", \"Topic2\", \"Topic2\", \"Topic2\", \"Topic2\", \"Topic2\", \"Topic2\", \"Topic2\", \"Topic2\", \"Topic2\", \"Topic2\", \"Topic2\", \"Topic2\", \"Topic2\", \"Topic2\", \"Topic2\", \"Topic2\", \"Topic2\", \"Topic2\", \"Topic2\", \"Topic2\", \"Topic2\", \"Topic2\", \"Topic2\", \"Topic2\", \"Topic2\", \"Topic2\", \"Topic2\", \"Topic2\", \"Topic2\", \"Topic2\", \"Topic2\", \"Topic2\", \"Topic2\", \"Topic2\", \"Topic3\", \"Topic3\", \"Topic3\", \"Topic3\", \"Topic3\", \"Topic3\", \"Topic3\", \"Topic3\", \"Topic3\", \"Topic3\", \"Topic3\", \"Topic3\", \"Topic3\", \"Topic3\", \"Topic3\", \"Topic3\", \"Topic3\", \"Topic3\", \"Topic3\", \"Topic3\", \"Topic3\", \"Topic3\", \"Topic3\", \"Topic3\", \"Topic3\", \"Topic3\", \"Topic3\", \"Topic3\", \"Topic3\", \"Topic3\", \"Topic3\", \"Topic3\", \"Topic3\", \"Topic3\", \"Topic3\", \"Topic3\", \"Topic3\", \"Topic3\", \"Topic3\", \"Topic3\", \"Topic3\", \"Topic3\", \"Topic3\", \"Topic3\", \"Topic3\", \"Topic3\", \"Topic3\", \"Topic3\", \"Topic3\", \"Topic3\", \"Topic3\", \"Topic4\", \"Topic4\", \"Topic4\", \"Topic4\", \"Topic4\", \"Topic4\", \"Topic4\", \"Topic4\", \"Topic4\", \"Topic4\", \"Topic4\", \"Topic4\", \"Topic4\", \"Topic4\", \"Topic4\", \"Topic4\", \"Topic4\", \"Topic4\", \"Topic4\", \"Topic4\", \"Topic4\", \"Topic4\", \"Topic4\", \"Topic4\", \"Topic4\", \"Topic4\", \"Topic4\", \"Topic4\", \"Topic4\", \"Topic4\", \"Topic4\", \"Topic4\", \"Topic4\", \"Topic4\", \"Topic4\", \"Topic4\", \"Topic4\", \"Topic4\", \"Topic4\", \"Topic4\", \"Topic4\", \"Topic4\", \"Topic4\", \"Topic5\", \"Topic5\", \"Topic5\", \"Topic5\", \"Topic5\", \"Topic5\", \"Topic5\", \"Topic5\", \"Topic5\", \"Topic5\", \"Topic5\", \"Topic5\", \"Topic5\", \"Topic5\", \"Topic5\", \"Topic5\", \"Topic5\", \"Topic5\", \"Topic5\", \"Topic5\", \"Topic5\", \"Topic5\", \"Topic5\", \"Topic5\", \"Topic5\", \"Topic5\", \"Topic5\", \"Topic5\", \"Topic5\", \"Topic5\", \"Topic5\", \"Topic5\", \"Topic5\", \"Topic5\", \"Topic5\", \"Topic5\", \"Topic5\", \"Topic5\", \"Topic5\", \"Topic5\", \"Topic5\", \"Topic5\", \"Topic5\", \"Topic5\", \"Topic5\", \"Topic5\", \"Topic5\", \"Topic5\", \"Topic5\", \"Topic6\", \"Topic6\", \"Topic6\", \"Topic6\", \"Topic6\", \"Topic6\", \"Topic6\", \"Topic6\", \"Topic6\", \"Topic6\", \"Topic6\", \"Topic6\", \"Topic6\", \"Topic6\", \"Topic6\", \"Topic6\", \"Topic6\", \"Topic6\", \"Topic6\", \"Topic6\", \"Topic6\", \"Topic6\", \"Topic6\", \"Topic6\", \"Topic6\", \"Topic6\", \"Topic6\", \"Topic6\", \"Topic6\", \"Topic6\", \"Topic6\", \"Topic6\", \"Topic6\", \"Topic6\", \"Topic6\", \"Topic6\", \"Topic6\", \"Topic6\", \"Topic6\", \"Topic6\", \"Topic6\", \"Topic6\", \"Topic6\", \"Topic6\", \"Topic6\", \"Topic6\", \"Topic6\", \"Topic6\", \"Topic6\", \"Topic6\", \"Topic6\", \"Topic6\", \"Topic6\", \"Topic6\", \"Topic6\", \"Topic6\", \"Topic6\", \"Topic6\", \"Topic6\", \"Topic6\"], \"logprob\": [30.0, 29.0, 28.0, 27.0, 26.0, 25.0, 24.0, 23.0, 22.0, 21.0, 20.0, 19.0, 18.0, 17.0, 16.0, 15.0, 14.0, 13.0, 12.0, 11.0, 10.0, 9.0, 8.0, 7.0, 6.0, 5.0, 4.0, 3.0, 2.0, 1.0, -3.5062, -3.5065, -3.721, -3.9957, -3.996, -4.3728, -4.3751, -4.3752, -4.3753, -4.3754, -4.3754, -4.3755, -4.3758, -4.9919, -4.9919, -4.9919, -4.9919, -4.9919, -4.9919, -4.9919, -4.9919, -4.9919, -4.9919, -4.9919, -4.9919, -4.9919, -4.9919, -4.9919, -4.9919, -4.9935, -4.3755, -4.3749, -3.9932, -4.3756, -3.9933, -4.3741, -3.9955, -4.3756, -4.3741, -3.9941, -4.3742, -4.9918, -4.2764, -4.2764, -4.2776, -4.2776, -4.278, -4.2783, -4.2799, -4.2764, -4.8955, -4.8955, -4.8955, -4.8955, -4.8955, -4.8955, -4.8955, -4.8955, -4.8955, -4.8955, -4.8955, -4.8955, -4.8955, -4.8955, -4.8955, -4.8976, -4.8977, -4.8979, -4.898, -4.898, -4.898, -4.8981, -3.6262, -3.0817, -4.2784, -4.279, -4.2783, -4.2786, -3.2313, -4.2777, -3.6237, -3.8975, -4.2773, -4.2779, -4.2767, -4.2774, -4.8928, -4.8935, -4.8941, -4.8942, -4.8944, -4.8945, -4.8946, -4.8955, -3.4791, -4.1284, -4.1342, -4.1341, -4.7449, -4.7449, -4.7449, -4.7449, -4.7449, -4.7449, -4.7455, -4.7455, -4.7456, -4.7456, -4.7457, -4.7457, -4.7458, -4.7459, -4.7501, -4.7503, -4.7507, -4.7507, -4.751, -4.7511, -4.7512, -4.7513, -4.752, -4.7521, -4.7523, -4.7522, -3.7468, -4.1331, -3.4713, -4.1252, -4.1299, -3.7366, -3.4641, -3.7451, -4.1271, -4.1216, -4.1155, -4.1334, -4.1268, -4.7395, -4.7424, -4.7426, -4.7426, -4.7434, -4.7447, -4.7449, -4.7449, -3.8912, -3.8913, -3.8918, -4.51, -4.5101, -4.5101, -4.5101, -4.5101, -4.5101, -4.5102, -4.5103, -4.5103, -4.5103, -4.5104, -4.5104, -4.5106, -4.5107, -4.5108, -4.5107, -4.5107, -4.5111, -4.5111, -4.5112, -4.5113, -3.512, -4.5106, -3.5113, -3.8913, -3.8918, -4.5101, -3.8913, -3.8914, -3.8914, -3.8899, -4.5097, -4.51, -4.5101, -4.5101, -4.5101, -4.5103, -4.5103, -4.5103, -4.5103, -3.8735, -3.8738, -3.8739, -3.8739, -3.8747, -3.875, -3.8751, -3.8776, -3.8747, -3.8741, -3.877, -3.875, -3.8758, -3.8828, -3.8863, -3.8912, -5.8136, -5.8136, -5.8136, -5.8136, -5.8136, -5.8136, -5.8136, -5.8136, -5.8136, -5.8136, -5.8136, -5.8136, -5.8136, -5.8136, -3.8929, -5.8136, -5.8136, -5.8136, -5.8136, -5.8136, -5.8107, -5.8109, -5.8116, -5.8118, -5.812, -5.812, -5.812, -5.8121, -5.8121, -5.8123, -5.8124, -5.8124, -5.8125, -5.4645, -5.4645, -5.4645, -5.4645, -5.4645, -5.4645, -5.4645, -5.4645, -5.4049, -5.4051, -5.4071, -5.4645, -5.4645, -5.4645, -5.4645, -5.4645, -5.4645, -5.4645, -5.4645, -5.4645, -5.4645, -5.4645, -5.4645, -5.4645, -5.4645, -5.4645, -5.4645, -5.4645, -5.4645, -5.4645, -5.4116, -5.4138, -5.415, -5.4155, -5.4167, -5.4171, -5.4175, -5.4224, -5.4229, -5.4235, -5.4244, -5.4266, -5.4267, -5.4292, -5.4305, -5.3654, -5.3668, -5.304, -5.3789, -5.365, -5.3968, -5.4248, -5.3941, -5.428, -5.428, -5.4322, -5.4336, -5.4084, -5.4108, -5.4289], \"loglift\": [30.0, 29.0, 28.0, 27.0, 26.0, 25.0, 24.0, 23.0, 22.0, 21.0, 20.0, 19.0, 18.0, 17.0, 16.0, 15.0, 14.0, 13.0, 12.0, 11.0, 10.0, 9.0, 8.0, 7.0, 6.0, 5.0, 4.0, 3.0, 2.0, 1.0, 1.074, 1.0737, 1.0526, 1.0181, 1.0177, 0.9573, 0.9552, 0.9551, 0.955, 0.9549, 0.9549, 0.9548, 0.9545, 0.8041, 0.8041, 0.8041, 0.8041, 0.8041, 0.8041, 0.8041, 0.8041, 0.8041, 0.8041, 0.8041, 0.8041, 0.8041, 0.8041, 0.8041, 0.8041, 0.8026, 0.662, 0.6482, 0.4818, 0.4787, 0.2315, 0.4467, -0.0842, 0.2496, 0.1987, -0.396, 0.0649, -0.3674, 1.0797, 1.0797, 1.0786, 1.0786, 1.0782, 1.0781, 1.0766, 0.9363, 0.9212, 0.9212, 0.9212, 0.9212, 0.9212, 0.9212, 0.9212, 0.9212, 0.9212, 0.9212, 0.9212, 0.9212, 0.9212, 0.9212, 0.9212, 0.9192, 0.9191, 0.9189, 0.9188, 0.9188, 0.9188, 0.9187, 0.8129, 0.7592, 0.8057, 0.7792, 0.7786, 0.7784, 0.3668, 0.649, 0.2876, 0.1832, 0.347, 0.3474, 0.2378, 0.1709, -0.0088, -0.2059, 0.129, 0.5199, 0.4487, -0.6697, 0.4486, 0.483, 1.3773, 1.2704, 1.269, 1.2689, 1.104, 1.104, 1.104, 1.104, 1.104, 1.104, 1.1034, 1.1033, 1.1033, 1.1033, 1.1032, 1.1031, 1.103, 1.1029, 1.102, 1.102, 1.1018, 1.1018, 1.1017, 1.1017, 1.1017, 1.1016, 1.1014, 1.1014, 1.1013, 1.1013, 1.0925, 0.9859, 0.3696, 0.7271, 0.6914, 0.3441, 0.134, 0.1662, 0.4973, 0.4511, 0.3328, 0.3417, 0.098, 0.1009, 0.634, 0.3568, 0.6338, 0.2941, 0.6184, 0.3133, 0.6181, 1.5844, 1.5843, 1.5838, 1.4002, 1.4001, 1.4001, 1.4001, 1.4001, 1.4001, 1.4, 1.3999, 1.3998, 1.3998, 1.3998, 1.3997, 1.3996, 1.3995, 1.3994, 1.3994, 1.3994, 1.3991, 1.399, 1.3989, 1.3988, 1.1757, 1.1619, 1.0031, 0.9927, 0.9626, 0.9272, 0.557, 0.3334, 0.1893, -0.2918, 0.6093, -0.5987, 0.8901, 0.8902, 0.9254, 0.9038, -0.0352, 0.5738, 0.5891, 2.3604, 2.3599, 2.3597, 2.3597, 2.3585, 2.358, 2.3579, 2.354, 1.7979, 1.7245, 1.7205, 1.3377, 1.0508, 0.6899, 0.562, 0.1894, 0.0966, 0.0966, 0.0965, 0.0965, 0.0965, 0.0965, 0.0965, 0.0965, 0.0965, 0.0965, 0.0965, 0.0965, 0.0965, 0.0965, -0.2948, 0.0965, 0.0965, 0.0965, 0.0965, 0.0965, -1.2305, -1.2306, -1.038, -0.7981, -0.4817, -0.7983, -1.9007, -0.4818, -0.7891, -0.7748, -0.4821, -0.4821, -1.1872, 0.7694, 0.7692, 0.7692, 0.7692, 0.7687, 0.7686, 0.7685, 0.7671, 0.4498, 0.4495, 0.4473, 0.4457, 0.4457, 0.4457, 0.4457, 0.4457, 0.4457, 0.4457, 0.4457, 0.4457, 0.4457, 0.4457, 0.4457, 0.4457, 0.4457, 0.4457, 0.4457, 0.4457, 0.4457, 0.4456, 0.4423, 0.4399, 0.4386, 0.4381, 0.4368, 0.4363, 0.4359, 0.4305, 0.43, 0.4293, 0.4283, 0.4259, 0.4258, 0.4231, 0.4216, 0.0378, 0.0363, -0.4475, -0.2599, -0.89, -0.5755, -0.0461, -0.8214, -0.0494, -0.0492, -0.0538, -0.0348, -1.5675, -1.4995, -0.5449]}, \"token.table\": {\"Topic\": [3, 3, 1, 3, 3, 1, 4, 1, 3, 4, 2, 4, 1, 2, 3, 1, 4, 2, 4, 3, 2, 4, 2, 2, 3, 1, 4, 4, 3, 2, 3, 4, 2, 3, 1, 2, 3, 2, 3, 4, 2, 2, 4, 1, 2, 4, 4, 1, 1, 2, 4, 2, 1, 4, 3, 1, 4, 4, 4, 2, 3, 3, 3, 1, 3, 4, 3, 2, 2, 3, 3, 1, 1, 2, 3, 2, 3, 3, 1, 2, 3, 4, 1, 2, 3, 4, 1, 2, 3, 4, 1, 2, 1, 1, 1, 2, 3, 4, 1, 1, 2, 3, 4, 1, 2, 1, 3, 2, 1, 4, 3, 3, 2, 2, 3, 4, 3, 2, 3, 3, 1, 2, 1, 2, 4, 4, 1, 2, 1, 2, 4, 3, 1, 3, 1, 3, 4, 1, 4, 2, 1, 3, 3, 1, 4, 2, 3, 4, 1, 3, 3, 2, 3, 1, 3, 4, 2, 2, 3, 2, 2, 2, 4, 1, 2, 3, 1, 3, 3, 2, 3, 2, 3, 2, 1, 1, 1, 2, 4, 1, 4, 4, 4, 1, 3, 2, 4, 1, 3, 4, 2, 1, 4, 2, 4, 1, 3, 3, 1, 2, 4, 1, 1, 2, 3, 2, 3, 4, 2, 3, 4, 3, 2, 4, 3, 2, 3, 3, 2, 2, 3, 1, 1, 2, 4, 2, 3, 4, 2, 2, 1, 3, 2, 1], \"Freq\": [1.0309616292684747, 0.8123182647173923, 0.7668789078885799, 0.8084983060671719, 1.035470596832982, 0.766878398474209, 0.8596041141107514, 0.298451154386804, 0.596902308773608, 0.298451154386804, 0.9879924852418912, 0.8595948973624923, 0.2893428033040854, 0.2893428033040854, 0.5786856066081708, 0.5162747018286594, 0.5162747018286594, 0.7829852007764062, 0.8596024550760125, 0.8116750076216944, 0.7829120584217066, 0.5566396742664245, 0.7829121896386625, 0.782914108169218, 0.81318070607291, 0.766879559975121, 0.8595774949135939, 0.8596052232335347, 0.8084762622817093, 0.629484908081739, 0.8116033471281918, 0.8596124916002719, 0.7829859484167466, 0.81299559894736, 0.3214777590632535, 0.642955518126507, 0.8084656290922649, 0.3080589948847341, 0.3080589948847341, 0.3080589948847341, 0.782912040559771, 0.78291213350028, 0.8595685260526365, 0.7668781953609426, 0.9879435169123759, 0.8596035148496878, 0.8595992442633006, 0.8276067099878636, 0.21289155018430359, 0.42578310036860717, 0.42578310036860717, 0.9880116836263241, 0.5980968935409773, 0.29904844677048864, 0.8111218447570322, 0.9093927363953255, 0.8596049825770349, 0.8595714741003306, 0.5566316862005768, 0.5052568447963155, 0.5052568447963155, 0.8990730390500112, 0.8084986723126497, 0.7668787127787965, 0.5357090116645904, 0.5357090116645904, 0.8123549478052235, 0.7829838700853209, 0.782912299508839, 0.8084716614890091, 0.8084757274677027, 0.766879025862408, 0.7668793434016359, 0.7324723329601486, 0.3662361664800743, 0.7324350102571701, 0.36621750512858503, 0.8112297824621909, 0.29491526085502223, 0.29491526085502223, 0.29491526085502223, 0.29491526085502223, 0.3186886224105681, 0.15934431120528406, 0.3186886224105681, 0.15934431120528406, 0.13795768145548054, 0.2759153629109611, 0.2759153629109611, 0.13795768145548054, 0.48757670925294805, 0.48757670925294805, 0.7668797339866587, 0.7668790090167079, 0.17029204517720103, 0.42573011294300256, 0.2554380677658015, 0.08514602258860052, 0.766878983821917, 0.23293370209325245, 0.34940055313987867, 0.23293370209325245, 0.11646685104662623, 0.962697181036759, 0.7829151721063683, 0.7183427187139566, 0.3591713593569783, 0.9882503809083569, 0.766878556972504, 0.8596001873007668, 0.8084786154406577, 0.8114330749130382, 0.6288328344721843, 0.38211199353347625, 0.38211199353347625, 0.38211199353347625, 0.8114261515184411, 0.5050441949370044, 0.5050441949370044, 0.8084732271219386, 0.9627229538651071, 0.7829119820769693, 0.7080659730678222, 0.3540329865339111, 0.8595044369276489, 0.8596116283290787, 0.3948582870066409, 0.5922874305099614, 0.5784027583110771, 0.28920137915553856, 0.28920137915553856, 1.0353752392986915, 0.7669537400592576, 0.8124478558937657, 0.9094174616499678, 0.5347459328178367, 0.5347459328178367, 0.9627107112411878, 0.8595843171894922, 0.7829138830548743, 0.7014684103047872, 0.8117621617145512, 0.8084981031700539, 0.9625477065970623, 0.859541576108065, 0.5040718921079528, 0.5040718921079528, 0.8595390709795726, 0.7014702054853352, 0.8126288194938677, 0.8121874300797703, 0.505234681239407, 0.505234681239407, 0.4093274761478634, 0.4093274761478634, 0.2046637380739317, 0.7829771020197557, 0.2946065626017755, 0.589213125203551, 0.782983356873648, 0.7829119576953102, 0.8559486874174494, 0.8595643518431053, 0.962734780783662, 0.782973192704095, 0.8131532038340872, 0.9626820518115881, 0.8121593444729606, 0.8084978668764102, 0.7333275866364036, 0.3666637933182018, 0.5040690867065913, 0.5040690867065913, 0.7829121052994255, 0.7668794412230691, 0.7668789640855748, 0.47566354686774454, 0.47566354686774454, 0.23783177343387227, 0.9627242495252387, 0.8595808464219309, 0.8595806221893679, 0.6778175070023859, 0.4973472924144144, 0.4973472924144144, 0.9879951237364326, 0.8595734485124487, 0.4513098043967919, 0.4513098043967919, 0.22565490219839596, 0.7829119088653489, 0.5162255563913889, 0.5162255563913889, 0.523435277737197, 0.523435277737197, 0.7668790722398166, 0.8084985771147306, 0.8084982496872333, 0.2531439270683608, 0.2531439270683608, 0.5062878541367216, 0.766878981912445, 0.23760601721899655, 0.4752120344379931, 0.4752120344379931, 0.39852087917929263, 0.39852087917929263, 0.19926043958964632, 0.9881714983282597, 0.7793162863162563, 0.38965814315812813, 0.8084796402583847, 0.7526301773845182, 0.3763150886922591, 0.811729468525951, 0.7829120992290922, 0.8122234284271879, 0.8084698225703781, 0.7829122450405999, 0.5051387593739686, 0.5051387593739686, 0.9627304395024208, 0.487588091158125, 0.487588091158125, 0.5566284275148775, 0.5427209990324763, 0.32563259941948575, 0.10854419980649525, 0.7829125517780348, 0.9879435286088926, 0.49737574793078165, 0.49737574793078165, 0.7829881991563777, 0.7668789171696516], \"Term\": [\"able\", \"account\", \"action\", \"additional\", \"address\", \"adequate\", \"advice\", \"advisor\", \"advisor\", \"advisor\", \"agent\", \"ago\", \"also\", \"also\", \"also\", \"always\", \"always\", \"answer\", \"app\", \"appreciate\", \"aramex\", \"ariane\", \"arrange\", \"ask\", \"assist\", \"assistan\", \"assure\", \"available\", \"back\", \"busy\", \"cancel\", \"care\", \"certain\", \"chase\", \"chat\", \"chat\", \"check\", \"clear\", \"clear\", \"clear\", \"client\", \"collection\", \"company\", \"concern\", \"confuse\", \"contact\", \"correct\", \"courier\", \"customer\", \"customer\", \"customer\", \"date\", \"day\", \"day\", \"deal\", \"delivery\", \"detail\", \"early\", \"easy\", \"efficient\", \"efficient\", \"email\", \"end\", \"eventually\", \"excellent\", \"excellent\", \"explain\", \"fast\", \"fault\", \"finally\", \"fob\", \"follow\", \"frustrating\", \"get\", \"get\", \"give\", \"give\", \"glad\", \"great\", \"great\", \"great\", \"great\", \"help\", \"help\", \"help\", \"help\", \"helpful\", \"helpful\", \"helpful\", \"helpful\", \"honest\", \"honest\", \"hope\", \"however\", \"information\", \"information\", \"information\", \"information\", \"initially\", \"issue\", \"issue\", \"issue\", \"issue\", \"item\", \"jay\", \"just\", \"just\", \"know\", \"last\", \"learn\", \"lie\", \"locate\", \"long\", \"lot\", \"lot\", \"lot\", \"m\", \"make\", \"make\", \"manager\", \"miss\", \"mistake\", \"more\", \"more\", \"navigate\", \"necessary\", \"need\", \"need\", \"next\", \"next\", \"next\", \"number\", \"occasion\", \"one\", \"order\", \"other\", \"other\", \"parcel\", \"past\", \"paulene\", \"pay\", \"people\", \"perfectly\", \"person\", \"point\", \"polite\", \"polite\", \"prakash\", \"premier\", \"previously\", \"prior\", \"problem\", \"problem\", \"provide\", \"provide\", \"provide\", \"query\", \"quick\", \"quick\", \"quickly\", \"reality\", \"really\", \"reassure\", \"recently\", \"rectify\", \"refund\", \"reliable\", \"remember\", \"request\", \"resolve\", \"resolve\", \"response\", \"response\", \"return\", \"separate\", \"seriously\", \"service\", \"service\", \"service\", \"shop\", \"similar\", \"slight\", \"so\", \"solution\", \"solution\", \"solve\", \"sort\", \"speak\", \"speak\", \"speak\", \"specific\", \"step\", \"step\", \"straight\", \"straight\", \"stupid\", \"suit\", \"supply\", \"support\", \"support\", \"support\", \"take\", \"tell\", \"tell\", \"tell\", \"thank\", \"thank\", \"thank\", \"time\", \"today\", \"today\", \"tomorrow\", \"too\", \"too\", \"tracking\", \"true\", \"unable\", \"understand\", \"unfortunate\", \"unfortunately\", \"unfortunately\", \"update\", \"use\", \"use\", \"ve\", \"very\", \"very\", \"very\", \"waste\", \"website\", \"week\", \"week\", \"well\", \"wrong\"]}, \"R\": 30, \"lambda.step\": 0.01, \"plot.opts\": {\"xlab\": \"PC1\", \"ylab\": \"PC2\"}, \"topic.order\": [3, 6, 4, 5, 2, 1]};\n",
       "\n",
       "function LDAvis_load_lib(url, callback){\n",
       "  var s = document.createElement('script');\n",
       "  s.src = url;\n",
       "  s.async = true;\n",
       "  s.onreadystatechange = s.onload = callback;\n",
       "  s.onerror = function(){console.warn(\"failed to load library \" + url);};\n",
       "  document.getElementsByTagName(\"head\")[0].appendChild(s);\n",
       "}\n",
       "\n",
       "if(typeof(LDAvis) !== \"undefined\"){\n",
       "   // already loaded: just create the visualization\n",
       "   !function(LDAvis){\n",
       "       new LDAvis(\"#\" + \"ldavis_el1983621285310331044918656240\", ldavis_el1983621285310331044918656240_data);\n",
       "   }(LDAvis);\n",
       "}else if(typeof define === \"function\" && define.amd){\n",
       "   // require.js is available: use it to load d3/LDAvis\n",
       "   require.config({paths: {d3: \"https://d3js.org/d3.v5\"}});\n",
       "   require([\"d3\"], function(d3){\n",
       "      window.d3 = d3;\n",
       "      LDAvis_load_lib(\"https://cdn.jsdelivr.net/gh/bmabey/pyLDAvis@3.3.1/pyLDAvis/js/ldavis.v3.0.0.js\", function(){\n",
       "        new LDAvis(\"#\" + \"ldavis_el1983621285310331044918656240\", ldavis_el1983621285310331044918656240_data);\n",
       "      });\n",
       "    });\n",
       "}else{\n",
       "    // require.js not available: dynamically load d3 & LDAvis\n",
       "    LDAvis_load_lib(\"https://d3js.org/d3.v5.js\", function(){\n",
       "         LDAvis_load_lib(\"https://cdn.jsdelivr.net/gh/bmabey/pyLDAvis@3.3.1/pyLDAvis/js/ldavis.v3.0.0.js\", function(){\n",
       "                 new LDAvis(\"#\" + \"ldavis_el1983621285310331044918656240\", ldavis_el1983621285310331044918656240_data);\n",
       "            })\n",
       "         });\n",
       "}\n",
       "</script>"
      ],
      "text/plain": [
       "PreparedData(topic_coordinates=              x         y  topics  cluster       Freq\n",
       "topic                                                \n",
       "2      0.163351  0.021616       1        1  30.979178\n",
       "5     -0.100068  0.104098       2        1  27.161701\n",
       "3     -0.081317 -0.080757       3        1  22.100117\n",
       "4     -0.002593 -0.066844       4        1  15.635427\n",
       "1      0.003560  0.016871       5        1   4.016985\n",
       "0      0.017066  0.005016       6        1   0.106592, topic_info=         Term      Freq     Total Category  logprob  loglift\n",
       "19       very  9.000000  9.000000  Default  30.0000  30.0000\n",
       "146     email  3.000000  3.000000  Default  29.0000  29.0000\n",
       "76   delivery  4.000000  4.000000  Default  28.0000  28.0000\n",
       "103     order  4.000000  4.000000  Default  27.0000  27.0000\n",
       "37      thank  5.000000  5.000000  Default  26.0000  26.0000\n",
       "..        ...       ...       ...      ...      ...      ...\n",
       "45       make  0.002000  1.980025   Topic6  -5.4322  -0.0538\n",
       "138      able  0.001997  1.939936   Topic6  -5.4336  -0.0348\n",
       "19       very  0.002048  9.212837   Topic6  -5.4084  -1.5675\n",
       "11      issue  0.002043  8.586134   Topic6  -5.4108  -1.4995\n",
       "22      clear  0.002007  3.246131   Topic6  -5.4289  -0.5449\n",
       "\n",
       "[327 rows x 6 columns], token_table=      Topic      Freq        Term\n",
       "term                             \n",
       "138       3  1.030962        able\n",
       "139       3  0.812318     account\n",
       "164       1  0.766879      action\n",
       "180       3  0.808498  additional\n",
       "140       3  1.035471     address\n",
       "...     ...       ...         ...\n",
       "233       2  0.987944     website\n",
       "126       1  0.497376        week\n",
       "126       3  0.497376        week\n",
       "50        2  0.782988        well\n",
       "179       1  0.766879       wrong\n",
       "\n",
       "[234 rows x 3 columns], R=30, lambda_step=0.01, plot_opts={'xlab': 'PC1', 'ylab': 'PC2'}, topic_order=[3, 6, 4, 5, 2, 1])"
      ]
     },
     "execution_count": 42,
     "metadata": {},
     "output_type": "execute_result"
    }
   ],
   "source": [
    "lda_model1, corpus, id2word, texts = lda_model(asos_website)\n",
    "\n",
    "# Visualize the topics\n",
    "pyLDAvis.enable_notebook()\n",
    "vis = pyLDAvis.gensim_models.prepare(lda_model1, corpus, id2word)\n",
    "vis"
   ]
  },
  {
   "cell_type": "code",
   "execution_count": 48,
   "metadata": {},
   "outputs": [],
   "source": [
    "# This code was adapted from https://www.kaggle.com/code/ahmedterry/disneyland-reviews-nlp-sentiment-analysis\n",
    "\n",
    "review = asos_df['Review_Text'].drop_duplicates()\n",
    "all_sentences = []\n",
    "\n",
    "for word in review:\n",
    "    all_sentences.append(word)\n",
    "\n",
    "lines = list()\n",
    "for line in all_sentences:    \n",
    "    words = line.split()\n",
    "    for w in words: \n",
    "       lines.append(w)\n",
    "#== \n",
    "\n",
    "lines = [re.sub(r'[^A-Za-z0-9]+', '', x) for x in lines]\n",
    "\n",
    "lines2 = []\n",
    "\n",
    "for word in lines:\n",
    "    if word != '':\n",
    "        lines2.append(word)\n",
    "#== \n",
    "from nltk.stem.snowball import SnowballStemmer\n",
    "s_stemmer = SnowballStemmer(language='english')\n",
    "\n",
    "stem = []\n",
    "for word in lines2:\n",
    "    stem.append(s_stemmer.stem(word))\n",
    "#== \n",
    "import spacy\n",
    "nlp = spacy.load('en_core_web_lg')\n",
    "stem2 = []\n",
    "\n",
    "for word in stem:\n",
    "    if word not in nlp.Defaults.stop_words:\n",
    "        stem2.append(word)\n",
    "#== \n",
    "df = pd.DataFrame(stem2)\n",
    "df = df[0].value_counts()\n",
    "#== \n",
    "df = df[:20,]\n",
    "#== \n",
    "nlp = en_core_web_sm.load()\n",
    "#====== \n",
    "def show_ents(doc):\n",
    "    if doc.ents:\n",
    "        for ent in doc.ents:\n",
    "            print(ent.text + ' - ' + ent.label_ + ' - ' + str(spacy.explain(ent.label_)))\n",
    "#======\n",
    "nlp = spacy.load('en_core_web_sm') \n",
    "nlp.max_length = 2000000000000\n",
    "#=====\n",
    "str1 = \" \" \n",
    "stem2 = str1.join(lines2)\n",
    "\n",
    "stem2 = nlp(stem2)\n",
    "\n",
    "label = [(X.text, X.label_) for X in stem2.ents]\n",
    "\n",
    "df6 = pd.DataFrame(label, columns = ['Word','Entity'])"
   ]
  },
  {
   "cell_type": "code",
   "execution_count": 49,
   "metadata": {},
   "outputs": [
    {
     "name": "stderr",
     "output_type": "stream",
     "text": [
      "e:\\ProgramsInstalled\\Anaconda\\lib\\site-packages\\plotly\\io\\_renderers.py:395: DeprecationWarning:\n",
      "\n",
      "distutils Version classes are deprecated. Use packaging.version instead.\n",
      "\n",
      "e:\\ProgramsInstalled\\Anaconda\\lib\\site-packages\\plotly\\io\\_renderers.py:395: DeprecationWarning:\n",
      "\n",
      "distutils Version classes are deprecated. Use packaging.version instead.\n",
      "\n"
     ]
    },
    {
     "data": {
      "application/vnd.plotly.v1+json": {
       "config": {
        "plotlyServerURL": "https://plot.ly"
       },
       "data": [
        {
         "branchvalues": "total",
         "customdata": [
          [
           6
          ],
          [
           1
          ],
          [
           8
          ],
          [
           2
          ],
          [
           1
          ],
          [
           1
          ],
          [
           8
          ],
          [
           3
          ],
          [
           6
          ],
          [
           2
          ],
          [
           1
          ],
          [
           6
          ],
          [
           2
          ],
          [
           2
          ],
          [
           1
          ],
          [
           4
          ],
          [
           2
          ],
          [
           11
          ],
          [
           3
          ],
          [
           1
          ],
          [
           3
          ],
          [
           2
          ],
          [
           2
          ],
          [
           2
          ],
          [
           4
          ],
          [
           3
          ],
          [
           4
          ],
          [
           7
          ],
          [
           7
          ],
          [
           3
          ],
          [
           2
          ],
          [
           8
          ],
          [
           51
          ],
          [
           89
          ],
          [
           1
          ],
          [
           1
          ],
          [
           1
          ],
          [
           1
          ],
          [
           7
          ],
          [
           1
          ],
          [
           1
          ],
          [
           10
          ],
          [
           17
          ],
          [
           4
          ],
          [
           4
          ],
          [
           1
          ],
          [
           2
          ],
          [
           5
          ],
          [
           1
          ],
          [
           1
          ],
          [
           6
          ],
          [
           26
          ],
          [
           1
          ],
          [
           1
          ],
          [
           4
          ],
          [
           1
          ],
          [
           1
          ],
          [
           27
          ],
          [
           1
          ],
          [
           2
          ],
          [
           5
          ],
          [
           3
          ],
          [
           8
          ],
          [
           4
          ],
          [
           4
          ],
          [
           1
          ],
          [
           1
          ],
          [
           7
          ],
          [
           6
          ],
          [
           1
          ],
          [
           23
          ],
          [
           1
          ],
          [
           3
          ],
          [
           2
          ],
          [
           1
          ],
          [
           1
          ],
          [
           8
          ],
          [
           1
          ],
          [
           2
          ],
          [
           9
          ],
          [
           1
          ],
          [
           5
          ],
          [
           3
          ],
          [
           1
          ],
          [
           7
          ],
          [
           7
          ],
          [
           1
          ],
          [
           1
          ],
          [
           5
          ],
          [
           9
          ],
          [
           1
          ],
          [
           8
          ],
          [
           1
          ],
          [
           15
          ],
          [
           2
          ],
          [
           5
          ],
          [
           12
          ],
          [
           3
          ],
          [
           3
          ],
          [
           2
          ],
          [
           6
          ],
          [
           2
          ],
          [
           1
          ],
          [
           3
          ],
          [
           1
          ],
          [
           1
          ],
          [
           2
          ],
          [
           3
          ],
          [
           11
          ],
          [
           1
          ],
          [
           1
          ],
          [
           5
          ],
          [
           1
          ],
          [
           2
          ],
          [
           1
          ],
          [
           41
          ],
          [
           6
          ],
          [
           1
          ],
          [
           3
          ],
          [
           2
          ],
          [
           67
          ],
          [
           89
          ],
          [
           11
          ],
          [
           42
          ],
          [
           2
          ],
          [
           11
          ],
          [
           23
          ],
          [
           44
          ],
          [
           118
          ],
          [
           1
          ],
          [
           191
          ],
          [
           19
          ],
          [
           1
          ],
          [
           26
          ],
          [
           18
          ]
         ],
         "domain": {
          "x": [
           0,
           1
          ],
          "y": [
           0,
           1
          ]
         },
         "hovertemplate": "labels=%{label}<br>count=%{customdata[0]}<br>parent=%{parent}<br>id=%{id}<extra></extra>",
         "ids": [
          "CARDINAL/10",
          "PERCENT/100 percent",
          "DATE/1010",
          "CARDINAL/15",
          "ORDINAL/16th",
          "ORDINAL/1st",
          "CARDINAL/2",
          "DATE/2 weeks",
          "CARDINAL/20",
          "TIME/24 hours",
          "ORDINAL/2nd",
          "CARDINAL/3",
          "TIME/30 minutes",
          "ORDINAL/30th",
          "ORDINAL/3rd",
          "CARDINAL/4",
          "TIME/48 hours",
          "CARDINAL/5",
          "TIME/5 minutes",
          "QUANTITY/510 minutes",
          "CARDINAL/5star",
          "ORDINAL/9th",
          "TIME/a couple of minutes",
          "TIME/a few minutes",
          "TIME/a matter of minutes",
          "ORG/alfi",
          "ORG/alfie",
          "PERSON/alliah",
          "ORG/amazing",
          "GPE/angelu",
          "FAC/asos",
          "GPE/asos",
          "ORG/asos",
          "PERSON/asos",
          "FAC/asos great",
          "WORK_OF_ART/asos love",
          "FAC/asos paulynjane",
          "FAC/asos very",
          "PERSON/bernadette",
          "FAC/beryl very",
          "LOC/bhumika sent",
          "DATE/christmas",
          "ORG/customer",
          "ORG/customer service",
          "DATE/days",
          "LOC/east",
          "LANGUAGE/english",
          "PRODUCT/eunice",
          "PRODUCT/eunice aasma",
          "LOC/europe",
          "ORG/evri",
          "PERSON/evri",
          "PRODUCT/evri",
          "FAC/evri super",
          "NORP/fantastic",
          "LOC/fantastic farhannah",
          "PRODUCT/fastway couriers",
          "ORDINAL/first",
          "ORDINAL/fourth",
          "NORP/francisdominic",
          "DATE/friday",
          "GPE/gerome",
          "PERSON/gladys",
          "LOC/great",
          "GPE/great customer",
          "FAC/great great",
          "WORK_OF_ART/great thank you",
          "NORP/helpful",
          "GPE/janus",
          "NORP/janus",
          "PERSON/john",
          "PRODUCT/johnpaul",
          "GPE/jonnalyn",
          "PRODUCT/jucel",
          "FAC/kissey kissey great",
          "NORP/krish",
          "PERSON/kyla",
          "WORK_OF_ART/lamodas",
          "TIME/less than 10 minutes",
          "WORK_OF_ART/love",
          "WORK_OF_ART/love love",
          "GPE/maicah",
          "PRODUCT/malveeka",
          "LOC/malveeka veeru",
          "PERSON/mary",
          "PERSON/mazen",
          "LOC/mazon",
          "NORP/minimal",
          "TIME/minutes",
          "PERSON/nelson",
          "PRODUCT/nelynjean",
          "DATE/next day",
          "WORK_OF_ART/often bad",
          "CARDINAL/one",
          "WORK_OF_ART/online",
          "GPE/quick",
          "ORG/quick",
          "ORG/raevyn",
          "NORP/rahul",
          "GPE/sai",
          "ORDINAL/second",
          "TIME/seconds",
          "NORP/shazia",
          "GPE/shilpa",
          "NORP/showed",
          "LOC/sonam",
          "NORP/spoke",
          "DATE/sunday",
          "ORG/super",
          "WORK_OF_ART/thanks cayce personally",
          "WORK_OF_ART/thanks paulene they",
          "DATE/the next day",
          "FAC/the ordinary shipping to sweden",
          "ORDINAL/third",
          "FAC/thnx very",
          "DATE/today",
          "CARDINAL/two",
          "PRODUCT/understood",
          "PRODUCT/vergel",
          "DATE/yesterday",
          "CARDINAL",
          "DATE",
          "FAC",
          "GPE",
          "LANGUAGE",
          "LOC",
          "NORP",
          "ORDINAL",
          "ORG",
          "PERCENT",
          "PERSON",
          "PRODUCT",
          "QUANTITY",
          "TIME",
          "WORK_OF_ART"
         ],
         "labels": [
          "10",
          "100 percent",
          "1010",
          "15",
          "16th",
          "1st",
          "2",
          "2 weeks",
          "20",
          "24 hours",
          "2nd",
          "3",
          "30 minutes",
          "30th",
          "3rd",
          "4",
          "48 hours",
          "5",
          "5 minutes",
          "510 minutes",
          "5star",
          "9th",
          "a couple of minutes",
          "a few minutes",
          "a matter of minutes",
          "alfi",
          "alfie",
          "alliah",
          "amazing",
          "angelu",
          "asos",
          "asos",
          "asos",
          "asos",
          "asos great",
          "asos love",
          "asos paulynjane",
          "asos very",
          "bernadette",
          "beryl very",
          "bhumika sent",
          "christmas",
          "customer",
          "customer service",
          "days",
          "east",
          "english",
          "eunice",
          "eunice aasma",
          "europe",
          "evri",
          "evri",
          "evri",
          "evri super",
          "fantastic",
          "fantastic farhannah",
          "fastway couriers",
          "first",
          "fourth",
          "francisdominic",
          "friday",
          "gerome",
          "gladys",
          "great",
          "great customer",
          "great great",
          "great thank you",
          "helpful",
          "janus",
          "janus",
          "john",
          "johnpaul",
          "jonnalyn",
          "jucel",
          "kissey kissey great",
          "krish",
          "kyla",
          "lamodas",
          "less than 10 minutes",
          "love",
          "love love",
          "maicah",
          "malveeka",
          "malveeka veeru",
          "mary",
          "mazen",
          "mazon",
          "minimal",
          "minutes",
          "nelson",
          "nelynjean",
          "next day",
          "often bad",
          "one",
          "online",
          "quick",
          "quick",
          "raevyn",
          "rahul",
          "sai",
          "second",
          "seconds",
          "shazia",
          "shilpa",
          "showed",
          "sonam",
          "spoke",
          "sunday",
          "super",
          "thanks cayce personally",
          "thanks paulene they",
          "the next day",
          "the ordinary shipping to sweden",
          "third",
          "thnx very",
          "today",
          "two",
          "understood",
          "vergel",
          "yesterday",
          "CARDINAL",
          "DATE",
          "FAC",
          "GPE",
          "LANGUAGE",
          "LOC",
          "NORP",
          "ORDINAL",
          "ORG",
          "PERCENT",
          "PERSON",
          "PRODUCT",
          "QUANTITY",
          "TIME",
          "WORK_OF_ART"
         ],
         "name": "",
         "parents": [
          "CARDINAL",
          "PERCENT",
          "DATE",
          "CARDINAL",
          "ORDINAL",
          "ORDINAL",
          "CARDINAL",
          "DATE",
          "CARDINAL",
          "TIME",
          "ORDINAL",
          "CARDINAL",
          "TIME",
          "ORDINAL",
          "ORDINAL",
          "CARDINAL",
          "TIME",
          "CARDINAL",
          "TIME",
          "QUANTITY",
          "CARDINAL",
          "ORDINAL",
          "TIME",
          "TIME",
          "TIME",
          "ORG",
          "ORG",
          "PERSON",
          "ORG",
          "GPE",
          "FAC",
          "GPE",
          "ORG",
          "PERSON",
          "FAC",
          "WORK_OF_ART",
          "FAC",
          "FAC",
          "PERSON",
          "FAC",
          "LOC",
          "DATE",
          "ORG",
          "ORG",
          "DATE",
          "LOC",
          "LANGUAGE",
          "PRODUCT",
          "PRODUCT",
          "LOC",
          "ORG",
          "PERSON",
          "PRODUCT",
          "FAC",
          "NORP",
          "LOC",
          "PRODUCT",
          "ORDINAL",
          "ORDINAL",
          "NORP",
          "DATE",
          "GPE",
          "PERSON",
          "LOC",
          "GPE",
          "FAC",
          "WORK_OF_ART",
          "NORP",
          "GPE",
          "NORP",
          "PERSON",
          "PRODUCT",
          "GPE",
          "PRODUCT",
          "FAC",
          "NORP",
          "PERSON",
          "WORK_OF_ART",
          "TIME",
          "WORK_OF_ART",
          "WORK_OF_ART",
          "GPE",
          "PRODUCT",
          "LOC",
          "PERSON",
          "PERSON",
          "LOC",
          "NORP",
          "TIME",
          "PERSON",
          "PRODUCT",
          "DATE",
          "WORK_OF_ART",
          "CARDINAL",
          "WORK_OF_ART",
          "GPE",
          "ORG",
          "ORG",
          "NORP",
          "GPE",
          "ORDINAL",
          "TIME",
          "NORP",
          "GPE",
          "NORP",
          "LOC",
          "NORP",
          "DATE",
          "ORG",
          "WORK_OF_ART",
          "WORK_OF_ART",
          "DATE",
          "FAC",
          "ORDINAL",
          "FAC",
          "DATE",
          "CARDINAL",
          "PRODUCT",
          "PRODUCT",
          "DATE",
          "",
          "",
          "",
          "",
          "",
          "",
          "",
          "",
          "",
          "",
          "",
          "",
          "",
          "",
          ""
         ],
         "type": "treemap",
         "values": [
          6,
          1,
          8,
          2,
          1,
          1,
          8,
          3,
          6,
          2,
          1,
          6,
          2,
          2,
          1,
          4,
          2,
          11,
          3,
          1,
          3,
          2,
          2,
          2,
          4,
          3,
          4,
          7,
          7,
          3,
          2,
          8,
          51,
          89,
          1,
          1,
          1,
          1,
          7,
          1,
          1,
          10,
          17,
          4,
          4,
          1,
          2,
          5,
          1,
          1,
          6,
          26,
          1,
          1,
          4,
          1,
          1,
          27,
          1,
          2,
          5,
          3,
          8,
          4,
          4,
          1,
          1,
          7,
          6,
          1,
          23,
          1,
          3,
          2,
          1,
          1,
          8,
          1,
          2,
          9,
          1,
          5,
          3,
          1,
          7,
          7,
          1,
          1,
          5,
          9,
          1,
          8,
          1,
          15,
          2,
          5,
          12,
          3,
          3,
          2,
          6,
          2,
          1,
          3,
          1,
          1,
          2,
          3,
          11,
          1,
          1,
          5,
          1,
          2,
          1,
          41,
          6,
          1,
          3,
          2,
          67,
          89,
          11,
          42,
          2,
          11,
          23,
          44,
          118,
          1,
          191,
          19,
          1,
          26,
          18
         ]
        }
       ],
       "layout": {
        "height": 800,
        "legend": {
         "tracegroupgap": 0
        },
        "template": {
         "data": {
          "bar": [
           {
            "error_x": {
             "color": "#2a3f5f"
            },
            "error_y": {
             "color": "#2a3f5f"
            },
            "marker": {
             "line": {
              "color": "#E5ECF6",
              "width": 0.5
             },
             "pattern": {
              "fillmode": "overlay",
              "size": 10,
              "solidity": 0.2
             }
            },
            "type": "bar"
           }
          ],
          "barpolar": [
           {
            "marker": {
             "line": {
              "color": "#E5ECF6",
              "width": 0.5
             },
             "pattern": {
              "fillmode": "overlay",
              "size": 10,
              "solidity": 0.2
             }
            },
            "type": "barpolar"
           }
          ],
          "carpet": [
           {
            "aaxis": {
             "endlinecolor": "#2a3f5f",
             "gridcolor": "white",
             "linecolor": "white",
             "minorgridcolor": "white",
             "startlinecolor": "#2a3f5f"
            },
            "baxis": {
             "endlinecolor": "#2a3f5f",
             "gridcolor": "white",
             "linecolor": "white",
             "minorgridcolor": "white",
             "startlinecolor": "#2a3f5f"
            },
            "type": "carpet"
           }
          ],
          "choropleth": [
           {
            "colorbar": {
             "outlinewidth": 0,
             "ticks": ""
            },
            "type": "choropleth"
           }
          ],
          "contour": [
           {
            "colorbar": {
             "outlinewidth": 0,
             "ticks": ""
            },
            "colorscale": [
             [
              0,
              "#0d0887"
             ],
             [
              0.1111111111111111,
              "#46039f"
             ],
             [
              0.2222222222222222,
              "#7201a8"
             ],
             [
              0.3333333333333333,
              "#9c179e"
             ],
             [
              0.4444444444444444,
              "#bd3786"
             ],
             [
              0.5555555555555556,
              "#d8576b"
             ],
             [
              0.6666666666666666,
              "#ed7953"
             ],
             [
              0.7777777777777778,
              "#fb9f3a"
             ],
             [
              0.8888888888888888,
              "#fdca26"
             ],
             [
              1,
              "#f0f921"
             ]
            ],
            "type": "contour"
           }
          ],
          "contourcarpet": [
           {
            "colorbar": {
             "outlinewidth": 0,
             "ticks": ""
            },
            "type": "contourcarpet"
           }
          ],
          "heatmap": [
           {
            "colorbar": {
             "outlinewidth": 0,
             "ticks": ""
            },
            "colorscale": [
             [
              0,
              "#0d0887"
             ],
             [
              0.1111111111111111,
              "#46039f"
             ],
             [
              0.2222222222222222,
              "#7201a8"
             ],
             [
              0.3333333333333333,
              "#9c179e"
             ],
             [
              0.4444444444444444,
              "#bd3786"
             ],
             [
              0.5555555555555556,
              "#d8576b"
             ],
             [
              0.6666666666666666,
              "#ed7953"
             ],
             [
              0.7777777777777778,
              "#fb9f3a"
             ],
             [
              0.8888888888888888,
              "#fdca26"
             ],
             [
              1,
              "#f0f921"
             ]
            ],
            "type": "heatmap"
           }
          ],
          "heatmapgl": [
           {
            "colorbar": {
             "outlinewidth": 0,
             "ticks": ""
            },
            "colorscale": [
             [
              0,
              "#0d0887"
             ],
             [
              0.1111111111111111,
              "#46039f"
             ],
             [
              0.2222222222222222,
              "#7201a8"
             ],
             [
              0.3333333333333333,
              "#9c179e"
             ],
             [
              0.4444444444444444,
              "#bd3786"
             ],
             [
              0.5555555555555556,
              "#d8576b"
             ],
             [
              0.6666666666666666,
              "#ed7953"
             ],
             [
              0.7777777777777778,
              "#fb9f3a"
             ],
             [
              0.8888888888888888,
              "#fdca26"
             ],
             [
              1,
              "#f0f921"
             ]
            ],
            "type": "heatmapgl"
           }
          ],
          "histogram": [
           {
            "marker": {
             "pattern": {
              "fillmode": "overlay",
              "size": 10,
              "solidity": 0.2
             }
            },
            "type": "histogram"
           }
          ],
          "histogram2d": [
           {
            "colorbar": {
             "outlinewidth": 0,
             "ticks": ""
            },
            "colorscale": [
             [
              0,
              "#0d0887"
             ],
             [
              0.1111111111111111,
              "#46039f"
             ],
             [
              0.2222222222222222,
              "#7201a8"
             ],
             [
              0.3333333333333333,
              "#9c179e"
             ],
             [
              0.4444444444444444,
              "#bd3786"
             ],
             [
              0.5555555555555556,
              "#d8576b"
             ],
             [
              0.6666666666666666,
              "#ed7953"
             ],
             [
              0.7777777777777778,
              "#fb9f3a"
             ],
             [
              0.8888888888888888,
              "#fdca26"
             ],
             [
              1,
              "#f0f921"
             ]
            ],
            "type": "histogram2d"
           }
          ],
          "histogram2dcontour": [
           {
            "colorbar": {
             "outlinewidth": 0,
             "ticks": ""
            },
            "colorscale": [
             [
              0,
              "#0d0887"
             ],
             [
              0.1111111111111111,
              "#46039f"
             ],
             [
              0.2222222222222222,
              "#7201a8"
             ],
             [
              0.3333333333333333,
              "#9c179e"
             ],
             [
              0.4444444444444444,
              "#bd3786"
             ],
             [
              0.5555555555555556,
              "#d8576b"
             ],
             [
              0.6666666666666666,
              "#ed7953"
             ],
             [
              0.7777777777777778,
              "#fb9f3a"
             ],
             [
              0.8888888888888888,
              "#fdca26"
             ],
             [
              1,
              "#f0f921"
             ]
            ],
            "type": "histogram2dcontour"
           }
          ],
          "mesh3d": [
           {
            "colorbar": {
             "outlinewidth": 0,
             "ticks": ""
            },
            "type": "mesh3d"
           }
          ],
          "parcoords": [
           {
            "line": {
             "colorbar": {
              "outlinewidth": 0,
              "ticks": ""
             }
            },
            "type": "parcoords"
           }
          ],
          "pie": [
           {
            "automargin": true,
            "type": "pie"
           }
          ],
          "scatter": [
           {
            "fillpattern": {
             "fillmode": "overlay",
             "size": 10,
             "solidity": 0.2
            },
            "type": "scatter"
           }
          ],
          "scatter3d": [
           {
            "line": {
             "colorbar": {
              "outlinewidth": 0,
              "ticks": ""
             }
            },
            "marker": {
             "colorbar": {
              "outlinewidth": 0,
              "ticks": ""
             }
            },
            "type": "scatter3d"
           }
          ],
          "scattercarpet": [
           {
            "marker": {
             "colorbar": {
              "outlinewidth": 0,
              "ticks": ""
             }
            },
            "type": "scattercarpet"
           }
          ],
          "scattergeo": [
           {
            "marker": {
             "colorbar": {
              "outlinewidth": 0,
              "ticks": ""
             }
            },
            "type": "scattergeo"
           }
          ],
          "scattergl": [
           {
            "marker": {
             "colorbar": {
              "outlinewidth": 0,
              "ticks": ""
             }
            },
            "type": "scattergl"
           }
          ],
          "scattermapbox": [
           {
            "marker": {
             "colorbar": {
              "outlinewidth": 0,
              "ticks": ""
             }
            },
            "type": "scattermapbox"
           }
          ],
          "scatterpolar": [
           {
            "marker": {
             "colorbar": {
              "outlinewidth": 0,
              "ticks": ""
             }
            },
            "type": "scatterpolar"
           }
          ],
          "scatterpolargl": [
           {
            "marker": {
             "colorbar": {
              "outlinewidth": 0,
              "ticks": ""
             }
            },
            "type": "scatterpolargl"
           }
          ],
          "scatterternary": [
           {
            "marker": {
             "colorbar": {
              "outlinewidth": 0,
              "ticks": ""
             }
            },
            "type": "scatterternary"
           }
          ],
          "surface": [
           {
            "colorbar": {
             "outlinewidth": 0,
             "ticks": ""
            },
            "colorscale": [
             [
              0,
              "#0d0887"
             ],
             [
              0.1111111111111111,
              "#46039f"
             ],
             [
              0.2222222222222222,
              "#7201a8"
             ],
             [
              0.3333333333333333,
              "#9c179e"
             ],
             [
              0.4444444444444444,
              "#bd3786"
             ],
             [
              0.5555555555555556,
              "#d8576b"
             ],
             [
              0.6666666666666666,
              "#ed7953"
             ],
             [
              0.7777777777777778,
              "#fb9f3a"
             ],
             [
              0.8888888888888888,
              "#fdca26"
             ],
             [
              1,
              "#f0f921"
             ]
            ],
            "type": "surface"
           }
          ],
          "table": [
           {
            "cells": {
             "fill": {
              "color": "#EBF0F8"
             },
             "line": {
              "color": "white"
             }
            },
            "header": {
             "fill": {
              "color": "#C8D4E3"
             },
             "line": {
              "color": "white"
             }
            },
            "type": "table"
           }
          ]
         },
         "layout": {
          "annotationdefaults": {
           "arrowcolor": "#2a3f5f",
           "arrowhead": 0,
           "arrowwidth": 1
          },
          "autotypenumbers": "strict",
          "coloraxis": {
           "colorbar": {
            "outlinewidth": 0,
            "ticks": ""
           }
          },
          "colorscale": {
           "diverging": [
            [
             0,
             "#8e0152"
            ],
            [
             0.1,
             "#c51b7d"
            ],
            [
             0.2,
             "#de77ae"
            ],
            [
             0.3,
             "#f1b6da"
            ],
            [
             0.4,
             "#fde0ef"
            ],
            [
             0.5,
             "#f7f7f7"
            ],
            [
             0.6,
             "#e6f5d0"
            ],
            [
             0.7,
             "#b8e186"
            ],
            [
             0.8,
             "#7fbc41"
            ],
            [
             0.9,
             "#4d9221"
            ],
            [
             1,
             "#276419"
            ]
           ],
           "sequential": [
            [
             0,
             "#0d0887"
            ],
            [
             0.1111111111111111,
             "#46039f"
            ],
            [
             0.2222222222222222,
             "#7201a8"
            ],
            [
             0.3333333333333333,
             "#9c179e"
            ],
            [
             0.4444444444444444,
             "#bd3786"
            ],
            [
             0.5555555555555556,
             "#d8576b"
            ],
            [
             0.6666666666666666,
             "#ed7953"
            ],
            [
             0.7777777777777778,
             "#fb9f3a"
            ],
            [
             0.8888888888888888,
             "#fdca26"
            ],
            [
             1,
             "#f0f921"
            ]
           ],
           "sequentialminus": [
            [
             0,
             "#0d0887"
            ],
            [
             0.1111111111111111,
             "#46039f"
            ],
            [
             0.2222222222222222,
             "#7201a8"
            ],
            [
             0.3333333333333333,
             "#9c179e"
            ],
            [
             0.4444444444444444,
             "#bd3786"
            ],
            [
             0.5555555555555556,
             "#d8576b"
            ],
            [
             0.6666666666666666,
             "#ed7953"
            ],
            [
             0.7777777777777778,
             "#fb9f3a"
            ],
            [
             0.8888888888888888,
             "#fdca26"
            ],
            [
             1,
             "#f0f921"
            ]
           ]
          },
          "colorway": [
           "#636efa",
           "#EF553B",
           "#00cc96",
           "#ab63fa",
           "#FFA15A",
           "#19d3f3",
           "#FF6692",
           "#B6E880",
           "#FF97FF",
           "#FECB52"
          ],
          "font": {
           "color": "#2a3f5f"
          },
          "geo": {
           "bgcolor": "white",
           "lakecolor": "white",
           "landcolor": "#E5ECF6",
           "showlakes": true,
           "showland": true,
           "subunitcolor": "white"
          },
          "hoverlabel": {
           "align": "left"
          },
          "hovermode": "closest",
          "mapbox": {
           "style": "light"
          },
          "paper_bgcolor": "white",
          "plot_bgcolor": "#E5ECF6",
          "polar": {
           "angularaxis": {
            "gridcolor": "white",
            "linecolor": "white",
            "ticks": ""
           },
           "bgcolor": "#E5ECF6",
           "radialaxis": {
            "gridcolor": "white",
            "linecolor": "white",
            "ticks": ""
           }
          },
          "scene": {
           "xaxis": {
            "backgroundcolor": "#E5ECF6",
            "gridcolor": "white",
            "gridwidth": 2,
            "linecolor": "white",
            "showbackground": true,
            "ticks": "",
            "zerolinecolor": "white"
           },
           "yaxis": {
            "backgroundcolor": "#E5ECF6",
            "gridcolor": "white",
            "gridwidth": 2,
            "linecolor": "white",
            "showbackground": true,
            "ticks": "",
            "zerolinecolor": "white"
           },
           "zaxis": {
            "backgroundcolor": "#E5ECF6",
            "gridcolor": "white",
            "gridwidth": 2,
            "linecolor": "white",
            "showbackground": true,
            "ticks": "",
            "zerolinecolor": "white"
           }
          },
          "shapedefaults": {
           "line": {
            "color": "#2a3f5f"
           }
          },
          "ternary": {
           "aaxis": {
            "gridcolor": "white",
            "linecolor": "white",
            "ticks": ""
           },
           "baxis": {
            "gridcolor": "white",
            "linecolor": "white",
            "ticks": ""
           },
           "bgcolor": "#E5ECF6",
           "caxis": {
            "gridcolor": "white",
            "linecolor": "white",
            "ticks": ""
           }
          },
          "title": {
           "x": 0.05
          },
          "xaxis": {
           "automargin": true,
           "gridcolor": "white",
           "linecolor": "white",
           "ticks": "",
           "title": {
            "standoff": 15
           },
           "zerolinecolor": "white",
           "zerolinewidth": 2
          },
          "yaxis": {
           "automargin": true,
           "gridcolor": "white",
           "linecolor": "white",
           "ticks": "",
           "title": {
            "standoff": 15
           },
           "zerolinecolor": "white",
           "zerolinewidth": 2
          }
         }
        },
        "title": {
         "text": "Top 10 frequent words in each Entity"
        },
        "width": 1200
       }
      }
     },
     "metadata": {},
     "output_type": "display_data"
    }
   ],
   "source": [
    "import plotly.express as px\n",
    "df6['Word'] = df6.Word.apply(lambda x: x.lower())\n",
    "\n",
    "df6_top10 = df6.groupby(\"Entity\").apply(lambda x: x.Word.value_counts().nlargest(10))\n",
    "df6_top10 = df6_top10.reset_index()\n",
    "df6_top10.columns = [\"Entity\", \"Word\", \"count\"]\n",
    "\n",
    "fig = px.treemap(df6_top10, path=['Entity', 'Word'], values='count',\n",
    "                 title='Top 10 frequent words in each Entity',\n",
    "                 hover_data=['count'], height=800, width=1200)\n",
    "fig.show()"
   ]
  },
  {
   "cell_type": "code",
   "execution_count": 50,
   "metadata": {},
   "outputs": [
    {
     "name": "stderr",
     "output_type": "stream",
     "text": [
      "e:\\ProgramsInstalled\\Anaconda\\lib\\site-packages\\plotly\\io\\_renderers.py:395: DeprecationWarning:\n",
      "\n",
      "distutils Version classes are deprecated. Use packaging.version instead.\n",
      "\n",
      "e:\\ProgramsInstalled\\Anaconda\\lib\\site-packages\\plotly\\io\\_renderers.py:395: DeprecationWarning:\n",
      "\n",
      "distutils Version classes are deprecated. Use packaging.version instead.\n",
      "\n"
     ]
    },
    {
     "data": {
      "application/vnd.plotly.v1+json": {
       "config": {
        "plotlyServerURL": "https://plot.ly"
       },
       "data": [
        {
         "domain": {
          "x": [
           0,
           1
          ],
          "y": [
           0,
           1
          ]
         },
         "hovertemplate": "Entity=%{label}<br>count=%{value}<extra></extra>",
         "labels": [
          "CARDINAL",
          "DATE",
          "FAC",
          "GPE",
          "LANGUAGE",
          "LOC",
          "NORP",
          "ORDINAL",
          "ORG",
          "PERCENT",
          "PERSON",
          "PRODUCT",
          "QUANTITY",
          "TIME",
          "WORK_OF_ART"
         ],
         "legendgroup": "",
         "name": "",
         "showlegend": true,
         "type": "pie",
         "values": [
          90,
          160,
          12,
          79,
          2,
          11,
          28,
          45,
          259,
          1,
          605,
          31,
          1,
          64,
          18
         ]
        }
       ],
       "layout": {
        "legend": {
         "tracegroupgap": 0
        },
        "margin": {
         "t": 60
        },
        "template": {
         "data": {
          "bar": [
           {
            "error_x": {
             "color": "#2a3f5f"
            },
            "error_y": {
             "color": "#2a3f5f"
            },
            "marker": {
             "line": {
              "color": "#E5ECF6",
              "width": 0.5
             },
             "pattern": {
              "fillmode": "overlay",
              "size": 10,
              "solidity": 0.2
             }
            },
            "type": "bar"
           }
          ],
          "barpolar": [
           {
            "marker": {
             "line": {
              "color": "#E5ECF6",
              "width": 0.5
             },
             "pattern": {
              "fillmode": "overlay",
              "size": 10,
              "solidity": 0.2
             }
            },
            "type": "barpolar"
           }
          ],
          "carpet": [
           {
            "aaxis": {
             "endlinecolor": "#2a3f5f",
             "gridcolor": "white",
             "linecolor": "white",
             "minorgridcolor": "white",
             "startlinecolor": "#2a3f5f"
            },
            "baxis": {
             "endlinecolor": "#2a3f5f",
             "gridcolor": "white",
             "linecolor": "white",
             "minorgridcolor": "white",
             "startlinecolor": "#2a3f5f"
            },
            "type": "carpet"
           }
          ],
          "choropleth": [
           {
            "colorbar": {
             "outlinewidth": 0,
             "ticks": ""
            },
            "type": "choropleth"
           }
          ],
          "contour": [
           {
            "colorbar": {
             "outlinewidth": 0,
             "ticks": ""
            },
            "colorscale": [
             [
              0,
              "#0d0887"
             ],
             [
              0.1111111111111111,
              "#46039f"
             ],
             [
              0.2222222222222222,
              "#7201a8"
             ],
             [
              0.3333333333333333,
              "#9c179e"
             ],
             [
              0.4444444444444444,
              "#bd3786"
             ],
             [
              0.5555555555555556,
              "#d8576b"
             ],
             [
              0.6666666666666666,
              "#ed7953"
             ],
             [
              0.7777777777777778,
              "#fb9f3a"
             ],
             [
              0.8888888888888888,
              "#fdca26"
             ],
             [
              1,
              "#f0f921"
             ]
            ],
            "type": "contour"
           }
          ],
          "contourcarpet": [
           {
            "colorbar": {
             "outlinewidth": 0,
             "ticks": ""
            },
            "type": "contourcarpet"
           }
          ],
          "heatmap": [
           {
            "colorbar": {
             "outlinewidth": 0,
             "ticks": ""
            },
            "colorscale": [
             [
              0,
              "#0d0887"
             ],
             [
              0.1111111111111111,
              "#46039f"
             ],
             [
              0.2222222222222222,
              "#7201a8"
             ],
             [
              0.3333333333333333,
              "#9c179e"
             ],
             [
              0.4444444444444444,
              "#bd3786"
             ],
             [
              0.5555555555555556,
              "#d8576b"
             ],
             [
              0.6666666666666666,
              "#ed7953"
             ],
             [
              0.7777777777777778,
              "#fb9f3a"
             ],
             [
              0.8888888888888888,
              "#fdca26"
             ],
             [
              1,
              "#f0f921"
             ]
            ],
            "type": "heatmap"
           }
          ],
          "heatmapgl": [
           {
            "colorbar": {
             "outlinewidth": 0,
             "ticks": ""
            },
            "colorscale": [
             [
              0,
              "#0d0887"
             ],
             [
              0.1111111111111111,
              "#46039f"
             ],
             [
              0.2222222222222222,
              "#7201a8"
             ],
             [
              0.3333333333333333,
              "#9c179e"
             ],
             [
              0.4444444444444444,
              "#bd3786"
             ],
             [
              0.5555555555555556,
              "#d8576b"
             ],
             [
              0.6666666666666666,
              "#ed7953"
             ],
             [
              0.7777777777777778,
              "#fb9f3a"
             ],
             [
              0.8888888888888888,
              "#fdca26"
             ],
             [
              1,
              "#f0f921"
             ]
            ],
            "type": "heatmapgl"
           }
          ],
          "histogram": [
           {
            "marker": {
             "pattern": {
              "fillmode": "overlay",
              "size": 10,
              "solidity": 0.2
             }
            },
            "type": "histogram"
           }
          ],
          "histogram2d": [
           {
            "colorbar": {
             "outlinewidth": 0,
             "ticks": ""
            },
            "colorscale": [
             [
              0,
              "#0d0887"
             ],
             [
              0.1111111111111111,
              "#46039f"
             ],
             [
              0.2222222222222222,
              "#7201a8"
             ],
             [
              0.3333333333333333,
              "#9c179e"
             ],
             [
              0.4444444444444444,
              "#bd3786"
             ],
             [
              0.5555555555555556,
              "#d8576b"
             ],
             [
              0.6666666666666666,
              "#ed7953"
             ],
             [
              0.7777777777777778,
              "#fb9f3a"
             ],
             [
              0.8888888888888888,
              "#fdca26"
             ],
             [
              1,
              "#f0f921"
             ]
            ],
            "type": "histogram2d"
           }
          ],
          "histogram2dcontour": [
           {
            "colorbar": {
             "outlinewidth": 0,
             "ticks": ""
            },
            "colorscale": [
             [
              0,
              "#0d0887"
             ],
             [
              0.1111111111111111,
              "#46039f"
             ],
             [
              0.2222222222222222,
              "#7201a8"
             ],
             [
              0.3333333333333333,
              "#9c179e"
             ],
             [
              0.4444444444444444,
              "#bd3786"
             ],
             [
              0.5555555555555556,
              "#d8576b"
             ],
             [
              0.6666666666666666,
              "#ed7953"
             ],
             [
              0.7777777777777778,
              "#fb9f3a"
             ],
             [
              0.8888888888888888,
              "#fdca26"
             ],
             [
              1,
              "#f0f921"
             ]
            ],
            "type": "histogram2dcontour"
           }
          ],
          "mesh3d": [
           {
            "colorbar": {
             "outlinewidth": 0,
             "ticks": ""
            },
            "type": "mesh3d"
           }
          ],
          "parcoords": [
           {
            "line": {
             "colorbar": {
              "outlinewidth": 0,
              "ticks": ""
             }
            },
            "type": "parcoords"
           }
          ],
          "pie": [
           {
            "automargin": true,
            "type": "pie"
           }
          ],
          "scatter": [
           {
            "fillpattern": {
             "fillmode": "overlay",
             "size": 10,
             "solidity": 0.2
            },
            "type": "scatter"
           }
          ],
          "scatter3d": [
           {
            "line": {
             "colorbar": {
              "outlinewidth": 0,
              "ticks": ""
             }
            },
            "marker": {
             "colorbar": {
              "outlinewidth": 0,
              "ticks": ""
             }
            },
            "type": "scatter3d"
           }
          ],
          "scattercarpet": [
           {
            "marker": {
             "colorbar": {
              "outlinewidth": 0,
              "ticks": ""
             }
            },
            "type": "scattercarpet"
           }
          ],
          "scattergeo": [
           {
            "marker": {
             "colorbar": {
              "outlinewidth": 0,
              "ticks": ""
             }
            },
            "type": "scattergeo"
           }
          ],
          "scattergl": [
           {
            "marker": {
             "colorbar": {
              "outlinewidth": 0,
              "ticks": ""
             }
            },
            "type": "scattergl"
           }
          ],
          "scattermapbox": [
           {
            "marker": {
             "colorbar": {
              "outlinewidth": 0,
              "ticks": ""
             }
            },
            "type": "scattermapbox"
           }
          ],
          "scatterpolar": [
           {
            "marker": {
             "colorbar": {
              "outlinewidth": 0,
              "ticks": ""
             }
            },
            "type": "scatterpolar"
           }
          ],
          "scatterpolargl": [
           {
            "marker": {
             "colorbar": {
              "outlinewidth": 0,
              "ticks": ""
             }
            },
            "type": "scatterpolargl"
           }
          ],
          "scatterternary": [
           {
            "marker": {
             "colorbar": {
              "outlinewidth": 0,
              "ticks": ""
             }
            },
            "type": "scatterternary"
           }
          ],
          "surface": [
           {
            "colorbar": {
             "outlinewidth": 0,
             "ticks": ""
            },
            "colorscale": [
             [
              0,
              "#0d0887"
             ],
             [
              0.1111111111111111,
              "#46039f"
             ],
             [
              0.2222222222222222,
              "#7201a8"
             ],
             [
              0.3333333333333333,
              "#9c179e"
             ],
             [
              0.4444444444444444,
              "#bd3786"
             ],
             [
              0.5555555555555556,
              "#d8576b"
             ],
             [
              0.6666666666666666,
              "#ed7953"
             ],
             [
              0.7777777777777778,
              "#fb9f3a"
             ],
             [
              0.8888888888888888,
              "#fdca26"
             ],
             [
              1,
              "#f0f921"
             ]
            ],
            "type": "surface"
           }
          ],
          "table": [
           {
            "cells": {
             "fill": {
              "color": "#EBF0F8"
             },
             "line": {
              "color": "white"
             }
            },
            "header": {
             "fill": {
              "color": "#C8D4E3"
             },
             "line": {
              "color": "white"
             }
            },
            "type": "table"
           }
          ]
         },
         "layout": {
          "annotationdefaults": {
           "arrowcolor": "#2a3f5f",
           "arrowhead": 0,
           "arrowwidth": 1
          },
          "autotypenumbers": "strict",
          "coloraxis": {
           "colorbar": {
            "outlinewidth": 0,
            "ticks": ""
           }
          },
          "colorscale": {
           "diverging": [
            [
             0,
             "#8e0152"
            ],
            [
             0.1,
             "#c51b7d"
            ],
            [
             0.2,
             "#de77ae"
            ],
            [
             0.3,
             "#f1b6da"
            ],
            [
             0.4,
             "#fde0ef"
            ],
            [
             0.5,
             "#f7f7f7"
            ],
            [
             0.6,
             "#e6f5d0"
            ],
            [
             0.7,
             "#b8e186"
            ],
            [
             0.8,
             "#7fbc41"
            ],
            [
             0.9,
             "#4d9221"
            ],
            [
             1,
             "#276419"
            ]
           ],
           "sequential": [
            [
             0,
             "#0d0887"
            ],
            [
             0.1111111111111111,
             "#46039f"
            ],
            [
             0.2222222222222222,
             "#7201a8"
            ],
            [
             0.3333333333333333,
             "#9c179e"
            ],
            [
             0.4444444444444444,
             "#bd3786"
            ],
            [
             0.5555555555555556,
             "#d8576b"
            ],
            [
             0.6666666666666666,
             "#ed7953"
            ],
            [
             0.7777777777777778,
             "#fb9f3a"
            ],
            [
             0.8888888888888888,
             "#fdca26"
            ],
            [
             1,
             "#f0f921"
            ]
           ],
           "sequentialminus": [
            [
             0,
             "#0d0887"
            ],
            [
             0.1111111111111111,
             "#46039f"
            ],
            [
             0.2222222222222222,
             "#7201a8"
            ],
            [
             0.3333333333333333,
             "#9c179e"
            ],
            [
             0.4444444444444444,
             "#bd3786"
            ],
            [
             0.5555555555555556,
             "#d8576b"
            ],
            [
             0.6666666666666666,
             "#ed7953"
            ],
            [
             0.7777777777777778,
             "#fb9f3a"
            ],
            [
             0.8888888888888888,
             "#fdca26"
            ],
            [
             1,
             "#f0f921"
            ]
           ]
          },
          "colorway": [
           "#636efa",
           "#EF553B",
           "#00cc96",
           "#ab63fa",
           "#FFA15A",
           "#19d3f3",
           "#FF6692",
           "#B6E880",
           "#FF97FF",
           "#FECB52"
          ],
          "font": {
           "color": "#2a3f5f"
          },
          "geo": {
           "bgcolor": "white",
           "lakecolor": "white",
           "landcolor": "#E5ECF6",
           "showlakes": true,
           "showland": true,
           "subunitcolor": "white"
          },
          "hoverlabel": {
           "align": "left"
          },
          "hovermode": "closest",
          "mapbox": {
           "style": "light"
          },
          "paper_bgcolor": "white",
          "plot_bgcolor": "#E5ECF6",
          "polar": {
           "angularaxis": {
            "gridcolor": "white",
            "linecolor": "white",
            "ticks": ""
           },
           "bgcolor": "#E5ECF6",
           "radialaxis": {
            "gridcolor": "white",
            "linecolor": "white",
            "ticks": ""
           }
          },
          "scene": {
           "xaxis": {
            "backgroundcolor": "#E5ECF6",
            "gridcolor": "white",
            "gridwidth": 2,
            "linecolor": "white",
            "showbackground": true,
            "ticks": "",
            "zerolinecolor": "white"
           },
           "yaxis": {
            "backgroundcolor": "#E5ECF6",
            "gridcolor": "white",
            "gridwidth": 2,
            "linecolor": "white",
            "showbackground": true,
            "ticks": "",
            "zerolinecolor": "white"
           },
           "zaxis": {
            "backgroundcolor": "#E5ECF6",
            "gridcolor": "white",
            "gridwidth": 2,
            "linecolor": "white",
            "showbackground": true,
            "ticks": "",
            "zerolinecolor": "white"
           }
          },
          "shapedefaults": {
           "line": {
            "color": "#2a3f5f"
           }
          },
          "ternary": {
           "aaxis": {
            "gridcolor": "white",
            "linecolor": "white",
            "ticks": ""
           },
           "baxis": {
            "gridcolor": "white",
            "linecolor": "white",
            "ticks": ""
           },
           "bgcolor": "#E5ECF6",
           "caxis": {
            "gridcolor": "white",
            "linecolor": "white",
            "ticks": ""
           }
          },
          "title": {
           "x": 0.05
          },
          "xaxis": {
           "automargin": true,
           "gridcolor": "white",
           "linecolor": "white",
           "ticks": "",
           "title": {
            "standoff": 15
           },
           "zerolinecolor": "white",
           "zerolinewidth": 2
          },
          "yaxis": {
           "automargin": true,
           "gridcolor": "white",
           "linecolor": "white",
           "ticks": "",
           "title": {
            "standoff": 15
           },
           "zerolinecolor": "white",
           "zerolinewidth": 2
          }
         }
        }
       }
      }
     },
     "metadata": {},
     "output_type": "display_data"
    }
   ],
   "source": [
    "df6['Entity'].value_counts()\n",
    "negative= df6.groupby(['Entity']).size().to_frame('count').reset_index()\n",
    "negative.sort_values(by='count', ascending=False)[:10]\n",
    "fig = px.pie(negative, values='count', names='Entity')\n",
    "fig.show()"
   ]
  },
  {
   "cell_type": "code",
   "execution_count": null,
   "metadata": {},
   "outputs": [
    {
     "data": {
      "image/png": "[encoded data removed]",
      "text/plain": [
       "<Figure size 1400x500 with 1 Axes>"
      ]
     },
     "metadata": {},
     "output_type": "display_data"
    }
   ],
   "source": [
    "TIME = df6.query(\"Entity == 'TIME'\")\n",
    "TIME =TIME['Word'].value_counts()\n",
    "TIME = TIME[:10]\n",
    "sns.set_style(\"darkgrid\")\n",
    "plt.figure(figsize=(14,5));\n",
    "TIME = sns.barplot(x=TIME.index,y= TIME.values, alpha=0.8,palette=\"coolwarm\");\n",
    "plt.title('Time Words in negative reviews',fontsize=15);\n",
    "plt.show();"
   ]
  },
  {
   "cell_type": "code",
   "execution_count": 20,
   "metadata": {},
   "outputs": [
    {
     "ename": "NameError",
     "evalue": "name 'df6' is not defined",
     "output_type": "error",
     "traceback": [
      "\u001b[1;31m---------------------------------------------------------------------------\u001b[0m",
      "\u001b[1;31mNameError\u001b[0m                                 Traceback (most recent call last)",
      "Cell \u001b[1;32mIn [20], line 1\u001b[0m\n\u001b[1;32m----> 1\u001b[0m DATE \u001b[39m=\u001b[39m df6\u001b[39m.\u001b[39mquery(\u001b[39m\"\u001b[39m\u001b[39mEntity == \u001b[39m\u001b[39m'\u001b[39m\u001b[39mDATE\u001b[39m\u001b[39m'\u001b[39m\u001b[39m\"\u001b[39m)\n\u001b[0;32m      2\u001b[0m DATE \u001b[39m=\u001b[39m DATE[\u001b[39m'\u001b[39m\u001b[39mWord\u001b[39m\u001b[39m'\u001b[39m]\u001b[39m.\u001b[39mvalue_counts()\n\u001b[0;32m      3\u001b[0m DATE \u001b[39m=\u001b[39m DATE[:\u001b[39m10\u001b[39m]\n",
      "\u001b[1;31mNameError\u001b[0m: name 'df6' is not defined"
     ]
    }
   ],
   "source": [
    "DATE = df6.query(\"Entity == 'DATE'\")\n",
    "DATE = DATE['Word'].value_counts()\n",
    "DATE = DATE[:10]\n",
    "sns.set_style(\"darkgrid\")\n",
    "plt.figure(figsize=(14,5));\n",
    "DATE = sns.barplot(x=DATE.index,y= DATE.values, alpha=0.8,palette=\"coolwarm\");\n",
    "plt.title('DATE Words in negative reviews',fontsize=15);\n",
    "plt.show();"
   ]
  },
  {
   "cell_type": "code",
   "execution_count": null,
   "metadata": {},
   "outputs": [],
   "source": []
  }
 ],
 "metadata": {
  "kernelspec": {
   "display_name": "Python 3.9.7 ('base')",
   "language": "python",
   "name": "python3"
  },
  "language_info": {
   "codemirror_mode": {
    "name": "ipython",
    "version": 3
   },
   "file_extension": ".py",
   "mimetype": "text/x-python",
   "name": "python",
   "nbconvert_exporter": "python",
   "pygments_lexer": "ipython3",
   "version": "3.9.7 (default, Sep 16 2021, 16:59:28) [MSC v.1916 64 bit (AMD64)]"
  },
  "orig_nbformat": 4,
  "vscode": {
   "interpreter": {
    "hash": "5c177cce7702f9e77817ff3fa81881bee4b004e49a61db43ab4f50ff315df2fa"
   }
  }
 },
 "nbformat": 4,
 "nbformat_minor": 2
}
